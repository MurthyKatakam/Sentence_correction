{
  "nbformat": 4,
  "nbformat_minor": 0,
  "metadata": {
    "colab": {
      "name": "GRU LSTM.ipynb",
      "provenance": [],
      "collapsed_sections": [],
      "machine_shape": "hm"
    },
    "kernelspec": {
      "name": "python3",
      "display_name": "Python 3"
    },
    "accelerator": "GPU"
  },
  "cells": [
    {
      "cell_type": "code",
      "metadata": {
        "id": "o3u462KOCgVC"
      },
      "source": [
        "from google.colab import files\n",
        "import numpy as np\n",
        "import pandas as pd\n",
        "import seaborn as sns\n",
        "import matplotlib as plt\n",
        "from textblob import TextBlob\n",
        "from collections import Counter\n",
        "import tensorflow as tf\n",
        "from tensorflow.keras.layers import Dense,Input,GRU,LSTM\n",
        "from tensorflow.keras.models import Model\n",
        "import keras.backend as K\n",
        "from tensorflow.keras.callbacks import LearningRateScheduler\n",
        "from keras.callbacks import ReduceLROnPlateau\n",
        "from tensorflow.keras.preprocessing.text import Tokenizer\n",
        "from tensorflow.keras.preprocessing.sequence import pad_sequences"
      ],
      "execution_count": null,
      "outputs": []
    },
    {
      "cell_type": "code",
      "metadata": {
        "id": "UylqAaZMgCqT"
      },
      "source": [
        "import warnings\n",
        "warnings.filterwarnings(\"ignore\")"
      ],
      "execution_count": null,
      "outputs": []
    },
    {
      "cell_type": "code",
      "metadata": {
        "colab": {
          "base_uri": "https://localhost:8080/"
        },
        "id": "hbpUygy06BEx",
        "outputId": "e6779f76-c6e7-4a8e-b949-2d420d7bc222"
      },
      "source": [
        "from google.colab import drive\n",
        "drive.mount('/content/drive')"
      ],
      "execution_count": null,
      "outputs": [
        {
          "output_type": "stream",
          "text": [
            "Mounted at /content/drive\n"
          ],
          "name": "stdout"
        }
      ]
    },
    {
      "cell_type": "code",
      "metadata": {
        "id": "8vLVakVWSHXT"
      },
      "source": [
        "\n",
        "def preparing_data(file_name):\n",
        "    files=open(file_name,'r')\n",
        "    sentences=files.readlines()\n",
        "    files.close()\n",
        "    # print(lines)\n",
        "    sms_text=[]\n",
        "    english_text=[]\n",
        "\n",
        "    for index,sentence in enumerate(sentences):\n",
        "        if index%3==0:\n",
        "           sms_text.append(sentence.strip())\n",
        "        elif index%3==1:\n",
        "            english_text.append(sentence.strip())\n",
        "        else:\n",
        "            pass\n",
        "    return sms_text,english_text             \n",
        "\n"
      ],
      "execution_count": null,
      "outputs": []
    },
    {
      "cell_type": "code",
      "metadata": {
        "id": "1ZpVAyljSLex"
      },
      "source": [
        "# file_name='/content/drive/MyDrive/Applied Ai Course assignments/Assiginments/CS2/en2cn-2k.en2nen2cn'\n",
        "# sms_text,english_text=preparing_data(file_name)\n",
        "# print(len(sms_text), len(english_text))\n"
      ],
      "execution_count": null,
      "outputs": []
    },
    {
      "cell_type": "code",
      "metadata": {
        "id": "vQ_0_sHOSM2i"
      },
      "source": [
        ""
      ],
      "execution_count": null,
      "outputs": []
    },
    {
      "cell_type": "code",
      "metadata": {
        "id": "kiKSpwEASRvv"
      },
      "source": [
        "# data={'SMS_TEXT':sms_text,'ENGLISH_TEXT': english_text}\n",
        "# data=pd.DataFrame(data)\n",
        "# print(data.head(10))\n"
      ],
      "execution_count": null,
      "outputs": []
    },
    {
      "cell_type": "code",
      "metadata": {
        "id": "lOHI3gpgDT4Y"
      },
      "source": [
        "# data.head()"
      ],
      "execution_count": null,
      "outputs": []
    },
    {
      "cell_type": "code",
      "metadata": {
        "id": "DghEGqZsHTD3"
      },
      "source": [
        "# data.to_csv('/content/drive/MyDrive/Applied Ai Course assignments/Assiginments/CS2/rawdata.csv', index = False)"
      ],
      "execution_count": null,
      "outputs": []
    },
    {
      "cell_type": "code",
      "metadata": {
        "id": "82u6VlUGHc6Z"
      },
      "source": [
        "data = pd.read_csv('/content/drive/MyDrive/Applied Ai Course assignments/Assiginments/CS2/rawdata.csv')\n"
      ],
      "execution_count": null,
      "outputs": []
    },
    {
      "cell_type": "code",
      "metadata": {
        "colab": {
          "base_uri": "https://localhost:8080/"
        },
        "id": "uT3wku7cDWv0",
        "outputId": "e324b29a-5c58-49d9-ee82-183250a14e60"
      },
      "source": [
        "print(\"Data Shape\",data.shape)"
      ],
      "execution_count": null,
      "outputs": [
        {
          "output_type": "stream",
          "text": [
            "Data Shape (2000, 2)\n"
          ],
          "name": "stdout"
        }
      ]
    },
    {
      "cell_type": "code",
      "metadata": {
        "colab": {
          "base_uri": "https://localhost:8080/",
          "height": 204
        },
        "id": "3cvj0T5dHndE",
        "outputId": "703891d5-ba42-47cb-b235-9de27776222d"
      },
      "source": [
        "data.head()"
      ],
      "execution_count": null,
      "outputs": [
        {
          "output_type": "execute_result",
          "data": {
            "text/html": [
              "<div>\n",
              "<style scoped>\n",
              "    .dataframe tbody tr th:only-of-type {\n",
              "        vertical-align: middle;\n",
              "    }\n",
              "\n",
              "    .dataframe tbody tr th {\n",
              "        vertical-align: top;\n",
              "    }\n",
              "\n",
              "    .dataframe thead th {\n",
              "        text-align: right;\n",
              "    }\n",
              "</style>\n",
              "<table border=\"1\" class=\"dataframe\">\n",
              "  <thead>\n",
              "    <tr style=\"text-align: right;\">\n",
              "      <th></th>\n",
              "      <th>SMS_TEXT</th>\n",
              "      <th>ENGLISH_TEXT</th>\n",
              "    </tr>\n",
              "  </thead>\n",
              "  <tbody>\n",
              "    <tr>\n",
              "      <th>0</th>\n",
              "      <td>U wan me to \"chop\" seat 4 u nt?</td>\n",
              "      <td>Do you want me to reserve seat for you or not?</td>\n",
              "    </tr>\n",
              "    <tr>\n",
              "      <th>1</th>\n",
              "      <td>Yup. U reaching. We order some durian pastry a...</td>\n",
              "      <td>Yeap. You reaching? We ordered some Durian pas...</td>\n",
              "    </tr>\n",
              "    <tr>\n",
              "      <th>2</th>\n",
              "      <td>They become more ex oredi... Mine is like 25.....</td>\n",
              "      <td>They become more expensive already. Mine is li...</td>\n",
              "    </tr>\n",
              "    <tr>\n",
              "      <th>3</th>\n",
              "      <td>I'm thai. what do u do?</td>\n",
              "      <td>I'm Thai. What do you do?</td>\n",
              "    </tr>\n",
              "    <tr>\n",
              "      <th>4</th>\n",
              "      <td>Hi! How did your week go? Haven heard from you...</td>\n",
              "      <td>Hi! How did your week go? Haven't heard from y...</td>\n",
              "    </tr>\n",
              "  </tbody>\n",
              "</table>\n",
              "</div>"
            ],
            "text/plain": [
              "                                            SMS_TEXT                                       ENGLISH_TEXT\n",
              "0                    U wan me to \"chop\" seat 4 u nt?     Do you want me to reserve seat for you or not?\n",
              "1  Yup. U reaching. We order some durian pastry a...  Yeap. You reaching? We ordered some Durian pas...\n",
              "2  They become more ex oredi... Mine is like 25.....  They become more expensive already. Mine is li...\n",
              "3                            I'm thai. what do u do?                          I'm Thai. What do you do?\n",
              "4  Hi! How did your week go? Haven heard from you...  Hi! How did your week go? Haven't heard from y..."
            ]
          },
          "metadata": {
            "tags": []
          },
          "execution_count": 13
        }
      ]
    },
    {
      "cell_type": "code",
      "metadata": {
        "id": "YtkKiz9AH_gY"
      },
      "source": [
        ""
      ],
      "execution_count": null,
      "outputs": []
    },
    {
      "cell_type": "code",
      "metadata": {
        "id": "9PFXWALkH_8G"
      },
      "source": [
        "def preprocessing_steps(data):\n",
        "    \"\"\"Applying the length on both sms_text and english_text and filtering the sentences based on length \n",
        "    adding start token and end token for inputs and output dataframe\n",
        "    \\t-> start token which represents start of the sentence\n",
        "    \\n-> end token which represents end of the sentence.\n",
        "    Removing the sms_length, english_length, and ENGLISH_TEXT and appending ENGLISH_INPUT,ENGLISH_OUTPUT for the decoder.\"\"\"\n",
        "    data['sms_length']=data['SMS_TEXT'].apply(len)\n",
        "    data['eng_length']=data['ENGLISH_TEXT'].apply(len)\n",
        "    data=data[data['sms_length']<=170]\n",
        "    data=data[data['eng_length']<=202]\n",
        "    data['ENGLISH_INPUT']='\\t '+data['ENGLISH_TEXT'].astype(str)\n",
        "    data['ENGLISH_OUTPUT']=data['ENGLISH_TEXT'].astype(str)+' \\n'\n",
        "    data=data.drop(['sms_length','eng_length','ENGLISH_TEXT'],axis=1)\n",
        "    return data"
      ],
      "execution_count": null,
      "outputs": []
    },
    {
      "cell_type": "code",
      "metadata": {
        "colab": {
          "base_uri": "https://localhost:8080/"
        },
        "id": "hlpBosCzIHut",
        "outputId": "ade0f016-0623-4e17-b785-acf5aea5f9be"
      },
      "source": [
        "preprocessed_data=preprocessing_steps(data)\n",
        "print(preprocessed_data.shape)\n",
        "preprocessed_data.iloc[0]['ENGLISH_INPUT']=str(preprocessed_data.iloc[0]['ENGLISH_INPUT'])+' \\n'\n",
        "preprocessed_data.iloc[0]['ENGLISH_OUTPUT']=str(preprocessed_data.iloc[0]['ENGLISH_OUTPUT'])+' \\n'"
      ],
      "execution_count": null,
      "outputs": [
        {
          "output_type": "stream",
          "text": [
            "(1993, 3)\n"
          ],
          "name": "stdout"
        }
      ]
    },
    {
      "cell_type": "code",
      "metadata": {
        "colab": {
          "base_uri": "https://localhost:8080/",
          "height": 35
        },
        "id": "HbFrLYa3IvwJ",
        "outputId": "6dc2f31f-9823-491f-ec2f-a012c642875b"
      },
      "source": [
        "preprocessed_data.iloc[0][1]"
      ],
      "execution_count": null,
      "outputs": [
        {
          "output_type": "execute_result",
          "data": {
            "application/vnd.google.colaboratory.intrinsic+json": {
              "type": "string"
            },
            "text/plain": [
              "'\\t Do you want me to reserve seat for you or not? \\n'"
            ]
          },
          "metadata": {
            "tags": []
          },
          "execution_count": 16
        }
      ]
    },
    {
      "cell_type": "code",
      "metadata": {
        "colab": {
          "base_uri": "https://localhost:8080/"
        },
        "id": "zwyMFdiMIKHz",
        "outputId": "435d0735-d336-4742-8945-64cdf9a584a6"
      },
      "source": [
        "from sklearn.model_selection import train_test_split\n",
        "train_data,test_data= train_test_split(preprocessed_data,test_size=0.01, random_state=11)\n",
        "print(train_data.shape)\n",
        "print(test_data.shape)\n"
      ],
      "execution_count": null,
      "outputs": [
        {
          "output_type": "stream",
          "text": [
            "(1973, 3)\n",
            "(20, 3)\n"
          ],
          "name": "stdout"
        }
      ]
    },
    {
      "cell_type": "code",
      "metadata": {
        "id": "w_jIGuMWINbI"
      },
      "source": [
        "def preparing_data_for_model(preprocessed_data):\n",
        "    \"\"\"1. Creating input and output characters list.\n",
        "       2. Creating input and output vocabluary list\n",
        "       3. Initialising np.array with zeros for encoder_input_data,decoder_input_data and decoder_output_data.\n",
        "       4. One hot encoding of encoder_input_data,decoder_input_data and decoder_output_data.\n",
        "       5. Decoder_output_data would be one time step ahead of decoder_input_data which is known as teacher enforcing.\n",
        "       6. Return input_token_index,output_token_index,encoder_input_data,decoder_output_data,decoder_input_data.\n",
        "    \"\"\"\n",
        "    #creating vocabluary.\n",
        "    input_charcters_list=sorted(list(set(preprocessed_data['SMS_TEXT'].apply(list).sum())))\n",
        "    output_charcters_list=sorted(list(set(preprocessed_data['ENGLISH_INPUT'].apply(list).sum())))\n",
        "    input_token_index = dict((c, i) for i, c in enumerate(input_charcters_list))   \n",
        "    output_token_index=dict((c, i) for i, c in enumerate(output_charcters_list))\n",
        "    print(len(input_token_index))\n",
        "    print(len(output_token_index))\n",
        "    #intialising np.array with zeros for one hot encoding.\n",
        "    encoder_input_data = np.zeros((len(preprocessed_data),170,len(input_token_index)), dtype=\"int32\")\n",
        "    decoder_input_data = np.zeros((len(preprocessed_data),202,len(output_token_index)), dtype=\"int32\")\n",
        "    decoder_output_data = np.zeros((len(preprocessed_data),202,len(output_token_index)), dtype=\"int32\")\n",
        "    #one hot encoding of encoder input data\n",
        "    for i,input_text in enumerate(list(preprocessed_data['SMS_TEXT'].values)):\n",
        "        for t,char in enumerate(input_text):\n",
        "            encoder_input_data[i,t,input_token_index[char]]=1\n",
        "        encoder_input_data[i,t+1,input_token_index[\" \"]]=1   \n",
        "    #one hot encoding of decoder input data and decoder output data   \n",
        "    for i,output_text in enumerate(list(preprocessed_data['ENGLISH_INPUT'].values)):\n",
        "        for t,char in enumerate(output_text):\n",
        "            decoder_input_data[i,t,output_token_index[char]]=1\n",
        "            if t > 0:\n",
        "            # decoder_target_data will be ahead by one timestep\n",
        "            # and will not include the start character.\n",
        "               decoder_output_data[i, t - 1, output_token_index[char]] = 1\n",
        "        decoder_input_data[i, t + 1 :, output_token_index[\" \"]] = 1\n",
        "        decoder_output_data[i, t:, output_token_index[\" \"]] = 1   \n",
        "    return input_token_index,output_token_index,encoder_input_data,decoder_input_data,decoder_output_data"
      ],
      "execution_count": null,
      "outputs": []
    },
    {
      "cell_type": "code",
      "metadata": {
        "id": "VzBmPWUCIQNz"
      },
      "source": [
        "# not changed\n",
        "def preparing_val_data_for_model(preprocessed_data,input_token_index,output_token_index):\n",
        "    \"\"\"1. Getting the arguments as data,input token vocabulary and output token vocabulary.\n",
        "       2. Initialising np.array with zeros for encoder_input_data,decoder_input_data and decoder_output_data.\n",
        "       3. One hot encoding of encoder_input_data,decoder_input_data and decoder_output_data.\n",
        "       4. Decoder_output_data would be one time step ahead of decoder_input_data which is known as teacher enforcing.\n",
        "       5. Return encoder_input_data,decoder_output_data,decoder_input_data.\n",
        "    \"\"\"\n",
        "    \n",
        "   \n",
        "    #intialising np.array with zeros for one hot encoding.\n",
        "    encoder_input_data = np.zeros((len(preprocessed_data),170,len(input_token_index)), dtype=\"int32\")\n",
        "    decoder_input_data = np.zeros((len(preprocessed_data),202,len(output_token_index)), dtype=\"int32\")\n",
        "    decoder_output_data = np.zeros((len(preprocessed_data),202,len(output_token_index)), dtype=\"int32\")\n",
        "    #one hot encoding of encoder input data\n",
        "    for i,input_text in enumerate(list(preprocessed_data['SMS_TEXT'].values)):\n",
        "        for t,char in enumerate(input_text):\n",
        "            encoder_input_data[i,t,input_token_index[char]]=1\n",
        "        encoder_input_data[i,t+1,input_token_index[\" \"]]=1   \n",
        "    #one hot encoding of decoder input data and decoder output data   \n",
        "    for i,output_text in enumerate(list(preprocessed_data['ENGLISH_INPUT'].values)):\n",
        "        for t,char in enumerate(output_text):\n",
        "            decoder_input_data[i,t,output_token_index[char]]=1\n",
        "            if t > 0:\n",
        "            # decoder_target_data will be ahead by one timestep\n",
        "            # and will not include the start character.\n",
        "               decoder_output_data[i, t - 1, output_token_index[char]] = 1\n",
        "        decoder_input_data[i, t + 1 :, output_token_index[\" \"]] = 1\n",
        "        decoder_output_data[i, t:, output_token_index[\" \"]] = 1   \n",
        "    return encoder_input_data,decoder_input_data,decoder_output_data"
      ],
      "execution_count": null,
      "outputs": []
    },
    {
      "cell_type": "code",
      "metadata": {
        "colab": {
          "base_uri": "https://localhost:8080/"
        },
        "id": "9MbPvs1IISds",
        "outputId": "f7713514-28d6-4516-dc60-662039a80380"
      },
      "source": [
        "\n",
        "#for trained data\n",
        "input_token_ind,output_token_ind,enc_input_data,dec_input_data,dec_output_data=preparing_data_for_model(train_data)\n",
        "#for validation data\n",
        "cv_enc_input_data,cv_dec_input_data,cv_dec_output_data=preparing_val_data_for_model(test_data,input_token_ind,output_token_ind)"
      ],
      "execution_count": null,
      "outputs": [
        {
          "output_type": "stream",
          "text": [
            "103\n",
            "92\n"
          ],
          "name": "stdout"
        }
      ]
    },
    {
      "cell_type": "code",
      "metadata": {
        "id": "SSKIbQhSKKhN"
      },
      "source": [
        "# decoder_output_data.shape"
      ],
      "execution_count": null,
      "outputs": []
    },
    {
      "cell_type": "markdown",
      "metadata": {
        "id": "79KOv98SiH1z"
      },
      "source": [
        "# GRU"
      ]
    },
    {
      "cell_type": "code",
      "metadata": {
        "colab": {
          "base_uri": "https://localhost:8080/"
        },
        "id": "KRqzKrA9IV57",
        "outputId": "4389689b-d63d-4051-a57e-a97041377c39"
      },
      "source": [
        "\n",
        "tf.keras.backend.clear_session()\n",
        "enc_inputs = tf.keras.Input(shape=(None,len(input_token_ind)))\n",
        "enc = tf.keras.layers.GRU(100, return_state=True)\n",
        "enc_outputs,state_h= enc(enc_inputs)\n",
        "#storing encoder states\n",
        "enc_states = state_h\n",
        " \n",
        "# Set up the decoder, using encoder_states as initial state.\n",
        "dec_inputs = tf.keras.Input(shape=(None, len(output_token_ind)))\n",
        " \n",
        "# We set up our decoder to return full output sequences,\n",
        "# and to return internal states as well. We don't use the\n",
        "# return states in the training model, but we will use them in inference.\n",
        "dec_gru = tf.keras.layers.GRU(100, return_sequences=True, return_state=True)\n",
        "dec_outputs, _ = dec_gru(dec_inputs, initial_state=enc_states)\n",
        "dec_dense = tf.keras.layers.Dense(len(output_token_ind), activation=\"softmax\")\n",
        "dec_outputs = dec_dense(dec_outputs)\n",
        " \n",
        "# Define the model\n",
        "model = tf.keras.Model([enc_inputs, dec_inputs], dec_outputs)\n",
        "model.summary()"
      ],
      "execution_count": null,
      "outputs": [
        {
          "output_type": "stream",
          "text": [
            "Model: \"model\"\n",
            "__________________________________________________________________________________________________\n",
            "Layer (type)                    Output Shape         Param #     Connected to                     \n",
            "==================================================================================================\n",
            "input_1 (InputLayer)            [(None, None, 103)]  0                                            \n",
            "__________________________________________________________________________________________________\n",
            "input_2 (InputLayer)            [(None, None, 92)]   0                                            \n",
            "__________________________________________________________________________________________________\n",
            "gru (GRU)                       [(None, 100), (None, 61500       input_1[0][0]                    \n",
            "__________________________________________________________________________________________________\n",
            "gru_1 (GRU)                     [(None, None, 100),  58200       input_2[0][0]                    \n",
            "                                                                 gru[0][1]                        \n",
            "__________________________________________________________________________________________________\n",
            "dense (Dense)                   (None, None, 92)     9292        gru_1[0][0]                      \n",
            "==================================================================================================\n",
            "Total params: 128,992\n",
            "Trainable params: 128,992\n",
            "Non-trainable params: 0\n",
            "__________________________________________________________________________________________________\n"
          ],
          "name": "stdout"
        }
      ]
    },
    {
      "cell_type": "code",
      "metadata": {
        "colab": {
          "base_uri": "https://localhost:8080/",
          "height": 422
        },
        "id": "b6NYY2pmIYbJ",
        "outputId": "63c649bd-e0ba-4c64-f216-476d6d5634db"
      },
      "source": [
        "tf.keras.utils.plot_model(model, show_shapes=True)\n"
      ],
      "execution_count": null,
      "outputs": [
        {
          "output_type": "execute_result",
          "data": {
            "image/png": "[encoded data removed]",
            "text/plain": [
              "<IPython.core.display.Image object>"
            ]
          },
          "metadata": {
            "tags": []
          },
          "execution_count": 23
        }
      ]
    },
    {
      "cell_type": "code",
      "metadata": {
        "id": "XikPWsWnL3Vh"
      },
      "source": [
        "rlp = tf.keras.callbacks.ReduceLROnPlateau(\n",
        "    monitor='val_loss', factor=0.1, patience=2, verbose=0,\n",
        "    mode='auto', min_delta=0.00001, cooldown=0, min_lr=0,\n",
        ")"
      ],
      "execution_count": null,
      "outputs": []
    },
    {
      "cell_type": "code",
      "metadata": {
        "colab": {
          "base_uri": "https://localhost:8080/"
        },
        "id": "3Zl0Mx40enfa",
        "outputId": "0a0cd812-4a73-4271-c24a-7e1112ec84ac"
      },
      "source": [
        "optimizer = tf.keras.optimizers.Adam(0.01)\n",
        "model.compile(optimizer=optimizer, loss='categorical_crossentropy')\n",
        "model.fit([enc_input_data, dec_input_data],dec_output_data,validation_data=([cv_enc_input_data,cv_dec_input_data],cv_dec_output_data),batch_size=64,epochs=100,callbacks=[rlp])"
      ],
      "execution_count": null,
      "outputs": [
        {
          "output_type": "stream",
          "text": [
            "Epoch 1/100\n",
            "31/31 [==============================] - 6s 58ms/step - loss: 1.7960 - val_loss: 1.1431\n",
            "Epoch 2/100\n",
            "31/31 [==============================] - 1s 27ms/step - loss: 1.0691 - val_loss: 0.9142\n",
            "Epoch 3/100\n",
            "31/31 [==============================] - 1s 28ms/step - loss: 0.9199 - val_loss: 0.8253\n",
            "Epoch 4/100\n",
            "31/31 [==============================] - 1s 28ms/step - loss: 0.8404 - val_loss: 0.7699\n",
            "Epoch 5/100\n",
            "31/31 [==============================] - 1s 27ms/step - loss: 0.7855 - val_loss: 0.7243\n",
            "Epoch 6/100\n",
            "31/31 [==============================] - 1s 27ms/step - loss: 0.7428 - val_loss: 0.6903\n",
            "Epoch 7/100\n",
            "31/31 [==============================] - 1s 28ms/step - loss: 0.7103 - val_loss: 0.6630\n",
            "Epoch 8/100\n",
            "31/31 [==============================] - 1s 27ms/step - loss: 0.6832 - val_loss: 0.6369\n",
            "Epoch 9/100\n",
            "31/31 [==============================] - 1s 27ms/step - loss: 0.6596 - val_loss: 0.6175\n",
            "Epoch 10/100\n",
            "31/31 [==============================] - 1s 27ms/step - loss: 0.6397 - val_loss: 0.6030\n",
            "Epoch 11/100\n",
            "31/31 [==============================] - 1s 28ms/step - loss: 0.6228 - val_loss: 0.5912\n",
            "Epoch 12/100\n",
            "31/31 [==============================] - 1s 27ms/step - loss: 0.6077 - val_loss: 0.5807\n",
            "Epoch 13/100\n",
            "31/31 [==============================] - 1s 27ms/step - loss: 0.5955 - val_loss: 0.5715\n",
            "Epoch 14/100\n",
            "31/31 [==============================] - 1s 27ms/step - loss: 0.5846 - val_loss: 0.5616\n",
            "Epoch 15/100\n",
            "31/31 [==============================] - 1s 28ms/step - loss: 0.5736 - val_loss: 0.5553\n",
            "Epoch 16/100\n",
            "31/31 [==============================] - 1s 27ms/step - loss: 0.5649 - val_loss: 0.5506\n",
            "Epoch 17/100\n",
            "31/31 [==============================] - 1s 27ms/step - loss: 0.5563 - val_loss: 0.5419\n",
            "Epoch 18/100\n",
            "31/31 [==============================] - 1s 28ms/step - loss: 0.5480 - val_loss: 0.5426\n",
            "Epoch 19/100\n",
            "31/31 [==============================] - 1s 27ms/step - loss: 0.5413 - val_loss: 0.5437\n",
            "Epoch 20/100\n",
            "31/31 [==============================] - 1s 27ms/step - loss: 0.5287 - val_loss: 0.5342\n",
            "Epoch 21/100\n",
            "31/31 [==============================] - 1s 27ms/step - loss: 0.5246 - val_loss: 0.5329\n",
            "Epoch 22/100\n",
            "31/31 [==============================] - 1s 27ms/step - loss: 0.5232 - val_loss: 0.5329\n",
            "Epoch 23/100\n",
            "31/31 [==============================] - 1s 27ms/step - loss: 0.5222 - val_loss: 0.5327\n",
            "Epoch 24/100\n",
            "31/31 [==============================] - 1s 28ms/step - loss: 0.5212 - val_loss: 0.5327\n",
            "Epoch 25/100\n",
            "31/31 [==============================] - 1s 27ms/step - loss: 0.5201 - val_loss: 0.5328\n",
            "Epoch 26/100\n",
            "31/31 [==============================] - 1s 27ms/step - loss: 0.5186 - val_loss: 0.5319\n",
            "Epoch 27/100\n",
            "31/31 [==============================] - 1s 27ms/step - loss: 0.5183 - val_loss: 0.5320\n",
            "Epoch 28/100\n",
            "31/31 [==============================] - 1s 27ms/step - loss: 0.5182 - val_loss: 0.5319\n",
            "Epoch 29/100\n",
            "31/31 [==============================] - 1s 27ms/step - loss: 0.5181 - val_loss: 0.5318\n",
            "Epoch 30/100\n",
            "31/31 [==============================] - 1s 27ms/step - loss: 0.5180 - val_loss: 0.5317\n",
            "Epoch 31/100\n",
            "31/31 [==============================] - 1s 27ms/step - loss: 0.5179 - val_loss: 0.5318\n",
            "Epoch 32/100\n",
            "31/31 [==============================] - 1s 27ms/step - loss: 0.5178 - val_loss: 0.5317\n",
            "Epoch 33/100\n",
            "31/31 [==============================] - 1s 28ms/step - loss: 0.5177 - val_loss: 0.5317\n",
            "Epoch 34/100\n",
            "31/31 [==============================] - 1s 27ms/step - loss: 0.5176 - val_loss: 0.5316\n",
            "Epoch 35/100\n",
            "31/31 [==============================] - 1s 27ms/step - loss: 0.5175 - val_loss: 0.5316\n",
            "Epoch 36/100\n",
            "31/31 [==============================] - 1s 28ms/step - loss: 0.5174 - val_loss: 0.5316\n",
            "Epoch 37/100\n",
            "31/31 [==============================] - 1s 27ms/step - loss: 0.5173 - val_loss: 0.5315\n",
            "Epoch 38/100\n",
            "31/31 [==============================] - 1s 27ms/step - loss: 0.5172 - val_loss: 0.5316\n",
            "Epoch 39/100\n",
            "31/31 [==============================] - 1s 27ms/step - loss: 0.5171 - val_loss: 0.5315\n",
            "Epoch 40/100\n",
            "31/31 [==============================] - 1s 27ms/step - loss: 0.5170 - val_loss: 0.5315\n",
            "Epoch 41/100\n",
            "31/31 [==============================] - 1s 27ms/step - loss: 0.5169 - val_loss: 0.5315\n",
            "Epoch 42/100\n",
            "31/31 [==============================] - 1s 27ms/step - loss: 0.5168 - val_loss: 0.5314\n",
            "Epoch 43/100\n",
            "31/31 [==============================] - 1s 27ms/step - loss: 0.5167 - val_loss: 0.5314\n",
            "Epoch 44/100\n",
            "31/31 [==============================] - 1s 27ms/step - loss: 0.5166 - val_loss: 0.5314\n",
            "Epoch 45/100\n",
            "31/31 [==============================] - 1s 27ms/step - loss: 0.5165 - val_loss: 0.5314\n",
            "Epoch 46/100\n",
            "31/31 [==============================] - 1s 27ms/step - loss: 0.5164 - val_loss: 0.5313\n",
            "Epoch 47/100\n",
            "31/31 [==============================] - 1s 27ms/step - loss: 0.5163 - val_loss: 0.5313\n",
            "Epoch 48/100\n",
            "31/31 [==============================] - 1s 27ms/step - loss: 0.5162 - val_loss: 0.5314\n",
            "Epoch 49/100\n",
            "31/31 [==============================] - 1s 28ms/step - loss: 0.5160 - val_loss: 0.5314\n",
            "Epoch 50/100\n",
            "31/31 [==============================] - 1s 27ms/step - loss: 0.5160 - val_loss: 0.5313\n",
            "Epoch 51/100\n",
            "31/31 [==============================] - 1s 27ms/step - loss: 0.5160 - val_loss: 0.5313\n",
            "Epoch 52/100\n",
            "31/31 [==============================] - 1s 27ms/step - loss: 0.5160 - val_loss: 0.5313\n",
            "Epoch 53/100\n",
            "31/31 [==============================] - 1s 27ms/step - loss: 0.5160 - val_loss: 0.5313\n",
            "Epoch 54/100\n",
            "31/31 [==============================] - 1s 27ms/step - loss: 0.5160 - val_loss: 0.5313\n",
            "Epoch 55/100\n",
            "31/31 [==============================] - 1s 27ms/step - loss: 0.5160 - val_loss: 0.5313\n",
            "Epoch 56/100\n",
            "31/31 [==============================] - 1s 27ms/step - loss: 0.5160 - val_loss: 0.5313\n",
            "Epoch 57/100\n",
            "31/31 [==============================] - 1s 27ms/step - loss: 0.5160 - val_loss: 0.5313\n",
            "Epoch 58/100\n",
            "31/31 [==============================] - 1s 28ms/step - loss: 0.5160 - val_loss: 0.5313\n",
            "Epoch 59/100\n",
            "31/31 [==============================] - 1s 27ms/step - loss: 0.5160 - val_loss: 0.5313\n",
            "Epoch 60/100\n",
            "31/31 [==============================] - 1s 28ms/step - loss: 0.5160 - val_loss: 0.5313\n",
            "Epoch 61/100\n",
            "31/31 [==============================] - 1s 27ms/step - loss: 0.5160 - val_loss: 0.5313\n",
            "Epoch 62/100\n",
            "31/31 [==============================] - 1s 27ms/step - loss: 0.5160 - val_loss: 0.5313\n",
            "Epoch 63/100\n",
            "31/31 [==============================] - 1s 27ms/step - loss: 0.5160 - val_loss: 0.5313\n",
            "Epoch 64/100\n",
            "31/31 [==============================] - 1s 27ms/step - loss: 0.5160 - val_loss: 0.5313\n",
            "Epoch 65/100\n",
            "31/31 [==============================] - 1s 27ms/step - loss: 0.5160 - val_loss: 0.5313\n",
            "Epoch 66/100\n",
            "31/31 [==============================] - 1s 28ms/step - loss: 0.5160 - val_loss: 0.5313\n",
            "Epoch 67/100\n",
            "31/31 [==============================] - 1s 27ms/step - loss: 0.5160 - val_loss: 0.5313\n",
            "Epoch 68/100\n",
            "31/31 [==============================] - 1s 28ms/step - loss: 0.5160 - val_loss: 0.5313\n",
            "Epoch 69/100\n",
            "31/31 [==============================] - 1s 27ms/step - loss: 0.5160 - val_loss: 0.5313\n",
            "Epoch 70/100\n",
            "31/31 [==============================] - 1s 27ms/step - loss: 0.5160 - val_loss: 0.5313\n",
            "Epoch 71/100\n",
            "31/31 [==============================] - 1s 27ms/step - loss: 0.5160 - val_loss: 0.5313\n",
            "Epoch 72/100\n",
            "31/31 [==============================] - 1s 28ms/step - loss: 0.5160 - val_loss: 0.5313\n",
            "Epoch 73/100\n",
            "31/31 [==============================] - 1s 28ms/step - loss: 0.5160 - val_loss: 0.5313\n",
            "Epoch 74/100\n",
            "31/31 [==============================] - 1s 27ms/step - loss: 0.5160 - val_loss: 0.5313\n",
            "Epoch 75/100\n",
            "31/31 [==============================] - 1s 27ms/step - loss: 0.5160 - val_loss: 0.5313\n",
            "Epoch 76/100\n",
            "31/31 [==============================] - 1s 27ms/step - loss: 0.5160 - val_loss: 0.5313\n",
            "Epoch 77/100\n",
            "31/31 [==============================] - 1s 27ms/step - loss: 0.5160 - val_loss: 0.5313\n",
            "Epoch 78/100\n",
            "31/31 [==============================] - 1s 27ms/step - loss: 0.5160 - val_loss: 0.5313\n",
            "Epoch 79/100\n",
            "31/31 [==============================] - 1s 27ms/step - loss: 0.5160 - val_loss: 0.5313\n",
            "Epoch 80/100\n",
            "31/31 [==============================] - 1s 27ms/step - loss: 0.5160 - val_loss: 0.5313\n",
            "Epoch 81/100\n",
            "31/31 [==============================] - 1s 28ms/step - loss: 0.5160 - val_loss: 0.5313\n",
            "Epoch 82/100\n",
            "31/31 [==============================] - 1s 27ms/step - loss: 0.5160 - val_loss: 0.5313\n",
            "Epoch 83/100\n",
            "31/31 [==============================] - 1s 27ms/step - loss: 0.5160 - val_loss: 0.5313\n",
            "Epoch 84/100\n",
            "31/31 [==============================] - 1s 27ms/step - loss: 0.5160 - val_loss: 0.5313\n",
            "Epoch 85/100\n",
            "31/31 [==============================] - 1s 27ms/step - loss: 0.5160 - val_loss: 0.5313\n",
            "Epoch 86/100\n",
            "31/31 [==============================] - 1s 27ms/step - loss: 0.5160 - val_loss: 0.5313\n",
            "Epoch 87/100\n",
            "31/31 [==============================] - 1s 27ms/step - loss: 0.5160 - val_loss: 0.5313\n",
            "Epoch 88/100\n",
            "31/31 [==============================] - 1s 27ms/step - loss: 0.5160 - val_loss: 0.5313\n",
            "Epoch 89/100\n",
            "31/31 [==============================] - 1s 27ms/step - loss: 0.5160 - val_loss: 0.5313\n",
            "Epoch 90/100\n",
            "31/31 [==============================] - 1s 27ms/step - loss: 0.5160 - val_loss: 0.5313\n",
            "Epoch 91/100\n",
            "31/31 [==============================] - 1s 28ms/step - loss: 0.5160 - val_loss: 0.5313\n",
            "Epoch 92/100\n",
            "31/31 [==============================] - 1s 27ms/step - loss: 0.5160 - val_loss: 0.5313\n",
            "Epoch 93/100\n",
            "31/31 [==============================] - 1s 28ms/step - loss: 0.5160 - val_loss: 0.5313\n",
            "Epoch 94/100\n",
            "31/31 [==============================] - 1s 27ms/step - loss: 0.5160 - val_loss: 0.5313\n",
            "Epoch 95/100\n",
            "31/31 [==============================] - 1s 27ms/step - loss: 0.5160 - val_loss: 0.5313\n",
            "Epoch 96/100\n",
            "31/31 [==============================] - 1s 27ms/step - loss: 0.5160 - val_loss: 0.5313\n",
            "Epoch 97/100\n",
            "31/31 [==============================] - 1s 28ms/step - loss: 0.5160 - val_loss: 0.5313\n",
            "Epoch 98/100\n",
            "31/31 [==============================] - 1s 27ms/step - loss: 0.5160 - val_loss: 0.5313\n",
            "Epoch 99/100\n",
            "31/31 [==============================] - 1s 27ms/step - loss: 0.5160 - val_loss: 0.5313\n",
            "Epoch 100/100\n",
            "31/31 [==============================] - 1s 27ms/step - loss: 0.5160 - val_loss: 0.5313\n"
          ],
          "name": "stdout"
        },
        {
          "output_type": "execute_result",
          "data": {
            "text/plain": [
              "<tensorflow.python.keras.callbacks.History at 0x7f3e5456f410>"
            ]
          },
          "metadata": {
            "tags": []
          },
          "execution_count": 26
        }
      ]
    },
    {
      "cell_type": "code",
      "metadata": {
        "id": "0wnJDmGINITq"
      },
      "source": [
        "# optimizer = tf.keras.optimizers.Adam(0.0001)\n",
        "# model.compile(optimizer=optimizer, loss='categorical_crossentropy')\n",
        "# model.fit([enc_input_data, dec_input_data],dec_output_data,validation_data=([cv_enc_input_data,cv_dec_input_data],cv_dec_output_data),batch_size=64,epochs=1000,callbacks=[rlp])"
      ],
      "execution_count": null,
      "outputs": []
    },
    {
      "cell_type": "code",
      "metadata": {
        "id": "Wh3zwBv0RMoa"
      },
      "source": [
        "# optimizer = tf.keras.optimizers.Adam(0.0001)\n",
        "# model.compile(optimizer=optimizer, loss='categorical_crossentropy')\n",
        "# model.fit([enc_input_data, dec_input_data],dec_output_data,validation_data=([cv_enc_input_data,cv_dec_input_data],cv_dec_output_data),batch_size=64,epochs=1000,callbacks=[rlp])"
      ],
      "execution_count": null,
      "outputs": []
    },
    {
      "cell_type": "code",
      "metadata": {
        "id": "t3r_3__kMb1x"
      },
      "source": [
        "\n",
        "model.save('/content/drive/MyDrive/Applied Ai Course assignments/Assiginments/CS2/GRU_model_v2.h5')"
      ],
      "execution_count": null,
      "outputs": []
    },
    {
      "cell_type": "code",
      "metadata": {
        "id": "mwN_4U-RMfdn"
      },
      "source": [
        "\n",
        "model = tf.keras.models.load_model('/content/drive/MyDrive/Applied Ai Course assignments/Assiginments/CS2/GRU_model_v2.h5')"
      ],
      "execution_count": null,
      "outputs": []
    },
    {
      "cell_type": "markdown",
      "metadata": {
        "id": "SrEdS-KeUSIZ"
      },
      "source": [
        "Prediction"
      ]
    },
    {
      "cell_type": "code",
      "metadata": {
        "colab": {
          "base_uri": "https://localhost:8080/"
        },
        "id": "C8gPcVCjUURt",
        "outputId": "44adfd47-2fd5-4391-8b54-be01f8c114b0"
      },
      "source": [
        "int_2_char_input=dict((i, char) for char, i in input_token_ind.items())\n",
        "int_2_char_output=dict((i,char) for char, i in output_token_ind.items())\n",
        "print(int_2_char_input)\n",
        "print(int_2_char_output)"
      ],
      "execution_count": null,
      "outputs": [
        {
          "output_type": "stream",
          "text": [
            "{0: ' ', 1: '!', 2: '\"', 3: '#', 4: '$', 5: '%', 6: '&', 7: \"'\", 8: '(', 9: ')', 10: '*', 11: '+', 12: ',', 13: '-', 14: '.', 15: '/', 16: '0', 17: '1', 18: '2', 19: '3', 20: '4', 21: '5', 22: '6', 23: '7', 24: '8', 25: '9', 26: ':', 27: ';', 28: '<', 29: '=', 30: '>', 31: '?', 32: '@', 33: 'A', 34: 'B', 35: 'C', 36: 'D', 37: 'E', 38: 'F', 39: 'G', 40: 'H', 41: 'I', 42: 'J', 43: 'K', 44: 'L', 45: 'M', 46: 'N', 47: 'O', 48: 'P', 49: 'Q', 50: 'R', 51: 'S', 52: 'T', 53: 'U', 54: 'V', 55: 'W', 56: 'X', 57: 'Y', 58: 'Z', 59: '^', 60: '_', 61: 'a', 62: 'b', 63: 'c', 64: 'd', 65: 'e', 66: 'f', 67: 'g', 68: 'h', 69: 'i', 70: 'j', 71: 'k', 72: 'l', 73: 'm', 74: 'n', 75: 'o', 76: 'p', 77: 'q', 78: 'r', 79: 's', 80: 't', 81: 'u', 82: 'v', 83: 'w', 84: 'x', 85: 'y', 86: 'z', 87: '£', 88: 'É', 89: 'Ñ', 90: 'Ü', 91: 'à', 92: 'ä', 93: 'å', 94: 'è', 95: 'é', 96: 'ì', 97: 'ñ', 98: 'ò', 99: 'ö', 100: 'ø', 101: 'ù', 102: 'ü'}\n",
            "{0: '\\t', 1: '\\n', 2: ' ', 3: '!', 4: '\"', 5: '#', 6: '$', 7: '%', 8: '&', 9: \"'\", 10: '(', 11: ')', 12: '+', 13: ',', 14: '-', 15: '.', 16: '/', 17: '0', 18: '1', 19: '2', 20: '3', 21: '4', 22: '5', 23: '6', 24: '7', 25: '8', 26: '9', 27: ':', 28: ';', 29: '?', 30: '@', 31: 'A', 32: 'B', 33: 'C', 34: 'D', 35: 'E', 36: 'F', 37: 'G', 38: 'H', 39: 'I', 40: 'J', 41: 'K', 42: 'L', 43: 'M', 44: 'N', 45: 'O', 46: 'P', 47: 'Q', 48: 'R', 49: 'S', 50: 'T', 51: 'U', 52: 'V', 53: 'W', 54: 'X', 55: 'Y', 56: 'Z', 57: '_', 58: 'a', 59: 'b', 60: 'c', 61: 'd', 62: 'e', 63: 'f', 64: 'g', 65: 'h', 66: 'i', 67: 'j', 68: 'k', 69: 'l', 70: 'm', 71: 'n', 72: 'o', 73: 'p', 74: 'q', 75: 'r', 76: 's', 77: 't', 78: 'u', 79: 'v', 80: 'w', 81: 'x', 82: 'y', 83: 'z', 84: '£', 85: 'ì', 86: 'ñ', 87: '“', 88: '”', 89: '\\u3000', 90: '，', 91: '？'}\n"
          ],
          "name": "stdout"
        }
      ]
    },
    {
      "cell_type": "code",
      "metadata": {
        "colab": {
          "base_uri": "https://localhost:8080/"
        },
        "id": "sw_yskS8UW_7",
        "outputId": "45583f3e-3e11-4aed-c367-9c43a8f3c371"
      },
      "source": [
        "\n",
        "enc_inputs = model.input[0]  # input_1\n",
        "enc_outputs, state_h_enc = model.layers[2].output  # gru\n",
        "enc_states = state_h_enc\n",
        "enc_model = tf.keras.Model(enc_inputs, enc_states)\n",
        "\n",
        "enc_model.summary()\n"
      ],
      "execution_count": null,
      "outputs": [
        {
          "output_type": "stream",
          "text": [
            "Model: \"model_1\"\n",
            "_________________________________________________________________\n",
            "Layer (type)                 Output Shape              Param #   \n",
            "=================================================================\n",
            "input_1 (InputLayer)         [(None, None, 103)]       0         \n",
            "_________________________________________________________________\n",
            "gru (GRU)                    [(None, 100), (None, 100) 61500     \n",
            "=================================================================\n",
            "Total params: 61,500\n",
            "Trainable params: 61,500\n",
            "Non-trainable params: 0\n",
            "_________________________________________________________________\n"
          ],
          "name": "stdout"
        }
      ]
    },
    {
      "cell_type": "code",
      "metadata": {
        "colab": {
          "base_uri": "https://localhost:8080/",
          "height": 201
        },
        "id": "sK0KU1xOUZup",
        "outputId": "75b0a5cc-3974-4e14-b047-1614b336bd04"
      },
      "source": [
        "tf.keras.utils.plot_model(enc_model, show_shapes=True)\n"
      ],
      "execution_count": null,
      "outputs": [
        {
          "output_type": "execute_result",
          "data": {
            "image/png": "[encoded data removed]",
            "text/plain": [
              "<IPython.core.display.Image object>"
            ]
          },
          "metadata": {
            "tags": []
          },
          "execution_count": 33
        }
      ]
    },
    {
      "cell_type": "code",
      "metadata": {
        "colab": {
          "base_uri": "https://localhost:8080/",
          "height": 601
        },
        "id": "Bmsw_XYaUahA",
        "outputId": "cfd13f1f-79fa-46ea-f4b9-002f1110e839"
      },
      "source": [
        "\n",
        "dec_inputs=model.inputs[1]\n",
        "dec_state_input_h = tf.keras.Input(shape=(100,))\n",
        "dec_outputs, state_h_dec= model.layers[3](dec_inputs, initial_state=dec_state_input_h)\n",
        "# decoder_model = tf.keras.Model([decoder_inputs,decoder_state_input_h],decoder_outputs)\n",
        "dec_states =state_h_dec\n",
        "dec_dense = model.layers[4]\n",
        "dec_outputs = dec_dense(dec_outputs)\n",
        "dec_model = tf.keras.Model((dec_inputs,dec_state_input_h),(dec_outputs,dec_states))\n",
        "\n",
        "dec_model.summary()\n",
        "tf.keras.utils.plot_model(dec_model, show_shapes=True)"
      ],
      "execution_count": null,
      "outputs": [
        {
          "output_type": "stream",
          "text": [
            "Model: \"model_2\"\n",
            "__________________________________________________________________________________________________\n",
            "Layer (type)                    Output Shape         Param #     Connected to                     \n",
            "==================================================================================================\n",
            "input_2 (InputLayer)            [(None, None, 92)]   0                                            \n",
            "__________________________________________________________________________________________________\n",
            "input_3 (InputLayer)            [(None, 100)]        0                                            \n",
            "__________________________________________________________________________________________________\n",
            "gru_1 (GRU)                     [(None, None, 100),  58200       input_2[0][0]                    \n",
            "                                                                 input_3[0][0]                    \n",
            "__________________________________________________________________________________________________\n",
            "dense (Dense)                   (None, None, 92)     9292        gru_1[1][0]                      \n",
            "==================================================================================================\n",
            "Total params: 67,492\n",
            "Trainable params: 67,492\n",
            "Non-trainable params: 0\n",
            "__________________________________________________________________________________________________\n"
          ],
          "name": "stdout"
        },
        {
          "output_type": "execute_result",
          "data": {
            "image/png": "[encoded data removed]",
            "text/plain": [
              "<IPython.core.display.Image object>"
            ]
          },
          "metadata": {
            "tags": []
          },
          "execution_count": 34
        }
      ]
    },
    {
      "cell_type": "code",
      "metadata": {
        "id": "GusPziDMWDCZ"
      },
      "source": [
        "\n",
        "# dec_inputs=model.inputs[1]\n",
        "# dec_state_input_h = tf.keras.Input(shape=(100,))\n",
        "# dec_outputs, state_h_dec= model.layers[3](dec_inputs, initial_state=dec_state_input_h)\n",
        "# dec_model = tf.keras.Model([dec_inputs,dec_state_input_h],dec_outputs)\n",
        "# dec_states =state_h_dec\n",
        "# dec_dense = model.layers[4]\n",
        "# dec_outputs = dec_dense(dec_outputs)\n",
        "# dec_model = tf.keras.Model((dec_inputs,dec_state_input_h),(dec_outputs,dec_states))\n",
        "\n",
        "# dec_model.summary()\n",
        "# tf.keras.utils.plot_model(dec_model, show_shapes=True)"
      ],
      "execution_count": null,
      "outputs": []
    },
    {
      "cell_type": "code",
      "metadata": {
        "id": "sb6Znop-UgqM"
      },
      "source": [
        "\n",
        "def predictions(input_seq):\n",
        "    # print(np.argmax(input_seq))\n",
        "    states=enc_model(input_seq)\n",
        "    target_seq = np.zeros((1, 1, 92))\n",
        "    # Populate the first character of target sequence with the start character.\n",
        "    target_seq[0, 0, output_token_ind[\"\\t\"]] = 1\n",
        "    stop_condition = False\n",
        "    dec_sentence = \"\"\n",
        "    \n",
        "    while not stop_condition:\n",
        "        \n",
        "        output_tokens,states= dec_model((target_seq,states))\n",
        "        sampled_token_ind = np.argmax(output_tokens[0, -1, :])\n",
        "        #print(sampled_token_index)\n",
        "        sampled_char = int_2_char_output[sampled_token_ind]\n",
        "        if (sampled_char == '\\n' or len(dec_sentence) > 202):\n",
        "            stop_condition = True\n",
        "            return dec_sentence\n",
        "        \n",
        "        dec_sentence += sampled_char\n",
        "        target_seq = np.zeros((1, 1, 92))\n",
        "        target_seq[0, 0, sampled_token_ind] = 1\n",
        "    \n",
        "    return dec_sentence"
      ],
      "execution_count": null,
      "outputs": []
    },
    {
      "cell_type": "code",
      "metadata": {
        "colab": {
          "base_uri": "https://localhost:8080/"
        },
        "id": "7BYIG-QZUmdg",
        "outputId": "32c691b7-26ea-493a-c918-62d20683db6a"
      },
      "source": [
        "for seq in range(len(test_data)):\n",
        "    # Take one sequence (part of the training set)\n",
        "    # for trying out decoding.\n",
        "    print(\"English_TEXT\")\n",
        "    print(test_data['ENGLISH_OUTPUT'].iloc[seq])\n",
        "    input_seq = cv_enc_input_data[seq:seq+1]\n",
        "    print(\"Pred_Sentence\")\n",
        "    print(predictions(input_seq))\n",
        "    print()"
      ],
      "execution_count": null,
      "outputs": [
        {
          "output_type": "stream",
          "text": [
            "English_TEXT\n",
            "Look at that then no need to go already. So pissed. Don't know what's wrong with it. \n",
            "\n",
            "Pred_Sentence\n",
            " OK. I am still the more the book to see you the meeting and so meet you all can come.                                                                                                                     \n",
            "\n",
            "English_TEXT\n",
            "Yup. Taken already. Thanks. \n",
            "\n",
            "Pred_Sentence\n",
            " Yes. I want to go to see.                                                                                                                                                                                 \n",
            "\n",
            "English_TEXT\n",
            "Haha, okay, hope you can remember to help me to ask. Hehe. \n",
            "\n",
            "Pred_Sentence\n",
            " Haha. Okay. I am still then see you the meet at 12 to me.                                                                                                                                                 \n",
            "\n",
            "English_TEXT\n",
            "I'm still at Computer Centre. There's still a long queue. Sigh. I might not be able to meet you. \n",
            "\n",
            "Pred_Sentence\n",
            " I'm going to can come to be to be to be to be to be to be to be to be to be to be to be to be to be to be to be to be to be to be to be to be to be to be to be to be to be to be to be to be to be to be \n",
            "\n",
            "English_TEXT\n",
            "Block 295 Punggol Central. \n",
            "\n",
            "Pred_Sentence\n",
            " Because I want to go to see you all can see you all can come.                                                                                                                                             \n",
            "\n",
            "English_TEXT\n",
            "Friday can go 330 lessons, Maldives? Maybe sometime later, I am short of cash. Haha. \n",
            "\n",
            "Pred_Sentence\n",
            " Fanter to can come to can come to can come to me at 12 to come to study to come to me to see you the past already.                                                                                        \n",
            "\n",
            "English_TEXT\n",
            "Hey I have a new number. 91074867. yes, I chose Business Administration. You? \n",
            "\n",
            "Pred_Sentence\n",
            " Hey, I want to go to so meet at 12 to call me to be to be to be to be to be to be to be to be to be to be to be to be to be to be to be to be to be to be to be to be to be to be to be to be to be to be \n",
            "\n",
            "English_TEXT\n",
            "Haha. Still need me to say? Anyway, thanks for sending me off tomorrow. Gee gee. \n",
            "\n",
            "Pred_Sentence\n",
            " Haha. Okay. I am still then see you the meet at 12 to me.                                                                                                                                                 \n",
            "\n",
            "English_TEXT\n",
            "Sigh this kind of thing cannot rush. Today is my first day only. Must search slowly. Don't worry. I will update to you. \n",
            "\n",
            "Pred_Sentence\n",
            " Him is my now. I am still be to be to be to be to be to be to be to be to be to be to be to be to be to be to be to be to be to be to be to be to be to be to be to be to be to be to be to be to be to be\n",
            "\n",
            "English_TEXT\n",
            "Lea，yes, I am from Singapore. \n",
            "\n",
            "Pred_Sentence\n",
            " We are you are to come to can come to me at 12 to come to me at 12 to me at 12 to me at 12 to me at 12 to me at 12 to me at 12 to me at 12 to me at 12 to me at 12 to me at 12 to me at 12 to me at 12 to \n",
            "\n",
            "English_TEXT\n",
            "Orhz. If you change your mind call me. I'm going. Haha. \n",
            "\n",
            "Pred_Sentence\n",
            " Oh. I am still then see. I am still then see you the meet.                                                                                                                                                \n",
            "\n",
            "English_TEXT\n",
            "Yes. Can say hi and then go for dinner later. He likes doing project. \n",
            "\n",
            "Pred_Sentence\n",
            " Yes. I want to go to see you the place.                                                                                                                                                                   \n",
            "\n",
            "English_TEXT\n",
            "Take so long. \n",
            "\n",
            "Pred_Sentence\n",
            " Thanks and should the paserer.                                                                                                                                                                            \n",
            "\n",
            "English_TEXT\n",
            "Are you driving there tomorrow? \n",
            "\n",
            "Pred_Sentence\n",
            " You are the meeting and should the please the please the please the please the please the please the please.                                                                                              \n",
            "\n",
            "English_TEXT\n",
            "My sister and I are eating breakfast. You call me. \n",
            "\n",
            "Pred_Sentence\n",
            " I am not and the past already.                                                                                                                                                                            \n",
            "\n",
            "English_TEXT\n",
            "These few weeks are very hot. Me in camp also Terok. Would love the weather there too. \n",
            "\n",
            "Pred_Sentence\n",
            " Thanks and should the pases.                                                                                                                                                                              \n",
            "\n",
            "English_TEXT\n",
            "Haha you scared me. You went and cut a few times already, what do you think of their service? Try to book earlier. \n",
            "\n",
            "Pred_Sentence\n",
            " Haha, I don't know what to come to see you the please the place and she plays and see you are you and see you are you and see you are you and see you are you and see you are you and see you are you and \n",
            "\n",
            "English_TEXT\n",
            "Things are good, thanks. Got exams in March and I've done no revision. Is Fran still with her boyfriend? I've got an interview for Exeter. Bit worried! \n",
            "\n",
            "Pred_Sentence\n",
            " Thanks. Haha.                                                                                                                                                                                             \n",
            "\n",
            "English_TEXT\n",
            "I cannot go home late. Sigh. I want to watch that show too. \n",
            "\n",
            "Pred_Sentence\n",
            " I don't know what to do you want to go to see you all can come to be to be to be to be to be to be to be to be to be to be to be to be to be to be to be to be to be to be to be to be to be to be to be t\n",
            "\n",
            "English_TEXT\n",
            "Hi, introduce please. \n",
            "\n",
            "Pred_Sentence\n",
            " Hi having your and she past to see you are you are you are you are you are you are you are you are you are you are you are you are you are you are you are you are you are you are you are you are you are\n",
            "\n"
          ],
          "name": "stdout"
        }
      ]
    },
    {
      "cell_type": "code",
      "metadata": {
        "colab": {
          "base_uri": "https://localhost:8080/"
        },
        "id": "wmnz4ZdeU8aE",
        "outputId": "f8d25cc7-08e2-4c7d-d252-06fda5c1fe7a"
      },
      "source": [
        "model.evaluate([cv_enc_input_data,cv_dec_input_data],cv_dec_output_data)\n"
      ],
      "execution_count": null,
      "outputs": [
        {
          "output_type": "stream",
          "text": [
            "1/1 [==============================] - 1s 712ms/step - loss: 0.5313\n"
          ],
          "name": "stdout"
        },
        {
          "output_type": "execute_result",
          "data": {
            "text/plain": [
              "0.531344473361969"
            ]
          },
          "metadata": {
            "tags": []
          },
          "execution_count": 38
        }
      ]
    },
    {
      "cell_type": "code",
      "metadata": {
        "id": "v-vdARaMac_7"
      },
      "source": [
        ""
      ],
      "execution_count": null,
      "outputs": []
    },
    {
      "cell_type": "code",
      "metadata": {
        "id": "RphMrK-ZadHz"
      },
      "source": [
        ""
      ],
      "execution_count": null,
      "outputs": []
    },
    {
      "cell_type": "markdown",
      "metadata": {
        "id": "1O2ZnyC3iMTF"
      },
      "source": [
        "# LSTM"
      ]
    },
    {
      "cell_type": "code",
      "metadata": {
        "colab": {
          "base_uri": "https://localhost:8080/"
        },
        "id": "FSXSt1kVadNC",
        "outputId": "5b204710-8417-4a73-c2c7-d16807b3a9c3"
      },
      "source": [
        "\n",
        "tf.keras.backend.clear_session()\n",
        "enc_inputs = tf.keras.Input(shape=(None,len(input_token_ind)))\n",
        "enc = tf.keras.layers.LSTM(100, return_state=True)\n",
        "encoder_outputs,state_h,state_c= enc(enc_inputs)\n",
        "#storing encoder states\n",
        "enc_states = [state_h,state_c]\n",
        " \n",
        "# Set up the decoder, using encoder_states as initial state.\n",
        "dec_inputs = tf.keras.Input(shape=(None, len(output_token_ind)))\n",
        " \n",
        "# We set up our decoder to return full output sequences,\n",
        "# and to return internal states as well. We don't use the\n",
        "# return states in the training model, but we will use them in inference.\n",
        "dec_lstm = tf.keras.layers.LSTM(100, return_sequences=True, return_state=True)\n",
        "dec_outputs, _,_ = dec_lstm(dec_inputs, initial_state=enc_states)\n",
        "dec_dense = tf.keras.layers.Dense(len(output_token_ind), activation=\"softmax\")\n",
        "dec_outputs = dec_dense(dec_outputs)\n",
        " \n",
        "# Define the model\n",
        "model_lstm = tf.keras.Model([enc_inputs, dec_inputs], dec_outputs)\n",
        "model_lstm.summary()\n"
      ],
      "execution_count": null,
      "outputs": [
        {
          "output_type": "stream",
          "text": [
            "Model: \"model\"\n",
            "__________________________________________________________________________________________________\n",
            "Layer (type)                    Output Shape         Param #     Connected to                     \n",
            "==================================================================================================\n",
            "input_1 (InputLayer)            [(None, None, 103)]  0                                            \n",
            "__________________________________________________________________________________________________\n",
            "input_2 (InputLayer)            [(None, None, 92)]   0                                            \n",
            "__________________________________________________________________________________________________\n",
            "lstm (LSTM)                     [(None, 100), (None, 81600       input_1[0][0]                    \n",
            "__________________________________________________________________________________________________\n",
            "lstm_1 (LSTM)                   [(None, None, 100),  77200       input_2[0][0]                    \n",
            "                                                                 lstm[0][1]                       \n",
            "                                                                 lstm[0][2]                       \n",
            "__________________________________________________________________________________________________\n",
            "dense (Dense)                   (None, None, 92)     9292        lstm_1[0][0]                     \n",
            "==================================================================================================\n",
            "Total params: 168,092\n",
            "Trainable params: 168,092\n",
            "Non-trainable params: 0\n",
            "__________________________________________________________________________________________________\n"
          ],
          "name": "stdout"
        }
      ]
    },
    {
      "cell_type": "code",
      "metadata": {
        "colab": {
          "base_uri": "https://localhost:8080/",
          "height": 422
        },
        "id": "K8UpRzW0bZ0f",
        "outputId": "6f82c841-101e-40a1-9f16-6b371a1015f7"
      },
      "source": [
        "tf.keras.utils.plot_model(model_lstm, show_shapes=True)\n"
      ],
      "execution_count": null,
      "outputs": [
        {
          "output_type": "execute_result",
          "data": {
            "image/png": "[encoded data removed]",
            "text/plain": [
              "<IPython.core.display.Image object>"
            ]
          },
          "metadata": {
            "tags": []
          },
          "execution_count": 40
        }
      ]
    },
    {
      "cell_type": "code",
      "metadata": {
        "colab": {
          "base_uri": "https://localhost:8080/"
        },
        "id": "6TG_y3iiadQm",
        "outputId": "3ed77c91-7806-48c2-b02d-819f95770581"
      },
      "source": [
        "optimizer = tf.keras.optimizers.Adam(0.01)\n",
        "model_lstm.compile(optimizer=optimizer, loss='categorical_crossentropy')\n",
        "model_lstm.fit([enc_input_data, dec_input_data],dec_output_data,validation_data=([cv_enc_input_data,cv_dec_input_data],cv_dec_output_data),batch_size=64,epochs=100,callbacks=[rlp])\n"
      ],
      "execution_count": null,
      "outputs": [
        {
          "output_type": "stream",
          "text": [
            "Epoch 1/100\n",
            "31/31 [==============================] - 5s 58ms/step - loss: 1.6620 - val_loss: 1.2018\n",
            "Epoch 2/100\n",
            "31/31 [==============================] - 1s 31ms/step - loss: 1.1802 - val_loss: 1.0598\n",
            "Epoch 3/100\n",
            "31/31 [==============================] - 1s 31ms/step - loss: 1.0326 - val_loss: 0.8752\n",
            "Epoch 4/100\n",
            "31/31 [==============================] - 1s 31ms/step - loss: 0.8803 - val_loss: 0.8024\n",
            "Epoch 5/100\n",
            "31/31 [==============================] - 1s 31ms/step - loss: 0.8217 - val_loss: 0.7615\n",
            "Epoch 6/100\n",
            "31/31 [==============================] - 1s 31ms/step - loss: 0.7882 - val_loss: 0.7365\n",
            "Epoch 7/100\n",
            "31/31 [==============================] - 1s 31ms/step - loss: 0.7613 - val_loss: 0.7176\n",
            "Epoch 8/100\n",
            "31/31 [==============================] - 1s 30ms/step - loss: 0.7410 - val_loss: 0.6997\n",
            "Epoch 9/100\n",
            "31/31 [==============================] - 1s 31ms/step - loss: 0.7231 - val_loss: 0.6821\n",
            "Epoch 10/100\n",
            "31/31 [==============================] - 1s 31ms/step - loss: 0.7074 - val_loss: 0.6772\n",
            "Epoch 11/100\n",
            "31/31 [==============================] - 1s 31ms/step - loss: 0.6941 - val_loss: 0.6576\n",
            "Epoch 12/100\n",
            "31/31 [==============================] - 1s 31ms/step - loss: 0.6791 - val_loss: 0.6457\n",
            "Epoch 13/100\n",
            "31/31 [==============================] - 1s 31ms/step - loss: 0.6664 - val_loss: 0.6322\n",
            "Epoch 14/100\n",
            "31/31 [==============================] - 1s 31ms/step - loss: 0.6552 - val_loss: 0.6272\n",
            "Epoch 15/100\n",
            "31/31 [==============================] - 1s 31ms/step - loss: 0.6423 - val_loss: 0.6115\n",
            "Epoch 16/100\n",
            "31/31 [==============================] - 1s 31ms/step - loss: 0.6327 - val_loss: 0.6043\n",
            "Epoch 17/100\n",
            "31/31 [==============================] - 1s 31ms/step - loss: 0.6243 - val_loss: 0.5968\n",
            "Epoch 18/100\n",
            "31/31 [==============================] - 1s 31ms/step - loss: 0.6150 - val_loss: 0.5885\n",
            "Epoch 19/100\n",
            "31/31 [==============================] - 1s 31ms/step - loss: 0.6063 - val_loss: 0.5821\n",
            "Epoch 20/100\n",
            "31/31 [==============================] - 1s 31ms/step - loss: 0.5982 - val_loss: 0.5749\n",
            "Epoch 21/100\n",
            "31/31 [==============================] - 1s 31ms/step - loss: 0.5918 - val_loss: 0.5727\n",
            "Epoch 22/100\n",
            "31/31 [==============================] - 1s 31ms/step - loss: 0.5854 - val_loss: 0.5673\n",
            "Epoch 23/100\n",
            "31/31 [==============================] - 1s 31ms/step - loss: 0.5793 - val_loss: 0.5635\n",
            "Epoch 24/100\n",
            "31/31 [==============================] - 1s 31ms/step - loss: 0.5792 - val_loss: 0.5599\n",
            "Epoch 25/100\n",
            "31/31 [==============================] - 1s 31ms/step - loss: 0.5723 - val_loss: 0.5510\n",
            "Epoch 26/100\n",
            "31/31 [==============================] - 1s 31ms/step - loss: 0.5655 - val_loss: 0.5481\n",
            "Epoch 27/100\n",
            "31/31 [==============================] - 1s 31ms/step - loss: 0.5581 - val_loss: 0.5429\n",
            "Epoch 28/100\n",
            "31/31 [==============================] - 1s 31ms/step - loss: 0.5539 - val_loss: 0.5414\n",
            "Epoch 29/100\n",
            "31/31 [==============================] - 1s 31ms/step - loss: 0.5503 - val_loss: 0.5384\n",
            "Epoch 30/100\n",
            "31/31 [==============================] - 1s 31ms/step - loss: 0.5441 - val_loss: 0.5293\n",
            "Epoch 31/100\n",
            "31/31 [==============================] - 1s 31ms/step - loss: 0.5409 - val_loss: 0.5287\n",
            "Epoch 32/100\n",
            "31/31 [==============================] - 1s 31ms/step - loss: 0.5368 - val_loss: 0.5283\n",
            "Epoch 33/100\n",
            "31/31 [==============================] - 1s 31ms/step - loss: 0.5322 - val_loss: 0.5291\n",
            "Epoch 34/100\n",
            "31/31 [==============================] - 1s 30ms/step - loss: 0.5293 - val_loss: 0.5238\n",
            "Epoch 35/100\n",
            "31/31 [==============================] - 1s 31ms/step - loss: 0.5252 - val_loss: 0.5264\n",
            "Epoch 36/100\n",
            "31/31 [==============================] - 1s 31ms/step - loss: 0.5223 - val_loss: 0.5220\n",
            "Epoch 37/100\n",
            "31/31 [==============================] - 1s 31ms/step - loss: 0.5184 - val_loss: 0.5169\n",
            "Epoch 38/100\n",
            "31/31 [==============================] - 1s 31ms/step - loss: 0.5153 - val_loss: 0.5226\n",
            "Epoch 39/100\n",
            "31/31 [==============================] - 1s 31ms/step - loss: 0.5124 - val_loss: 0.5141\n",
            "Epoch 40/100\n",
            "31/31 [==============================] - 1s 31ms/step - loss: 0.5099 - val_loss: 0.5167\n",
            "Epoch 41/100\n",
            "31/31 [==============================] - 1s 31ms/step - loss: 0.5070 - val_loss: 0.5174\n",
            "Epoch 42/100\n",
            "31/31 [==============================] - 1s 31ms/step - loss: 0.4975 - val_loss: 0.5092\n",
            "Epoch 43/100\n",
            "31/31 [==============================] - 1s 31ms/step - loss: 0.4944 - val_loss: 0.5089\n",
            "Epoch 44/100\n",
            "31/31 [==============================] - 1s 31ms/step - loss: 0.4938 - val_loss: 0.5084\n",
            "Epoch 45/100\n",
            "31/31 [==============================] - 1s 31ms/step - loss: 0.4932 - val_loss: 0.5086\n",
            "Epoch 46/100\n",
            "31/31 [==============================] - 1s 30ms/step - loss: 0.4928 - val_loss: 0.5080\n",
            "Epoch 47/100\n",
            "31/31 [==============================] - 1s 31ms/step - loss: 0.4924 - val_loss: 0.5090\n",
            "Epoch 48/100\n",
            "31/31 [==============================] - 1s 31ms/step - loss: 0.4920 - val_loss: 0.5080\n",
            "Epoch 49/100\n",
            "31/31 [==============================] - 1s 31ms/step - loss: 0.4916 - val_loss: 0.5084\n",
            "Epoch 50/100\n",
            "31/31 [==============================] - 1s 31ms/step - loss: 0.4912 - val_loss: 0.5079\n",
            "Epoch 51/100\n",
            "31/31 [==============================] - 1s 31ms/step - loss: 0.4908 - val_loss: 0.5082\n",
            "Epoch 52/100\n",
            "31/31 [==============================] - 1s 31ms/step - loss: 0.4904 - val_loss: 0.5081\n",
            "Epoch 53/100\n",
            "31/31 [==============================] - 1s 30ms/step - loss: 0.4891 - val_loss: 0.5075\n",
            "Epoch 54/100\n",
            "31/31 [==============================] - 1s 31ms/step - loss: 0.4889 - val_loss: 0.5076\n",
            "Epoch 55/100\n",
            "31/31 [==============================] - 1s 31ms/step - loss: 0.4889 - val_loss: 0.5076\n",
            "Epoch 56/100\n",
            "31/31 [==============================] - 1s 31ms/step - loss: 0.4887 - val_loss: 0.5076\n",
            "Epoch 57/100\n",
            "31/31 [==============================] - 1s 31ms/step - loss: 0.4887 - val_loss: 0.5076\n",
            "Epoch 58/100\n",
            "31/31 [==============================] - 1s 31ms/step - loss: 0.4887 - val_loss: 0.5076\n",
            "Epoch 59/100\n",
            "31/31 [==============================] - 1s 31ms/step - loss: 0.4887 - val_loss: 0.5076\n",
            "Epoch 60/100\n",
            "31/31 [==============================] - 1s 31ms/step - loss: 0.4887 - val_loss: 0.5076\n",
            "Epoch 61/100\n",
            "31/31 [==============================] - 1s 31ms/step - loss: 0.4887 - val_loss: 0.5076\n",
            "Epoch 62/100\n",
            "31/31 [==============================] - 1s 31ms/step - loss: 0.4887 - val_loss: 0.5076\n",
            "Epoch 63/100\n",
            "31/31 [==============================] - 1s 31ms/step - loss: 0.4887 - val_loss: 0.5076\n",
            "Epoch 64/100\n",
            "31/31 [==============================] - 1s 31ms/step - loss: 0.4887 - val_loss: 0.5076\n",
            "Epoch 65/100\n",
            "31/31 [==============================] - 1s 31ms/step - loss: 0.4887 - val_loss: 0.5076\n",
            "Epoch 66/100\n",
            "31/31 [==============================] - 1s 31ms/step - loss: 0.4887 - val_loss: 0.5076\n",
            "Epoch 67/100\n",
            "31/31 [==============================] - 1s 31ms/step - loss: 0.4887 - val_loss: 0.5076\n",
            "Epoch 68/100\n",
            "31/31 [==============================] - 1s 31ms/step - loss: 0.4887 - val_loss: 0.5076\n",
            "Epoch 69/100\n",
            "31/31 [==============================] - 1s 31ms/step - loss: 0.4887 - val_loss: 0.5076\n",
            "Epoch 70/100\n",
            "31/31 [==============================] - 1s 31ms/step - loss: 0.4887 - val_loss: 0.5076\n",
            "Epoch 71/100\n",
            "31/31 [==============================] - 1s 31ms/step - loss: 0.4887 - val_loss: 0.5076\n",
            "Epoch 72/100\n",
            "31/31 [==============================] - 1s 31ms/step - loss: 0.4887 - val_loss: 0.5076\n",
            "Epoch 73/100\n",
            "31/31 [==============================] - 1s 31ms/step - loss: 0.4887 - val_loss: 0.5076\n",
            "Epoch 74/100\n",
            "31/31 [==============================] - 1s 30ms/step - loss: 0.4887 - val_loss: 0.5076\n",
            "Epoch 75/100\n",
            "31/31 [==============================] - 1s 31ms/step - loss: 0.4887 - val_loss: 0.5076\n",
            "Epoch 76/100\n",
            "31/31 [==============================] - 1s 31ms/step - loss: 0.4887 - val_loss: 0.5076\n",
            "Epoch 77/100\n",
            "31/31 [==============================] - 1s 31ms/step - loss: 0.4887 - val_loss: 0.5076\n",
            "Epoch 78/100\n",
            "31/31 [==============================] - 1s 31ms/step - loss: 0.4887 - val_loss: 0.5076\n",
            "Epoch 79/100\n",
            "31/31 [==============================] - 1s 31ms/step - loss: 0.4887 - val_loss: 0.5076\n",
            "Epoch 80/100\n",
            "31/31 [==============================] - 1s 31ms/step - loss: 0.4887 - val_loss: 0.5076\n",
            "Epoch 81/100\n",
            "31/31 [==============================] - 1s 31ms/step - loss: 0.4887 - val_loss: 0.5076\n",
            "Epoch 82/100\n",
            "31/31 [==============================] - 1s 31ms/step - loss: 0.4887 - val_loss: 0.5076\n",
            "Epoch 83/100\n",
            "31/31 [==============================] - 1s 31ms/step - loss: 0.4887 - val_loss: 0.5076\n",
            "Epoch 84/100\n",
            "31/31 [==============================] - 1s 31ms/step - loss: 0.4887 - val_loss: 0.5076\n",
            "Epoch 85/100\n",
            "31/31 [==============================] - 1s 31ms/step - loss: 0.4887 - val_loss: 0.5076\n",
            "Epoch 86/100\n",
            "31/31 [==============================] - 1s 31ms/step - loss: 0.4887 - val_loss: 0.5076\n",
            "Epoch 87/100\n",
            "31/31 [==============================] - 1s 31ms/step - loss: 0.4887 - val_loss: 0.5076\n",
            "Epoch 88/100\n",
            "31/31 [==============================] - 1s 31ms/step - loss: 0.4887 - val_loss: 0.5076\n",
            "Epoch 89/100\n",
            "31/31 [==============================] - 1s 31ms/step - loss: 0.4887 - val_loss: 0.5076\n",
            "Epoch 90/100\n",
            "31/31 [==============================] - 1s 31ms/step - loss: 0.4887 - val_loss: 0.5076\n",
            "Epoch 91/100\n",
            "31/31 [==============================] - 1s 31ms/step - loss: 0.4887 - val_loss: 0.5076\n",
            "Epoch 92/100\n",
            "31/31 [==============================] - 1s 31ms/step - loss: 0.4887 - val_loss: 0.5076\n",
            "Epoch 93/100\n",
            "31/31 [==============================] - 1s 31ms/step - loss: 0.4887 - val_loss: 0.5076\n",
            "Epoch 94/100\n",
            "31/31 [==============================] - 1s 31ms/step - loss: 0.4887 - val_loss: 0.5076\n",
            "Epoch 95/100\n",
            "31/31 [==============================] - 1s 31ms/step - loss: 0.4887 - val_loss: 0.5076\n",
            "Epoch 96/100\n",
            "31/31 [==============================] - 1s 31ms/step - loss: 0.4887 - val_loss: 0.5076\n",
            "Epoch 97/100\n",
            "31/31 [==============================] - 1s 31ms/step - loss: 0.4887 - val_loss: 0.5076\n",
            "Epoch 98/100\n",
            "31/31 [==============================] - 1s 30ms/step - loss: 0.4887 - val_loss: 0.5076\n",
            "Epoch 99/100\n",
            "31/31 [==============================] - 1s 31ms/step - loss: 0.4887 - val_loss: 0.5076\n",
            "Epoch 100/100\n",
            "31/31 [==============================] - 1s 31ms/step - loss: 0.4887 - val_loss: 0.5076\n"
          ],
          "name": "stdout"
        },
        {
          "output_type": "execute_result",
          "data": {
            "text/plain": [
              "<tensorflow.python.keras.callbacks.History at 0x7f3e0177cc90>"
            ]
          },
          "metadata": {
            "tags": []
          },
          "execution_count": 41
        }
      ]
    },
    {
      "cell_type": "code",
      "metadata": {
        "id": "F_53mRGjb5Ka"
      },
      "source": [
        "\n",
        "\n"
      ],
      "execution_count": null,
      "outputs": []
    },
    {
      "cell_type": "code",
      "metadata": {
        "id": "zfKVoEfgb6HN"
      },
      "source": [
        "\n",
        "model_lstm.save('/content/drive/MyDrive/Applied Ai Course assignments/Assiginments/CS2/LSTM_model_v2.h5')"
      ],
      "execution_count": null,
      "outputs": []
    },
    {
      "cell_type": "code",
      "metadata": {
        "id": "n1l7zTtlb6HO"
      },
      "source": [
        "\n",
        "model = tf.keras.models.load_model('/content/drive/MyDrive/Applied Ai Course assignments/Assiginments/CS2/LSTM_model_v2.h5')"
      ],
      "execution_count": null,
      "outputs": []
    },
    {
      "cell_type": "markdown",
      "metadata": {
        "id": "sM7hk6yfb6HO"
      },
      "source": [
        "Prediction"
      ]
    },
    {
      "cell_type": "code",
      "metadata": {
        "id": "Qg5fa5U8b6HO"
      },
      "source": [
        "# int_2_char_input=dict((i, char) for char, i in input_token_index.items())\n",
        "# int_2_char_output=dict((i,char) for char, i in output_token_index.items())\n",
        "# print(int_2_char_input)\n",
        "# print(int_2_char_output)"
      ],
      "execution_count": null,
      "outputs": []
    },
    {
      "cell_type": "code",
      "metadata": {
        "id": "wsOVTE7Wb6HP",
        "colab": {
          "base_uri": "https://localhost:8080/"
        },
        "outputId": "aa0bb1e8-bc07-4ead-c05b-c72e0fa75867"
      },
      "source": [
        "\n",
        "enc_inputs = model.input[0]  \n",
        "enc_outputs, state_h_enc, state_c_enc= model.layers[2].output \n",
        "enc_states = [state_h_enc,state_c_enc]\n",
        "enc_model = tf.keras.Model(enc_inputs, enc_states)\n",
        "\n",
        "enc_model.summary()\n",
        "\n",
        "\n"
      ],
      "execution_count": null,
      "outputs": [
        {
          "output_type": "stream",
          "text": [
            "Model: \"model_1\"\n",
            "_________________________________________________________________\n",
            "Layer (type)                 Output Shape              Param #   \n",
            "=================================================================\n",
            "input_1 (InputLayer)         [(None, None, 103)]       0         \n",
            "_________________________________________________________________\n",
            "lstm (LSTM)                  [(None, 100), (None, 100) 81600     \n",
            "=================================================================\n",
            "Total params: 81,600\n",
            "Trainable params: 81,600\n",
            "Non-trainable params: 0\n",
            "_________________________________________________________________\n"
          ],
          "name": "stdout"
        }
      ]
    },
    {
      "cell_type": "code",
      "metadata": {
        "id": "mJlYi7ykb6HP",
        "colab": {
          "base_uri": "https://localhost:8080/",
          "height": 201
        },
        "outputId": "f8728fde-4923-42d1-f358-8ec289c2516b"
      },
      "source": [
        "tf.keras.utils.plot_model(enc_model, show_shapes=True)\n"
      ],
      "execution_count": null,
      "outputs": [
        {
          "output_type": "execute_result",
          "data": {
            "image/png": "[encoded data removed]",
            "text/plain": [
              "<IPython.core.display.Image object>"
            ]
          },
          "metadata": {
            "tags": []
          },
          "execution_count": 46
        }
      ]
    },
    {
      "cell_type": "code",
      "metadata": {
        "id": "_olkhwSJb6HP",
        "colab": {
          "base_uri": "https://localhost:8080/",
          "height": 652
        },
        "outputId": "538ccd91-3725-4691-f73c-d35e53235428"
      },
      "source": [
        "\n",
        "dec_inputs=model.inputs[1]\n",
        "dec_state_input_h = tf.keras.Input(shape=(100,))\n",
        "dec_state_input_c= tf.keras.Input(shape=(100,))\n",
        "dec_states_inputs = [dec_state_input_h, dec_state_input_c]\n",
        "\n",
        "dec_outputs, state_h_dec,state_c_dec= model.layers[3](dec_inputs, initial_state=dec_states_inputs)\n",
        "\n",
        "dec_states =[state_h_dec, state_c_dec]\n",
        "dec_dense = model.layers[4]\n",
        "dec_outputs = dec_dense(dec_outputs)\n",
        "dec_model = tf.keras.Model((dec_inputs,dec_states_inputs),(dec_outputs,dec_states))\n",
        "\n",
        "dec_model.summary()\n",
        "tf.keras.utils.plot_model(dec_model, show_shapes=True)"
      ],
      "execution_count": null,
      "outputs": [
        {
          "output_type": "stream",
          "text": [
            "Model: \"model_2\"\n",
            "__________________________________________________________________________________________________\n",
            "Layer (type)                    Output Shape         Param #     Connected to                     \n",
            "==================================================================================================\n",
            "input_2 (InputLayer)            [(None, None, 92)]   0                                            \n",
            "__________________________________________________________________________________________________\n",
            "input_3 (InputLayer)            [(None, 100)]        0                                            \n",
            "__________________________________________________________________________________________________\n",
            "input_4 (InputLayer)            [(None, 100)]        0                                            \n",
            "__________________________________________________________________________________________________\n",
            "lstm_1 (LSTM)                   [(None, None, 100),  77200       input_2[0][0]                    \n",
            "                                                                 input_3[0][0]                    \n",
            "                                                                 input_4[0][0]                    \n",
            "__________________________________________________________________________________________________\n",
            "dense (Dense)                   (None, None, 92)     9292        lstm_1[1][0]                     \n",
            "==================================================================================================\n",
            "Total params: 86,492\n",
            "Trainable params: 86,492\n",
            "Non-trainable params: 0\n",
            "__________________________________________________________________________________________________\n"
          ],
          "name": "stdout"
        },
        {
          "output_type": "execute_result",
          "data": {
            "image/png": "[encoded data removed]",
            "text/plain": [
              "<IPython.core.display.Image object>"
            ]
          },
          "metadata": {
            "tags": []
          },
          "execution_count": 47
        }
      ]
    },
    {
      "cell_type": "code",
      "metadata": {
        "id": "tiYu-eukb6HQ"
      },
      "source": [
        "\n",
        "def predictions(input_seq):\n",
        "    # print(np.argmax(input_seq))\n",
        "    states=enc_model(input_seq)\n",
        "    target_seq = np.zeros((1, 1, 92))\n",
        "    # Populate the first character of target sequence with the start character.\n",
        "    target_seq[0, 0, output_token_ind[\"\\t\"]] = 1\n",
        "    stop_condition = False\n",
        "    dec_sentence = \"\"\n",
        "    \n",
        "    while not stop_condition:\n",
        "        \n",
        "        output_tokens,states= dec_model((target_seq,states))\n",
        "        sampled_token_ind = np.argmax(output_tokens[0, -1, :])\n",
        "        #print(sampled_token_index)\n",
        "        sampled_char = int_2_char_output[sampled_token_ind]\n",
        "        if (sampled_char == '\\n' or len(dec_sentence) > 202):\n",
        "            stop_condition = True\n",
        "            return dec_sentence\n",
        "        \n",
        "        dec_sentence += sampled_char\n",
        "        target_seq = np.zeros((1, 1, 92))\n",
        "        target_seq[0, 0, sampled_token_ind] = 1\n",
        "    \n",
        "    return dec_sentence"
      ],
      "execution_count": null,
      "outputs": []
    },
    {
      "cell_type": "code",
      "metadata": {
        "id": "YR12G1yvb6HQ",
        "colab": {
          "base_uri": "https://localhost:8080/"
        },
        "outputId": "f3b28306-67c9-4422-b5d0-3db2d5cb6a5c"
      },
      "source": [
        "for seq in range(len(test_data)):\n",
        "    # Take one sequence (part of the training set)\n",
        "    # for trying out decoding.\n",
        "    print(\"English_TEXT\")\n",
        "    print(test_data['ENGLISH_OUTPUT'].iloc[seq])\n",
        "    input_seq = cv_enc_input_data[seq:seq+1]\n",
        "    print(\"Pred_Sentence\")\n",
        "    print(predictions(input_seq))\n",
        "    print()"
      ],
      "execution_count": null,
      "outputs": [
        {
          "output_type": "stream",
          "text": [
            "English_TEXT\n",
            "Look at that then no need to go already. So pissed. Don't know what's wrong with it. \n",
            "\n",
            "Pred_Sentence\n",
            " Anything the back to see you all to be at the bus the says and the way, I don't know where are you all the way, I want to go to see you already.                                                          \n",
            "\n",
            "English_TEXT\n",
            "Yup. Taken already. Thanks. \n",
            "\n",
            "Pred_Sentence\n",
            " Yes. I am not studying to see you already.                                                                                                                                                                \n",
            "\n",
            "English_TEXT\n",
            "Haha, okay, hope you can remember to help me to ask. Hehe. \n",
            "\n",
            "Pred_Sentence\n",
            " Haha. I am not studying to see you already.                                                                                                                                                               \n",
            "\n",
            "English_TEXT\n",
            "I'm still at Computer Centre. There's still a long queue. Sigh. I might not be able to meet you. \n",
            "\n",
            "Pred_Sentence\n",
            " I'm going to chat?                                                                                                                                                                                        \n",
            "\n",
            "English_TEXT\n",
            "Block 295 Punggol Central. \n",
            "\n",
            "Pred_Sentence\n",
            " Hmm. I am still going to meet you already.                                                                                                                                                                \n",
            "\n",
            "English_TEXT\n",
            "Friday can go 330 lessons, Maldives? Maybe sometime later, I am short of cash. Haha. \n",
            "\n",
            "Pred_Sentence\n",
            " Haha. I am not studying to see you already.                                                                                                                                                               \n",
            "\n",
            "English_TEXT\n",
            "Hey I have a new number. 91074867. yes, I chose Business Administration. You? \n",
            "\n",
            "Pred_Sentence\n",
            " Hey, I don't know what time you are going to can can can can can you are going to can can can can you are going to can can can can you are going to can can can can you are going to can can can can you a\n",
            "\n",
            "English_TEXT\n",
            "Haha. Still need me to say? Anyway, thanks for sending me off tomorrow. Gee gee. \n",
            "\n",
            "Pred_Sentence\n",
            " Haha. I am not studying to see you already.                                                                                                                                                               \n",
            "\n",
            "English_TEXT\n",
            "Sigh this kind of thing cannot rush. Today is my first day only. Must search slowly. Don't worry. I will update to you. \n",
            "\n",
            "Pred_Sentence\n",
            " Hello. How do you want to go to can can can can can you are going to can can can can you are going to can can can can you are going to can can can can you are going to can can can can you are going to c\n",
            "\n",
            "English_TEXT\n",
            "Lea，yes, I am from Singapore. \n",
            "\n",
            "Pred_Sentence\n",
            " Hey, I don't know what time you are going to can can can can can you are going to can can can can you are going to can can can can you are going to can can can can you are going to can can can can you a\n",
            "\n",
            "English_TEXT\n",
            "Orhz. If you change your mind call me. I'm going. Haha. \n",
            "\n",
            "Pred_Sentence\n",
            " Ok. I am not studying to see you already.                                                                                                                                                                 \n",
            "\n",
            "English_TEXT\n",
            "Yes. Can say hi and then go for dinner later. He likes doing project. \n",
            "\n",
            "Pred_Sentence\n",
            " Yes. I am not studying to see you already.                                                                                                                                                                \n",
            "\n",
            "English_TEXT\n",
            "Take so long. \n",
            "\n",
            "Pred_Sentence\n",
            " Thanks. I am not studying to see you already.                                                                                                                                                             \n",
            "\n",
            "English_TEXT\n",
            "Are you driving there tomorrow? \n",
            "\n",
            "Pred_Sentence\n",
            " How are you all the way, I want to chat and the way, I don't know where are you all the way, I want to go to see you already.                                                                             \n",
            "\n",
            "English_TEXT\n",
            "My sister and I are eating breakfast. You call me. \n",
            "\n",
            "Pred_Sentence\n",
            " I am not studying to see you already.                                                                                                                                                                     \n",
            "\n",
            "English_TEXT\n",
            "These few weeks are very hot. Me in camp also Terok. Would love the weather there too. \n",
            "\n",
            "Pred_Sentence\n",
            " That's the photo for the back to see you already.                                                                                                                                                         \n",
            "\n",
            "English_TEXT\n",
            "Haha you scared me. You went and cut a few times already, what do you think of their service? Try to book earlier. \n",
            "\n",
            "Pred_Sentence\n",
            " Haha. I am not studying to see you already.                                                                                                                                                               \n",
            "\n",
            "English_TEXT\n",
            "Things are good, thanks. Got exams in March and I've done no revision. Is Fran still with her boyfriend? I've got an interview for Exeter. Bit worried! \n",
            "\n",
            "Pred_Sentence\n",
            " That's the photo for the back to see you already.                                                                                                                                                         \n",
            "\n",
            "English_TEXT\n",
            "I cannot go home late. Sigh. I want to watch that show too. \n",
            "\n",
            "Pred_Sentence\n",
            " I am not studying to see you already.                                                                                                                                                                     \n",
            "\n",
            "English_TEXT\n",
            "Hi, introduce please. \n",
            "\n",
            "Pred_Sentence\n",
            " Hey, I don't know what time you are going to can can can can can you are going to can can can can you are going to can can can can you are going to can can can can you are going to can can can can you a\n",
            "\n"
          ],
          "name": "stdout"
        }
      ]
    },
    {
      "cell_type": "code",
      "metadata": {
        "id": "-2gG_KQkb6HQ",
        "colab": {
          "base_uri": "https://localhost:8080/"
        },
        "outputId": "5d60f420-dd57-4fd8-a126-1a9236d1a274"
      },
      "source": [
        "model.evaluate([cv_enc_input_data,cv_dec_input_data],cv_dec_output_data)\n"
      ],
      "execution_count": null,
      "outputs": [
        {
          "output_type": "stream",
          "text": [
            "1/1 [==============================] - 1s 793ms/step - loss: 0.5076\n"
          ],
          "name": "stdout"
        },
        {
          "output_type": "execute_result",
          "data": {
            "text/plain": [
              "0.5075626373291016"
            ]
          },
          "metadata": {
            "tags": []
          },
          "execution_count": 50
        }
      ]
    },
    {
      "cell_type": "code",
      "metadata": {
        "id": "PPInFscuzC2c"
      },
      "source": [
        ""
      ],
      "execution_count": null,
      "outputs": []
    },
    {
      "cell_type": "markdown",
      "metadata": {
        "id": "Y-Gd8PNOzFPV"
      },
      "source": [
        "# Words"
      ]
    },
    {
      "cell_type": "code",
      "metadata": {
        "id": "yPKCOZsSzJQh"
      },
      "source": [
        "data = pd.read_csv('/content/drive/MyDrive/Applied Ai Course assignments/Assiginments/CS2/rawdata.csv')\n"
      ],
      "execution_count": null,
      "outputs": []
    },
    {
      "cell_type": "code",
      "metadata": {
        "colab": {
          "base_uri": "https://localhost:8080/"
        },
        "id": "TSH1a1QEzJQh",
        "outputId": "613ec555-8757-411b-fbcc-ccb2ae8d9fd7"
      },
      "source": [
        "print(\"Data Shape\",data.shape)"
      ],
      "execution_count": null,
      "outputs": [
        {
          "output_type": "stream",
          "text": [
            "Data Shape (2000, 2)\n"
          ],
          "name": "stdout"
        }
      ]
    },
    {
      "cell_type": "code",
      "metadata": {
        "colab": {
          "base_uri": "https://localhost:8080/",
          "height": 204
        },
        "id": "Zb7OfNWqzJQi",
        "outputId": "4834b72c-dbd2-4d62-f862-c18c3ab52fa1"
      },
      "source": [
        "data.head()"
      ],
      "execution_count": null,
      "outputs": [
        {
          "output_type": "execute_result",
          "data": {
            "text/html": [
              "<div>\n",
              "<style scoped>\n",
              "    .dataframe tbody tr th:only-of-type {\n",
              "        vertical-align: middle;\n",
              "    }\n",
              "\n",
              "    .dataframe tbody tr th {\n",
              "        vertical-align: top;\n",
              "    }\n",
              "\n",
              "    .dataframe thead th {\n",
              "        text-align: right;\n",
              "    }\n",
              "</style>\n",
              "<table border=\"1\" class=\"dataframe\">\n",
              "  <thead>\n",
              "    <tr style=\"text-align: right;\">\n",
              "      <th></th>\n",
              "      <th>SMS_TEXT</th>\n",
              "      <th>ENGLISH_TEXT</th>\n",
              "    </tr>\n",
              "  </thead>\n",
              "  <tbody>\n",
              "    <tr>\n",
              "      <th>0</th>\n",
              "      <td>U wan me to \"chop\" seat 4 u nt?</td>\n",
              "      <td>Do you want me to reserve seat for you or not?</td>\n",
              "    </tr>\n",
              "    <tr>\n",
              "      <th>1</th>\n",
              "      <td>Yup. U reaching. We order some durian pastry a...</td>\n",
              "      <td>Yeap. You reaching? We ordered some Durian pas...</td>\n",
              "    </tr>\n",
              "    <tr>\n",
              "      <th>2</th>\n",
              "      <td>They become more ex oredi... Mine is like 25.....</td>\n",
              "      <td>They become more expensive already. Mine is li...</td>\n",
              "    </tr>\n",
              "    <tr>\n",
              "      <th>3</th>\n",
              "      <td>I'm thai. what do u do?</td>\n",
              "      <td>I'm Thai. What do you do?</td>\n",
              "    </tr>\n",
              "    <tr>\n",
              "      <th>4</th>\n",
              "      <td>Hi! How did your week go? Haven heard from you...</td>\n",
              "      <td>Hi! How did your week go? Haven't heard from y...</td>\n",
              "    </tr>\n",
              "  </tbody>\n",
              "</table>\n",
              "</div>"
            ],
            "text/plain": [
              "                                            SMS_TEXT                                       ENGLISH_TEXT\n",
              "0                    U wan me to \"chop\" seat 4 u nt?     Do you want me to reserve seat for you or not?\n",
              "1  Yup. U reaching. We order some durian pastry a...  Yeap. You reaching? We ordered some Durian pas...\n",
              "2  They become more ex oredi... Mine is like 25.....  They become more expensive already. Mine is li...\n",
              "3                            I'm thai. what do u do?                          I'm Thai. What do you do?\n",
              "4  Hi! How did your week go? Haven heard from you...  Hi! How did your week go? Haven't heard from y..."
            ]
          },
          "metadata": {
            "tags": []
          },
          "execution_count": 5
        }
      ]
    },
    {
      "cell_type": "code",
      "metadata": {
        "id": "yKOUFlbWzJQj"
      },
      "source": [
        ""
      ],
      "execution_count": null,
      "outputs": []
    },
    {
      "cell_type": "code",
      "metadata": {
        "id": "5cv01b_HzJQj"
      },
      "source": [
        "def preprocessing_steps(data):\n",
        "    \"\"\"Applying the length on both sms_text and english_text and filtering the sentences based on length \n",
        "    adding start token and end token for inputs and output dataframe\n",
        "    \\t-> start token which represents start of the sentence\n",
        "    \\n-> end token which represents end of the sentence.\n",
        "    Removing the sms_length, english_length, and ENGLISH_TEXT and appending ENGLISH_INPUT,ENGLISH_OUTPUT for the decoder.\"\"\"\n",
        "    data['sms_length']=data['SMS_TEXT'].str.split().apply(len)\n",
        "    data['eng_length']=data['ENGLISH_TEXT'].str.split().apply(len)\n",
        "    data=data[data['sms_length']<=39]\n",
        "    data=data[data['eng_length']<=40]\n",
        "    data['ENGLISH_INPUT']=data['ENGLISH_TEXT'].astype(str)\n",
        "    data['ENGLISH_OUTPUT']=data['ENGLISH_TEXT'].astype(str)+' \\n'\n",
        "    # data['ENGLISH_OUTPUT']=data['ENGLISH_TEXT'].astype(str)+' \\n'\n",
        "\n",
        "    data=data.drop(['sms_length','eng_length','ENGLISH_TEXT'],axis=1)\n",
        "    return data"
      ],
      "execution_count": null,
      "outputs": []
    },
    {
      "cell_type": "code",
      "metadata": {
        "colab": {
          "base_uri": "https://localhost:8080/",
          "height": 204
        },
        "id": "6tX4iHMe1jOb",
        "outputId": "7e6feb46-8237-4d06-f23a-19a20a62f8c7"
      },
      "source": [
        "data.head()"
      ],
      "execution_count": null,
      "outputs": [
        {
          "output_type": "execute_result",
          "data": {
            "text/html": [
              "<div>\n",
              "<style scoped>\n",
              "    .dataframe tbody tr th:only-of-type {\n",
              "        vertical-align: middle;\n",
              "    }\n",
              "\n",
              "    .dataframe tbody tr th {\n",
              "        vertical-align: top;\n",
              "    }\n",
              "\n",
              "    .dataframe thead th {\n",
              "        text-align: right;\n",
              "    }\n",
              "</style>\n",
              "<table border=\"1\" class=\"dataframe\">\n",
              "  <thead>\n",
              "    <tr style=\"text-align: right;\">\n",
              "      <th></th>\n",
              "      <th>SMS_TEXT</th>\n",
              "      <th>ENGLISH_TEXT</th>\n",
              "    </tr>\n",
              "  </thead>\n",
              "  <tbody>\n",
              "    <tr>\n",
              "      <th>0</th>\n",
              "      <td>U wan me to \"chop\" seat 4 u nt?</td>\n",
              "      <td>Do you want me to reserve seat for you or not?</td>\n",
              "    </tr>\n",
              "    <tr>\n",
              "      <th>1</th>\n",
              "      <td>Yup. U reaching. We order some durian pastry a...</td>\n",
              "      <td>Yeap. You reaching? We ordered some Durian pas...</td>\n",
              "    </tr>\n",
              "    <tr>\n",
              "      <th>2</th>\n",
              "      <td>They become more ex oredi... Mine is like 25.....</td>\n",
              "      <td>They become more expensive already. Mine is li...</td>\n",
              "    </tr>\n",
              "    <tr>\n",
              "      <th>3</th>\n",
              "      <td>I'm thai. what do u do?</td>\n",
              "      <td>I'm Thai. What do you do?</td>\n",
              "    </tr>\n",
              "    <tr>\n",
              "      <th>4</th>\n",
              "      <td>Hi! How did your week go? Haven heard from you...</td>\n",
              "      <td>Hi! How did your week go? Haven't heard from y...</td>\n",
              "    </tr>\n",
              "  </tbody>\n",
              "</table>\n",
              "</div>"
            ],
            "text/plain": [
              "                                            SMS_TEXT                                       ENGLISH_TEXT\n",
              "0                    U wan me to \"chop\" seat 4 u nt?     Do you want me to reserve seat for you or not?\n",
              "1  Yup. U reaching. We order some durian pastry a...  Yeap. You reaching? We ordered some Durian pas...\n",
              "2  They become more ex oredi... Mine is like 25.....  They become more expensive already. Mine is li...\n",
              "3                            I'm thai. what do u do?                          I'm Thai. What do you do?\n",
              "4  Hi! How did your week go? Haven heard from you...  Hi! How did your week go? Haven't heard from y..."
            ]
          },
          "metadata": {
            "tags": []
          },
          "execution_count": 7
        }
      ]
    },
    {
      "cell_type": "code",
      "metadata": {
        "colab": {
          "base_uri": "https://localhost:8080/"
        },
        "id": "ltLiPAzdzJQj",
        "outputId": "0e748ebd-55b7-4831-a853-108f30dfa1a7"
      },
      "source": [
        "preprocessed_data=preprocessing_steps(data)\n",
        "print(preprocessed_data.shape)\n",
        "preprocessed_data.iloc[0]['ENGLISH_INPUT']=\"\\t \" + str(preprocessed_data.iloc[0]['ENGLISH_INPUT'])+' \\n'\n",
        "preprocessed_data.iloc[0]['ENGLISH_OUTPUT']=\"\\t \" + str(preprocessed_data.iloc[0]['ENGLISH_OUTPUT'])+' \\n'"
      ],
      "execution_count": null,
      "outputs": [
        {
          "output_type": "stream",
          "text": [
            "(1991, 3)\n"
          ],
          "name": "stdout"
        }
      ]
    },
    {
      "cell_type": "code",
      "metadata": {
        "id": "Y7bvh83tzJQk"
      },
      "source": [
        "preprocessed_data.iloc[0][1] = \"\\t \" + preprocessed_data.iloc[0][2]"
      ],
      "execution_count": null,
      "outputs": []
    },
    {
      "cell_type": "code",
      "metadata": {
        "colab": {
          "base_uri": "https://localhost:8080/",
          "height": 419
        },
        "id": "kMaQYQBRIfP-",
        "outputId": "b55f5b22-38aa-4873-c853-5f912d40b329"
      },
      "source": [
        "preprocessed_data"
      ],
      "execution_count": null,
      "outputs": [
        {
          "output_type": "execute_result",
          "data": {
            "text/html": [
              "<div>\n",
              "<style scoped>\n",
              "    .dataframe tbody tr th:only-of-type {\n",
              "        vertical-align: middle;\n",
              "    }\n",
              "\n",
              "    .dataframe tbody tr th {\n",
              "        vertical-align: top;\n",
              "    }\n",
              "\n",
              "    .dataframe thead th {\n",
              "        text-align: right;\n",
              "    }\n",
              "</style>\n",
              "<table border=\"1\" class=\"dataframe\">\n",
              "  <thead>\n",
              "    <tr style=\"text-align: right;\">\n",
              "      <th></th>\n",
              "      <th>SMS_TEXT</th>\n",
              "      <th>ENGLISH_INPUT</th>\n",
              "      <th>ENGLISH_OUTPUT</th>\n",
              "    </tr>\n",
              "  </thead>\n",
              "  <tbody>\n",
              "    <tr>\n",
              "      <th>0</th>\n",
              "      <td>U wan me to \"chop\" seat 4 u nt?</td>\n",
              "      <td>\\t Do you want me to reserve seat for you or n...</td>\n",
              "      <td>\\t Do you want me to reserve seat for you or n...</td>\n",
              "    </tr>\n",
              "    <tr>\n",
              "      <th>1</th>\n",
              "      <td>Yup. U reaching. We order some durian pastry a...</td>\n",
              "      <td>Yeap. You reaching? We ordered some Durian pas...</td>\n",
              "      <td>Yeap. You reaching? We ordered some Durian pas...</td>\n",
              "    </tr>\n",
              "    <tr>\n",
              "      <th>2</th>\n",
              "      <td>They become more ex oredi... Mine is like 25.....</td>\n",
              "      <td>They become more expensive already. Mine is li...</td>\n",
              "      <td>They become more expensive already. Mine is li...</td>\n",
              "    </tr>\n",
              "    <tr>\n",
              "      <th>3</th>\n",
              "      <td>I'm thai. what do u do?</td>\n",
              "      <td>I'm Thai. What do you do?</td>\n",
              "      <td>I'm Thai. What do you do? \\n</td>\n",
              "    </tr>\n",
              "    <tr>\n",
              "      <th>4</th>\n",
              "      <td>Hi! How did your week go? Haven heard from you...</td>\n",
              "      <td>Hi! How did your week go? Haven't heard from y...</td>\n",
              "      <td>Hi! How did your week go? Haven't heard from y...</td>\n",
              "    </tr>\n",
              "    <tr>\n",
              "      <th>...</th>\n",
              "      <td>...</td>\n",
              "      <td>...</td>\n",
              "      <td>...</td>\n",
              "    </tr>\n",
              "    <tr>\n",
              "      <th>1994</th>\n",
              "      <td>Hi tina ...</td>\n",
              "      <td>Hi tina.</td>\n",
              "      <td>Hi tina. \\n</td>\n",
              "    </tr>\n",
              "    <tr>\n",
              "      <th>1995</th>\n",
              "      <td>Hmmm... Thk i usually book on wkends... Depend...</td>\n",
              "      <td>Hmm. I think I usually book on weekends. It de...</td>\n",
              "      <td>Hmm. I think I usually book on weekends. It de...</td>\n",
              "    </tr>\n",
              "    <tr>\n",
              "      <th>1997</th>\n",
              "      <td>We r near coca oredi...</td>\n",
              "      <td>We are near Coca already.</td>\n",
              "      <td>We are near Coca already. \\n</td>\n",
              "    </tr>\n",
              "    <tr>\n",
              "      <th>1998</th>\n",
              "      <td>hall Eleven. Got lectures le mah.èn forget abt...</td>\n",
              "      <td>Hall eleven. Got lectures. And forget about co...</td>\n",
              "      <td>Hall eleven. Got lectures. And forget about co...</td>\n",
              "    </tr>\n",
              "    <tr>\n",
              "      <th>1999</th>\n",
              "      <td>I Bring for u. I can not promise u 100% to win...</td>\n",
              "      <td>I bring for you. I can not promise you 100% to...</td>\n",
              "      <td>I bring for you. I can not promise you 100% to...</td>\n",
              "    </tr>\n",
              "  </tbody>\n",
              "</table>\n",
              "<p>1991 rows × 3 columns</p>\n",
              "</div>"
            ],
            "text/plain": [
              "                                               SMS_TEXT  ...                                     ENGLISH_OUTPUT\n",
              "0                       U wan me to \"chop\" seat 4 u nt?  ...  \\t Do you want me to reserve seat for you or n...\n",
              "1     Yup. U reaching. We order some durian pastry a...  ...  Yeap. You reaching? We ordered some Durian pas...\n",
              "2     They become more ex oredi... Mine is like 25.....  ...  They become more expensive already. Mine is li...\n",
              "3                               I'm thai. what do u do?  ...                       I'm Thai. What do you do? \\n\n",
              "4     Hi! How did your week go? Haven heard from you...  ...  Hi! How did your week go? Haven't heard from y...\n",
              "...                                                 ...  ...                                                ...\n",
              "1994                                        Hi tina ...  ...                                        Hi tina. \\n\n",
              "1995  Hmmm... Thk i usually book on wkends... Depend...  ...  Hmm. I think I usually book on weekends. It de...\n",
              "1997                            We r near coca oredi...  ...                       We are near Coca already. \\n\n",
              "1998  hall Eleven. Got lectures le mah.èn forget abt...  ...  Hall eleven. Got lectures. And forget about co...\n",
              "1999  I Bring for u. I can not promise u 100% to win...  ...  I bring for you. I can not promise you 100% to...\n",
              "\n",
              "[1991 rows x 3 columns]"
            ]
          },
          "metadata": {
            "tags": []
          },
          "execution_count": 10
        }
      ]
    },
    {
      "cell_type": "code",
      "metadata": {
        "colab": {
          "base_uri": "https://localhost:8080/"
        },
        "id": "J-XPb3hQzJQk",
        "outputId": "67e52800-7579-4c6a-ecee-c3971abc56aa"
      },
      "source": [
        "from sklearn.model_selection import train_test_split\n",
        "train_data,test_data= train_test_split(preprocessed_data,test_size=0.01, random_state=11)\n",
        "print(train_data.shape)\n",
        "print(test_data.shape)\n"
      ],
      "execution_count": null,
      "outputs": [
        {
          "output_type": "stream",
          "text": [
            "(1971, 3)\n",
            "(20, 3)\n"
          ],
          "name": "stdout"
        }
      ]
    },
    {
      "cell_type": "code",
      "metadata": {
        "id": "2jttDIZ7zJQk"
      },
      "source": [
        "def preparing_data_for_model(preprocessed_data):\n",
        "    \"\"\"1. Creating input and output characters list.\n",
        "       2. Creating input and output vocabluary list\n",
        "       3. Initialising np.array with zeros for encoder_input_data,decoder_input_data and decoder_output_data.\n",
        "       4. One hot encoding of encoder_input_data,decoder_input_data and decoder_output_data.\n",
        "       5. Decoder_output_data would be one time step ahead of decoder_input_data which is known as teacher enforcing.\n",
        "       6. Return input_token_index,output_token_index,encoder_input_data,decoder_output_data,decoder_input_data.\n",
        "    \"\"\"\n",
        "    #creating vocabluary.\n",
        "    input_charcters_list=sorted(list(set(preprocessed_data['SMS_TEXT'].str.split().apply(list).sum())))\n",
        "    output_charcters_list=sorted(list(set(preprocessed_data['ENGLISH_INPUT'].str.split().apply(list).sum())))\n",
        "    output_charcters_list.append(\"\\t\")\n",
        "\n",
        "    input_token_index = dict((c, i) for i, c in enumerate(input_charcters_list))   \n",
        "    output_token_index=dict((c, i) for i, c in enumerate(output_charcters_list))\n",
        "    print(len(input_token_index))\n",
        "    print(len(output_token_index))\n",
        "    #intialising np.array with zeros for one hot encoding.\n",
        "    encoder_input_data = np.zeros((len(preprocessed_data),39,len(input_token_index)), dtype=\"int32\")\n",
        "    decoder_input_data = np.zeros((len(preprocessed_data),40,len(output_token_index)), dtype=\"int32\")\n",
        "    decoder_output_data = np.zeros((len(preprocessed_data),40,len(output_token_index)), dtype=\"int32\")\n",
        "    #one hot encoding of encoder input data\n",
        "    for i,input_text in enumerate(list(preprocessed_data['SMS_TEXT'].str.split().values)):\n",
        "        for t,char in enumerate(input_text):\n",
        "            # print(len())\n",
        "            if char in input_token_index:\n",
        "              # print(t)\n",
        "              encoder_input_data[i,t,input_token_index[char]]=1\n",
        "        # encoder_input_data[i,t+1,input_token_index[\" \"]]=1   \n",
        "    #one hot encoding of decoder input data and decoder output data   \n",
        "    for i,output_text in enumerate(list(preprocessed_data['ENGLISH_INPUT'].str.split().values)):\n",
        "        for t,char in enumerate(output_text):\n",
        "            if char in output_token_index:\n",
        "              decoder_input_data[i,t,output_token_index[char]]=1\n",
        "              if t > 0:\n",
        "            # decoder_target_data will be ahead by one timestep\n",
        "            # and will not include the start character.\n",
        "                decoder_output_data[i, t - 1, output_token_index[char]] = 1\n",
        "        # decoder_input_data[i, t + 1 :, output_token_index[\" \"]] = 1\n",
        "        # decoder_output_data[i, t:, output_token_index[\" \"]] = 1   \n",
        "    return input_token_index,output_token_index,encoder_input_data,decoder_input_data,decoder_output_data"
      ],
      "execution_count": null,
      "outputs": []
    },
    {
      "cell_type": "code",
      "metadata": {
        "id": "vslLBwBhDqtO"
      },
      "source": [
        "# not changed\n",
        "def preparing_val_data_for_model(preprocessed_data,input_token_index,output_token_index):\n",
        "    \"\"\"1. Getting the arguments as data,input token vocabulary and output token vocabulary.\n",
        "       2. Initialising np.array with zeros for encoder_input_data,decoder_input_data and decoder_output_data.\n",
        "       3. One hot encoding of encoder_input_data,decoder_input_data and decoder_output_data.\n",
        "       4. Decoder_output_data would be one time step ahead of decoder_input_data which is known as teacher enforcing.\n",
        "       5. Return encoder_input_data,decoder_output_data,decoder_input_data.\n",
        "    \"\"\"\n",
        "    \n",
        "   \n",
        "    #intialising np.array with zeros for one hot encoding.\n",
        "    encoder_input_data = np.zeros((len(preprocessed_data),170,len(input_token_index)), dtype=\"int32\")\n",
        "    decoder_input_data = np.zeros((len(preprocessed_data),202,len(output_token_index)), dtype=\"int32\")\n",
        "    decoder_output_data = np.zeros((len(preprocessed_data),202,len(output_token_index)), dtype=\"int32\")\n",
        "    #one hot encoding of encoder input data\n",
        "    for i,input_text in enumerate(list(preprocessed_data['SMS_TEXT'].str.split().values)):\n",
        "        for t,char in enumerate(input_text):\n",
        "            if char in input_token_index:\n",
        "\n",
        "             encoder_input_data[i,t,input_token_index[char]]=1\n",
        "        # encoder_input_data[i,t+1,input_token_index[\" \"]]=1   \n",
        "    #one hot encoding of decoder input data and decoder output data   \n",
        "    for i,output_text in enumerate(list(preprocessed_data['ENGLISH_INPUT'].str.split().values)):\n",
        "        for t,char in enumerate(output_text):\n",
        "            if char in output_token_index:\n",
        "               decoder_input_data[i,t,output_token_index[char]]=1\n",
        "               if t > 0:\n",
        "            # decoder_target_data will be ahead by one timestep\n",
        "            # and will not include the start character.\n",
        "                decoder_output_data[i, t - 1, output_token_index[char]] = 1\n",
        "        # decoder_input_data[i, t + 1 :, output_token_index[\" \"]] = 1\n",
        "        # decoder_output_data[i, t:, output_token_index[\" \"]] = 1   \n",
        "    return encoder_input_data,decoder_input_data,decoder_output_data"
      ],
      "execution_count": null,
      "outputs": []
    },
    {
      "cell_type": "code",
      "metadata": {
        "colab": {
          "base_uri": "https://localhost:8080/"
        },
        "id": "v2rJklFADqtP",
        "outputId": "50bf3a58-33a1-4ea8-ddf7-96a899ef549f"
      },
      "source": [
        "\n",
        "#for trained data\n",
        "input_token_ind,output_token_ind,enc_input_data,dec_input_data,dec_output_data=preparing_data_for_model(train_data)\n",
        "#for validation data\n",
        "cv_enc_input_data,cv_dec_input_data,cv_dec_output_data=preparing_val_data_for_model(test_data,input_token_ind,output_token_ind)"
      ],
      "execution_count": null,
      "outputs": [
        {
          "output_type": "stream",
          "text": [
            "6948\n",
            "5272\n"
          ],
          "name": "stdout"
        }
      ]
    },
    {
      "cell_type": "code",
      "metadata": {
        "colab": {
          "base_uri": "https://localhost:8080/"
        },
        "id": "KqhEmyVvKwQ7",
        "outputId": "478e4eef-6ba5-4919-ec58-037fb02f3875"
      },
      "source": [
        "output_token_ind['\\t']"
      ],
      "execution_count": null,
      "outputs": [
        {
          "output_type": "execute_result",
          "data": {
            "text/plain": [
              "5271"
            ]
          },
          "metadata": {
            "tags": []
          },
          "execution_count": 26
        }
      ]
    },
    {
      "cell_type": "markdown",
      "metadata": {
        "id": "Y8OQ65HozJQm"
      },
      "source": [
        "# GRU"
      ]
    },
    {
      "cell_type": "code",
      "metadata": {
        "colab": {
          "base_uri": "https://localhost:8080/"
        },
        "id": "O_jBPNh8zJQm",
        "outputId": "8e5a6fc7-6eb8-4bbe-838b-33bd76de11d5"
      },
      "source": [
        "\n",
        "tf.keras.backend.clear_session()\n",
        "enc_inputs = tf.keras.Input(shape=(None,len(input_token_ind)))\n",
        "enc = tf.keras.layers.GRU(100, return_state=True)\n",
        "enc_outputs,state_h= enc(enc_inputs)\n",
        "#storing encoder states\n",
        "enc_states = state_h\n",
        " \n",
        "# Set up the decoder, using encoder_states as initial state.\n",
        "dec_inputs = tf.keras.Input(shape=(None, len(output_token_ind)))\n",
        " \n",
        "\n",
        "dec_gru = tf.keras.layers.GRU(100, return_sequences=True, return_state=True)\n",
        "dec_outputs, _ = dec_gru(dec_inputs, initial_state=enc_states)\n",
        "dec_dense = tf.keras.layers.Dense(len(output_token_ind), activation=\"softmax\")\n",
        "dec_outputs = dec_dense(dec_outputs)\n",
        " \n",
        "# Define the model\n",
        "model = tf.keras.Model([enc_inputs, dec_inputs], dec_outputs)\n",
        "model.summary()"
      ],
      "execution_count": null,
      "outputs": [
        {
          "output_type": "stream",
          "text": [
            "Model: \"model\"\n",
            "__________________________________________________________________________________________________\n",
            "Layer (type)                    Output Shape         Param #     Connected to                     \n",
            "==================================================================================================\n",
            "input_1 (InputLayer)            [(None, None, 6948)] 0                                            \n",
            "__________________________________________________________________________________________________\n",
            "input_2 (InputLayer)            [(None, None, 5272)] 0                                            \n",
            "__________________________________________________________________________________________________\n",
            "gru (GRU)                       [(None, 100), (None, 2115000     input_1[0][0]                    \n",
            "__________________________________________________________________________________________________\n",
            "gru_1 (GRU)                     [(None, None, 100),  1612200     input_2[0][0]                    \n",
            "                                                                 gru[0][1]                        \n",
            "__________________________________________________________________________________________________\n",
            "dense (Dense)                   (None, None, 5272)   532472      gru_1[0][0]                      \n",
            "==================================================================================================\n",
            "Total params: 4,259,672\n",
            "Trainable params: 4,259,672\n",
            "Non-trainable params: 0\n",
            "__________________________________________________________________________________________________\n"
          ],
          "name": "stdout"
        }
      ]
    },
    {
      "cell_type": "code",
      "metadata": {
        "colab": {
          "base_uri": "https://localhost:8080/",
          "height": 422
        },
        "id": "RK27cNUDzJQm",
        "outputId": "990cdb18-6a78-4129-aaf8-f76544800346"
      },
      "source": [
        "tf.keras.utils.plot_model(model, show_shapes=True)\n"
      ],
      "execution_count": null,
      "outputs": [
        {
          "output_type": "execute_result",
          "data": {
            "image/png": "[encoded data removed]",
            "text/plain": [
              "<IPython.core.display.Image object>"
            ]
          },
          "metadata": {
            "tags": []
          },
          "execution_count": 28
        }
      ]
    },
    {
      "cell_type": "code",
      "metadata": {
        "id": "kmjF11J0zJQn"
      },
      "source": [
        "rlp = tf.keras.callbacks.ReduceLROnPlateau(\n",
        "    monitor='val_loss', factor=0.1, patience=5, verbose=10,\n",
        "    mode='auto', min_delta=0.00001, cooldown=0, min_lr=0.0001,\n",
        ")"
      ],
      "execution_count": null,
      "outputs": []
    },
    {
      "cell_type": "code",
      "metadata": {
        "id": "7xX9uVRfzJQn"
      },
      "source": [
        "# optimizer = tf.keras.optimizers.Adam(0.0001)\n",
        "# model.compile(optimizer=optimizer, loss='categorical_crossentropy')\n",
        "# model.fit([enc_input_data, dec_input_data],dec_output_data,validation_data=([cv_enc_input_data,cv_dec_input_data],cv_dec_output_data),batch_size=64,epochs=500,callbacks=[rlp])"
      ],
      "execution_count": null,
      "outputs": []
    },
    {
      "cell_type": "code",
      "metadata": {
        "colab": {
          "base_uri": "https://localhost:8080/"
        },
        "id": "mQS7Uj1izJQn",
        "outputId": "19983d5a-d605-4bc0-de4a-688b1349d686"
      },
      "source": [
        "optimizer = tf.keras.optimizers.Adam(0.1)\n",
        "model.compile(optimizer=optimizer, loss='categorical_crossentropy')\n",
        "model.fit([enc_input_data, dec_input_data],dec_output_data,validation_data=([cv_enc_input_data,cv_dec_input_data],cv_dec_output_data),batch_size=64,epochs=100,callbacks=[rlp])"
      ],
      "execution_count": null,
      "outputs": [
        {
          "output_type": "stream",
          "text": [
            "Epoch 1/100\n",
            "31/31 [==============================] - 10s 103ms/step - loss: 2.8277 - val_loss: 0.4297\n",
            "Epoch 2/100\n",
            "31/31 [==============================] - 2s 72ms/step - loss: 2.6245 - val_loss: 0.4075\n",
            "Epoch 3/100\n",
            "31/31 [==============================] - 2s 73ms/step - loss: 2.5019 - val_loss: 0.3992\n",
            "Epoch 4/100\n",
            "31/31 [==============================] - 2s 73ms/step - loss: 2.4755 - val_loss: 0.4149\n",
            "Epoch 5/100\n",
            "31/31 [==============================] - 2s 71ms/step - loss: 2.4640 - val_loss: 0.4305\n",
            "Epoch 6/100\n",
            "31/31 [==============================] - 2s 73ms/step - loss: 2.4906 - val_loss: 0.4189\n",
            "Epoch 7/100\n",
            "31/31 [==============================] - 2s 71ms/step - loss: 2.5389 - val_loss: 0.4347\n",
            "Epoch 8/100\n",
            "31/31 [==============================] - 2s 72ms/step - loss: 2.6179 - val_loss: 0.4759\n",
            "\n",
            "Epoch 00008: ReduceLROnPlateau reducing learning rate to 0.010000000149011612.\n",
            "Epoch 9/100\n",
            "31/31 [==============================] - 2s 72ms/step - loss: 2.3091 - val_loss: 0.3834\n",
            "Epoch 10/100\n",
            "31/31 [==============================] - 2s 72ms/step - loss: 2.0422 - val_loss: 0.3593\n",
            "Epoch 11/100\n",
            "31/31 [==============================] - 2s 73ms/step - loss: 2.0390 - val_loss: 0.3653\n",
            "Epoch 12/100\n",
            "31/31 [==============================] - 2s 72ms/step - loss: 2.0569 - val_loss: 0.3719\n",
            "Epoch 13/100\n",
            "31/31 [==============================] - 2s 73ms/step - loss: 2.0702 - val_loss: 0.3674\n",
            "Epoch 14/100\n",
            "31/31 [==============================] - 2s 73ms/step - loss: 2.0416 - val_loss: 0.3684\n",
            "Epoch 15/100\n",
            "31/31 [==============================] - 2s 71ms/step - loss: 2.0140 - val_loss: 0.3653\n",
            "\n",
            "Epoch 00015: ReduceLROnPlateau reducing learning rate to 0.0009999999776482583.\n",
            "Epoch 16/100\n",
            "31/31 [==============================] - 2s 73ms/step - loss: 1.9836 - val_loss: 0.3629\n",
            "Epoch 17/100\n",
            "31/31 [==============================] - 2s 74ms/step - loss: 1.9728 - val_loss: 0.3626\n",
            "Epoch 18/100\n",
            "31/31 [==============================] - 2s 72ms/step - loss: 1.9686 - val_loss: 0.3619\n",
            "Epoch 19/100\n",
            "31/31 [==============================] - 2s 71ms/step - loss: 1.9658 - val_loss: 0.3619\n",
            "Epoch 20/100\n",
            "31/31 [==============================] - 2s 72ms/step - loss: 1.9637 - val_loss: 0.3623\n",
            "\n",
            "Epoch 00020: ReduceLROnPlateau reducing learning rate to 0.0001.\n",
            "Epoch 21/100\n",
            "31/31 [==============================] - 2s 71ms/step - loss: 1.9557 - val_loss: 0.3622\n",
            "Epoch 22/100\n",
            "31/31 [==============================] - 2s 72ms/step - loss: 1.9550 - val_loss: 0.3621\n",
            "Epoch 23/100\n",
            "31/31 [==============================] - 2s 72ms/step - loss: 1.9544 - val_loss: 0.3620\n",
            "Epoch 24/100\n",
            "31/31 [==============================] - 2s 71ms/step - loss: 1.9540 - val_loss: 0.3619\n",
            "Epoch 25/100\n",
            "31/31 [==============================] - 2s 72ms/step - loss: 1.9537 - val_loss: 0.3619\n",
            "Epoch 26/100\n",
            "31/31 [==============================] - 2s 72ms/step - loss: 1.9536 - val_loss: 0.3618\n",
            "Epoch 27/100\n",
            "31/31 [==============================] - 2s 73ms/step - loss: 1.9531 - val_loss: 0.3617\n",
            "Epoch 28/100\n",
            "31/31 [==============================] - 2s 73ms/step - loss: 1.9528 - val_loss: 0.3616\n",
            "Epoch 29/100\n",
            "31/31 [==============================] - 2s 71ms/step - loss: 1.9523 - val_loss: 0.3617\n",
            "Epoch 30/100\n",
            "31/31 [==============================] - 2s 73ms/step - loss: 1.9520 - val_loss: 0.3615\n",
            "Epoch 31/100\n",
            "31/31 [==============================] - 2s 73ms/step - loss: 1.9516 - val_loss: 0.3615\n",
            "Epoch 32/100\n",
            "31/31 [==============================] - 2s 72ms/step - loss: 1.9513 - val_loss: 0.3614\n",
            "Epoch 33/100\n",
            "31/31 [==============================] - 2s 73ms/step - loss: 1.9509 - val_loss: 0.3614\n",
            "Epoch 34/100\n",
            "31/31 [==============================] - 2s 72ms/step - loss: 1.9506 - val_loss: 0.3613\n",
            "Epoch 35/100\n",
            "31/31 [==============================] - 2s 72ms/step - loss: 1.9502 - val_loss: 0.3612\n",
            "Epoch 36/100\n",
            "31/31 [==============================] - 2s 71ms/step - loss: 1.9499 - val_loss: 0.3612\n",
            "Epoch 37/100\n",
            "31/31 [==============================] - 2s 72ms/step - loss: 1.9496 - val_loss: 0.3611\n",
            "Epoch 38/100\n",
            "31/31 [==============================] - 2s 72ms/step - loss: 1.9492 - val_loss: 0.3610\n",
            "Epoch 39/100\n",
            "31/31 [==============================] - 2s 71ms/step - loss: 1.9488 - val_loss: 0.3609\n",
            "Epoch 40/100\n",
            "31/31 [==============================] - 2s 72ms/step - loss: 1.9485 - val_loss: 0.3608\n",
            "Epoch 41/100\n",
            "31/31 [==============================] - 2s 72ms/step - loss: 1.9484 - val_loss: 0.3607\n",
            "Epoch 42/100\n",
            "31/31 [==============================] - 2s 71ms/step - loss: 1.9478 - val_loss: 0.3608\n",
            "Epoch 43/100\n",
            "31/31 [==============================] - 2s 73ms/step - loss: 1.9477 - val_loss: 0.3608\n",
            "Epoch 44/100\n",
            "31/31 [==============================] - 2s 72ms/step - loss: 1.9472 - val_loss: 0.3608\n",
            "Epoch 45/100\n",
            "31/31 [==============================] - 2s 73ms/step - loss: 1.9469 - val_loss: 0.3608\n",
            "Epoch 46/100\n",
            "31/31 [==============================] - 2s 72ms/step - loss: 1.9465 - val_loss: 0.3607\n",
            "Epoch 47/100\n",
            "31/31 [==============================] - 2s 72ms/step - loss: 1.9463 - val_loss: 0.3608\n",
            "Epoch 48/100\n",
            "31/31 [==============================] - 2s 73ms/step - loss: 1.9457 - val_loss: 0.3608\n",
            "Epoch 49/100\n",
            "31/31 [==============================] - 2s 72ms/step - loss: 1.9453 - val_loss: 0.3609\n",
            "Epoch 50/100\n",
            "31/31 [==============================] - 2s 73ms/step - loss: 1.9451 - val_loss: 0.3610\n",
            "Epoch 51/100\n",
            "31/31 [==============================] - 2s 71ms/step - loss: 1.9448 - val_loss: 0.3611\n",
            "Epoch 52/100\n",
            "31/31 [==============================] - 2s 71ms/step - loss: 1.9445 - val_loss: 0.3611\n",
            "Epoch 53/100\n",
            "31/31 [==============================] - 2s 71ms/step - loss: 1.9440 - val_loss: 0.3612\n",
            "Epoch 54/100\n",
            "31/31 [==============================] - 2s 72ms/step - loss: 1.9436 - val_loss: 0.3611\n",
            "Epoch 55/100\n",
            "31/31 [==============================] - 2s 71ms/step - loss: 1.9432 - val_loss: 0.3612\n",
            "Epoch 56/100\n",
            "31/31 [==============================] - 2s 72ms/step - loss: 1.9430 - val_loss: 0.3612\n",
            "Epoch 57/100\n",
            "31/31 [==============================] - 2s 72ms/step - loss: 1.9427 - val_loss: 0.3614\n",
            "Epoch 58/100\n",
            "31/31 [==============================] - 2s 71ms/step - loss: 1.9421 - val_loss: 0.3614\n",
            "Epoch 59/100\n",
            "31/31 [==============================] - 2s 73ms/step - loss: 1.9420 - val_loss: 0.3614\n",
            "Epoch 60/100\n",
            "31/31 [==============================] - 2s 71ms/step - loss: 1.9417 - val_loss: 0.3614\n",
            "Epoch 61/100\n",
            "31/31 [==============================] - 2s 73ms/step - loss: 1.9426 - val_loss: 0.3641\n",
            "Epoch 62/100\n",
            "31/31 [==============================] - 2s 72ms/step - loss: 1.9429 - val_loss: 0.3640\n",
            "Epoch 63/100\n",
            "31/31 [==============================] - 2s 71ms/step - loss: 1.9421 - val_loss: 0.3642\n",
            "Epoch 64/100\n",
            "31/31 [==============================] - 2s 72ms/step - loss: 1.9414 - val_loss: 0.3642\n",
            "Epoch 65/100\n",
            "31/31 [==============================] - 2s 72ms/step - loss: 1.9407 - val_loss: 0.3641\n",
            "Epoch 66/100\n",
            "31/31 [==============================] - 2s 72ms/step - loss: 1.9403 - val_loss: 0.3644\n",
            "Epoch 67/100\n",
            "31/31 [==============================] - 2s 73ms/step - loss: 1.9401 - val_loss: 0.3647\n",
            "Epoch 68/100\n",
            "31/31 [==============================] - 2s 72ms/step - loss: 1.9396 - val_loss: 0.3647\n",
            "Epoch 69/100\n",
            "31/31 [==============================] - 2s 72ms/step - loss: 1.9392 - val_loss: 0.3646\n",
            "Epoch 70/100\n",
            "31/31 [==============================] - 2s 73ms/step - loss: 1.9388 - val_loss: 0.3646\n",
            "Epoch 71/100\n",
            "31/31 [==============================] - 2s 73ms/step - loss: 1.9385 - val_loss: 0.3646\n",
            "Epoch 72/100\n",
            "31/31 [==============================] - 2s 71ms/step - loss: 1.9379 - val_loss: 0.3645\n",
            "Epoch 73/100\n",
            "31/31 [==============================] - 2s 72ms/step - loss: 1.9375 - val_loss: 0.3644\n",
            "Epoch 74/100\n",
            "31/31 [==============================] - 2s 72ms/step - loss: 1.9373 - val_loss: 0.3644\n",
            "Epoch 75/100\n",
            "31/31 [==============================] - 2s 72ms/step - loss: 1.9368 - val_loss: 0.3643\n",
            "Epoch 76/100\n",
            "31/31 [==============================] - 2s 72ms/step - loss: 1.9366 - val_loss: 0.3643\n",
            "Epoch 77/100\n",
            "31/31 [==============================] - 2s 71ms/step - loss: 1.9365 - val_loss: 0.3643\n",
            "Epoch 78/100\n",
            "31/31 [==============================] - 2s 71ms/step - loss: 1.9362 - val_loss: 0.3642\n",
            "Epoch 79/100\n",
            "31/31 [==============================] - 2s 72ms/step - loss: 1.9356 - val_loss: 0.3641\n",
            "Epoch 80/100\n",
            "31/31 [==============================] - 2s 73ms/step - loss: 1.9353 - val_loss: 0.3642\n",
            "Epoch 81/100\n",
            "31/31 [==============================] - 2s 73ms/step - loss: 1.9349 - val_loss: 0.3640\n",
            "Epoch 82/100\n",
            "31/31 [==============================] - 2s 72ms/step - loss: 1.9345 - val_loss: 0.3640\n",
            "Epoch 83/100\n",
            "31/31 [==============================] - 2s 74ms/step - loss: 1.9342 - val_loss: 0.3640\n",
            "Epoch 84/100\n",
            "31/31 [==============================] - 2s 73ms/step - loss: 1.9339 - val_loss: 0.3636\n",
            "Epoch 85/100\n",
            "31/31 [==============================] - 2s 73ms/step - loss: 1.9336 - val_loss: 0.3635\n",
            "Epoch 86/100\n",
            "31/31 [==============================] - 2s 73ms/step - loss: 1.9330 - val_loss: 0.3630\n",
            "Epoch 87/100\n",
            "31/31 [==============================] - 2s 72ms/step - loss: 1.9328 - val_loss: 0.3632\n",
            "Epoch 88/100\n",
            "31/31 [==============================] - 2s 73ms/step - loss: 1.9325 - val_loss: 0.3631\n",
            "Epoch 89/100\n",
            "31/31 [==============================] - 2s 73ms/step - loss: 1.9321 - val_loss: 0.3636\n",
            "Epoch 90/100\n",
            "31/31 [==============================] - 2s 73ms/step - loss: 1.9317 - val_loss: 0.3636\n",
            "Epoch 91/100\n",
            "31/31 [==============================] - 2s 72ms/step - loss: 1.9314 - val_loss: 0.3636\n",
            "Epoch 92/100\n",
            "31/31 [==============================] - 2s 72ms/step - loss: 1.9310 - val_loss: 0.3635\n",
            "Epoch 93/100\n",
            "31/31 [==============================] - 2s 73ms/step - loss: 1.9310 - val_loss: 0.3635\n",
            "Epoch 94/100\n",
            "31/31 [==============================] - 2s 73ms/step - loss: 1.9305 - val_loss: 0.3634\n",
            "Epoch 95/100\n",
            "31/31 [==============================] - 2s 73ms/step - loss: 1.9303 - val_loss: 0.3633\n",
            "Epoch 96/100\n",
            "31/31 [==============================] - 2s 72ms/step - loss: 1.9299 - val_loss: 0.3633\n",
            "Epoch 97/100\n",
            "31/31 [==============================] - 2s 71ms/step - loss: 1.9295 - val_loss: 0.3633\n",
            "Epoch 98/100\n",
            "31/31 [==============================] - 2s 73ms/step - loss: 1.9290 - val_loss: 0.3632\n",
            "Epoch 99/100\n",
            "31/31 [==============================] - 2s 72ms/step - loss: 1.9284 - val_loss: 0.3631\n",
            "Epoch 100/100\n",
            "31/31 [==============================] - 2s 72ms/step - loss: 1.9283 - val_loss: 0.3631\n"
          ],
          "name": "stdout"
        },
        {
          "output_type": "execute_result",
          "data": {
            "text/plain": [
              "<tensorflow.python.keras.callbacks.History at 0x7f9aa95654d0>"
            ]
          },
          "metadata": {
            "tags": []
          },
          "execution_count": 30
        }
      ]
    },
    {
      "cell_type": "code",
      "metadata": {
        "id": "i4AZjx2xzJQo"
      },
      "source": [
        "\n",
        "model.save('/content/drive/MyDrive/Applied Ai Course assignments/Assiginments/CS2/GRU_word_model_v1.h5')"
      ],
      "execution_count": null,
      "outputs": []
    },
    {
      "cell_type": "code",
      "metadata": {
        "id": "yobgOAb5zJQo"
      },
      "source": [
        "\n",
        "model = tf.keras.models.load_model('/content/drive/MyDrive/Applied Ai Course assignments/Assiginments/CS2/GRU_word_model_v1.h5')"
      ],
      "execution_count": null,
      "outputs": []
    },
    {
      "cell_type": "markdown",
      "metadata": {
        "id": "OML0sul2zJQo"
      },
      "source": [
        "Prediction"
      ]
    },
    {
      "cell_type": "code",
      "metadata": {
        "colab": {
          "base_uri": "https://localhost:8080/"
        },
        "id": "oJMvvpO5zJQp",
        "outputId": "322c5edb-856e-4ed9-a35d-bbaa1e52842a"
      },
      "source": [
        "int_2_char_input=dict((i, char) for char, i in input_token_ind.items())\n",
        "int_2_char_output=dict((i,char) for char, i in output_token_ind.items())\n",
        "print(int_2_char_input)\n",
        "print(int_2_char_output)"
      ],
      "execution_count": null,
      "outputs": [
        {
          "output_type": "stream",
          "text": [
            "{0: '!', 1: '!1', 2: '\"chop\"', 3: '\"leafcutter', 4: '\"lover\"', 5: '#02-34', 6: '#12-517.', 7: '$..', 8: '$15', 9: '$225', 10: '$24', 11: '$30', 12: '$30K', 13: '$375', 14: '$4000', 15: '$45', 16: '$5', 17: '$600', 18: '$600.', 19: '$719...', 20: '$78,', 21: '$800', 22: '&', 23: \"'MORROW.\", 24: \"'bout\", 25: \"'calrie'\", 26: \"'okie'\", 27: \"'rents\", 28: \"'slim'..\", 29: \"'ve\", 30: \"'yo\", 31: '(.', 32: '(at', 33: '(sent', 34: '*hugz*hugz*', 35: '+', 36: '+65', 37: '+6590957823', 38: '+6596400001.', 39: ',', 40: ',reached', 41: '-', 42: '-8', 43: '-big', 44: '-book?', 45: '-hugs-', 46: '-if', 47: '-short', 48: '.', 49: '..', 50: '...', 51: '.....', 52: '......', 53: '...But', 54: '...Haha,', 55: '..Hotmail...Hmmm', 56: '016', 57: '016-3785738.', 58: '0164330931', 59: '0165460953', 60: '0165460953.', 61: '0166305681', 62: '0168596707', 63: '019870491', 64: '0845', 65: '1', 66: '1!', 67: '1-15pm', 68: '1-2.', 69: '1.', 70: '1...', 71: '1.30pm', 72: '10', 73: '10%', 74: '10.', 75: '100%', 76: '1015', 77: '103', 78: '1030', 79: '10?', 80: '10am', 81: '10yrs', 82: '11', 83: '11...', 84: '1102,', 85: '11am', 86: '11pm', 87: '11th', 88: '12', 89: '12,000pes,', 90: '12..', 91: '12...', 92: '1200', 93: '1215', 94: '1215...', 95: '1230?', 96: '1245', 97: '1245...', 98: '128mb,', 99: '12?', 100: '12bucks.coz', 101: '12pm.in', 102: '13', 103: '130..', 104: '130...', 105: '130pm', 106: '132', 107: '1344', 108: '135.', 109: '14...', 110: '1400.', 111: '142mb.', 112: '15', 113: '15.', 114: '153,i', 115: '1627', 116: '16pp', 117: '17/5', 118: '1700', 119: '1730', 120: '18', 121: '180', 122: '1800-4822800', 123: '18liaos', 124: '1?', 125: '1IM', 126: '1am.', 127: '1day', 128: '1hr', 129: '1na', 130: '1pm', 131: '1st', 132: '1st.', 133: '1st...', 134: '1st...so', 135: '1yr', 136: '2', 137: '2!', 138: '2.', 139: '2...', 140: '2.40', 141: '20', 142: '20%', 143: '200.', 144: '21st', 145: '22.', 146: '22.my', 147: '22.wanna', 148: '221', 149: '23', 150: '230', 151: '23F.', 152: '23f', 153: '24', 154: '24..Get', 155: '240', 156: '240.', 157: '245', 158: '245.', 159: '24th', 160: '24th?', 161: '25', 162: '25...', 163: '25bucks?I', 164: '25ch', 165: '26', 166: '26-27', 167: '2650', 168: '26th', 169: '27', 170: '28', 171: '29.', 172: '295', 173: '2:30pm.', 174: '2:45pm', 175: '2?', 176: '2B', 177: '2DO', 178: '2MORO', 179: '2MORRO', 180: '2MRW', 181: '2NITE', 182: '2NITE-TELL', 183: '2U', 184: '2am.', 185: '2day,', 186: '2gether..', 187: '2geva,', 188: '2made', 189: '2morrow', 190: '2mths', 191: '2nd', 192: '2nd,hall', 193: '2pm', 194: '2pm.', 195: '2pm..', 196: '2pm?', 197: '2sensitive', 198: '2spore!', 199: '2take', 200: '3', 201: '3!', 202: '3,', 203: '3.5', 204: '30', 205: '30...', 206: '30/4.', 207: '300', 208: '32', 209: '32k.4', 210: '33', 211: '330', 212: '330...', 213: '35', 214: '35...', 215: '37', 216: '38.Ü', 217: '3:20', 218: '3pm', 219: '4', 220: '4.', 221: '4...', 222: '4.47per', 223: '415...', 224: '42', 225: '440', 226: '440...Haha,', 227: '450-470.', 228: '4?', 229: '4WARD', 230: '4e', 231: '4eva', 232: '4gt', 233: '4lotsa', 234: '4mths', 235: '4physiotherapy...so', 236: '4rm', 237: '4th', 238: '4ü...', 239: '5', 240: '5.50-7.50', 241: \"5.I'm\", 242: '50%', 243: '530pm', 244: '5419814', 245: '545', 246: '58...', 247: '5plus', 248: '5pm', 249: '5th', 250: '6', 251: '6...', 252: '60', 253: '600', 254: '6006', 255: '615', 256: '630.', 257: '630...', 258: '630pm...', 259: '63366822', 260: '63383526.', 261: '64mb,', 262: '6598941248', 263: '6PM', 264: '6mth', 265: '6pm', 266: '6pm?', 267: '6points', 268: '7', 269: '7.30', 270: '7.30,', 271: '715...', 272: '7250', 273: '730', 274: '7jun', 275: '7n8jun', 276: '7plus', 277: '7pm', 278: '7th', 279: '8', 280: '8.', 281: '8...', 282: '8.40pm', 283: '8.45pm,', 284: '80', 285: '830...', 286: '8310.', 287: '8332', 288: '8man', 289: '8th', 290: '9', 291: '9-30PM-Behind', 292: '90853276?', 293: '91073084.', 294: '93466348', 295: '93517902', 296: '93864500', 297: '94', 298: '96473920.', 299: '96537803', 300: '96792371.', 301: '96821456', 302: '97615390', 303: '97856124', 304: '97965247', 305: '99853267', 306: '99876452.', 307: '9?', 308: '9am', 309: ':(', 310: ':(i', 311: ':)', 312: ':)yesterday', 313: ':-', 314: ':-p', 315: ':>', 316: ':p', 317: ';)', 318: ';>', 319: ';D', 320: ';abel,u', 321: ';p', 322: '<:', 323: '=(', 324: '=)', 325: '=5', 326: '=p', 327: '>', 328: '>im', 329: '?', 330: '@', 331: '@@,', 332: '@S.O.S....', 333: 'A', 334: 'ACTUALLY', 335: 'AD', 336: 'AFTER', 337: 'AGAIN', 338: 'AGE', 339: 'AGNES.', 340: 'AGO.CU', 341: 'ALL', 342: 'ALRITE', 343: 'AM!?!', 344: 'AN', 345: 'AND', 346: 'ANGEL', 347: 'ANNIE.', 348: 'ANY', 349: 'APRIL.', 350: 'ARE', 351: 'AROUND!', 352: 'AS', 353: 'AT', 354: 'AVA', 355: 'Act', 356: 'Actually', 357: 'Add', 358: 'Aft', 359: 'After', 360: 'Again.', 361: 'Age?', 362: 'Ah', 363: 'Ah..', 364: 'Ah...', 365: 'Ahhh', 366: 'Ahhh...', 367: 'Ahhhh......', 368: 'Aiya,', 369: 'Aiya...', 370: 'Aiyah', 371: 'Aiyah,', 372: 'Aiyah...', 373: 'Aiyo', 374: 'Aiyo,', 375: 'Aiyo...', 376: 'Alert', 377: 'All', 378: 'Alone?', 379: 'Already', 380: 'Always', 381: 'Am', 382: 'Amk?', 383: 'And', 384: 'Angel', 385: 'Angel:', 386: 'Angle', 387: 'Another', 388: 'Any', 389: 'Anybody', 390: 'Anyone', 391: 'Anythin...', 392: 'Anything', 393: 'Anything.', 394: 'Anytime.', 395: 'Anywae', 396: 'Anyway', 397: 'Anyway,', 398: 'Anywhere', 399: 'Apr.', 400: 'Ard', 401: 'Are', 402: 'Arghh...', 403: 'As', 404: 'Ask', 405: 'Asleep', 406: 'At', 407: 'Aug.', 408: 'Ay', 409: 'B', 410: 'BABE!', 411: 'BABE,', 412: 'BABE.SOZ', 413: 'BABY', 414: 'BACK', 415: 'BAK', 416: 'BAK!', 417: 'BARMED?', 418: 'BATH.', 419: 'BEAUTIFUL', 420: 'BETTER', 421: 'BIRTHDAY', 422: 'BOEZ', 423: 'BOEZ,DREDZ,MOSES', 424: 'BOO', 425: 'BORED!', 426: 'BORN.PLEASE', 427: 'BOUT!)', 428: 'BOY', 429: 'BOYFRIEND.', 430: 'BRING', 431: 'BRISTOL', 432: 'BUS', 433: 'BUT', 434: 'Baby', 435: 'Bad', 436: 'Be', 437: 'Beach', 438: 'Because', 439: 'Bedok', 440: 'Been', 441: 'Ben', 442: 'Better', 443: 'Bill', 444: 'Bishan', 445: 'Blacko', 446: 'Bless', 447: 'Blk', 448: 'Block', 449: 'Blue', 450: 'Boez', 451: 'Boon', 452: 'Both', 453: 'Both.', 454: 'Bought', 455: 'Boy', 456: 'Bring', 457: 'Bringing', 458: 'Bt', 459: 'Btw', 460: 'Btw,r', 461: 'Bugis', 462: 'Bungalow', 463: 'But', 464: 'Buy', 465: 'By', 466: 'C', 467: 'C!', 468: 'C-IN', 469: 'CAKE', 470: 'CALL', 471: 'CALL.SHALL', 472: 'CALLED', 473: 'CALLIN', 474: 'CALLS,U', 475: 'CAME!', 476: 'CAN', 477: 'CARE', 478: 'CAUSE', 479: 'CD', 480: 'CD.PLEASE', 481: 'CDD', 482: 'CHARGE', 483: 'CHAT', 484: 'CHAT?', 485: 'CHECKIN', 486: 'CHEERS', 487: 'CHRIST', 488: 'CLIPS?', 489: 'COLLEGE', 490: 'COME', 491: 'COMIN', 492: 'COMMON', 493: 'COOL...', 494: 'COUNTIN', 495: 'CREDEIT', 496: 'CRISIS!', 497: 'CULDNT', 498: 'Call', 499: 'Called', 500: 'Came', 501: 'Can', 502: \"Can't\", 503: 'Can?', 504: 'Cannot', 505: 'Cant', 506: 'Care!', 507: 'Catch', 508: 'Celine', 509: 'Centre', 510: 'Cheap', 511: 'Check', 512: 'Cheng', 513: 'Chi', 514: \"ChiLDrEN's\", 515: 'Chinese', 516: 'Chow.', 517: 'Cine', 518: 'Close', 519: 'Club', 520: 'Coffee', 521: 'Come', 522: 'Comin', 523: 'Coming', 524: 'Concentrate', 525: 'Congrats', 526: 'Congrats.', 527: 'Contraction', 528: 'Cool', 529: 'Corinna', 530: 'Corp', 531: 'Cos', 532: 'Could', 533: \"Couldn't\", 534: 'Coz', 535: 'Crazy', 536: 'Crazy...', 537: 'Crown', 538: 'Cuz', 539: 'Cya', 540: 'Cya!', 541: 'Cya...', 542: 'Cöz', 543: 'Cøz', 544: 'D', 545: 'DA', 546: 'DARLIN', 547: 'DAS', 548: 'DAT', 549: 'DAYS', 550: 'DEL', 551: 'DEN', 552: 'DETAILS', 553: 'DID', 554: \"DIDN'T\", 555: 'DISCOUNT!SHIT', 556: 'DO', 557: 'DOES', 558: 'DOIN', 559: 'DOIN?', 560: 'DOING', 561: 'DONT', 562: 'DRINK', 563: 'DRUNK!', 564: 'DUMB?', 565: 'Da', 566: 'Daddy', 567: 'Daddy...', 568: 'Damn', 569: 'Dan', 570: 'Dat', 571: 'Day.', 572: 'Day...', 573: 'DeAr', 574: 'Dear....', 575: 'Den', 576: 'Depend', 577: 'Depends', 578: 'Details', 579: 'Did', 580: 'Didnt', 581: 'Die', 582: 'Din', 583: 'Ding', 584: 'Dinner', 585: 'Dinner,', 586: 'Divert', 587: 'Do', 588: 'Does', 589: 'Don', 590: \"Don't\", 591: 'Dont', 592: 'Double', 593: 'Down', 594: 'Dreams!', 595: 'Driving', 596: 'Dun', 597: 'Dunno', 598: 'Duno', 599: 'During', 600: 'Dyin--', 601: 'DäE!!', 602: 'E', 603: 'ENJOYIN', 604: 'ENUF', 605: 'ER,', 606: 'ES300!', 607: 'EVE', 608: 'EVER', 609: 'EVERY1', 610: 'EVERYTHIN', 611: 'EXPLAIN', 612: 'Early', 613: 'Eatin', 614: 'Eating', 615: 'Eh', 616: 'Eh!U', 617: 'Eh.', 618: 'Eh..', 619: 'Eh...', 620: 'Eh...Can...No', 621: 'Either', 622: 'Elaine', 623: 'Elaine.', 624: 'Eleven.', 625: 'Ellen', 626: 'Email', 627: 'En', 628: 'Enjoy', 629: 'Enjoying', 630: 'Enough', 631: 'Er...', 632: 'Er...Ya...Why', 633: 'Erm', 634: 'Erm..', 635: 'Erm...', 636: 'Erm...I', 637: 'Erm...dun', 638: 'Evenin', 639: 'Every', 640: 'Everybody', 641: 'Everyday', 642: 'Everything...', 643: \"Exactly...How'd\", 644: 'Exercise', 645: 'F', 646: 'FEEL', 647: 'FEW', 648: 'FINANCIAL', 649: 'FON', 650: 'FONE', 651: 'FOR', 652: 'FOUND', 653: 'FREE!Goodiebags!LuckySpin!', 654: 'FRM?', 655: 'FROM', 656: 'FUN', 657: 'Face', 658: 'Faster...', 659: 'Feel', 660: 'Felt', 661: 'Fetch', 662: 'Few', 663: 'File', 664: 'Find', 665: 'Fine.', 666: 'Finish', 667: 'First', 668: 'Fitness', 669: 'Flu...', 670: 'Forget', 671: 'Forgot...', 672: 'Frankly', 673: 'Free', 674: 'Freshman', 675: 'Fri', 676: 'Fri-mon.', 677: 'Friday', 678: 'Friends', 679: 'Frm', 680: 'Frog?', 681: 'From', 682: 'Funky...', 683: 'Funny,', 684: 'Funny.', 685: 'Furthermore,', 686: 'GAIL', 687: 'GAL', 688: 'GAL?', 689: 'GET', 690: 'GETTIN', 691: 'GIRL', 692: 'GIRL.', 693: 'GIRLS', 694: 'GIVE', 695: 'GOIN', 696: 'GOING', 697: 'GONE(U', 698: 'GOOD', 699: 'GOODNITE', 700: 'GOODTIME!OLI', 701: 'GORGEOUS,', 702: 'GOT', 703: 'GOWER', 704: 'GR8', 705: 'GRAN', 706: 'GREAT', 707: 'GUY', 708: 'Gd', 709: 'GeLEk', 710: 'Gee', 711: 'Gee,', 712: 'Gee...', 713: 'Gee...missed', 714: 'Gelek', 715: 'Gem', 716: 'Gen', 717: 'Ger', 718: 'Get', 719: 'Geylang', 720: 'Gil:', 721: 'Girl', 722: 'Girl,', 723: 'Girl?', 724: 'Give', 725: 'Glad', 726: 'Go', 727: 'God', 728: 'Goin', 729: 'Going', 730: 'Gonna', 731: 'Good', 732: 'Goodness...', 733: 'Gosh.', 734: 'Got', 735: 'Goto', 736: 'Grab', 737: 'Great', 738: 'Grounded...', 739: 'Gt', 740: 'Guess', 741: 'Guys', 742: 'H', 743: 'HAD', 744: 'HAI!Nice', 745: 'HAPPY', 746: 'HAS', 747: 'HAV', 748: 'HAVIN', 749: 'HAVING', 750: 'HDB', 751: 'HELLO', 752: 'HELLOGORGEOUS,', 753: 'HEY', 754: 'HI', 755: 'HI,', 756: 'HIYA', 757: 'HKY,', 758: 'HOME.', 759: 'HONI', 760: 'HOPE', 761: 'HOPEU', 762: 'HOSPITAL', 763: 'HOUSE?', 764: 'HOW', 765: 'HOWDY', 766: 'HOWS', 767: 'HP', 768: 'HUG,', 769: 'HUN!', 770: 'HUNNY', 771: 'HUNNY!', 772: 'Ha', 773: 'Ha...', 774: 'HaPpy', 775: 'Had', 776: 'Hafta', 777: 'Hah', 778: 'Hah..', 779: 'Hah?', 780: 'Haha', 781: 'Haha!', 782: 'Haha,', 783: 'Haha-', 784: 'Haha.', 785: 'Haha..', 786: 'Haha...', 787: 'Haha....', 788: 'Haha...4', 789: 'Haha..Cause', 790: 'Haha..Good', 791: 'Haha..Ok..Sure..Hehe..Must', 792: 'Haha.R', 793: 'Hahaha', 794: 'Hai!', 795: 'Hai,zepol!hmm..dum', 796: 'Hai.', 797: 'Hai...', 798: 'Hair', 799: 'Haiyah...', 800: 'Haiyoh', 801: 'Haiyoh.', 802: 'Haiyoh...', 803: 'Haiz', 804: 'Haiz,', 805: 'Haiz..', 806: 'Haiz...', 807: 'Haiz....', 808: 'Half', 809: 'Hallo,', 810: 'Halo', 811: 'Hamster', 812: 'Happy', 813: 'Harlow.', 814: 'Has', 815: 'Hate', 816: 'Have', 817: 'Haven', 818: 'Havent', 819: 'Havin', 820: 'He', 821: \"He's\", 822: 'Heard', 823: 'Hee', 824: 'Hee-', 825: 'Hee...', 826: 'Hee..U', 827: 'Heehee.', 828: 'Heh.', 829: 'HehE', 830: 'Hehe,next', 831: 'Hehe.', 832: 'Hehe..', 833: 'Hehe...', 834: 'Heheh', 835: 'Hello', 836: 'Hello!', 837: 'Hello,', 838: 'Hello..', 839: 'Hello...', 840: 'Hello....', 841: 'Hello....everybody!', 842: 'Hello.Wakey', 843: 'Helo', 844: 'Helo,any1', 845: 'Help', 846: 'Help!', 847: 'Here', 848: 'Hey', 849: 'Hey!', 850: 'Hey,', 851: 'Hey.', 852: 'Hey...', 853: 'Hey....', 854: 'Hey....I', 855: 'Hey...Harry', 856: 'Hi', 857: 'Hi!', 858: 'Hi,', 859: 'Hi,any1', 860: 'Hi,cy.location,age,gender', 861: 'Hi,hw', 862: 'Hi..', 863: 'Hi.......everybody!', 864: 'Hi...Good', 865: 'Hi..any', 866: 'Hi.Is', 867: 'Hiya,', 868: 'Hiya...', 869: 'Hm,', 870: 'Hm.', 871: 'Hm...', 872: 'Hmm', 873: 'Hmm,if', 874: 'Hmm...', 875: 'Hmm.....seems', 876: 'Hmm...Nvm', 877: 'Hmmm', 878: 'Hmmm,', 879: 'Hmmm...', 880: 'Hmmm....', 881: 'Hmmm...i', 882: 'Home', 883: 'Hope', 884: 'How', 885: \"How's\", 886: 'How?', 887: 'Hows', 888: 'Hudson', 889: 'Huh', 890: 'Huh,', 891: 'Huh.', 892: 'Huh...', 893: 'Huh?', 894: 'Hulk', 895: 'Hung', 896: 'Hurry', 897: 'Hurry!', 898: 'Hv', 899: 'Hve', 900: 'Hw', 901: 'Hws', 902: 'HäPpY', 903: 'Hähaa...', 904: 'I', 905: \"I'LL\", 906: \"I'am\", 907: \"I'll\", 908: \"I'm\", 909: \"I've\", 910: 'IC', 911: 'ICEMAN', 912: 'IF', 913: 'IFINK', 914: 'IGNORE', 915: 'IL', 916: 'ILL', 917: 'IM', 918: 'IN', 919: 'INCOMe,', 920: 'INCONVENIENCE', 921: 'INDIANS', 922: 'INFORM', 923: 'INK', 924: 'INNIT', 925: 'INTRO.', 926: 'IS', 927: 'IT', 928: 'IT?T.', 929: 'ITS', 930: 'IVE', 931: 'Ic...', 932: 'Ic...Haiz,nv', 933: 'Icic...', 934: 'If', 935: 'Ill', 936: 'Ilol', 937: 'Im', 938: 'In', 939: 'Inside', 940: 'Intend', 941: 'Intro', 942: 'Is', 943: 'Isnt', 944: 'Issìt?', 945: 'Iszit', 946: 'It', 947: \"It's\", 948: 'Its', 949: 'Itz', 950: 'Ive', 951: 'Izit...', 952: 'Izzit', 953: 'J!', 954: 'J.', 955: 'JADE', 956: 'JAZ', 957: 'JEN', 958: 'JESS', 959: 'JOB', 960: 'JOB?', 961: 'JOMIS.', 962: 'JORDAN,', 963: 'JORDAN?', 964: 'JOY', 965: 'JULY', 966: 'JUST', 967: 'James.', 968: 'James:', 969: 'January', 970: 'Jeff', 971: 'Jennifer', 972: 'Jez', 973: 'Joan', 974: 'Joe..why', 975: 'Joey:', 976: 'Join', 977: 'Joking', 978: 'Jon,', 979: 'Josh', 980: \"Jul'03.\", 981: 'Jun', 982: 'Junction', 983: 'June.', 984: 'Jus', 985: 'Just', 986: 'Juz', 987: 'Jz', 988: 'Jìayin', 989: 'K', 990: 'K...', 991: 'K....', 992: 'K.have', 993: 'K.reen', 994: 'K.wad', 995: 'KATE', 996: 'KEEP', 997: 'KISS', 998: 'KL.', 999: 'KL.U?', 1000: 'KNO', 1001: 'KNOW', 1002: 'Kaiez,', 1003: 'Kaiez...', 1004: 'Kate', 1005: 'Kay...', 1006: 'Kb', 1007: 'Ke', 1008: 'Ken,my', 1009: 'Kick', 1010: \"Kid's\", 1011: 'Kingshead', 1012: 'Kk,', 1013: 'Konichiwa,', 1014: 'Kote', 1015: 'Kwang', 1016: 'L', 1017: 'L8R,JUST', 1018: 'L8R.', 1019: 'LADY', 1020: 'LATE', 1021: 'LATER', 1022: 'LCT', 1023: 'LEAVE', 1024: 'LES', 1025: 'LIFT', 1026: 'LIKE', 1027: 'LOCAL', 1028: 'LONG', 1029: 'LOOK', 1030: 'LOOKIN', 1031: 'LOTS', 1032: 'LOU!', 1033: 'LOVE', 1034: 'LST', 1035: 'LT', 1036: 'LUCY', 1037: 'LUSH!', 1038: 'LUV', 1039: 'Lala', 1040: 'Lancaster,', 1041: 'Lancome:', 1042: 'Lanz', 1043: 'Lanz.', 1044: 'Last', 1045: 'Late', 1046: 'Later', 1047: 'Lay', 1048: 'Lazing', 1049: 'Lea', 1050: 'Leaving', 1051: 'Lecture', 1052: 'Left', 1053: 'Leh...', 1054: 'Leona', 1055: 'Leona:', 1056: 'Let', 1057: 'Lets', 1058: 'Lexus', 1059: 'Li', 1060: 'Library', 1061: 'Life', 1062: 'Like', 1063: 'Little', 1064: 'Lk', 1065: 'Location,age,gender', 1066: 'Login', 1067: 'Lol...', 1068: 'Lolx...Dear', 1069: 'London', 1070: 'Look', 1071: 'Looking', 1072: 'Lots', 1073: 'Loving', 1074: 'Luck.', 1075: 'Lunch', 1076: 'Luv', 1077: 'M', 1078: \"M1's\", 1079: 'MADE', 1080: 'MAN?', 1081: 'MATE', 1082: 'MATTER', 1083: 'MC', 1084: 'ME', 1085: 'ME,', 1086: 'ME.', 1087: 'ME?', 1088: 'MEET', 1089: 'MELNITE', 1090: 'MERINA', 1091: 'MISSIN', 1092: 'MISSY?', 1093: 'MISTAKE.U', 1094: 'MITE', 1095: 'MO..yeP.', 1096: 'MOBILE', 1097: 'MOM', 1098: 'MON.L8RS.', 1099: 'MONKEES', 1100: 'MONKEY', 1101: 'MOST', 1102: 'MR', 1103: 'MSG', 1104: 'MUCH', 1105: 'MUM', 1106: 'MY', 1107: 'Make', 1108: 'Maldives?', 1109: 'Male.', 1110: 'Matthew', 1111: 'Maxwell', 1112: 'Maxy!', 1113: 'May', 1114: 'Mayb', 1115: 'Maybe', 1116: 'Me', 1117: \"Me.....i'm\", 1118: 'Med', 1119: 'Meet', 1120: 'Meeting', 1121: 'Mich...', 1122: 'Mick,', 1123: 'Millian', 1124: 'Mimi40', 1125: 'Mine', 1126: 'Ming', 1127: 'Miss', 1128: 'Missed', 1129: 'Mmm', 1130: 'Mobile.', 1131: 'Moboy!', 1132: 'Moment', 1133: 'Monday', 1134: 'More', 1135: 'Morning', 1136: 'Morning!', 1137: 'Morning...Sailing', 1138: 'Most', 1139: 'Mrt', 1140: 'Msg', 1141: 'Muaks!', 1142: 'Mum', 1143: 'Mummy', 1144: 'Must', 1145: 'Muz', 1146: 'My', 1147: 'N', 1148: 'NEED', 1149: 'NESH', 1150: 'NEVA', 1151: 'NEVER', 1152: 'NEW', 1153: 'NEWQUAY-SEND', 1154: 'NHS', 1155: 'NIC', 1156: 'NICE', 1157: 'NIGHT', 1158: 'NITW', 1159: 'NO', 1160: \"NOEL:I'M\", 1161: 'NONE!NOWHERE', 1162: 'NOT', 1163: 'NOTHING', 1164: 'NOW', 1165: 'NTUC', 1166: 'NUMBER-SO', 1167: 'NUMBER?', 1168: 'NUS', 1169: 'Nah', 1170: 'Nay,', 1171: 'Nd', 1172: 'Near', 1173: 'Need', 1174: 'Needed', 1175: 'Neo', 1176: 'Nesh', 1177: 'Never', 1178: 'New', 1179: 'Neway', 1180: 'Nex2', 1181: 'Next', 1182: 'Nic', 1183: 'Nice', 1184: 'Night', 1185: 'Nite', 1186: 'Nite...', 1187: 'NiteY..', 1188: 'Nitez,', 1189: 'Nitez...', 1190: 'No', 1191: 'No,cos', 1192: 'No,me', 1193: 'No.', 1194: 'No...', 1195: 'NoW', 1196: 'Nokia', 1197: 'Nope', 1198: 'Nope,Nothing', 1199: 'Nope.', 1200: 'Nope...', 1201: 'Nope....', 1202: 'Nope....you', 1203: 'Nope...Wat', 1204: 'Nopez...Nthing', 1205: 'Not', 1206: 'Nothing', 1207: 'Now', 1208: 'Nv', 1209: 'Nvm', 1210: 'Nvr', 1211: 'OF', 1212: 'OFF', 1213: 'OH', 1214: 'OK', 1215: 'OK.', 1216: 'OK?', 1217: 'ON', 1218: 'ONE', 1219: 'ONLY', 1220: 'OR', 1221: 'OTHERWISE', 1222: 'OUT', 1223: 'OYASUMINASAI!', 1224: 'Oei...Faster', 1225: 'Of', 1226: 'OfFicially', 1227: 'Oh', 1228: 'Oh,', 1229: 'Oh.', 1230: 'Oh..', 1231: 'Oh...', 1232: 'Oh...Family', 1233: 'Oh...Ok...Do', 1234: 'Oh...Ok.Gud!thank', 1235: 'Oh...ok', 1236: 'Oic.', 1237: 'Oic...', 1238: 'Oic....', 1239: 'Oic...Ok...Tell', 1240: 'Oie,', 1241: 'Ok', 1242: 'Ok,', 1243: 'Ok,meet', 1244: 'Ok.', 1245: 'Ok...', 1246: 'Ok....', 1247: 'Ok....But', 1248: 'Ok...I', 1249: 'Ok...So', 1250: 'Ok?', 1251: 'Okay', 1252: 'Okay.', 1253: 'Okay...', 1254: 'Okay....', 1255: 'Okay?', 1256: 'Okie', 1257: 'Okie!', 1258: 'Okie,', 1259: 'Okie...', 1260: 'Okie...Or', 1261: 'Okie...Sian', 1262: 'Okie...Where?', 1263: 'On', 1264: 'Once', 1265: 'Oni', 1266: 'Only', 1267: 'Only@Bugis', 1268: 'Oops.', 1269: 'Opps...', 1270: 'Opps..maybe', 1271: 'Or', 1272: 'Orchard', 1273: 'Orhz', 1274: 'Orientatn', 1275: 'Other', 1276: 'Out', 1277: 'Owl', 1278: 'PARENTS', 1279: 'PARTY', 1280: 'PAUL.', 1281: 'PEACH!', 1282: 'PEOPLE', 1283: 'PERIL', 1284: 'PHENOMENON!Without', 1285: 'PHONE', 1286: 'PICK', 1287: 'PLEASE', 1288: 'PLS.', 1289: 'PLSE', 1290: 'POSTCARD', 1291: 'PROPERLY', 1292: 'PUB', 1293: 'Paiseh', 1294: 'Paiseh...', 1295: 'Paiseh....', 1296: 'Paul,', 1297: 'Peace', 1298: 'People', 1299: 'Pete', 1300: 'Pete!', 1301: 'Petey', 1302: \"Petey!noi'm\", 1303: 'Phone', 1304: 'Photo', 1305: 'Pick', 1306: 'Place', 1307: 'Plain', 1308: 'Play', 1309: 'Plenty', 1310: 'Pls', 1311: 'Pls.', 1312: 'Plus', 1313: 'Po', 1314: 'Police', 1315: 'Poor', 1316: 'Prob', 1317: 'Probably', 1318: 'Put', 1319: 'QUEeN...', 1320: 'Queensway?ür', 1321: 'Quickly', 1322: 'Quite', 1323: 'R', 1324: 'RACE?', 1325: 'RANDOM!', 1326: 'RANG', 1327: 'REALLY', 1328: 'REGRET', 1329: 'REMEMBER', 1330: 'REPLY!', 1331: 'REPORT', 1332: 'RIC', 1333: 'RIN', 1334: 'ROLLIN', 1335: 'ROOM', 1336: 'RUDI', 1337: 'RV', 1338: 'Race', 1339: 'Rain,can', 1340: 'Rain,u', 1341: 'Rain,wat', 1342: 'Raining', 1343: 'Ranger,', 1344: 'Reach', 1345: 'Reaching?', 1346: 'Realistic', 1347: 'Really', 1348: 'Really...', 1349: 'Really?', 1350: 'Red', 1351: 'Rem', 1352: 'Remember', 1353: 'Remind', 1354: 'Reminder:', 1355: 'Revise', 1356: 'Right', 1357: 'Right?U', 1358: 'Rin', 1359: 'Roadshow!', 1360: 'Ron,xy,sh,leona,yijue,me', 1361: 'Roy', 1362: 'Ryan', 1363: 'SABAH?', 1364: 'SAFTI', 1365: 'SAM', 1366: 'SARAWAK?', 1367: 'SARS.Action', 1368: 'SAT', 1369: 'SAT?', 1370: 'SAUSAGE?', 1371: 'SAY', 1372: 'SBS', 1373: 'SBS?', 1374: 'SEE', 1375: 'SEEING?', 1376: 'SEEMED', 1377: 'SEEN.', 1378: 'SEN.ANYBODY', 1379: 'SENDS', 1380: 'SHAME', 1381: 'SI', 1382: 'SIM:SOMEBODY', 1383: 'SMS', 1384: 'SMS,', 1385: 'SMS/Global', 1386: 'SMS/MMS', 1387: 'SNORING.THEY', 1388: 'SO', 1389: 'SOMETHIN', 1390: 'SOMETHING', 1391: 'SOON', 1392: 'SORRY', 1393: 'SORRY.', 1394: 'SORTED,BUT', 1395: \"SOUND'S\", 1396: 'SPEAK', 1397: 'SPK', 1398: 'SRS', 1399: 'ST', 1400: 'ST1232', 1401: 'STAR..', 1402: 'STUDENT', 1403: 'STUDY', 1404: 'SUM', 1405: 'SURE', 1406: 'SWAN', 1407: 'SaLL', 1408: 'Sad', 1409: 'Sad...', 1410: 'Said', 1411: 'Sailin', 1412: 'Same', 1413: 'Same.', 1414: 'Sanur', 1415: 'Sardine', 1416: 'Sat', 1417: 'Save', 1418: 'Saved', 1419: 'Say', 1420: 'Scare', 1421: 'Sch', 1422: 'See', 1423: 'Seldom', 1424: 'Sen,', 1425: 'Send', 1426: 'Sentosa', 1427: 'Sez,', 1428: 'Shall', 1429: 'Sharis,tmr', 1430: 'Shd', 1431: 'She', 1432: \"She's\", 1433: 'Sheesh...I', 1434: 'Shld', 1435: 'Short', 1436: 'Should', 1437: 'Shucks...', 1438: 'Shuhui', 1439: 'Shèésh.', 1440: 'Si.como', 1441: 'Sigh', 1442: 'Sigh...', 1443: 'Simon', 1444: 'Since', 1445: 'SingTel', 1446: 'Singapore', 1447: 'Sittin', 1448: 'Slackin', 1449: 'Sleep', 1450: 'Slept', 1451: 'Sms', 1452: 'So', 1453: 'So,', 1454: 'So,you', 1455: 'Sob', 1456: 'Soc...Sch', 1457: 'Some', 1458: 'Soon', 1459: 'Sorrie', 1460: 'Sorry', 1461: 'Sorry..', 1462: 'Sorry...', 1463: 'Sorry...Hehe', 1464: 'Sowie', 1465: 'Spain', 1466: 'Speak', 1467: 'Spinelli', 1468: 'Staff', 1469: 'Star', 1470: 'Stars', 1471: 'Starts', 1472: 'State', 1473: 'Stay', 1474: 'Still', 1475: 'Stop', 1476: 'Study', 1477: 'Studyin?', 1478: 'Sun', 1479: 'Sunday', 1480: 'Sunperks', 1481: 'Suntec.', 1482: 'Sure', 1483: 'Sure.', 1484: 'Sure...', 1485: 'Sux', 1486: 'SwEeT', 1487: 'Sweet', 1488: 'T', 1489: 'TAKE', 1490: 'TALK', 1491: 'TALKIN', 1492: 'TASTS', 1493: 'TELL', 1494: 'TERMINATED.WE', 1495: 'TEX', 1496: 'TEXD', 1497: 'TH', 1498: 'THANKS', 1499: 'THAT', 1500: 'THE', 1501: 'THEN', 1502: 'THERE', 1503: 'THERE.', 1504: 'THIS', 1505: 'TIBS', 1506: 'TIME', 1507: 'TIME.', 1508: 'TIP,WHAT', 1509: 'TO', 1510: 'TOMORROW', 1511: 'TONIGHT?', 1512: 'TOWN.DONT', 1513: 'TXT', 1514: 'Tak', 1515: 'Taka', 1516: 'Take', 1517: 'Taking', 1518: 'Talk', 1519: 'Tat', 1520: 'Tats', 1521: 'Tc', 1522: 'Tdy', 1523: 'Tel', 1524: 'Tell', 1525: 'Temp', 1526: 'Tequila', 1527: 'Thank', 1528: 'Thanks', 1529: 'Thanks!', 1530: 'Thanks.', 1531: 'Thanks...', 1532: 'Thanks..C', 1533: 'Thanx', 1534: 'Thanx.', 1535: 'Thanx...', 1536: 'Thanx.thats', 1537: 'That', 1538: \"That's\", 1539: 'Thats', 1540: 'The', 1541: 'Then', 1542: 'There?', 1543: 'They', 1544: 'Thgt', 1545: 'Think', 1546: 'This', 1547: 'Thk', 1548: 'Thks..', 1549: 'Thkz', 1550: 'Thkz...', 1551: 'Thot', 1552: 'Thought', 1553: 'Thout', 1554: 'Thts', 1555: 'Thurs', 1556: 'Thursday', 1557: 'Thx', 1558: 'Tiffany', 1559: 'Time', 1560: \"Time's\", 1561: 'Tireness', 1562: 'Tis', 1563: 'Tml', 1564: 'Tmr', 1565: 'To', 1566: 'Today', 1567: 'Today?', 1568: 'Tok', 1569: 'Told', 1570: 'Tom', 1571: 'Tomw', 1572: 'Tonight', 1573: 'Tonite', 1574: 'Too', 1575: 'Topshop', 1576: 'Torquay', 1577: 'Town', 1578: 'Tq', 1579: 'True', 1580: 'Try', 1581: 'Trying', 1582: 'Tt', 1583: \"Tt's\", 1584: 'Two', 1585: 'Txt', 1586: 'Typo...', 1587: 'U', 1588: 'U!', 1589: 'U.', 1590: 'U?', 1591: 'U?hmm...', 1592: 'UNI', 1593: 'UP', 1594: 'UR', 1595: 'URE', 1596: 'URSELF', 1597: 'USED', 1598: 'Understand', 1599: 'Unless', 1600: 'Until', 1601: 'Ur', 1602: 'Use', 1603: 'V', 1604: 'V.IMPORTANT', 1605: 'VERY', 1606: 'VPN?', 1607: \"Valentine's\", 1608: 'Very', 1609: 'Vesak', 1610: 'Vet!', 1611: 'Vila', 1612: 'Violyn', 1613: 'Vivian', 1614: 'Voicemail.', 1615: 'W', 1616: 'WALES', 1617: 'WANNA', 1618: 'WANT', 1619: 'WAS', 1620: 'WE', 1621: 'WECAN', 1622: 'WEEK', 1623: 'WELL', 1624: 'WEN', 1625: 'WENT', 1626: 'WERE', 1627: 'WHAT', 1628: 'WHEN', 1629: 'WHERE', 1630: 'WHICH', 1631: 'WHILE', 1632: 'WHO', 1633: 'WHR', 1634: 'WILL', 1635: 'WITH', 1636: 'WK', 1637: 'WK?', 1638: 'WKEND', 1639: 'WORK', 1640: 'WOT', 1641: 'WRKIN?', 1642: 'Wa', 1643: 'Wa!that.s', 1644: 'Wa,', 1645: 'Wa...', 1646: 'Wad', 1647: 'Wah', 1648: 'Wah!', 1649: 'Wah,', 1650: 'Wah.', 1651: 'Wah...', 1652: 'Wah....', 1653: 'Wait', 1654: 'Waiting', 1655: 'Waitress', 1656: 'Waitress??', 1657: 'Wake', 1658: 'Wan', 1659: 'Wan?', 1660: 'Wana', 1661: 'Wanna', 1662: 'Want', 1663: 'Wanted', 1664: 'Was', 1665: 'Waste', 1666: 'Wat', 1667: \"Wat's\", 1668: 'Wat?', 1669: 'Watch', 1670: 'Watchin', 1671: 'Wawa', 1672: 'We', 1673: \"We're\", 1674: 'Weather', 1675: 'Week.', 1676: 'Weiyi', 1677: 'Weiyun', 1678: 'Welcome', 1679: 'Well', 1680: 'Well,', 1681: 'Well...', 1682: 'Well.Is', 1683: 'Wha', 1684: 'What', 1685: \"What're\", 1686: \"What's\", 1687: 'Whats', 1688: 'When', 1689: 'When?', 1690: 'Where', 1691: 'Where?', 1692: 'Which', 1693: 'Who', 1694: \"Who's\", 1695: 'Whoa..With', 1696: 'Whole', 1697: 'Why', 1698: 'Why?', 1699: 'Why??', 1700: 'Why?ofcourse', 1701: 'Wif', 1702: 'Will', 1703: 'William', 1704: 'With', 1705: 'Wk', 1706: 'Wont', 1707: 'Work', 1708: 'Workg?', 1709: 'Working', 1710: 'Worried', 1711: 'Wot', 1712: 'Wow', 1713: 'Wow,', 1714: 'Wow.', 1715: 'Wow...', 1716: 'Wu', 1717: 'Wuld', 1718: 'Wun', 1719: 'Xian', 1720: 'Xin', 1721: 'Xin:', 1722: 'Xinyi', 1723: 'Y', 1724: 'Y...', 1725: 'Y.....Some', 1726: 'Y?', 1727: 'YA', 1728: 'YEAH', 1729: 'YEAH,AND', 1730: 'YEARS', 1731: 'YES.', 1732: 'YET', 1733: 'YET.', 1734: 'YET?', 1735: 'YOGI', 1736: 'YOR', 1737: 'YOU', 1738: 'YOUR', 1739: 'YRS', 1740: 'YUI', 1741: 'Ya', 1742: 'Ya,', 1743: 'Ya.', 1744: 'Ya..', 1745: 'Ya...', 1746: 'Ya...Dat', 1747: 'Ya...Same', 1748: 'Ya...Too', 1749: 'Ya.Jos', 1750: 'Yah', 1751: 'Yah,', 1752: 'Yah...', 1753: 'Yah....', 1754: 'Yah..I', 1755: 'Yar', 1756: 'Yay!', 1757: \"Yay!I'm\", 1758: 'Yea,', 1759: 'Yea...Its', 1760: 'Yeah', 1761: 'Yeah,', 1762: 'Yeah...', 1763: 'Yeah...U', 1764: 'Yeah...btw', 1765: 'Yeap...', 1766: 'Yeh.after', 1767: 'Yeh.but', 1768: 'Yep', 1769: 'Yes', 1770: 'Yes...', 1771: 'Yest', 1772: 'Yesterday', 1773: 'Yifeng', 1774: 'Yiyun.....', 1775: 'Yo,', 1776: 'YoU,', 1777: 'You', 1778: 'Your', 1779: 'Yr', 1780: 'Yun', 1781: 'Yun!', 1782: 'Yun,dun', 1783: 'Yun...Total', 1784: 'Yunny', 1785: 'Yunny...U', 1786: 'Yunñy!', 1787: 'Yup', 1788: 'Yup,', 1789: 'Yup,where', 1790: 'Yup.', 1791: 'Yup...', 1792: 'Yup...Mit', 1793: 'Yupz!', 1794: 'Yupz,', 1795: 'Yupz...', 1796: 'Yupz...Hehe', 1797: 'Yupz...Kk...Den', 1798: 'Zping', 1799: '^.)', 1800: '^_', 1801: 'a', 1802: \"a's\", 1803: 'abalone?', 1804: 'abit', 1805: 'able', 1806: 'about', 1807: 'about?Quick', 1808: 'absolutely', 1809: 'abt', 1810: 'abt,let', 1811: 'abt..=(', 1812: 'abt.also,i', 1813: 'abused...My', 1814: 'academic', 1815: 'academy', 1816: 'acc', 1817: 'acc?', 1818: 'acceptable?', 1819: 'accepted', 1820: 'access...', 1821: 'accidents', 1822: 'account', 1823: 'accountin', 1824: 'acct', 1825: 'acct...', 1826: 'accurate', 1827: 'accuse', 1828: 'ache', 1829: 'ache...', 1830: 'acid!', 1831: 'acj', 1832: 'across', 1833: 'act', 1834: 'action', 1835: 'activities.', 1836: 'activity', 1837: 'actually', 1838: 'actualy', 1839: 'ad', 1840: 'ad...', 1841: 'add', 1842: 'add,', 1843: 'add?', 1844: 'addidas', 1845: 'admin', 1846: 'admirer', 1847: 'admit', 1848: 'adress?', 1849: 'advance', 1850: 'advance.', 1851: 'advert', 1852: 'adverts', 1853: 'affected', 1854: 'afraid', 1855: 'aft', 1856: 'after', 1857: 'afternoon', 1858: 'afternoon,my', 1859: 'afternoon...', 1860: 'afternoon?', 1861: 'again', 1862: 'again.', 1863: 'again...', 1864: 'again.....', 1865: 'again?', 1866: 'against', 1867: 'agency', 1868: 'ages', 1869: 'ago', 1870: 'ago).', 1871: 'ago..', 1872: 'ago....', 1873: 'ah', 1874: 'ah!', 1875: 'ah!!', 1876: 'ah,', 1877: 'ah,dun', 1878: 'ah,thats', 1879: 'ah,ü', 1880: 'ah.', 1881: 'ah..', 1882: 'ah..!Hahå..!', 1883: 'ah...', 1884: 'ah....', 1885: 'ah...Cant', 1886: 'ah...Driving', 1887: 'ah...Only', 1888: 'ah...R', 1889: 'ah...U', 1890: 'ah...seow', 1891: \"ah.chinatown's\", 1892: 'ah?', 1893: 'ah?Watchin', 1894: 'ah?or', 1895: 'ah?thn', 1896: 'ahead.', 1897: 'aik', 1898: 'aim', 1899: 'air', 1900: 'air1', 1901: 'airport', 1902: 'airport.', 1903: 'airport?', 1904: 'aishya!hw', 1905: 'aiyo..', 1906: 'aiyo..still', 1907: 'aiyoh,', 1908: 'album-quite', 1909: 'algebra', 1910: 'algebre', 1911: 'aljunied', 1912: 'all', 1913: 'all!', 1914: 'all!hw', 1915: 'all,', 1916: 'all.', 1917: 'all...', 1918: 'all?', 1919: 'allday!', 1920: 'almighty?', 1921: 'almonds...Accessories....', 1922: 'almost', 1923: 'alone', 1924: 'alone,', 1925: 'alone.', 1926: 'alone?', 1927: 'along', 1928: 'along...', 1929: 'along?', 1930: 'along?Hee,im', 1931: 'alot', 1932: 'alr', 1933: 'alreadi', 1934: 'already', 1935: 'already,', 1936: 'already,disi', 1937: 'already.', 1938: 'already...', 1939: 'already?', 1940: 'alrite.have', 1941: 'alsmost', 1942: 'also', 1943: 'also,', 1944: 'also.', 1945: 'aluminium', 1946: 'always', 1947: 'always!', 1948: 'always...', 1949: 'am', 1950: 'am!', 1951: 'am.', 1952: 'am...', 1953: 'amk', 1954: 'amk,', 1955: 'amk.', 1956: 'amk...', 1957: 'among', 1958: 'amore', 1959: 'amore)', 1960: 'ample', 1961: 'an', 1962: 'and', 1963: 'andrew', 1964: 'angel', 1965: 'angry', 1966: 'animals?', 1967: 'anot', 1968: 'anot...', 1969: 'anot?', 1970: 'another', 1971: 'ans', 1972: 'ans!', 1973: 'ans.......', 1974: 'ans.i', 1975: 'ans???', 1976: 'answers', 1977: 'any', 1978: 'any...', 1979: 'any1?', 1980: 'any?', 1981: 'anybody', 1982: 'anyday', 1983: 'anyhow', 1984: 'anymore.', 1985: 'anymore...', 1986: 'anymore?', 1987: \"anyone's\", 1988: 'anyone...Haha', 1989: 'anythg,', 1990: 'anythin', 1991: 'anythin?', 1992: 'anything', 1993: 'anything.', 1994: 'anything...', 1995: 'anything..and', 1996: 'anythings', 1997: 'anytime', 1998: 'anyting.', 1999: 'anyting.unless', 2000: 'anyway', 2001: 'anyway,', 2002: 'anyway.', 2003: 'anyway..', 2004: 'anyway...', 2005: 'anyway...so', 2006: 'anyway..ü', 2007: 'anyways', 2008: 'anywhere', 2009: 'apartment?', 2010: 'apartmnt...Haha..', 2011: \"aphex's\", 2012: 'app', 2013: 'appearing?', 2014: 'applied', 2015: 'apply', 2016: 'aprent.', 2017: 'ar', 2018: 'ar..', 2019: 'ar...', 2020: 'ar?', 2021: 'arab', 2022: 'ard', 2023: 'ard,ask', 2024: 'ard...', 2025: 'ard...Arghh,', 2026: 'are', 2027: 'are.', 2028: 'are..', 2029: 'area', 2030: 'area...', 2031: 'area?', 2032: 'arent', 2033: 'arguing', 2034: 'arh', 2035: 'arh?', 2036: 'army', 2037: 'around', 2038: 'around.', 2039: 'around?', 2040: 'arrangemt', 2041: 'arrive', 2042: 'arrived', 2043: 'arts!!!!!!', 2044: 'arty', 2045: 'as', 2046: 'as?', 2047: 'asap', 2048: 'asap.', 2049: 'asap..', 2050: 'asap....thx..', 2051: 'ask', 2052: 'ask.', 2053: 'ask...', 2054: 'ask...Its', 2055: 'ask?', 2056: 'asked', 2057: 'asked?', 2058: 'askin', 2059: 'asking', 2060: 'asks', 2061: 'asleep', 2062: 'asp', 2063: 'aspect', 2064: 'ass', 2065: 'assessment...', 2066: 'assigned.', 2067: 'assistant', 2068: 'aswell!', 2069: 'at', 2070: 'ate', 2071: 'atm', 2072: 'attach', 2073: 'attached', 2074: 'attached...', 2075: 'attend', 2076: 'attendin', 2077: 'audrey', 2078: 'aug', 2079: 'aug,', 2080: 'aust', 2081: 'aust...', 2082: 'australia', 2083: 'available', 2084: 'ave', 2085: 'ave,', 2086: 'avent', 2087: 'avoid', 2088: 'award', 2089: 'award...', 2090: 'awards', 2091: 'away', 2092: 'awesome!', 2093: 'awhile', 2094: 'awkward...', 2095: 'añoèr', 2096: 'b', 2097: \"b'dae\", 2098: \"b'day\", 2099: 'b.', 2100: 'b4', 2101: 'b4?', 2102: 'b7l_jammer', 2103: 'b?', 2104: 'ba...', 2105: 'ba...Heh.', 2106: 'babe', 2107: 'babes.', 2108: 'babez', 2109: 'baby', 2110: 'baby!', 2111: 'babyjontet!', 2112: 'back', 2113: 'back!', 2114: 'back.', 2115: 'back...', 2116: 'back?', 2117: 'back?Have', 2118: 'backing', 2119: 'backout', 2120: 'bad', 2121: 'bad,', 2122: 'bad...I', 2123: 'bad?', 2124: 'bag', 2125: 'bag.', 2126: 'bag?', 2127: 'bahru', 2128: 'bak', 2129: 'bake', 2130: 'baked', 2131: 'baking', 2132: 'balanced', 2133: 'balloons.', 2134: 'ballot', 2135: 'bangkok', 2136: 'bangkok?', 2137: 'bank...', 2138: 'bar', 2139: 'bare', 2140: 'barking', 2141: 'base', 2142: 'bash', 2143: 'bash...But', 2144: 'basic', 2145: 'basketball,', 2146: 'basketball,tennis', 2147: 'bastard', 2148: 'batch', 2149: 'bath....Gee...', 2150: 'bathe', 2151: 'bathe!', 2152: 'bathe.', 2153: 'bathin', 2154: 'batt', 2155: 'batt.', 2156: 'bay.', 2157: 'bbq', 2158: 'bbq...those', 2159: 'bc', 2160: 'bck', 2161: 'bcos', 2162: 'bcz', 2163: 'bd...', 2164: 'bdae!!juz', 2165: 'bdae...', 2166: 'bdae...happy', 2167: 'bday', 2168: 'bday,', 2169: 'bday.', 2170: 'bdåy', 2171: 'be', 2172: 'be,', 2173: 'be...', 2174: 'beach', 2175: 'beach,', 2176: 'beat', 2177: 'beautiful', 2178: 'beautiful!', 2179: 'became', 2180: 'because', 2181: 'become', 2182: 'becos', 2183: 'becoz', 2184: 'bed', 2185: 'bed!', 2186: 'bed.', 2187: 'bedok', 2188: 'been', 2189: 'been.', 2190: 'been?', 2191: 'before', 2192: 'before.', 2193: 'before?', 2194: 'begin', 2195: 'behind', 2196: 'behind.', 2197: 'being', 2198: 'belated', 2199: 'believe', 2200: 'believe.', 2201: 'belt.Can', 2202: 'ben', 2203: \"ben's\", 2204: 'ben.', 2205: 'ben...', 2206: 'beneath', 2207: 'beneficial..', 2208: 'benefits', 2209: 'bermuda.', 2210: 'best', 2211: 'best,hehe', 2212: 'bet', 2213: 'beta', 2214: 'better', 2215: 'better,', 2216: 'better...', 2217: 'between', 2218: 'bf', 2219: 'bf?', 2220: 'biRtHdaY', 2221: 'bian', 2222: 'bian...', 2223: 'biatch!', 2224: 'bid', 2225: 'biddin', 2226: 'big', 2227: 'bil1', 2228: 'bin', 2229: 'bird', 2230: 'birthday', 2231: 'birthday?', 2232: 'biscuits?Jc', 2233: 'bishan', 2234: 'bishanpark.How', 2235: 'bit', 2236: 'bit,', 2237: 'bit.', 2238: 'bitch,ur', 2239: 'bitch?', 2240: 'bitch?Dun', 2241: 'bitches', 2242: 'bite', 2243: 'bits', 2244: 'biz', 2245: 'bk', 2246: 'bk...', 2247: 'bks...', 2248: 'black', 2249: 'blades', 2250: 'blame', 2251: 'bleach...', 2252: 'blessed', 2253: 'blind', 2254: 'blinfold', 2255: 'blk', 2256: 'blood', 2257: 'bloody', 2258: 'blow', 2259: 'blue', 2260: 'bluff', 2261: 'blur', 2262: 'blurr', 2263: 'bmi...Too', 2264: 'bo', 2265: 'board', 2266: 'boarded', 2267: 'body', 2268: 'bodynits', 2269: 'boggy', 2270: 'boil...Go', 2271: 'boleh', 2272: 'bonds.', 2273: 'bone...', 2274: 'book', 2275: 'book...', 2276: 'book.I', 2277: 'book?', 2278: 'booked', 2279: 'booked...', 2280: 'booking', 2281: 'bookins', 2282: 'booklet', 2283: 'books', 2284: 'books..', 2285: 'bookworm-like', 2286: 'booth', 2287: 'borburn', 2288: 'bored', 2289: 'bored!', 2290: 'bored!haih.:-', 2291: 'bored,', 2292: 'bored.', 2293: 'boredom', 2294: 'borin', 2295: 'boring', 2296: 'boring!', 2297: 'boring,', 2298: 'boring...', 2299: 'boring.....', 2300: 'born', 2301: 'borrow', 2302: 'borrow?', 2303: 'boss', 2304: 'bot', 2305: 'both', 2306: 'both..', 2307: 'bother', 2308: 'bother,', 2309: 'bottle', 2310: 'bottles', 2311: 'bought', 2312: 'bought\"braindance\"a', 2313: 'bout', 2314: 'box', 2315: 'box...', 2316: 'boxer', 2317: 'boxing', 2318: 'boy', 2319: 'boy,n', 2320: 'boy...', 2321: 'boy?', 2322: 'boys', 2323: 'bra', 2324: 'braddell', 2325: 'brand', 2326: 'branded', 2327: 'bread', 2328: 'break', 2329: 'break.', 2330: 'break...', 2331: 'break...Wed', 2332: 'break.Impt', 2333: 'breakfast', 2334: 'breakfast?', 2335: 'bridge...', 2336: 'briefin', 2337: 'bright', 2338: 'brin', 2339: 'bring', 2340: 'bringing', 2341: 'bro', 2342: 'bro!', 2343: 'broke', 2344: 'broke..Hee..Sorry..', 2345: 'broken', 2346: 'broken..Scattered', 2347: 'broken.y', 2348: 'broom', 2349: 'brought', 2350: 'brown', 2351: 'brownie', 2352: 'brownie..', 2353: 'bruce', 2354: 'brunswick', 2355: 'bstop', 2356: 'bt', 2357: 'btw', 2358: 'btw..', 2359: 'btw...', 2360: 'bucks', 2361: 'bucks...', 2362: 'buddha', 2363: 'bug', 2364: 'bugis', 2365: 'bugis...', 2366: 'building', 2367: 'building...', 2368: 'buildingnear', 2369: 'bukit', 2370: 'burfdae', 2371: 'burn', 2372: 'burns', 2373: 'bus', 2374: 'bus.', 2375: 'bus...Is', 2376: 'buses', 2377: 'business', 2378: 'business,', 2379: 'business.', 2380: 'busy', 2381: 'busy,if', 2382: 'but', 2383: 'butt', 2384: 'buy', 2385: 'buy.', 2386: 'buy...', 2387: 'buy....cya', 2388: 'buy...I', 2389: 'buy.Sms', 2390: 'buy?', 2391: 'buyin', 2392: 'buying', 2393: 'buys', 2394: 'buzy', 2395: 'by', 2396: 'by...', 2397: 'by1?', 2398: 'bz', 2399: 'bz?', 2400: 'c', 2401: 'c,', 2402: 'c.', 2403: 'c...', 2404: 'c.Bloody', 2405: 'c:', 2406: 'c?', 2407: 'cafe', 2408: 'cake', 2409: 'cake.', 2410: 'cake...', 2411: 'cal', 2412: 'calculus?', 2413: 'calender', 2414: 'call', 2415: 'call...', 2416: 'calld', 2417: 'called', 2418: 'called...we', 2419: 'calling', 2420: 'calls', 2421: 'calls.', 2422: 'came', 2423: 'came.', 2424: 'camera', 2425: 'camp', 2426: 'camp-eca-', 2427: 'camp.', 2428: 'camp..', 2429: 'camp...', 2430: 'camp?', 2431: 'can', 2432: \"can't\", 2433: 'can,', 2434: 'can.', 2435: 'can...', 2436: 'can...U', 2437: 'can?', 2438: 'can?dun', 2439: 'can?take', 2440: 'cancellation', 2441: 'cancelled', 2442: 'cancelled,', 2443: 'candles', 2444: 'candles...', 2445: 'cannot', 2446: 'cannot...', 2447: 'canot', 2448: 'cant', 2449: \"cant't\", 2450: 'cant,', 2451: 'canteen', 2452: 'canteen...', 2453: 'canteen?', 2454: 'canvas', 2455: 'capital', 2456: 'captain.wru?', 2457: 'car', 2458: 'car.', 2459: 'car?', 2460: 'card', 2461: 'card,', 2462: 'card...', 2463: 'care', 2464: 'care!', 2465: 'care.', 2466: 'care..', 2467: 'care...', 2468: 'care.I', 2469: 'carfinal1.Clp', 2470: 'carry', 2471: 'carrying', 2472: 'cars...', 2473: 'cartel', 2474: 'carè', 2475: 'case', 2476: 'case...Kaiez,', 2477: 'case.Nitey', 2478: 'cash', 2479: 'cash,', 2480: 'catch', 2481: 'cats', 2482: 'cause', 2483: 'causeway', 2484: 'causin', 2485: 'cc', 2486: 'cca', 2487: 'cedes', 2488: 'celebrate', 2489: 'celebrating', 2490: 'center...', 2491: 'central', 2492: 'central.', 2493: 'central...', 2494: 'centre', 2495: 'centre...', 2496: 'centre.u', 2497: 'centrept...', 2498: 'centro..', 2499: 'cept', 2500: 'ceremony', 2501: 'ceremony,', 2502: 'certain', 2503: 'cfm', 2504: 'cfm.', 2505: 'cgi', 2506: 'chair..', 2507: 'chalet', 2508: 'chance', 2509: 'chance.', 2510: 'chance...', 2511: 'change', 2512: 'change.', 2513: 'change...', 2514: 'change?', 2515: 'changed', 2516: 'changes', 2517: 'channel', 2518: 'chap', 2519: 'charge', 2520: 'charged', 2521: 'charger..', 2522: 'chat', 2523: 'chat,', 2524: 'chat,any1?', 2525: 'chat.', 2526: 'chat...', 2527: 'chat?', 2528: 'chat?Intro', 2529: 'chat?care', 2530: 'chat?please', 2531: 'chat?pls', 2532: 'chatting', 2533: 'chauffeur?', 2534: 'cheap', 2535: 'cheap...', 2536: 'cheaper', 2537: 'cheaper...', 2538: 'check', 2539: 'check...', 2540: 'check?', 2541: 'checked', 2542: 'cheer', 2543: 'cheese', 2544: 'chem', 2545: 'chen', 2546: 'cheong', 2547: 'cherish', 2548: 'cherry', 2549: 'chi', 2550: 'chi.wat', 2551: 'chicken', 2552: 'chijmes..I', 2553: 'childish', 2554: \"children's\", 2555: 'china.', 2556: 'chinat', 2557: 'chinatown', 2558: 'chinese', 2559: 'chinese,rin?', 2560: 'chinese.', 2561: 'chinese?', 2562: 'chiong', 2563: 'chiong...Wanna', 2564: 'chip', 2565: 'chit', 2566: 'choc', 2567: 'chocolate', 2568: 'chocolates,', 2569: 'choice', 2570: 'choice...Wat', 2571: 'choice.But', 2572: 'choice?', 2573: 'choice?so', 2574: 'chong', 2575: 'choose', 2576: 'chop', 2577: 'chope', 2578: 'choppin', 2579: 'chose', 2580: 'chosen,', 2581: 'chou...', 2582: 'christmas', 2583: 'cindy', 2584: 'cine', 2585: 'cine.', 2586: 'circuit', 2587: 'circular', 2588: 'circulatd', 2589: 'city', 2590: 'cityhall', 2591: 'civilisation!Wat', 2592: 'claim', 2593: 'class', 2594: 'class...', 2595: 'class?', 2596: 'classes.see', 2597: 'classified', 2598: 'classmate,chong', 2599: 'clean...', 2600: 'cleanin.', 2601: 'cleansing', 2602: 'clear', 2603: 'clear...', 2604: 'cleared', 2605: 'clementi', 2606: 'clementi?', 2607: 'clever', 2608: 'click', 2609: 'clinic', 2610: 'clip', 2611: 'close', 2612: 'close.', 2613: 'close?', 2614: 'cloth.Cuz', 2615: 'clothes', 2616: 'clothes,', 2617: 'club', 2618: 'club.', 2619: 'clubrm', 2620: 'cm', 2621: 'cme', 2622: 'cn', 2623: 'cny', 2624: 'co', 2625: 'co,', 2626: 'coast', 2627: 'coca', 2628: 'coffee', 2629: 'coke', 2630: 'coke?', 2631: 'cold...', 2632: 'colgate...', 2633: 'collages', 2634: 'collec', 2635: 'collect', 2636: 'collectin', 2637: 'collecting', 2638: 'college', 2639: 'color', 2640: 'color...', 2641: 'colour', 2642: 'colour...', 2643: 'colourful', 2644: 'colours...', 2645: 'com', 2646: 'combat', 2647: 'combination', 2648: 'come', 2649: 'come,', 2650: 'come.', 2651: 'come...', 2652: 'come...Den', 2653: 'comes', 2654: 'comfy', 2655: 'comin', 2656: 'comin...', 2657: 'comin..hav', 2658: 'coming', 2659: 'coming.', 2660: 'coming...', 2661: 'coming?', 2662: 'comm', 2663: 'comment', 2664: 'commenting', 2665: 'commitee', 2666: 'comms', 2667: 'comms...', 2668: 'communication', 2669: 'comp', 2670: 'comp.ofstuff', 2671: 'company', 2672: 'complete', 2673: 'complete...', 2674: 'complex', 2675: 'compliance', 2676: 'computer', 2677: 'computing...I', 2678: 'computing...Noe', 2679: 'con', 2680: 'concentrate', 2681: 'concern...', 2682: 'confide', 2683: 'confident', 2684: 'configure', 2685: 'configured', 2686: 'confirm', 2687: 'confirm..', 2688: 'confirmed', 2689: 'confirmed.', 2690: 'confirmed...', 2691: 'connect', 2692: 'connect...', 2693: 'consider', 2694: 'consider,', 2695: 'consider.tt', 2696: 'considerin', 2697: 'considering', 2698: 'consolidating', 2699: 'contact', 2700: 'contactin', 2701: 'continue', 2702: 'contract', 2703: 'control', 2704: 'converse?', 2705: 'convince', 2706: 'cook', 2707: 'cooked', 2708: 'cookies', 2709: 'cooking', 2710: 'cooking.', 2711: 'cool', 2712: 'cool,', 2713: 'cooling', 2714: 'copy', 2715: 'corinna', 2716: 'corner', 2717: 'corner...', 2718: 'corner?Do', 2719: 'correct', 2720: 'corrina', 2721: 'cos', 2722: 'cos..', 2723: 'cost', 2724: 'costume', 2725: 'could', 2726: \"couldn't\", 2727: 'course', 2728: 'course!', 2729: 'course.', 2730: 'course...', 2731: 'course.Only', 2732: 'course?', 2733: 'cover', 2734: 'covering', 2735: 'coz', 2736: 'cpf', 2737: 'crabs', 2738: 'crap', 2739: 'crazy', 2740: 'crazy.', 2741: 'cream', 2742: 'cream?', 2743: 'create', 2744: 'creative', 2745: 'credit.', 2746: 'crepes', 2747: 'cross', 2748: 'crowded...', 2749: 'crowded...Haha', 2750: 'crowded?', 2751: 'crumpler', 2752: 'cry?', 2753: 'ctct', 2754: 'ctrl', 2755: 'cultural', 2756: 'cultures', 2757: 'cum', 2758: 'cun', 2759: 'cup', 2760: 'curious', 2761: 'curious...', 2762: 'current', 2763: 'cushy', 2764: \"customer's\", 2765: 'cut', 2766: 'cut..', 2767: 'cut...', 2768: 'cut?', 2769: 'cut?haha..', 2770: 'cute', 2771: 'cute,', 2772: 'cute.', 2773: 'cute...Next', 2774: 'cute.Hehehe.', 2775: 'cuz', 2776: 'cy', 2777: 'cya', 2778: 'cya!', 2779: 'cya...', 2780: 'cycling', 2781: 'cz', 2782: 'cz...', 2783: 'cz1102?', 2784: 'càrè', 2785: 'cöz', 2786: 'd', 2787: 'da', 2788: 'dad', 2789: 'dada,', 2790: 'daddy', 2791: 'dae', 2792: 'dae...=)', 2793: 'dae?', 2794: 'damn', 2795: 'damning,ü,some', 2796: 'dance', 2797: 'dance..how', 2798: 'dance.they', 2799: 'dance1.do', 2800: 'dance?', 2801: 'dancer', 2802: 'dancing', 2803: 'dancing?', 2804: 'dao', 2805: 'dare', 2806: 'darlin', 2807: 'darlin!im', 2808: 'darling', 2809: 'darn', 2810: 'darren', 2811: 'dat', 2812: 'dat...', 2813: 'dat...hehe.Why', 2814: 'dat?', 2815: 'data', 2816: 'database...', 2817: 'date', 2818: 'date.', 2819: 'david', 2820: 'day', 2821: 'day!', 2822: 'day,', 2823: 'day.', 2824: 'day..', 2825: 'day...', 2826: 'day.Its', 2827: 'day?', 2828: 'days', 2829: 'days...', 2830: 'days...Wat', 2831: 'days.Watcha', 2832: 'days?', 2833: 'daytime?', 2834: 'dayz!', 2835: 'de', 2836: 'dead', 2837: 'dear', 2838: 'dear!', 2839: 'dear,', 2840: 'dear..', 2841: 'dear...Haha', 2842: 'dear?', 2843: 'dearies..', 2844: 'dearies...Juz', 2845: 'death...', 2846: 'decide', 2847: 'decide,i', 2848: 'decide...', 2849: 'decided', 2850: 'deciding...', 2851: 'deckie', 2852: 'deckie?', 2853: 'define', 2854: 'definitely', 2855: 'degrees...', 2856: 'delay..If', 2857: 'den', 2858: 'den!', 2859: 'den.', 2860: 'den..', 2861: 'den...', 2862: 'dent!', 2863: 'depends', 2864: 'derel', 2865: 'derez', 2866: 'des?', 2867: 'deserve', 2868: 'deserve.', 2869: 'design.', 2870: 'desk', 2871: 'dessert.', 2872: 'dessert..', 2873: 'detail', 2874: 'details', 2875: 'detest', 2876: 'devin,I', 2877: 'dial', 2878: 'dian', 2879: 'diarrhoea', 2880: 'did', 2881: \"didn't\", 2882: 'didnt', 2883: 'die', 2884: 'die.', 2885: 'die..Thanx', 2886: 'died', 2887: 'diet', 2888: 'diff', 2889: 'digi?', 2890: 'din', 2891: 'dinero', 2892: 'dining', 2893: 'dinner', 2894: 'dinner!', 2895: 'dinner.', 2896: 'dinner...', 2897: 'dinner.but', 2898: 'dinner?', 2899: 'direct', 2900: 'directly.', 2901: 'dirty...', 2902: 'dis', 2903: 'disappointed', 2904: 'discount.', 2905: 'discount...', 2906: 'discovered', 2907: 'discuss', 2908: 'discuss?', 2909: 'discussing', 2910: 'discussion', 2911: 'disease', 2912: 'disturb', 2913: 'disturbing', 2914: 'dividend', 2915: 'diz', 2916: 'dload', 2917: 'dna', 2918: 'dnt', 2919: 'do', 2920: 'do!', 2921: 'do,..', 2922: 'do,gota', 2923: 'do.', 2924: 'do..', 2925: 'do...', 2926: 'do.Lolx...Now', 2927: 'do.actually', 2928: 'do?', 2929: 'dobby', 2930: 'doc.', 2931: 'doc?', 2932: 'documents', 2933: 'does', 2934: \"doesn't\", 2935: 'doesnt', 2936: 'dog', 2937: 'dog.', 2938: 'dog..', 2939: 'dog...Ok...', 2940: 'dog...Wats', 2941: 'dog?joan', 2942: 'doggie', 2943: 'dogs', 2944: 'doin', 2945: 'doin?', 2946: 'doing', 2947: 'doing..', 2948: 'doing...', 2949: 'doing?', 2950: 'dollar...', 2951: 'dollars', 2952: 'dom', 2953: 'domain', 2954: 'don', 2955: \"don't\", 2956: 'done', 2957: 'done.', 2958: 'done...', 2959: 'dont', 2960: 'double', 2961: 'down', 2962: 'down,', 2963: 'down.', 2964: 'down.I', 2965: 'dozin', 2966: 'drag', 2967: 'drain...', 2968: 'drawer.', 2969: 'draws', 2970: 'dreaMs..', 2971: 'dreading', 2972: 'dream', 2973: 'dream!', 2974: 'dreamland!', 2975: 'dreams', 2976: 'drenched...at', 2977: 'drink', 2978: 'drink,', 2979: 'drink.', 2980: 'drink.i', 2981: 'drink?', 2982: 'drinkin', 2983: 'drinking.not', 2984: 'drinks', 2985: 'drive', 2986: 'drive...', 2987: 'driver', 2988: 'driver!', 2989: 'driver!Hehehe', 2990: 'drivin', 2991: 'drivin...', 2992: 'drivin...hee2-', 2993: 'drivin.Even', 2994: 'driving', 2995: 'driving!', 2996: 'driving...', 2997: 'driving.Quite', 2998: 'driving?', 2999: 'drop', 3000: 'dropping', 3001: 'dry', 3002: 'dt', 3003: 'dug.', 3004: 'dumpling...', 3005: 'dun', 3006: 'dunno', 3007: 'dunno..', 3008: 'dunno...', 3009: 'duno', 3010: 'duno,', 3011: 'durian', 3012: 'durin', 3013: 'during', 3014: 'duty', 3015: 'dvd', 3016: 'dwn', 3017: 'dye', 3018: 'dye...', 3019: 'dying', 3020: 'e', 3021: 'each', 3022: 'each.', 3023: 'earlier', 3024: 'earlier.', 3025: 'earlier.then', 3026: 'early', 3027: 'early.', 3028: 'early...', 3029: 'early?', 3030: 'earn', 3031: 'earn.Contrary', 3032: 'earned', 3033: 'earrings', 3034: 'ears', 3035: 'easier', 3036: 'easier...', 3037: 'east', 3038: 'east.', 3039: 'easy.', 3040: 'eat', 3041: 'eat,', 3042: 'eat.', 3043: 'eat...', 3044: 'eat.hee-', 3045: 'eaten', 3046: 'eaten?', 3047: 'eatin', 3048: 'eatin?', 3049: 'eating', 3050: 'eating.', 3051: 'economics', 3052: 'ecp', 3053: 'ecp..', 3054: 'ecp?or', 3055: 'effect', 3056: 'eh', 3057: 'eh.', 3058: 'eh..', 3059: 'eh..?i', 3060: 'either', 3061: 'electives', 3062: 'elfie..tis', 3063: 'elo', 3064: 'else', 3065: 'else.', 3066: 'else...', 3067: 'else?', 3068: 'elvin', 3069: 'em', 3070: 'em.i', 3071: 'email', 3072: 'email,', 3073: 'email..', 3074: 'email...', 3075: 'email?', 3076: 'ematerials?', 3077: 'embarrassed', 3078: 'embassy?$15', 3079: 'emicakes...', 3080: 'emporium', 3081: 'en', 3082: \"en's\", 3083: 'en,gen,weiyi', 3084: 'encouraging', 3085: 'end', 3086: 'end.', 3087: 'end..', 3088: 'end...', 3089: 'end..Most', 3090: 'end?', 3091: 'ended', 3092: 'ends', 3093: 'ends.', 3094: 'ends....', 3095: 'eng', 3096: 'engine', 3097: 'engine...Nt', 3098: 'engineerin', 3099: 'english', 3100: 'enjoy', 3101: 'enjoy.', 3102: 'enjoyable', 3103: 'enlarge', 3104: 'enough', 3105: 'enter', 3106: 'entering', 3107: 'enuf', 3108: 'enuf-one', 3109: 'enuf..', 3110: 'enuff', 3111: 'envelop', 3112: 'envelope...', 3113: 'environment', 3114: 'equity?', 3115: 'erase', 3116: 'ere', 3117: 'ere!', 3118: 'ere.26', 3119: 'erp...', 3120: 'esplamade', 3121: 'esplanade', 3122: 'esplanade?', 3123: 'esther', 3124: 'etc.', 3125: 'ethnic', 3126: 'eurasion', 3127: \"eusoff's\", 3128: 'evaluation', 3129: 'eve', 3130: 'even', 3131: 'evenin', 3132: 'evening', 3133: 'evening!', 3134: 'evening,', 3135: 'evening.', 3136: 'evening...there', 3137: 'evening?', 3138: 'event', 3139: 'ever', 3140: 'every', 3141: 'every1...enjoy', 3142: 'everybody', 3143: 'everyday', 3144: 'everyone', 3145: 'everyone,', 3146: 'everything', 3147: 'everything.', 3148: 'everything?', 3149: 'everythings', 3150: 'everywhere', 3151: 'evil', 3152: 'evry1', 3153: 'evy1?care', 3154: 'ex', 3155: 'ex?', 3156: 'exactly', 3157: 'exam', 3158: 'exams', 3159: 'excel', 3160: 'excel...?', 3161: 'except', 3162: 'exchange', 3163: 'exciting', 3164: 'exercise', 3165: 'exercise,', 3166: 'exercise...', 3167: 'exhib', 3168: 'expanding', 3169: 'expect...', 3170: 'expected!', 3171: 'expensive', 3172: 'explicit', 3173: 'expo?', 3174: 'extend', 3175: 'extent', 3176: 'extra', 3177: 'extreme', 3178: 'ey', 3179: 'eye', 3180: 'eyes', 3181: 'eymani', 3182: 'f.', 3183: 'f?', 3184: 'fac', 3185: 'face', 3186: 'face,', 3187: 'face.', 3188: 'facial', 3189: 'facilities', 3190: 'factory', 3191: 'fade', 3192: 'fail', 3193: 'fall', 3194: 'fam?', 3195: 'family', 3196: 'family,we', 3197: 'fantasia', 3198: 'fantasy.', 3199: 'far', 3200: 'far.', 3201: 'far?', 3202: 'farewell', 3203: 'farm', 3204: 'farm,', 3205: 'farrer', 3206: 'farting', 3207: 'fassyole!', 3208: 'fast', 3209: 'fast,', 3210: 'faster', 3211: 'fat', 3212: 'fat.', 3213: 'fat..', 3214: 'fated', 3215: 'father', 3216: \"father's\", 3217: 'father...', 3218: 'fault', 3219: 'fave', 3220: 'favor?I', 3221: 'favour', 3222: 'favour?', 3223: 'featured', 3224: 'feed', 3225: 'feel', 3226: 'feelin', 3227: 'feeling', 3228: 'feels', 3229: 'fei', 3230: 'fell', 3231: 'female', 3232: 'female,', 3233: 'female.', 3234: 'female.u', 3235: 'fen...', 3236: 'fetch', 3237: 'fetchin', 3238: 'fetching', 3239: 'few', 3240: 'field', 3241: 'fierce...', 3242: 'fill', 3243: 'filmed', 3244: 'finally', 3245: 'finance', 3246: 'find', 3247: 'findin', 3248: 'finding', 3249: 'fine', 3250: 'fine.', 3251: 'fine...', 3252: 'fine....', 3253: 'finish', 3254: 'finished', 3255: 'fion', 3256: 'fion?', 3257: 'fiona', 3258: 'fire', 3259: 'fire...', 3260: 'first', 3261: 'first,', 3262: 'first.', 3263: 'first...', 3264: 'first....', 3265: 'first.hmm,nex', 3266: 'first?', 3267: 'fish', 3268: 'fit', 3269: 'fix', 3270: 'fixed...', 3271: 'flexibility', 3272: 'flight?', 3273: 'flirting.', 3274: 'flowers', 3275: 'flowers,hee...', 3276: 'flowery', 3277: 'flyin?', 3278: 'flying', 3279: 'fm25.', 3280: 'foam?', 3281: 'foaming', 3282: 'focus', 3283: 'folder', 3284: 'follow', 3285: 'fon.care', 3286: 'fone', 3287: 'fone,she', 3288: 'fone...', 3289: 'fone.N', 3290: 'font', 3291: 'foo', 3292: 'food', 3293: 'food,tonnes', 3294: 'food.', 3295: 'food...', 3296: 'foot...', 3297: 'for', 3298: 'force', 3299: 'forever!', 3300: 'forfeited', 3301: 'forget', 3302: 'forget...', 3303: 'forgot', 3304: 'forgot...', 3305: 'forgot.is', 3306: 'form', 3307: 'form?', 3308: 'formed', 3309: 'forms', 3310: 'forms.', 3311: 'forward', 3312: 'foto', 3313: 'fotos', 3314: 'fotos.èn', 3315: 'found', 3316: 'fountain.', 3317: 'four?', 3318: 'fow', 3319: 'fox', 3320: 'fr', 3321: 'fr?', 3322: 'frame', 3323: 'frame...', 3324: 'frd', 3325: 'freak.', 3326: 'freak..', 3327: 'free', 3328: 'free,me', 3329: 'free.', 3330: 'free..', 3331: 'free...', 3332: 'free?', 3333: 'free?Pls', 3334: 'fren', 3335: 'fren,', 3336: 'fren.', 3337: 'fren...', 3338: 'fren....', 3339: 'fren..btw..', 3340: 'fren?', 3341: 'frens', 3342: 'frens,', 3343: 'frens,both', 3344: 'frens...', 3345: 'frens?', 3346: 'frequent', 3347: 'freshmen', 3348: 'fri', 3349: 'fri,', 3350: 'fri,if', 3351: 'fri.', 3352: 'fri...so', 3353: 'fri.Didnt', 3354: 'friday', 3355: 'friend', 3356: 'friend!how', 3357: \"friend's\", 3358: 'friend.', 3359: 'friends', 3360: 'friends?', 3361: 'friendster', 3362: 'friendster,', 3363: 'fringe!!', 3364: 'fringe...', 3365: 'frm', 3366: 'frm?', 3367: 'frnd', 3368: 'fro', 3369: 'from', 3370: 'from.', 3371: 'from?', 3372: 'front', 3373: 'fucks', 3374: 'fuji...', 3375: 'fujitsu?', 3376: 'full', 3377: 'fully', 3378: 'fun', 3379: 'fun!', 3380: 'fun...', 3381: 'fun..How', 3382: 'fun?', 3383: 'funan', 3384: 'fund', 3385: 'fundamental', 3386: 'funny,so', 3387: 'funny.', 3388: 'fur...', 3389: 'further', 3390: 'fusion?', 3391: 'future', 3392: 'fw', 3393: 'fyi,', 3394: 'g', 3395: 'gOoD', 3396: 'gain', 3397: 'gained', 3398: 'gal', 3399: 'gal,', 3400: 'gal,when', 3401: 'gal...', 3402: 'gals', 3403: 'gals!!!', 3404: 'gals,anyone', 3405: 'gals,mon', 3406: 'gals..', 3407: 'gals...U', 3408: 'game', 3409: 'game.', 3410: 'games', 3411: 'games,jacuzzi,great', 3412: 'gang', 3413: 'garden', 3414: 'gaught', 3415: 'gave', 3416: 'gd', 3417: 'gd&the', 3418: 'gd,', 3419: 'gd.', 3420: 'gd...', 3421: 'gd..i', 3422: 'gd..Ü', 3423: 'gee,', 3424: 'gee..', 3425: 'gee...', 3426: 'gek1005', 3427: 'gel,', 3428: 'gelek', 3429: 'gelek!', 3430: 'gem', 3431: 'gen', 3432: 'genting...', 3433: 'gentleman', 3434: 'ger', 3435: 'ger,', 3436: 'ger...err', 3437: 'ger16', 3438: 'gers...R', 3439: 'gers...So', 3440: 'get', 3441: 'gets', 3442: 'gettin', 3443: 'getting', 3444: 'gif', 3445: 'gift.', 3446: 'girl', 3447: 'girl!', 3448: 'girl...been', 3449: 'girl..haha..', 3450: 'girls', 3451: 'giro', 3452: 'giv', 3453: 'give', 3454: 'give?', 3455: 'gives', 3456: 'giving', 3457: 'glass', 3458: 'glasses', 3459: \"gloatin?Ok...I'm\", 3460: 'go', 3461: 'go,', 3462: 'go.', 3463: 'go..', 3464: 'go...', 3465: 'go.see', 3466: 'go?', 3467: 'god', 3468: 'goin', 3469: 'goin,', 3470: 'goin...', 3471: 'goin...pls', 3472: 'goin.but', 3473: 'goin?', 3474: 'going', 3475: 'going.', 3476: 'going..', 3477: 'going...', 3478: 'going?', 3479: 'going?Jos', 3480: 'golf.Can?', 3481: 'golf?', 3482: 'gona', 3483: 'gone', 3484: 'gonna', 3485: 'good', 3486: 'good.', 3487: 'good...', 3488: 'good.Got', 3489: 'good?', 3490: 'goodies!', 3491: 'goodness', 3492: 'goodnight', 3493: 'gorgeous!', 3494: 'gossip', 3495: 'gossiping', 3496: 'got', 3497: 'got?', 3498: 'gota', 3499: 'gotta', 3500: 'gottem', 3501: 'gotten', 3502: 'gown', 3503: 'gp', 3504: 'grab', 3505: 'grabbing', 3506: 'grandma', 3507: 'graphic', 3508: 'grave', 3509: 'great', 3510: 'green.Is', 3511: 'green?', 3512: 'grls', 3513: 'grocery', 3514: 'grocery...', 3515: 'group.', 3516: 'grp..', 3517: 'gstring,me', 3518: 'gt', 3519: 'gua', 3520: 'guai', 3521: 'guarding', 3522: 'gud', 3523: 'guess', 3524: 'guess....shopping?', 3525: 'guess.hw', 3526: 'guess3', 3527: 'guide', 3528: 'guinea', 3529: 'guy', 3530: 'guy,', 3531: 'guy...', 3532: 'guy?', 3533: 'guys', 3534: 'guys,', 3535: 'guys.', 3536: 'guys..but', 3537: 'guyz', 3538: 'gv', 3539: 'gym', 3540: 'gym...', 3541: 'gym.what', 3542: 'h', 3543: 'ha.....', 3544: 'had', 3545: 'haf', 3546: 'haf...So', 3547: 'haf?', 3548: 'hafta', 3549: 'hah..', 3550: 'hah...', 3551: 'hah?', 3552: 'haha', 3553: 'haha,', 3554: 'haha-', 3555: 'haha.', 3556: 'haha..', 3557: 'haha...', 3558: 'haha....', 3559: 'hahaha..hey,', 3560: 'hai', 3561: 'hai!', 3562: 'hair', 3563: 'hair...', 3564: 'haircut', 3565: 'haiyah...', 3566: 'haiz..', 3567: 'half', 3568: 'hall', 3569: 'hall.', 3570: 'hall...', 3571: 'hammer.', 3572: 'hammy.', 3573: 'hamster', 3574: 'hamsters...', 3575: 'hand', 3576: 'hand,and', 3577: 'hand...', 3578: 'handphone', 3579: 'handphone,', 3580: 'handsome', 3581: 'hang', 3582: 'happen', 3583: 'happen,', 3584: 'happen...', 3585: 'happened', 3586: 'happenin', 3587: 'happiness', 3588: 'happy', 3589: 'happy!', 3590: 'happy....', 3591: 'hard', 3592: 'hard!', 3593: 'hard.', 3594: 'hard...', 3595: 'harder', 3596: 'has', 3597: 'hav', 3598: 'hav2hear', 3599: 'hava', 3600: 'have', 3601: 'have...', 3602: 'have...I', 3603: 'have?', 3604: 'haven', 3605: \"haven't\", 3606: 'havent', 3607: 'havin', 3608: 'having', 3609: 'havng', 3610: 'havoc', 3611: 'hawker', 3612: 'hawkes', 3613: 'hdb', 3614: 'he', 3615: \"he'd\", 3616: \"he'll\", 3617: \"he's\", 3618: 'head', 3619: 'head!', 3620: 'head...I', 3621: 'headache', 3622: 'health', 3623: 'hear', 3624: 'heard', 3625: 'heart', 3626: 'heart.', 3627: 'heat', 3628: 'heavily', 3629: 'heavily...', 3630: 'heavy', 3631: 'hectic', 3632: 'hee', 3633: 'hee...', 3634: 'heee....', 3635: 'heehee', 3636: 'heeren', 3637: 'heez', 3638: 'heh,', 3639: 'hehe', 3640: 'hehe.', 3641: 'hehe..', 3642: 'hehe.I', 3643: 'hehehe', 3644: 'hello', 3645: 'hello,', 3646: 'helo', 3647: 'help', 3648: 'help..', 3649: 'help..But', 3650: 'helping', 3651: 'hen', 3652: 'her', 3653: 'her.', 3654: 'her..', 3655: 'her...', 3656: 'her.i', 3657: 'her?', 3658: 'her?Hehehe.Cuz', 3659: 'here', 3660: 'here,', 3661: 'here,frm', 3662: 'here.', 3663: 'here..', 3664: 'here...', 3665: 'here.tks!intro', 3666: 'hes', 3667: 'hetic', 3668: 'hey', 3669: 'hey,', 3670: 'hey,how', 3671: 'hey,sorry', 3672: 'hey..interested', 3673: 'hi', 3674: 'hi!', 3675: 'hi!Card', 3676: \"hi'5\", 3677: 'hi...', 3678: 'hide', 3679: 'high..', 3680: 'higher', 3681: 'highlight', 3682: 'hilarious-also', 3683: 'hill.', 3684: 'him', 3685: 'him...', 3686: 'him?', 3687: 'hime.', 3688: 'hints..haiz', 3689: 'his', 3690: 'hits', 3691: 'hitting', 3692: 'hiya,', 3693: 'hiya...', 3694: 'hk', 3695: 'hm', 3696: 'hm.', 3697: 'hmm,both', 3698: 'hmm...Okies', 3699: 'hmmm,', 3700: 'hmmm..', 3701: 'hoe..', 3702: 'hoh..', 3703: 'hol', 3704: 'hold', 3705: 'holdin', 3706: 'holiday,', 3707: 'holidayin...', 3708: 'holidays', 3709: 'hols,', 3710: 'home', 3711: 'home!i', 3712: 'home,', 3713: 'home.', 3714: 'home..', 3715: 'home...', 3716: 'home....', 3717: 'home...Hows', 3718: 'home.haha-', 3719: 'home?', 3720: 'homepage', 3721: 'homework', 3722: 'honest.Cuz', 3723: 'honors', 3724: 'honour', 3725: 'hope', 3726: 'hope!', 3727: 'hoped', 3728: 'hor', 3729: 'hor.', 3730: 'hor..', 3731: 'hor...', 3732: 'hor...too', 3733: 'hor.Keke..If', 3734: 'horrible', 3735: 'horse', 3736: 'hostel', 3737: 'hostel?', 3738: 'hot', 3739: 'hot,', 3740: 'hot...', 3741: 'hot...Haha', 3742: 'hotel', 3743: 'hotel?', 3744: 'hotmail', 3745: 'hour', 3746: 'hours', 3747: 'house', 3748: 'house,', 3749: 'house.', 3750: 'houses.', 3751: 'houses.Ü', 3752: 'how', 3753: \"how's\", 3754: 'how.', 3755: 'how..', 3756: 'how...', 3757: 'how?', 3758: 'how?confirm', 3759: 'hows', 3760: 'hp', 3761: 'hp.', 3762: 'hr', 3763: 'hr...', 3764: 'hrs', 3765: 'hse', 3766: 'hse...', 3767: \"hse.i've\", 3768: 'hse.or', 3769: 'hse.then', 3770: 'hse?', 3771: 'hsewarming', 3772: 'hub', 3773: 'hug', 3774: 'hug-', 3775: 'hug-smile', 3776: 'huge', 3777: 'huh', 3778: 'huh..', 3779: 'huh...', 3780: 'huh...K', 3781: 'huh?', 3782: 'huiqi', 3783: \"huixin's\", 3784: 'hun!', 3785: 'hundreds...', 3786: 'hungry...', 3787: 'hunks', 3788: 'hunny.', 3789: 'hurry', 3790: 'hurry;', 3791: 'hv', 3792: 'hving', 3793: 'hvn', 3794: 'hw', 3795: 'hwa', 3796: 'häf', 3797: 'i', 3798: \"i'\", 3799: \"i'd\", 3800: \"i'll\", 3801: \"i'm\", 3802: \"i've\", 3803: 'i,', 3804: 'i.e', 3805: 'ic', 3806: 'ic,', 3807: 'ic.', 3808: 'ice', 3809: 'iceman', 3810: 'icic.', 3811: 'icq', 3812: 'icq.', 3813: 'icq?', 3814: 'id', 3815: 'idea', 3816: 'idea.', 3817: 'ideas', 3818: 'idols', 3819: 'if', 3820: 'ignore', 3821: 'ignorin', 3822: 'ikea', 3823: 'il', 3824: 'ill', 3825: 'im', 3826: 'imagination', 3827: 'immediately', 3828: 'important', 3829: 'important.', 3830: 'important?', 3831: 'importantly..you', 3832: 'impt', 3833: 'in', 3834: 'in!', 3835: 'in...', 3836: 'in?', 3837: 'inaug', 3838: 'inaugration', 3839: 'inauguration', 3840: 'includes', 3841: 'india?', 3842: 'indian?', 3843: 'indon', 3844: 'indonesian', 3845: 'info', 3846: 'informed', 3847: 'innocent', 3848: 'inperialmusic', 3849: 'insects', 3850: 'inside', 3851: 'inside...', 3852: 'insights', 3853: 'installing', 3854: 'instant', 3855: 'instant?', 3856: 'instead', 3857: 'instruct', 3858: 'instruction.', 3859: 'instructor', 3860: 'instructor...', 3861: 'insurance', 3862: 'int', 3863: 'int.?', 3864: 'intake.', 3865: 'intend', 3866: 'interest', 3867: 'interest...', 3868: 'interest?', 3869: 'interested', 3870: 'interested..', 3871: 'interested...Mango', 3872: 'interested?', 3873: 'interesting', 3874: 'interesting,', 3875: 'interesting.', 3876: 'interesting...', 3877: 'internet', 3878: 'interview', 3879: 'interview.ü', 3880: 'interview?', 3881: 'interviews', 3882: 'into', 3883: 'intro', 3884: 'intro.', 3885: 'intro...', 3886: 'intro...Joey?', 3887: 'intro.?', 3888: 'intro.girl', 3889: 'intro?', 3890: 'invisible', 3891: 'invite', 3892: 'invited', 3893: 'invoice', 3894: 'ireena', 3895: 'iregardles', 3896: 'irritating', 3897: 'is', 3898: 'is..I', 3899: 'is.I', 3900: 'isit?U', 3901: 'isit?hw', 3902: \"isn't\", 3903: 'issit..ü', 3904: 'issit?', 3905: 'it', 3906: 'it!', 3907: 'it!c', 3908: \"it'll\", 3909: \"it's\", 3910: 'it,', 3911: 'it.', 3912: 'it..', 3913: 'it...', 3914: 'it...Haha', 3915: 'it...haha,', 3916: 'it..Randy', 3917: 'it.hee-erm,nex', 3918: 'it.u', 3919: 'it?', 3920: 'it?hee', 3921: \"it?we'll\", 3922: 'its', 3923: 'itz', 3924: 'ive', 3925: 'ivle..Under', 3926: 'izit', 3927: 'izit...', 3928: 'izzit...', 3929: 'izzit?', 3930: 'j', 3931: 'j!', 3932: 'jack...', 3933: 'jam', 3934: 'jame', 3935: 'james', 3936: 'james,', 3937: 'jams', 3938: 'jap', 3939: 'japanese', 3940: 'jar', 3941: 'jay', 3942: 'jazz', 3943: 'jc', 3944: 'jeans', 3945: 'jeans,', 3946: 'jeff', 3947: 'jeff!', 3948: 'jeff.care', 3949: 'jelly', 3950: 'jerk', 3951: 'jesslyn', 3952: 'jetflash,', 3953: 'jia', 3954: 'jian', 3955: 'jiang', 3956: 'jiayin...', 3957: 'jie', 3958: 'jiejie', 3959: 'jigsaw', 3960: 'jio', 3961: 'jo', 3962: \"joan's\", 3963: 'job', 3964: 'job!arghz!any', 3965: 'job,', 3966: 'job.', 3967: 'jobs', 3968: 'jobs...', 3969: 'jobs?', 3970: 'jocelyn', 3971: 'joe,ur', 3972: 'joe.', 3973: 'joey', 3974: 'jog', 3975: 'jogging', 3976: 'john\"-sounds', 3977: 'join', 3978: 'join,u', 3979: 'jolene', 3980: 'jong...', 3981: 'jontin', 3982: 'jordan,', 3983: 'jordon?', 3984: 'jos', 3985: 'jos,', 3986: 'jos?', 3987: 'joss', 3988: 'josssticks...', 3989: 'js', 3990: 'jsp...', 3991: 'judges', 3992: 'juice', 3993: 'juicer...', 3994: 'jul-1', 3995: 'jul.', 3996: 'juli', 3997: \"julia's\", 3998: 'july...', 3999: 'jun', 4000: 'june', 4001: 'june...', 4002: 'junmèi', 4003: 'jurong', 4004: 'jus', 4005: 'just', 4006: 'jux', 4007: 'juz', 4008: 'jx', 4009: \"jy's\", 4010: 'jùz', 4011: 'k', 4012: 'k!', 4013: 'k,', 4014: 'k,u', 4015: 'k,ur', 4016: 'k.', 4017: 'k..', 4018: 'k...', 4019: 'k...Hehe', 4020: 'k.Eh', 4021: 'k.can?', 4022: 'k.maya', 4023: 'k.reen', 4024: 'k.reen!', 4025: 'k.when', 4026: 'k?', 4027: 'k?Does', 4028: 'k?coz', 4029: 'k?help', 4030: 'kahi', 4031: 'kai', 4032: 'kayu', 4033: 'kb', 4034: 'keen', 4035: 'keep', 4036: 'keep.', 4037: 'keepin', 4038: 'keeps', 4039: 'keke', 4040: 'keke,', 4041: 'ken!i', 4042: 'kept', 4043: 'kg!', 4044: 'kiasu', 4045: 'kiat', 4046: 'kiat..But', 4047: 'kid', 4048: 'kiddish', 4049: 'kids', 4050: 'kids...', 4051: 'kill', 4052: 'kilo', 4053: 'kind', 4054: 'kinda', 4055: 'kiss', 4056: 'kisses', 4057: 'kite', 4058: 'kitten', 4059: 'kk', 4060: 'knack', 4061: 'knackered', 4062: 'knees', 4063: 'knit', 4064: 'knock', 4065: 'knockin', 4066: 'know', 4067: 'know,', 4068: 'know.', 4069: 'know..', 4070: 'know...', 4071: 'know...But', 4072: 'know?', 4073: 'knows', 4074: 'kns', 4075: 'knw', 4076: 'koe', 4077: 'koe,who', 4078: 'kol', 4079: 'korean', 4080: 'kp', 4081: \"kpo.He's\", 4082: 'kreen', 4083: \"kua's\", 4084: 'kèke,', 4085: 'la', 4086: 'la,', 4087: 'la,thgt', 4088: 'la-bth.so', 4089: 'la.', 4090: 'la..', 4091: 'la...', 4092: 'la...By', 4093: 'la...Den', 4094: 'la...Dun', 4095: 'la...Dunno', 4096: 'la...Fat', 4097: 'la...Heart', 4098: 'la...Hereen', 4099: \"la...Jac's\", 4100: 'la...My', 4101: 'la...No', 4102: 'la...Tell', 4103: 'la...hope', 4104: 'la..Hehe...', 4105: 'la..Hehe.U', 4106: 'la.How', 4107: \"la.cya.i'll\", 4108: 'la.hopefully', 4109: 'la.jx', 4110: 'la.why?', 4111: 'la.yun', 4112: 'lab', 4113: 'lab..', 4114: 'lab?', 4115: 'ladies', 4116: 'lady', 4117: 'laggin', 4118: 'laguna', 4119: 'lah', 4120: 'lah!', 4121: 'lah,', 4122: 'lah,dont', 4123: 'lah.', 4124: 'lah..', 4125: 'lah...', 4126: 'lah...Different...', 4127: 'lah...Or', 4128: 'lah...Sch', 4129: 'lah...can', 4130: 'lah.U', 4131: 'lah?', 4132: 'lame...Like', 4133: 'land', 4134: 'language?', 4135: 'laptop', 4136: 'laptop...', 4137: 'lar', 4138: 'lar.', 4139: 'lar..', 4140: 'lar...', 4141: 'lar.ü', 4142: 'last', 4143: 'lasts.', 4144: 'late', 4145: 'late,', 4146: 'late,abt', 4147: 'late.', 4148: 'late...', 4149: 'late...Hehehe', 4150: 'late...hee...-.-\"\\'', 4151: 'late...will', 4152: 'late..gee...', 4153: 'late.can', 4154: 'late?', 4155: 'late?or', 4156: 'lately?', 4157: 'later', 4158: 'later!', 4159: 'later,', 4160: 'later..', 4161: 'later...', 4162: 'later....', 4163: 'later..Take', 4164: 'later?', 4165: 'later?wana', 4166: 'laugh', 4167: 'laughter...', 4168: 'launching', 4169: 'lavendar', 4170: 'law', 4171: 'layin', 4172: 'lazy', 4173: 'lazy?', 4174: 'lcm', 4175: 'le', 4176: 'le,', 4177: 'le-', 4178: 'le.', 4179: 'le..', 4180: 'le...', 4181: 'le...Other', 4182: 'lead', 4183: 'leading', 4184: 'learn', 4185: 'learnin', 4186: 'least', 4187: 'leave', 4188: 'leave...', 4189: 'leaves', 4190: 'leavin', 4191: 'leaving', 4192: 'lec', 4193: 'lect', 4194: 'lect.', 4195: 'lect...', 4196: 'lecture', 4197: 'lecture!', 4198: 'lecture?', 4199: 'lecturer', 4200: 'lectures', 4201: 'left', 4202: 'left,', 4203: 'left.can', 4204: 'leg.', 4205: 'legs', 4206: 'leh', 4207: 'leh,', 4208: 'leh,legalised', 4209: 'leh,so', 4210: 'leh,sure', 4211: 'leh.', 4212: 'leh..', 4213: 'leh...', 4214: 'leh....', 4215: 'leh...Haha', 4216: 'leh...É', 4217: 'leh.so', 4218: 'leh.then', 4219: 'leh?', 4220: 'leh?if', 4221: 'lei', 4222: 'lei,my', 4223: 'lei-for', 4224: 'lei-if', 4225: 'lei.', 4226: 'lei...', 4227: 'lei...Dun', 4228: 'lei...Höhò.', 4229: 'lei...V', 4230: 'lei.Eat', 4231: 'lei.call', 4232: \"lei.it's\", 4233: 'lei.prefer', 4234: 'lei.unless', 4235: 'lei?', 4236: 'lemme', 4237: 'lend', 4238: 'length', 4239: 'lenient', 4240: 'lenient.', 4241: 'leona', 4242: 'less', 4243: 'lesser', 4244: 'lesson', 4245: 'lesson..', 4246: 'lesson...', 4247: 'lesson?', 4248: 'lessons', 4249: 'lessons...', 4250: 'lessons?', 4251: 'let', 4252: 'lets', 4253: 'letter', 4254: 'level', 4255: 'levels', 4256: 'li', 4257: 'lian', 4258: 'liao', 4259: 'liao,', 4260: 'liao--', 4261: 'liao.', 4262: 'liao..', 4263: 'liao...', 4264: 'liao...Haha', 4265: 'liao...Overprotective', 4266: 'liao...U', 4267: 'liao...haiz,', 4268: 'liao.im', 4269: 'liao?', 4270: 'liaos.so', 4271: 'lib', 4272: 'library?', 4273: 'lie', 4274: 'lie.', 4275: 'lien', 4276: 'lien...', 4277: 'life', 4278: 'life?', 4279: 'lift.', 4280: 'lifè', 4281: 'light', 4282: 'lik', 4283: 'like', 4284: 'like.', 4285: 'like?', 4286: 'liling,', 4287: 'lin.happy', 4288: 'line', 4289: 'line...', 4290: 'linear', 4291: 'link', 4292: 'list', 4293: 'listening2the', 4294: 'littat?', 4295: 'little', 4296: 'little,go', 4297: 'live', 4298: 'lixia.', 4299: 'lk', 4300: 'lkg', 4301: 'll', 4302: 'lo', 4303: 'lo-cos', 4304: 'lo.', 4305: 'lo...', 4306: 'lo...Den', 4307: 'lo...Haha,', 4308: 'lo...We', 4309: 'lo..Hehe.But', 4310: 'lo..Not', 4311: 'lo..Suddenly', 4312: 'lo.Then', 4313: 'lo.call', 4314: 'lo.dun', 4315: 'lo.he', 4316: 'lo.try', 4317: 'loan', 4318: 'lobang', 4319: 'lobang....', 4320: 'local', 4321: 'location,', 4322: 'locksmiths', 4323: 'log', 4324: 'login', 4325: 'login...', 4326: 'loh', 4327: 'loh,', 4328: 'loh,i', 4329: 'loh.', 4330: 'loh...', 4331: 'lol..', 4332: 'londn', 4333: 'lonely', 4334: 'loner.', 4335: 'long', 4336: \"long's\", 4337: 'long...', 4338: 'longer', 4339: 'look', 4340: 'look...', 4341: 'lookin', 4342: 'looking', 4343: 'looks', 4344: 'lor', 4345: 'lor,', 4346: 'lor.', 4347: 'lor..', 4348: 'lor...', 4349: 'lor...Can', 4350: 'lor...Get', 4351: 'lor...Haiz...', 4352: 'lor...Hehe', 4353: 'lor...Thk', 4354: 'lor...had', 4355: 'lor...hmm', 4356: 'lor.Meet', 4357: 'lose', 4358: 'loss', 4359: 'lost', 4360: 'lost.', 4361: 'lot', 4362: 'lot...', 4363: 'lotion', 4364: 'lots', 4365: 'lots.', 4366: 'lotsa', 4367: 'lou', 4368: 'lousy.', 4369: 'lousy...', 4370: 'love', 4371: 'love.', 4372: 'lovely', 4373: 'low', 4374: 'loyong', 4375: 'lsm', 4376: 'lsm..gosh..', 4377: 'lsm1301', 4378: 'lt', 4379: 'lt25', 4380: 'lt26?', 4381: 'lt32,formal', 4382: 'lt?', 4383: 'luck', 4384: 'luck,', 4385: 'luckily', 4386: 'lucky', 4387: 'lun', 4388: 'lunch', 4389: 'lunch!catch', 4390: 'lunch.at...wher?', 4391: 'lunch?', 4392: 'lunch?ñ', 4393: 'lungs', 4394: 'luv', 4395: 'lydat', 4396: 'lyin', 4397: 'lying', 4398: 'm', 4399: 'ma', 4400: 'ma,', 4401: 'ma.', 4402: 'ma..', 4403: 'ma...', 4404: 'ma....', 4405: 'ma...Haha...', 4406: 'ma..then', 4407: 'mac', 4408: 'macadamia', 4409: 'machine', 4410: 'machines.', 4411: 'mad', 4412: 'made', 4413: 'mafan.', 4414: 'mafan.try', 4415: 'mah', 4416: 'mah,', 4417: 'mah.', 4418: 'mah...', 4419: 'mah...Hehe', 4420: 'mah.So', 4421: 'mah.if', 4422: 'mah.èn', 4423: 'mah?', 4424: 'mahjong', 4425: 'mahz.', 4426: 'mail', 4427: 'mail...', 4428: 'mainland.U', 4429: 'maintain', 4430: 'maintenance', 4431: 'major', 4432: 'major?', 4433: 'make', 4434: 'makeup', 4435: 'making', 4436: 'malay', 4437: 'malay/', 4438: 'malay?', 4439: 'malayu', 4440: 'maldives?', 4441: 'male', 4442: 'male.', 4443: 'male...Chinese.Malaysian.', 4444: 'mama...', 4445: 'mambo', 4446: 'mambo,', 4447: 'man', 4448: 'man.', 4449: 'man...', 4450: 'managed', 4451: 'manager', 4452: 'mango', 4453: 'mangosteen', 4454: 'manners', 4455: 'many', 4456: 'map', 4457: 'marina?', 4458: 'marketin.jenniffer', 4459: 'married', 4460: 'marshmallow', 4461: 'match', 4462: 'mate', 4463: 'math', 4464: 'maths', 4465: 'matric.', 4466: 'matriculation', 4467: 'matter', 4468: 'maxwell', 4469: 'maxwell?', 4470: 'may', 4471: 'may,on', 4472: 'may.', 4473: 'may...', 4474: 'mayb', 4475: 'mayb?', 4476: 'maybe', 4477: 'mb', 4478: 'mc', 4479: 'me', 4480: 'me!', 4481: 'me!!', 4482: 'me!ok...set...thu', 4483: 'me,', 4484: 'me,i', 4485: 'me,if', 4486: 'me.', 4487: 'me..', 4488: 'me...', 4489: 'me...Got', 4490: 'me...Too', 4491: 'me...Wat', 4492: 'me..U', 4493: 'me.No', 4494: 'me.U', 4495: 'me.i', 4496: 'me?', 4497: 'me?i', 4498: 'meal', 4499: 'meal.', 4500: 'mean', 4501: 'mean...So', 4502: 'meaningless,', 4503: 'means', 4504: 'meant', 4505: 'meant.', 4506: 'measurement.', 4507: 'med', 4508: 'medic', 4509: 'medical', 4510: 'meet', 4511: 'meet.', 4512: 'meet...', 4513: 'meet?', 4514: 'meetg', 4515: 'meetg...probab', 4516: 'meetin', 4517: 'meetin....', 4518: 'meetin?', 4519: 'meeting', 4520: 'meeting...', 4521: 'meeting?', 4522: 'meh', 4523: 'meh.', 4524: 'meh..', 4525: 'meh...', 4526: 'meh?', 4527: 'mei', 4528: 'meijun', 4529: \"meijun's\", 4530: 'mel', 4531: 'melting', 4532: 'mem', 4533: 'member', 4534: 'member?', 4535: 'membership', 4536: 'memorable', 4537: 'men', 4538: 'men...N', 4539: 'menghong', 4540: 'mention', 4541: 'merchandiser', 4542: 'mess', 4543: 'message', 4544: 'message.', 4545: 'messages', 4546: 'messy', 4547: 'met', 4548: 'metal', 4549: 'mght', 4550: 'mi', 4551: 'mi...so', 4552: 'miZ', 4553: 'mich', 4554: 'michelle', 4555: 'michelle,', 4556: 'mid', 4557: 'middle,', 4558: 'might', 4559: 'mike', 4560: 'millian', 4561: 'millian!', 4562: \"millian's\", 4563: 'millian...', 4564: 'million', 4565: 'mimi', 4566: 'min', 4567: 'min...', 4568: 'mind', 4569: 'mind,if', 4570: 'mind.', 4571: 'mind..', 4572: 'mind...', 4573: 'mind...Wanna', 4574: 'mind.we', 4575: 'mine', 4576: 'mingfang', 4577: 'mins', 4578: 'mins.', 4579: 'mins...', 4580: 'mint!', 4581: 'miracle!!!!!', 4582: 'miss', 4583: 'miss..Ü', 4584: 'missed', 4585: 'missing', 4586: 'mistakes', 4587: 'mistakes.', 4588: 'mistress', 4589: 'mit', 4590: 'mite', 4591: 'miworld.com.sg', 4592: 'miz', 4593: 'mkt', 4594: 'mly', 4595: 'mng', 4596: 'mo,', 4597: 'mobile', 4598: 'mod', 4599: 'model?', 4600: 'models..', 4601: 'module', 4602: 'modules', 4603: 'modules...', 4604: 'mohamad', 4605: 'mohd', 4606: 'mohmd', 4607: 'moisturise', 4608: 'molested&someone', 4609: 'mom', 4610: 'mom,', 4611: 'moment..', 4612: 'mon', 4613: 'mon!', 4614: 'mon-wed.', 4615: 'mon.', 4616: 'mon...', 4617: 'monday', 4618: 'money', 4619: 'money...', 4620: 'money?', 4621: 'monkey', 4622: 'month', 4623: 'month.', 4624: 'month...', 4625: 'months', 4626: 'mood', 4627: 'moon', 4628: 'more', 4629: 'more,', 4630: 'more..', 4631: 'more?', 4632: 'mornin', 4633: 'morning', 4634: 'morning!', 4635: 'morning,how', 4636: 'morning.', 4637: 'morning...', 4638: 'morning...Care', 4639: 'morning?', 4640: 'most', 4641: 'mother', 4642: 'mother...', 4643: 'motion.', 4644: 'move', 4645: 'movie', 4646: 'movie.', 4647: 'movie...', 4648: 'movie.Me', 4649: 'movie?', 4650: 'movies...', 4651: 'movies....', 4652: 'mpsh', 4653: 'mr', 4654: 'mrt', 4655: 'mrt,', 4656: 'mrt.', 4657: 'mrt...', 4658: 'mrt....', 4659: 'mrt?', 4660: 'mrtk..445pm', 4661: 'msg', 4662: 'msg.', 4663: 'msg...I', 4664: 'msg?', 4665: 'msged', 4666: 'msia', 4667: 'msia.', 4668: 'msn', 4669: 'msn.', 4670: 'msn?', 4671: 'mt', 4672: 'mth', 4673: 'mth.', 4674: 'mth..', 4675: 'mths', 4676: 'mths...', 4677: 'muack...', 4678: 'much', 4679: 'much,', 4680: 'much.', 4681: 'much...', 4682: 'much2', 4683: 'much?', 4684: 'muffin', 4685: 'muji', 4686: 'mum', 4687: 'mum,', 4688: 'mum,all', 4689: 'mum...', 4690: 'mus', 4691: 'museum', 4692: 'must', 4693: 'muz', 4694: 'my', 4695: 'myanmar', 4696: 'mylife.', 4697: 'myself', 4698: 'myself.', 4699: 'n', 4700: 'n.n', 4701: 'naggin', 4702: 'nail', 4703: 'nama?', 4704: 'name', 4705: 'name.', 4706: 'name...', 4707: 'name?', 4708: 'namly', 4709: 'nanxing...', 4710: 'nanyang', 4711: 'nap', 4712: 'nap?', 4713: 'national', 4714: 'naughty', 4715: 'naughty...', 4716: 'nd', 4717: 'nd.', 4718: 'ndp', 4719: 'ne', 4720: 'near', 4721: 'nearer', 4722: 'nearer?', 4723: 'nearest', 4724: 'neber', 4725: 'need', 4726: 'need.', 4727: 'need...', 4728: 'needles?afraid', 4729: 'needs', 4730: 'nel', 4731: 'nemo', 4732: 'nemo!', 4733: 'nemo...', 4734: 'neo', 4735: 'netball', 4736: 'network', 4737: 'neva', 4738: 'never', 4739: 'new', 4740: 'news', 4741: 'news.', 4742: 'news...', 4743: 'newspaper', 4744: 'newspaper...', 4745: 'newsweek', 4746: 'next', 4747: \"ng's\", 4748: 'ni', 4749: 'ni...', 4750: 'nice', 4751: 'nice,', 4752: 'nice..', 4753: 'nice.my', 4754: 'nice?', 4755: 'nicer..', 4756: 'nicer...', 4757: 'nid', 4758: 'night', 4759: 'night,', 4760: 'night.', 4761: 'night...', 4762: 'night...am', 4763: 'night?', 4764: 'nights', 4765: 'niny', 4766: 'nit', 4767: 'nite', 4768: 'nite!', 4769: 'nite,', 4770: 'nite.', 4771: 'nite...', 4772: 'nite....', 4773: 'nite?', 4774: 'nitenite', 4775: 'nites!', 4776: 'nitez', 4777: 'nitez!', 4778: 'nitez...', 4779: 'nitez....', 4780: 'no', 4781: 'no,', 4782: 'no,wkends', 4783: 'no.', 4784: 'no..', 4785: 'no...', 4786: 'no.i', 4787: 'no.the', 4788: 'no?', 4789: 'no?!listened2the', 4790: 'nobody', 4791: 'noe', 4792: 'noe,', 4793: 'noe,same', 4794: 'noe.', 4795: 'noe...', 4796: 'noe...Im', 4797: 'noe...thx!', 4798: 'noe..?', 4799: 'non', 4800: \"noodles..Okok..I'll\", 4801: 'noon', 4802: 'noon...', 4803: 'nope', 4804: 'nope,', 4805: 'nope.', 4806: 'normal', 4807: 'nos', 4808: 'nose', 4809: 'nose.', 4810: 'nose...', 4811: 'not', 4812: 'not,', 4813: 'not.', 4814: 'not..', 4815: 'not...', 4816: 'not...A', 4817: 'not?', 4818: 'note', 4819: 'notes', 4820: 'nothin', 4821: 'nothing', 4822: 'noticed...', 4823: 'now', 4824: 'now!', 4825: 'now,', 4826: 'now.', 4827: 'now..', 4828: 'now...', 4829: 'now....', 4830: 'now...U', 4831: 'now...not', 4832: 'now...u', 4833: 'now.He', 4834: 'now.No', 4835: 'now.but', 4836: 'now.k,so', 4837: 'now?', 4838: 'nsf', 4839: 'nt', 4840: 'nt..', 4841: 'nt..Haha.U', 4842: 'nt?', 4843: 'ntg', 4844: 'nth', 4845: 'ntu', 4846: 'ntuc', 4847: 'num', 4848: 'num.i', 4849: 'number', 4850: 'number.n', 4851: 'number?', 4852: 'numbers', 4853: 'nus', 4854: 'nus!', 4855: 'nuther', 4856: 'nv', 4857: 'nv..', 4858: 'nvm', 4859: 'nvm,', 4860: 'nvm.', 4861: 'nvm...', 4862: 'nvr', 4863: 'nw', 4864: 'nw,', 4865: 'nw.', 4866: 'nw.Iras', 4867: 'nw.U', 4868: 'nw?', 4869: 'nw?97482959.', 4870: 'nx', 4871: 'nxt', 4872: 'nxt?', 4873: 'nydc', 4874: 'nydc...', 4875: 'nyp', 4876: 'o', 4877: 'o.my', 4878: 'objection?', 4879: 'obvious', 4880: 'obvious.', 4881: 'ocean', 4882: 'oct', 4883: 'oct,', 4884: 'odac', 4885: 'odd', 4886: 'of', 4887: 'of.', 4888: 'ofc...', 4889: 'off', 4890: 'off!', 4891: 'off!-smiles-', 4892: 'off..', 4893: 'off...', 4894: 'off....', 4895: \"off...i'm\", 4896: \"off?I'm\", 4897: 'offer', 4898: 'offer?!', 4899: 'office', 4900: 'office,', 4901: 'office.', 4902: 'office?', 4903: 'officers', 4904: 'offline', 4905: 'og', 4906: 'oh', 4907: 'oh!', 4908: 'oh...', 4909: 'oh..ok..should', 4910: 'oh..tt', 4911: 'ok', 4912: 'ok!', 4913: 'ok!jz', 4914: 'ok,', 4915: 'ok.', 4916: 'ok..', 4917: 'ok...', 4918: 'ok....still', 4919: 'ok...So', 4920: \"ok...We'll\", 4921: 'ok..Nvm', 4922: 'ok?', 4923: 'ok?Or', 4924: 'ok?if', 4925: 'okay', 4926: 'okay.', 4927: 'okay..', 4928: 'okay...', 4929: 'okay.Then', 4930: 'okay?', 4931: 'okay?then', 4932: 'okie', 4933: 'okie,', 4934: 'okie.', 4935: 'okie..', 4936: 'okie...Thk', 4937: 'okok...', 4938: 'old', 4939: 'old,', 4940: 'old.', 4941: 'on', 4942: 'on.', 4943: 'on..', 4944: 'on...', 4945: 'on?', 4946: 'once', 4947: 'once,', 4948: 'one', 4949: 'one,', 4950: 'one.', 4951: 'one..', 4952: 'one...', 4953: 'one....', 4954: 'one....thk', 4955: 'one...Haha...', 4956: 'one...Really,', 4957: 'one.Hehe..Ur', 4958: 'one.ask', 4959: 'one.i', 4960: \"one.it's\", 4961: 'one.so', 4962: 'one.thou', 4963: 'one.ñ', 4964: 'one.ü', 4965: 'one.ür', 4966: 'one?', 4967: 'ones', 4968: 'ones,', 4969: 'ones...', 4970: 'ones.heh2', 4971: 'oni.', 4972: 'oni...', 4973: 'onli.', 4974: 'online', 4975: 'online.', 4976: 'online...', 4977: 'online...After', 4978: 'online.did', 4979: 'online?', 4980: 'only', 4981: 'only.', 4982: 'only...', 4983: 'only...Haha,', 4984: 'only..no', 4985: 'only..so', 4986: 'only.hmm..yest', 4987: 'onto', 4988: 'onwards...', 4989: 'onwards....', 4990: 'onwards.i', 4991: 'open', 4992: 'open...', 4993: 'open.U', 4994: 'opening', 4995: 'opera', 4996: 'opportunities', 4997: 'opps..', 4998: 'opps...Hi...how', 4999: 'or', 5000: 'orchard', 5001: 'orchard...', 5002: 'orchard?', 5003: 'order', 5004: 'ordered', 5005: 'oreadi?', 5006: 'oredi', 5007: 'oredi,', 5008: 'oredi.', 5009: 'oredi..', 5010: 'oredi...', 5011: 'oredi?', 5012: 'oredi?I', 5013: 'oredi?Im', 5014: 'oreo', 5015: 'organise', 5016: 'oriedi', 5017: 'orientation', 5018: 'oso', 5019: 'oso,', 5020: 'oso.', 5021: 'oso..', 5022: 'oso...', 5023: 'oso....', 5024: 'oso...Den', 5025: 'oso...Other', 5026: 'oso.How', 5027: 'oso2', 5028: 'oters', 5029: 'other', 5030: 'our', 5031: 'ours', 5032: 'ourselves...', 5033: 'out', 5034: \"out!I'm\", 5035: 'out,', 5036: 'out,working', 5037: 'out.', 5038: 'out..', 5039: 'out...', 5040: 'out.Dun', 5041: 'out.Funny', 5042: 'out.We', 5043: 'out?', 5044: 'out?Its', 5045: 'outin', 5046: 'outing', 5047: 'outing.Can', 5048: 'outing?', 5049: 'outlet', 5050: 'outside', 5051: 'outside.', 5052: 'outside?', 5053: 'outsider', 5054: 'over', 5055: 'over.', 5056: 'over...', 5057: 'overall', 5058: 'oversea', 5059: 'overseas', 5060: 'owes', 5061: 'owis', 5062: 'owis,cos', 5063: 'own', 5064: 'own?', 5065: 'p', 5066: 'p.ple', 5067: 'p.ple.hw', 5068: 'package', 5069: 'pad', 5070: 'pagar', 5071: 'page', 5072: 'page...', 5073: 'page?', 5074: 'pages', 5075: 'pages.', 5076: 'pain', 5077: 'painting', 5078: 'pair', 5079: 'paiseh', 5080: 'paiseh.', 5081: 'paiseh...', 5082: 'pale', 5083: 'pang', 5084: 'panjang', 5085: 'pants', 5086: 'pao', 5087: 'paper.', 5088: 'paper...', 5089: 'paper?', 5090: 'papers', 5091: 'papers!', 5092: \"papers'\", 5093: 'papers..So', 5094: 'parade', 5095: 'parents', 5096: 'park', 5097: 'park,', 5098: 'park.', 5099: 'park..', 5100: 'park...', 5101: 'parkway', 5102: 'part', 5103: 'part...', 5104: 'partner', 5105: 'party', 5106: 'pass', 5107: 'pass.U', 5108: 'passed...', 5109: 'passin', 5110: 'passwd?', 5111: 'password', 5112: 'password...', 5113: 'past', 5114: 'pasta', 5115: 'pastry', 5116: 'pau..', 5117: 'pay', 5118: 'pay.', 5119: 'pay.heh2-', 5120: 'payment.', 5121: 'payoh', 5122: 'pdl', 5123: 'peeling', 5124: 'pei', 5125: 'pen!', 5126: 'peninsula', 5127: 'people', 5128: 'per', 5129: 'perak,', 5130: 'percaya?', 5131: 'perfectly', 5132: 'perfume,', 5133: 'perhaps...', 5134: 'period', 5135: 'period?cos', 5136: 'person', 5137: 'person..', 5138: 'person?ivle?', 5139: 'personally', 5140: \"pest's\", 5141: 'pesterin', 5142: 'petition', 5143: 'petty...', 5144: 'phone', 5145: 'phone!', 5146: 'phone,', 5147: 'phone...', 5148: 'phoned', 5149: 'phones', 5150: 'photo', 5151: 'photocopy', 5152: 'photog', 5153: 'photos', 5154: 'photos...', 5155: 'photostat', 5156: 'phy.', 5157: 'pia', 5158: 'pic', 5159: 'pic,', 5160: 'pick', 5161: 'picnic', 5162: 'pics,', 5163: 'piece', 5164: 'pieces', 5165: 'pieces.', 5166: 'pig', 5167: 'pigs?', 5168: 'pilates', 5169: 'pillow.So', 5170: 'pin', 5171: 'pink', 5172: 'pink.', 5173: 'pink...', 5174: 'pink?', 5175: 'piss', 5176: 'pitched', 5177: 'pits', 5178: 'pj.ur', 5179: 'pl', 5180: 'place', 5181: 'place!', 5182: 'place,', 5183: 'place.', 5184: 'place..', 5185: 'place...', 5186: 'place.ay,abt', 5187: 'place.blue', 5188: 'place?', 5189: 'places', 5190: 'plaid', 5191: 'plain', 5192: 'plan', 5193: 'plane', 5194: 'planned', 5195: 'planning', 5196: 'plans.', 5197: 'play', 5198: 'play,jz', 5199: 'play.', 5200: 'play...Höhò.', 5201: 'player', 5202: 'playin', 5203: 'playing', 5204: 'plaza', 5205: 'plc', 5206: 'plc,we', 5207: 'please', 5208: 'please.', 5209: 'pleasure', 5210: 'pls', 5211: 'pls.', 5212: 'pls...', 5213: 'pls....', 5214: 'pls?', 5215: 'plumbing,remixed', 5216: 'plus', 5217: 'plus.', 5218: 'plus...', 5219: 'plus...Sick', 5220: 'plz', 5221: 'plzZz...', 5222: 'pm.', 5223: 'pm....', 5224: 'po', 5225: 'pocay', 5226: 'poem', 5227: 'point', 5228: 'points', 5229: 'poke<', 5230: 'polo', 5231: 'poly', 5232: 'pon', 5233: 'pool', 5234: 'poorest', 5235: 'pop', 5236: 'popular', 5237: 'popular...', 5238: 'popularity.', 5239: 'positive', 5240: 'possible', 5241: 'possible...', 5242: 'post', 5243: 'posted', 5244: 'postings', 5245: 'potatoes,', 5246: 'potter', 5247: 'pouch...', 5248: 'pouring', 5249: 'ppl', 5250: 'ppl!', 5251: 'ppl.', 5252: 'pple', 5253: \"pple's\", 5254: 'pple...', 5255: 'pple.Ok?', 5256: 'pple?', 5257: 'practice', 5258: 'pray', 5259: 'prefer', 5260: 'prefer...', 5261: 'prefer?', 5262: 'preference', 5263: 'preoccupied.', 5264: 'prepare', 5265: 'prepared', 5266: 'present', 5267: 'present.', 5268: 'present...', 5269: 'presentation', 5270: 'presentation,', 5271: 'pretty', 5272: 'pretty...', 5273: 'price', 5274: 'price?', 5275: 'print', 5276: 'print...', 5277: 'print?', 5278: 'printer', 5279: 'prizes.', 5280: 'prob', 5281: 'prob,', 5282: 'prob..', 5283: 'prob...Hehe', 5284: 'probabilty', 5285: 'probably', 5286: 'probl...', 5287: 'problem', 5288: 'problem!', 5289: 'probs.See', 5290: 'product', 5291: 'production', 5292: 'profiles', 5293: 'programming', 5294: 'programming...', 5295: 'proj', 5296: 'proj?', 5297: 'project', 5298: 'project...', 5299: 'project?', 5300: 'promise', 5301: 'promise.', 5302: 'promised', 5303: 'promo', 5304: 'promote', 5305: 'promoting', 5306: 'promoting...', 5307: 'properly', 5308: 'prosperous', 5309: 'protect', 5310: 'ps.', 5311: 'pt', 5312: 'pt.', 5313: 'pt.Had', 5314: 'pts', 5315: 'pts..', 5316: 'pub', 5317: 'pubbin', 5318: 'pubing', 5319: 'public', 5320: 'publicity', 5321: 'punggol', 5322: 'punish', 5323: 'pure', 5324: 'put', 5325: 'puzzle', 5326: 'qet', 5327: 'qi', 5328: 'qiao...', 5329: 'qin', 5330: 'qn', 5331: 'qn,', 5332: 'qn...', 5333: 'qn?', 5334: 'qns', 5335: 'qns.', 5336: 'quality', 5337: 'quarantine', 5338: 'quaratined', 5339: 'quarrellin', 5340: 'queensway', 5341: 'queensway,', 5342: 'quick.', 5343: 'quickly.', 5344: 'quiet...', 5345: 'quiet?', 5346: 'quiet?u', 5347: 'quit', 5348: 'quite', 5349: 'quitin', 5350: 'r', 5351: 'r,', 5352: 'rag', 5353: 'rain', 5354: 'rain....', 5355: 'rainin', 5356: 'raining', 5357: 'raining...', 5358: 'ralph.', 5359: 'ramen', 5360: 'ranger', 5361: 'rather', 5362: 'rays', 5363: 'rd...', 5364: 're', 5365: 'reach', 5366: 'reach.', 5367: 'reach...', 5368: 'reach?', 5369: 'reached', 5370: 'reached?', 5371: 'reaching', 5372: 'reaching.', 5373: 'reaching...', 5374: 'reaching?', 5375: 'reaction', 5376: 'read', 5377: 'readin', 5378: 'reading', 5379: 'ready..', 5380: 'real', 5381: 'reali', 5382: 'reali...', 5383: 'realised', 5384: 'realising', 5385: 'realize', 5386: 'realized', 5387: 'realli', 5388: 'realli?', 5389: 'really', 5390: 'really.', 5391: 'really.oh.nearer', 5392: 'really?', 5393: \"reason.Anyway,i'll\", 5394: 'reb', 5395: 'rebecca', 5396: 'rebecca...', 5397: 'rec', 5398: \"rec'd\", 5399: 'receive', 5400: 'recently', 5401: 'recently.', 5402: 'recently...', 5403: 'recently?', 5404: 'recept,', 5405: 'recept?', 5406: 'recommendations?', 5407: 'record', 5408: 'recruit', 5409: 'recruits', 5410: 'red', 5411: 'reduce', 5412: 'reg', 5413: 'regina', 5414: 'registered', 5415: 'regrets..', 5416: 'relationship', 5417: 'relatives', 5418: 'relax,', 5419: 'relax.', 5420: 'relax...', 5421: 'relaxed', 5422: 'relive', 5423: 'rem', 5424: 'rem?Dats', 5425: 'remain', 5426: 'remb', 5427: 'remedy', 5428: 'remember', 5429: 'remembered!', 5430: 'remembered.', 5431: 'remind', 5432: 'remove', 5433: 'renew', 5434: 'renovated.so', 5435: 'rent', 5436: 'repair', 5437: 'repair...', 5438: 'replace', 5439: 'replacement?', 5440: 'replied', 5441: 'replied.', 5442: 'replies', 5443: 'replies?', 5444: 'reply', 5445: 'reply-', 5446: 'reply.', 5447: 'reply...', 5448: 'reply..Which', 5449: 'reply.Wuz', 5450: 'reply.reb', 5451: 'reply?U,yun', 5452: 'replying', 5453: 'report', 5454: 'reported', 5455: 'responding', 5456: 'responds', 5457: 'response', 5458: 'responses..get', 5459: 'responsible', 5460: 'rest', 5461: 'rest..', 5462: 'restaurant', 5463: 'rested.', 5464: 'resting', 5465: 'result', 5466: 'result...Wish', 5467: 'results', 5468: 'results.', 5469: 'resume', 5470: 'retrieve', 5471: 'return', 5472: 'reunion?', 5473: 'review', 5474: 'revision', 5475: 'ric.Where', 5476: 'rice', 5477: 'ridge', 5478: 'right', 5479: 'right.', 5480: 'right..', 5481: 'right...', 5482: 'right....', 5483: 'right?', 5484: 'rin', 5485: 'ring', 5486: 'rite', 5487: 'rite,', 5488: 'rite,haha.', 5489: 'rite.', 5490: 'rite..', 5491: 'rite...', 5492: 'rite....', 5493: 'rite?', 5494: 'rite?hmm..this', 5495: 'river', 5496: 'riverwalk...', 5497: 'rm', 5498: 'rminds', 5499: 'road?', 5500: 'roads!RVx', 5501: 'roaming!', 5502: 'roast', 5503: 'rocks!', 5504: 'roller', 5505: 'roman', 5506: 'romny1980@hotmail.c', 5507: 'ron', 5508: 'room', 5509: 'room!', 5510: 'room...', 5511: 'room?', 5512: 'rot', 5513: 'roughly', 5514: 'round', 5515: 'round,that', 5516: 'round..', 5517: 'rounds', 5518: 'row', 5519: 'row,', 5520: 'roy', 5521: 'roy!', 5522: 'roy...stil', 5523: 'rub', 5524: 'rude', 5525: 'rule', 5526: 'rules', 5527: 'run', 5528: 'running', 5529: 'running?', 5530: 'rush', 5531: 'rushing', 5532: 'rushing?', 5533: 'rusty...', 5534: 'ryan', 5535: 's', 5536: 's56!', 5537: 's?', 5538: 'sabah?', 5539: 'sad', 5540: 'sad,', 5541: 'sad.', 5542: 'sad..', 5543: 'sad...', 5544: 'sad...i', 5545: 'sad..:(', 5546: 'safe', 5547: 'said', 5548: 'said.but', 5549: 'said?', 5550: 'sailing', 5551: 'sailing,', 5552: 'saimee', 5553: 'sakae', 5554: 'sake?!', 5555: 'sale', 5556: 'sales', 5557: 'same', 5558: 'same.', 5559: 'same..', 5560: 'samurai', 5561: 'sandals...', 5562: 'sape', 5563: 'sardines', 5564: 'sars,actually', 5565: 'sars...', 5566: 'sat', 5567: 'sat.', 5568: 'sat..', 5569: 'sat...', 5570: 'sat?', 5571: 'satsgettin', 5572: 'saturday', 5573: 'saturday?', 5574: 'save', 5575: 'saw', 5576: 'saw?', 5577: 'say', 5578: \"say,I'm\", 5579: 'say.', 5580: 'say...', 5581: 'say?', 5582: 'sayin', 5583: 'saying', 5584: 'saying.', 5585: 'says', 5586: \"says:there'll\", 5587: 'scare', 5588: 'scared', 5589: 'scary...', 5590: 'sch', 5591: 'sch,', 5592: 'sch,dere', 5593: 'sch,make', 5594: 'sch.', 5595: 'sch..', 5596: 'sch...', 5597: 'sch?', 5598: 'sch?Think', 5599: 'school', 5600: 'school?', 5601: 'sci', 5602: 'sci...', 5603: 'sci.I', 5604: 'sci?', 5605: 'science', 5606: 'scold', 5607: 'score', 5608: 'scratch', 5609: 'screen', 5610: 'se..', 5611: 'sean.', 5612: 'search', 5613: 'seat', 5614: 'seat,', 5615: 'seat?', 5616: 'seats', 5617: 'seats.', 5618: 'seats?', 5619: 'sec', 5620: 'secret...', 5621: 'see', 5622: 'see....', 5623: 'seed.', 5624: 'seeing', 5625: 'seem', 5626: 'seems', 5627: 'seen', 5628: 'select', 5629: 'self', 5630: 'self-conscious', 5631: 'self.', 5632: 'sell', 5633: 'sellin', 5634: 'selling', 5635: 'sem', 5636: 'sem.wad', 5637: 'sem?', 5638: 'semd', 5639: 'send', 5640: 'send?', 5641: 'sendin', 5642: 'sending', 5643: 'seniors', 5644: 'sent', 5645: 'sentosa', 5646: 'sentosa.', 5647: 'sentosa...can', 5648: 'seow', 5649: 'sep?', 5650: 'serangoon', 5651: 'serangoon.', 5652: 'serious?', 5653: 'service', 5654: 'session', 5655: 'set', 5656: 'sets...', 5657: 'settle', 5658: 'seven', 5659: 'sg', 5660: 'shall', 5661: 'shan', 5662: 'shanghai..', 5663: 'share', 5664: \"shareholder's\", 5665: 'sharing?', 5666: 'sharis,', 5667: 'sharis,gen', 5668: 'sharis,r', 5669: 'sharp.', 5670: 'shd', 5671: 'she', 5672: \"she'll\", 5673: \"she's\", 5674: 'sheet', 5675: 'shexy?', 5676: 'shift', 5677: 'shinny', 5678: 'shiok', 5679: 'shirt.', 5680: 'shit', 5681: 'shit!jz', 5682: 'shld', 5683: 'shocked', 5684: 'shoe.', 5685: 'shoes...', 5686: 'shop', 5687: 'shop,', 5688: 'shop.', 5689: 'shop...', 5690: 'shop?', 5691: 'shoppg', 5692: 'shoppin,', 5693: 'shoppin.', 5694: 'shopping', 5695: 'shopping?', 5696: 'short', 5697: 'short.', 5698: 'shorts', 5699: 'shots', 5700: 'should', 5701: 'show', 5702: 'show,', 5703: 'show.', 5704: 'show?', 5705: 'show?!!', 5706: 'shufen', 5707: 'shufen...', 5708: 'shuhui', 5709: 'shuhui.', 5710: 'shy', 5711: 'si', 5712: 'sia', 5713: 'sia.', 5714: 'siam', 5715: 'sian', 5716: 'sian,', 5717: 'sianz,', 5718: 'siao..', 5719: 'sick', 5720: 'sick...', 5721: 'side', 5722: 'side...', 5723: 'sideways...if', 5724: 'sign', 5725: 'signin', 5726: 'silent', 5727: 'similar', 5728: 'simon,', 5729: 'simple', 5730: 'since', 5731: 'sine?', 5732: 'sing', 5733: 'singapore', 5734: 'singapore.', 5735: 'single', 5736: 'sir!', 5737: 'sis', 5738: 'sis?', 5739: 'sit', 5740: 'sittin', 5741: 'situation', 5742: 'size', 5743: 'sizzler.', 5744: 'skill.', 5745: 'skin', 5746: 'skin.', 5747: 'skin...', 5748: 'skip', 5749: 'skirt...', 5750: 'slack', 5751: 'slackg', 5752: 'slackin', 5753: 'slacking', 5754: 'sleep', 5755: 'sleep,', 5756: 'sleep.', 5757: 'sleep....', 5758: 'sleepin', 5759: 'sleepin,', 5760: 'sleepin...', 5761: 'sleepin?Ok...', 5762: 'sleeping', 5763: 'sleeping...', 5764: 'sleepy', 5765: 'slice?', 5766: 'slightly', 5767: 'slighty', 5768: 'sloggin', 5769: 'slot', 5770: 'slot....', 5771: 'slow', 5772: 'slp', 5773: 'slp,', 5774: 'slp..', 5775: 'slpin', 5776: 'slpt?', 5777: 'small', 5778: 'small,', 5779: 'small.', 5780: 'smallville..', 5781: 'smashed', 5782: 'sme', 5783: 'smebody', 5784: 'smethg', 5785: 'smile', 5786: 'smile,', 5787: 'smith', 5788: 'smoke', 5789: 'smokin', 5790: 'smooth', 5791: 'sms', 5792: 'sms!', 5793: 'sms-ing', 5794: 'smth', 5795: 'smting', 5796: 'smting...', 5797: 'smu', 5798: 'smu,', 5799: 'smu...', 5800: 'sn', 5801: 'snacks', 5802: 'snatch', 5803: 'sneaks', 5804: 'so', 5805: 'so,', 5806: 'so...', 5807: 'so..juz', 5808: 'so?', 5809: 'sob..', 5810: 'soc', 5811: 'soc..Can', 5812: 'soccer', 5813: 'soccer,', 5814: 'sol??', 5815: 'sold', 5816: 'solution', 5817: 'some', 5818: 'some...', 5819: 'somebdy', 5820: 'somebody', 5821: 'somemore', 5822: 'somemore!', 5823: 'somemore...', 5824: 'someone', 5825: 'somerset', 5826: 'somethin', 5827: 'somethin...', 5828: 'something', 5829: 'something..', 5830: 'something...Haha', 5831: 'something?', 5832: 'sometime', 5833: 'sometime...', 5834: 'somewhere', 5835: 'soon', 5836: 'soon.', 5837: 'soon..', 5838: 'soon...', 5839: 'soon..Ü', 5840: 'soon.or', 5841: 'soon?', 5842: 'soooo', 5843: 'sorrie', 5844: 'sorry', 5845: 'sorry!', 5846: 'sorry,', 5847: 'sorry..', 5848: 'sorry...', 5849: 'sorry..use', 5850: 'sorta', 5851: 'soul', 5852: 'sound', 5853: 'sounded', 5854: 'sounds', 5855: 'space', 5856: 'spacing?', 5857: 'spare...', 5858: 'speak', 5859: 'special', 5860: 'specially', 5861: 'speed', 5862: 'speed.', 5863: 'spend', 5864: 'spending', 5865: 'spent', 5866: \"spinelli's\", 5867: 'spoiled', 5868: 'spoke', 5869: 'spoken', 5870: 'spore', 5871: 'spore?', 5872: 'sports', 5873: 'sports.', 5874: 'spot', 5875: 'spread', 5876: 'sprean?', 5877: 'sq', 5878: 'squash', 5879: 'st', 5880: 'st...alannah', 5881: 'st.but', 5882: 'stairs', 5883: 'stalk', 5884: 'stalkin', 5885: 'stand', 5886: 'standard', 5887: 'starhub', 5888: 'stars', 5889: 'stars.Thanx', 5890: 'start', 5891: 'start,so', 5892: 'start...', 5893: 'start?', 5894: 'started', 5895: 'starting?', 5896: 'starts', 5897: 'starz', 5898: 'state...', 5899: 'station', 5900: 'station...', 5901: 'stats', 5902: 'stats?', 5903: 'stay', 5904: 'stay?', 5905: 'stayback', 5906: 'stayed', 5907: 'stayin', 5908: 'staying', 5909: 'stays', 5910: 'stella', 5911: 'step', 5912: 'stepbystep', 5913: 'sth', 5914: 'sth,', 5915: 'sth...', 5916: 'stick', 5917: 'stick.', 5918: 'stil', 5919: 'stil?', 5920: 'still', 5921: 'stinge...', 5922: 'stinky', 5923: 'stn', 5924: 'stocks', 5925: 'stop', 5926: 'stop...', 5927: 'stoppin', 5928: 'store', 5929: 'storey', 5930: 'straight', 5931: 'strange', 5932: 'strawberry', 5933: 'strength', 5934: 'stress', 5935: 'stricter', 5936: 'stripes', 5937: 'strong', 5938: 'stuck', 5939: 'stud', 5940: 'student', 5941: 'study', 5942: 'study-or', 5943: 'study..', 5944: 'studyin', 5945: 'studyin...less', 5946: 'studying', 5947: 'studying.', 5948: 'studying..', 5949: 'studying?', 5950: 'stuff', 5951: 'stuff,', 5952: 'stuff.', 5953: 'stuff...', 5954: 'stuff.i', 5955: 'stuff?', 5956: 'stuffs.', 5957: 'stupid', 5958: 'stupid...', 5959: 'styles', 5960: 'suan', 5961: 'suay', 5962: 'sub', 5963: 'subject.haha-', 5964: 'subm', 5965: 'submit', 5966: 'submitted?', 5967: 'such', 5968: 'suddenly', 5969: 'sugardaddy', 5970: 'sugardaddy...', 5971: 'suggest', 5972: 'suggested', 5973: 'suggestions?', 5974: 'suit.', 5975: 'sultan', 5976: \"sultan's\", 5977: 'sultan,', 5978: 'sum', 5979: 'sum1', 5980: 'sumting', 5981: 'sun', 5982: \"sun's\", 5983: 'sun,', 5984: 'sun?', 5985: 'sunburn,', 5986: 'sunday', 5987: 'sunday.', 5988: 'sunday?', 5989: 'sunny', 5990: 'sunny!change', 5991: 'sunrise.', 5992: 'suntec', 5993: 'suntec.', 5994: 'suntec...', 5995: 'sup', 5996: 'super', 5997: 'superstition', 5998: 'supervisor', 5999: 'supper', 6000: 'support', 6001: 'supported', 6002: 'suppose', 6003: 'supposed', 6004: 'sure', 6005: 'sure.', 6006: 'sure...', 6007: 'sure...Gee...', 6008: 'surely', 6009: 'surf', 6010: 'surface.....', 6011: 'surname', 6012: 'surpass', 6013: 'surprise!', 6014: 'survey', 6015: 'suspect', 6016: 'suxs!', 6017: 'suying', 6018: 'sweater', 6019: 'sweet', 6020: 'sweet...', 6021: 'sweety', 6022: 'swim', 6023: 'swimming?', 6024: 'sydney', 6025: 'sympathise!', 6026: 'system', 6027: 't', 6028: 't-shirt', 6029: 't.', 6030: 'table', 6031: 'table...', 6032: 'tai', 6033: 'tailor', 6034: 'taka', 6035: 'taka...', 6036: 'take', 6037: 'take..', 6038: 'take...', 6039: 'take?', 6040: 'taken', 6041: 'takin', 6042: 'taking', 6043: 'taking?', 6044: 'talk', 6045: 'talk.', 6046: 'talk.Sheesh.Wat', 6047: 'talkg', 6048: 'talking', 6049: 'taller', 6050: 'tanjong', 6051: 'tanks', 6052: 'tanks,', 6053: 'tap', 6054: 'tape', 6055: 'tape?', 6056: 'taste', 6057: 'tasty.', 6058: 'tat', 6059: 'tat?', 6060: 'tau', 6061: 'taxi', 6062: 'taxin', 6063: 'taxing', 6064: 'tazz,', 6065: 'tb', 6066: 'tb,', 6067: 'tcs...', 6068: 'tday....my', 6069: 'teach', 6070: 'teacher', 6071: 'teaching', 6072: 'teasin', 6073: 'technician', 6074: 'tel', 6075: 'telemarketin', 6076: 'telemkt.i', 6077: 'telemktg.cos', 6078: 'telemktin', 6079: 'tell', 6080: 'temp', 6081: 'temple', 6082: 'ten', 6083: 'tent', 6084: 'tents', 6085: 'tents...onli', 6086: 'ter', 6087: 'ter.', 6088: 'ter.Hehehe', 6089: 'terence', 6090: 'term', 6091: 'term...', 6092: 'terminal', 6093: 'terok.', 6094: 'terrible.I', 6095: 'test', 6096: 'test!', 6097: 'test..', 6098: 'test?', 6099: 'tester', 6100: 'tester!', 6101: 'tester...', 6102: 'testimonial', 6103: 'testimonial.I', 6104: 'tests', 6105: 'thai', 6106: 'thai.', 6107: 'thailand', 6108: 'than', 6109: 'than..', 6110: 'thank', 6111: 'thanks', 6112: 'thanks.', 6113: 'thanks...', 6114: 'thanx', 6115: 'thanx.', 6116: 'thanx...', 6117: 'that', 6118: 'that!', 6119: \"that's\", 6120: 'that...', 6121: 'that?', 6122: 'thats', 6123: 'the', 6124: 'their', 6125: 'them', 6126: 'them.', 6127: 'then', 6128: 'then!', 6129: 'then,', 6130: 'then,paiseh', 6131: 'then.', 6132: 'then..', 6133: 'then...', 6134: 'then...Did', 6135: 'then.When', 6136: 'then?', 6137: 'theory', 6138: 'there', 6139: 'there!', 6140: \"there's\", 6141: 'there,', 6142: 'there,wanna', 6143: 'there.', 6144: 'there...', 6145: 'there...Jog', 6146: 'there.No', 6147: 'there4', 6148: 'there?', 6149: 'thermometer', 6150: 'they', 6151: \"they'll\", 6152: \"they've\", 6153: 'thgs,', 6154: 'thgt', 6155: 'thick', 6156: 'thicker', 6157: 'thin', 6158: 'thing', 6159: 'thing.', 6160: 'thing?', 6161: 'things', 6162: 'think', 6163: 'think.', 6164: 'think?', 6165: 'thinkin', 6166: 'thinking', 6167: 'thirty', 6168: 'this', 6169: 'this.', 6170: 'this?', 6171: 'thk', 6172: 'thk...', 6173: 'thkg', 6174: 'thkin', 6175: 'thks', 6176: 'thn', 6177: 'those', 6178: 'thot', 6179: 'thou', 6180: 'thou...', 6181: 'though', 6182: 'though...', 6183: 'thought', 6184: 'three', 6185: 'thrice', 6186: 'thru', 6187: 'thru!', 6188: 'thrus', 6189: 'tht', 6190: 'thu', 6191: 'thu,', 6192: 'thumb', 6193: 'thur', 6194: 'thurs', 6195: 'thurs.', 6196: 'thurs?', 6197: 'thx', 6198: 'ticket', 6199: 'tickets', 6200: 'tickets...Are', 6201: 'ticks', 6202: 'tight', 6203: 'tight.', 6204: 'til', 6205: 'till', 6206: 'timah', 6207: 'time', 6208: 'time,', 6209: 'time-hope', 6210: 'time.', 6211: 'time...', 6212: 'time....', 6213: 'time...Crepes', 6214: 'time...Goin', 6215: 'time..?', 6216: 'time..I', 6217: 'time.can', 6218: 'time.Ü', 6219: 'time?', 6220: 'time?meet', 6221: 'timer', 6222: 'timer...How?', 6223: 'times', 6224: 'timetable?', 6225: 'timing', 6226: 'tina', 6227: 'ting...', 6228: 'tink', 6229: \"tink....-fion's\", 6230: 'tinking', 6231: 'tiong', 6232: 'tired', 6233: 'tired,ü', 6234: 'tired.', 6235: 'tired...', 6236: 'tiring', 6237: 'tis', 6238: 'tit', 6239: 'tite!', 6240: 'tix', 6241: 'tk', 6242: 'tks.', 6243: 'tm', 6244: 'tml', 6245: 'tml,', 6246: 'tml.', 6247: 'tml..', 6248: 'tml?', 6249: 'tmr', 6250: 'tmr!', 6251: \"tmr's\", 6252: 'tmr,', 6253: 'tmr.', 6254: 'tmr..', 6255: 'tmr...', 6256: 'tmr...=)', 6257: 'tmr..How', 6258: 'tmr.Open', 6259: 'tmr?', 6260: 'tmr?just', 6261: 'to', 6262: 'to...Keekee..', 6263: 'to?', 6264: 'toa', 6265: 'toaster...', 6266: 'todae', 6267: 'todae?', 6268: 'today', 6269: 'today!', 6270: 'today,', 6271: 'today.', 6272: 'today...', 6273: 'today.Ü', 6274: 'today?', 6275: 'today?Gd?Taken', 6276: 'today?Wanna', 6277: 'together', 6278: 'together...', 6279: 'together....mayb', 6280: 'together?', 6281: 'toilet', 6282: 'toilet....', 6283: 'toilet...Raffles', 6284: 'tok', 6285: 'tokin', 6286: 'toking', 6287: 'tokking', 6288: 'told', 6289: 'tom', 6290: 'tommorow', 6291: 'tommorow.btw,', 6292: 'tommorow.thank', 6293: 'tomoro', 6294: 'tomorrow', 6295: 'tomorrow?', 6296: 'tomw', 6297: 'tone,then', 6298: 'toni', 6299: 'tonight', 6300: 'tonight.', 6301: 'tonight...', 6302: 'tonight.Go', 6303: 'tonight?', 6304: 'tonite', 6305: 'tonite,', 6306: 'tonite.', 6307: 'tonite..', 6308: 'tonite...', 6309: 'tonsolitus', 6310: 'tony', 6311: 'too', 6312: 'too!', 6313: 'too,', 6314: 'too.', 6315: 'too..', 6316: 'too...', 6317: 'too...not', 6318: 'too.thanx!tk', 6319: 'too?', 6320: 'took', 6321: 'tooth', 6322: 'top', 6323: \"top...I'll\", 6324: 'topic', 6325: 'topics', 6326: 'topics?', 6327: 'tot', 6328: 'total', 6329: 'total!', 6330: 'totally', 6331: 'touch', 6332: 'tough', 6333: 'tournament.', 6334: 'tours', 6335: 'towels?', 6336: 'town', 6337: 'town.', 6338: 'town...', 6339: 'town?', 6340: 'toysarus?', 6341: 'tp', 6342: 'tph', 6343: 'tpp.i', 6344: 'tpy', 6345: 'tpy?', 6346: 'track', 6347: 'trade', 6348: 'traffic', 6349: 'train', 6350: 'trainee', 6351: 'training', 6352: 'training.', 6353: 'transcend', 6354: 'transport', 6355: 'tray', 6356: 'treat', 6357: 'treated', 6358: 'trg', 6359: 'trial', 6360: 'tried', 6361: 'trim', 6362: 'trip', 6363: 'trip!And', 6364: 'trip.', 6365: 'trip...Weather', 6366: 'trip?', 6367: 'trouble', 6368: 'true', 6369: 'true!', 6370: 'true.', 6371: 'true...', 6372: 'truth', 6373: 'try', 6374: 'try...Coz', 6375: 'tryin', 6376: 'trying', 6377: 'tsk', 6378: 'tsk...e', 6379: 'tt', 6380: \"tt's\", 6381: 'tt...', 6382: 'tt.ñ', 6383: 'ttfn!', 6384: 'tuas.', 6385: 'tuas...', 6386: 'tubes', 6387: 'tue', 6388: 'tue..', 6389: 'tues', 6390: 'tues.', 6391: 'tues.I', 6392: 'tues?', 6393: 'tuition', 6394: 'tuition?', 6395: 'turf', 6396: 'turn', 6397: 'turning', 6398: 'tut', 6399: 'tut?', 6400: 'tutor.', 6401: 'tutor.Muz', 6402: 'tutorial', 6403: \"tutorial's\", 6404: 'tv', 6405: 'tv,', 6406: 'tv.', 6407: 'tv?', 6408: 'twice,', 6409: 'twice.', 6410: 'twinkle', 6411: 'twins', 6412: 'two', 6413: 'two?wad', 6414: 'txt', 6415: 'type', 6416: 'type....hehe..:p', 6417: 'u', 6418: 'u!', 6419: \"u'd\", 6420: \"u'll\", 6421: \"u're\", 6422: 'u,', 6423: 'u,k?', 6424: 'u.', 6425: 'u..', 6426: 'u...', 6427: 'u...=)', 6428: 'u...haha..', 6429: 'u..Hee..Can?Future', 6430: 'u.Can?Wat', 6431: 'u.Irritate', 6432: 'u.Keke..', 6433: 'u.but', 6434: 'u.i', 6435: 'u.paul,', 6436: 'u2...', 6437: 'u?', 6438: 'u?care', 6439: 'u?intro', 6440: 'ubi', 6441: 'ugly', 6442: 'ugly...', 6443: 'uh...im', 6444: 'uncle', 6445: 'understan.Blood', 6446: 'understand', 6447: 'understand...', 6448: 'uni', 6449: 'uni...', 6450: 'uni..mi', 6451: 'uni?', 6452: 'uniform', 6453: 'unique', 6454: 'unique&I', 6455: 'unit', 6456: 'unit.', 6457: 'university', 6458: 'unix', 6459: 'unlimited', 6460: 'unrestricted', 6461: 'unsure.', 6462: 'until', 6463: 'until?', 6464: 'unwell?', 6465: 'up', 6466: 'up!', 6467: \"up'..\", 6468: 'up,', 6469: 'up,im', 6470: 'up.', 6471: 'up..', 6472: 'up...', 6473: 'up.btw,ü', 6474: 'up.wad', 6475: 'up?', 6476: 'update', 6477: 'updated', 6478: 'upload', 6479: 'upstairs', 6480: 'upto', 6481: 'ur', 6482: 'urgent', 6483: 'url', 6484: 'urs', 6485: 'urs.', 6486: 'urself', 6487: 'urself!', 6488: 'urself.', 6489: 'urself...', 6490: 'us', 6491: 'us,', 6492: 'us...', 6493: 'us.hee-', 6494: 'us?', 6495: 'us@Amore', 6496: 'use', 6497: 'use...', 6498: 'used', 6499: 'user', 6500: 'usin', 6501: 'using', 6502: 'usual,', 6503: 'usually', 6504: 'utilise', 6505: 'v', 6506: 'v.good', 6507: 'v.keen', 6508: 'v.lan.', 6509: 'vacancies...', 6510: 'vacancies.tis', 6511: 'vacancy', 6512: 'vain', 6513: 'valley.', 6514: 'vampire', 6515: 'vat...', 6516: 'vcd!', 6517: 've', 6518: 'veggies...', 6519: 'venue', 6520: 'veri', 6521: 'very', 6522: 'vet?', 6523: 'view', 6524: 'views.:p', 6525: 'vill', 6526: 'village?', 6527: 'violyn', 6528: 'visit', 6529: 'vivian', 6530: 'vodka,pool', 6531: 'vry', 6532: 'w', 6533: 'w?', 6534: 'wa', 6535: \"wa's\", 6536: 'wa..', 6537: 'wacky', 6538: 'wad', 6539: 'wad..', 6540: 'wad...', 6541: 'wad?', 6542: 'wadever', 6543: 'wads', 6544: 'wads?btw,who', 6545: 'wah,', 6546: 'wait', 6547: 'wait...Haha', 6548: 'wait?', 6549: 'waitg', 6550: 'waitin', 6551: 'waiting', 6552: 'waiting...', 6553: 'waitress', 6554: 'waitress...', 6555: 'wake', 6556: 'wakey.>poke', 6557: 'waking', 6558: 'walk', 6559: 'walk,', 6560: 'walk?', 6561: 'walked', 6562: 'walkin', 6563: 'walking', 6564: 'walking...', 6565: 'wallet', 6566: 'wallet...Mac', 6567: 'wan', 6568: 'wan,', 6569: 'wan...', 6570: 'wan....', 6571: 'wan2', 6572: 'wan?', 6573: 'wana', 6574: 'wanna', 6575: 'wannna', 6576: 'wans', 6577: 'wans...', 6578: 'want', 6579: 'want...', 6580: 'want?', 6581: 'wanted', 6582: 'wanting', 6583: 'wants', 6584: 'was', 6585: 'wash', 6586: 'wasnt', 6587: 'waste', 6588: 'wat', 6589: \"wat's\", 6590: 'wat,', 6591: 'wat.', 6592: 'wat..', 6593: 'wat...', 6594: 'wat.i', 6595: 'wat?', 6596: 'watch', 6597: 'watch!', 6598: 'watch.', 6599: 'watch?', 6600: 'watched', 6601: 'watchin', 6602: 'watchin?', 6603: 'watching', 6604: 'watching?', 6605: 'water?', 6606: 'watever', 6607: 'wats', 6608: 'wawa', 6609: \"wawa's\", 6610: 'way', 6611: 'way!', 6612: 'way&this', 6613: 'way,', 6614: 'way,call', 6615: 'way.', 6616: 'way..', 6617: 'way.I', 6618: 'waz', 6619: 'we', 6620: \"we'll\", 6621: \"we'r\", 6622: \"we've\", 6623: 'wealth', 6624: 'wear', 6625: 'wear...Vv', 6626: 'wear.tats', 6627: 'wearing', 6628: 'weather', 6629: 'weather.', 6630: 'webpage', 6631: 'website', 6632: 'website?', 6633: 'wed', 6634: 'wed!', 6635: 'wed..', 6636: 'wed...', 6637: 'wed...Paiseh', 6638: 'wednesday', 6639: 'wednesday.', 6640: 'week', 6641: 'week.', 6642: 'week?', 6643: 'week???', 6644: 'weekday...', 6645: 'weekend', 6646: 'weekend.', 6647: 'weekend?', 6648: 'weekends', 6649: 'weeks', 6650: 'wei', 6651: 'weight', 6652: 'weight...', 6653: 'weight?', 6654: 'weird', 6655: 'weirdest', 6656: 'weiyi', 6657: 'weiyi...', 6658: 'weiyi?', 6659: 'well', 6660: 'well!!', 6661: 'well!i', 6662: 'well,gota', 6663: 'well,jia', 6664: 'well,pass', 6665: 'well,so', 6666: 'well.', 6667: 'well...', 6668: 'went', 6669: 'were', 6670: 'were....But', 6671: 'west', 6672: 'wet', 6673: 'wf', 6674: 'wf,', 6675: 'whackers33@hotmail.com.', 6676: 'what', 6677: \"what's\", 6678: 'whatever', 6679: 'whats', 6680: 'when', 6681: 'when?', 6682: 'whens', 6683: 'where', 6684: \"where's\", 6685: 'where...Town?', 6686: 'where?', 6687: 'wheres', 6688: 'whether', 6689: 'which', 6690: 'while', 6691: 'while...', 6692: 'while?', 6693: 'whill', 6694: 'who', 6695: \"who's\", 6696: 'whole', 6697: 'whoo!', 6698: 'whose', 6699: 'wht', 6700: 'why', 6701: 'why...', 6702: 'wich', 6703: 'wid', 6704: 'wide', 6705: 'wif', 6706: 'wil', 6707: 'will', 6708: 'will...', 6709: 'win', 6710: 'win.', 6711: 'wind', 6712: 'windows', 6713: 'wine', 6714: 'wine,', 6715: 'wine...', 6716: 'winery...', 6717: 'wing', 6718: 'wireless', 6719: 'wish', 6720: 'wishes', 6721: 'wisma', 6722: 'wit', 6723: 'with', 6724: 'within', 6725: 'without', 6726: 'wk', 6727: \"wk's\", 6728: 'wk,', 6729: 'wk-self', 6730: 'wk.', 6731: 'wk...', 6732: 'wk.ay,but', 6733: 'wk?', 6734: 'wkend', 6735: 'wkends...', 6736: 'wkg', 6737: 'wkplace', 6738: 'wks', 6739: 'wks,', 6740: 'wks.', 6741: 'wks...', 6742: 'wld', 6743: 'wo....', 6744: 'wocay', 6745: 'woke', 6746: 'wombat', 6747: 'wombat.', 6748: 'won', 6749: 'wonder', 6750: 'wonderful', 6751: 'wondering', 6752: 'wont', 6753: 'wood', 6754: 'wooden', 6755: 'work', 6756: 'work...', 6757: 'work....', 6758: \"work.I'll\", 6759: 'work?', 6760: 'workers', 6761: 'workg', 6762: 'workg...Wat', 6763: 'workin', 6764: 'workin?', 6765: 'working', 6766: 'working.', 6767: 'working?', 6768: 'worried', 6769: 'worries', 6770: 'worry', 6771: 'worry,', 6772: 'worry...', 6773: 'worry..we', 6774: 'worse', 6775: 'worth', 6776: 'wot', 6777: 'would', 6778: 'wow', 6779: 'wrg', 6780: 'write', 6781: 'writing,', 6782: 'wrk', 6783: 'wrking', 6784: 'wrks', 6785: 'wrong', 6786: 'wru?i', 6787: 'wt', 6788: 'wtc', 6789: 'wth', 6790: 'wud', 6791: 'wuldnt', 6792: 'wun', 6793: 'wuz', 6794: 'www.miworld.com.sg', 6795: 'wöuld', 6796: 'xf', 6797: 'xf...', 6798: 'xian.....', 6799: 'xie', 6800: 'xin', 6801: 'xin,', 6802: 'xin...', 6803: 'xinyi', 6804: 'xp?', 6805: 'xroom?', 6806: 'xuhui..but', 6807: 'xy', 6808: 'xy:Tomw', 6809: 'xyan', 6810: 'xyan.', 6811: 'y', 6812: 'y...', 6813: 'y?', 6814: 'ya', 6815: 'ya!', 6816: 'ya,', 6817: 'ya.', 6818: 'ya..', 6819: 'ya..+send', 6820: 'ya...', 6821: 'ya....take', 6822: 'ya.hee-', 6823: 'ya.r', 6824: 'ya?', 6825: 'yah', 6826: 'yah,', 6827: 'yah.', 6828: 'yah?', 6829: 'yan', 6830: 'yck', 6831: 'yck,', 6832: 'yck?', 6833: 'yeah', 6834: 'year', 6835: 'year!', 6836: 'year....', 6837: 'yep', 6838: 'yes', 6839: 'yes!', 6840: 'yes,', 6841: 'yes?ms', 6842: 'yest', 6843: 'yest...', 6844: 'yest.btw,u', 6845: 'yesterday?', 6846: 'yet', 6847: 'yet,', 6848: 'yet.', 6849: 'yet..', 6850: 'yet...', 6851: 'yet?', 6852: 'yi?', 6853: 'yijue', 6854: 'yijue?', 6855: 'yin', 6856: \"yin's\", 6857: 'yin...', 6858: 'yiyun', 6859: 'yiyun?', 6860: 'yo', 6861: 'yo...', 6862: 'yoga?', 6863: 'yogasana', 6864: 'yoghurt', 6865: 'yoghurt,', 6866: 'yoghurt...', 6867: 'yong', 6868: 'you', 6869: 'you!', 6870: \"you're\", 6871: 'you.', 6872: 'you..', 6873: 'you...', 6874: 'you.see', 6875: 'you?', 6876: 'young..', 6877: 'young...', 6878: 'your', 6879: \"your's\", 6880: 'yours', 6881: 'yours!', 6882: 'yours?', 6883: 'yourself', 6884: 'yourself.', 6885: 'yourself...', 6886: 'yoz', 6887: 'yr', 6888: 'yr.', 6889: 'yr...', 6890: 'yr.If', 6891: 'yrs', 6892: 'yrs.', 6893: 'yrs?', 6894: 'yrself', 6895: 'yrself!', 6896: 'ytd...', 6897: 'yucks', 6898: 'yum', 6899: 'yum...', 6900: 'yummy..', 6901: 'yun', 6902: 'yun,', 6903: 'yun...', 6904: 'yun.r', 6905: 'yup', 6906: 'yup,', 6907: 'yup..', 6908: 'yup...me', 6909: 'yupz...if', 6910: 'yur', 6911: 'zha...', 6912: 'zheng', 6913: 'zhun,', 6914: 'zi', 6915: 'zip', 6916: 'ziping?', 6917: 'zoo', 6918: 'zouk', 6919: 'zzz.nitey', 6920: '£48,', 6921: 'Ñ', 6922: 'Ü', 6923: 'Ü.', 6924: 'ä', 6925: 'äbt', 6926: 'è', 6927: 'èn', 6928: 'é', 6929: 'ñ', 6930: 'ñvm', 6931: 'øsø', 6932: 'ù', 6933: 'ùr', 6934: 'ùrself!', 6935: 'ü', 6936: 'ü!', 6937: 'ü,pls', 6938: 'ü..', 6939: 'ü...', 6940: 'ü..well,enjoy', 6941: 'ü.care', 6942: 'ü.Ü', 6943: 'ü.ü', 6944: 'ü?', 6945: 'ü?maybe', 6946: 'ür', 6947: 'ürself'}\n",
            "{0: '\"Braindance\",', 1: '\"Turn', 2: '\"exam', 3: '\"lover\"', 4: '\"too', 5: '#02-34', 6: '#12-517.', 7: '$15', 8: '$225,', 9: '$24', 10: '$30', 11: '$30K', 12: '$375,', 13: '$4000', 14: '$45', 15: '$5', 16: '$5,', 17: '$600', 18: '$600.', 19: '$719.', 20: '$78,', 21: '$800', 22: '&', 23: \"'Okay'\", 24: \"'Yo\", 25: '(at', 26: '(sent', 27: '(you', 28: '+65', 29: '+6590957823.', 30: '+6596400001.', 31: ',', 32: '-', 33: '-8', 34: '-short', 35: '.', 36: '016', 37: '016-3785738.', 38: '0164330931,', 39: '0165460953.', 40: '0166305681', 41: '0166305681,', 42: '0166305681.', 43: '0168596707.', 44: '019870491', 45: '1', 46: '1,', 47: '1-2.', 48: '10', 49: '10%', 50: '10.', 51: '100%', 52: '103', 53: '10:15', 54: '10:30', 55: '10?', 56: '10AM', 57: '10am', 58: '10k', 59: '11', 60: '11.', 61: '11?', 62: '11PM?', 63: '11am', 64: '11th', 65: '12', 66: '12,000pes,', 67: '12.', 68: '1200', 69: '1245.', 70: '128MB,', 71: '12:15.', 72: '12:30?', 73: '12:45', 74: '12:45,', 75: '12?', 76: '12pm.', 77: '13', 78: '132', 79: '1344', 80: '135.', 81: '14.', 82: '1400.', 83: '142MB.', 84: '15', 85: '15.', 86: '16', 87: '1627', 88: '17/5', 89: '17:00', 90: '17:30', 91: '18', 92: '180', 93: '1800-4822800', 94: '18th', 95: '1:15pm.', 96: '1:30.', 97: '1:30pm,', 98: '1:30pm.', 99: '1:53,', 100: '1?', 101: '1PM', 102: '1am.', 103: '1pm.', 104: '1st', 105: '2', 106: '2!', 107: '2,', 108: '2.', 109: '20', 110: '20%', 111: '200.', 112: '2003.', 113: '21st', 114: '22.', 115: '221', 116: '23,', 117: '230', 118: '23f', 119: '24', 120: '24th', 121: '24th?', 122: '25', 123: '25,', 124: '25.', 125: '26', 126: '26-27', 127: '2650', 128: '26?', 129: '26th', 130: '27.', 131: '28', 132: '28th', 133: '29.', 134: '295', 135: '2:30', 136: '2:40', 137: '2:40,', 138: '2:40.', 139: '2:45.', 140: '2:45?', 141: '2:45pm.', 142: '2?', 143: '2PM', 144: '2nd', 145: '2nd,', 146: '2pm', 147: '2pm.', 148: '2pm?', 149: '3', 150: '3!', 151: '3,', 152: '3.', 153: '3.5kg!', 154: '30', 155: '30.', 156: '30/4.', 157: '300', 158: '32', 159: '32?', 160: '32k.', 161: '33', 162: '330', 163: '330.', 164: '35', 165: '35.', 166: '37', 167: '38.', 168: '3:20', 169: '3:30', 170: '3pm.', 171: '4', 172: '4.', 173: '4.47', 174: '42', 175: '450-470.', 176: '4:15.', 177: '4:40.', 178: '4:45pm.', 179: '4?', 180: '4th', 181: '5', 182: '5.', 183: '5.50', 184: '50%', 185: '530pm.', 186: '5419814.', 187: '58.', 188: '5:45', 189: '5pm,', 190: '5pm.', 191: '5th', 192: '6', 193: '6.', 194: '60', 195: '600', 196: '6006,', 197: '63366822', 198: '63383526.', 199: '64MB,', 200: '6598941248,', 201: '6:15.', 202: '6:30.', 203: '6:30pm.', 204: '6?', 205: '6pm', 206: '6pm?', 207: '7', 208: '7.', 209: '7.30pm,', 210: '7.50', 211: '7250', 212: '7:15.', 213: '7:30', 214: '7:30.', 215: '7pm', 216: '7pm.', 217: '7th', 218: '8', 219: '8.', 220: '80', 221: '8310.', 222: '8332', 223: '8:30.', 224: '8:40', 225: '8:45', 226: '8:45pm,', 227: '8th', 228: '9', 229: '90853276?', 230: '91073084.', 231: '93466348', 232: '93517902.', 233: '93864500', 234: '94', 235: '96473920.', 236: '96537803?', 237: '96792371.', 238: '96821456?', 239: '97482959.', 240: '97615390.', 241: '97856124.', 242: '97965247', 243: '99853267.', 244: '99876452.', 245: '9:30PM.', 246: '9?', 247: ':', 248: '?', 249: 'A', 250: \"A's\", 251: 'ACJ,', 252: 'AGNES.', 253: 'AMK', 254: 'AMK.', 255: 'AMK?', 256: 'ASP', 257: 'ATM', 258: 'AY,', 259: 'About', 260: 'Accessories', 261: 'Action', 262: 'Actually', 263: 'Addidas', 264: 'Address', 265: 'After', 266: 'Again', 267: 'Again.', 268: 'Age?', 269: 'Ah', 270: 'Ah,', 271: 'Ah.', 272: 'Ah?', 273: 'Aik', 274: 'Air', 275: 'Aishya!', 276: 'Alannan', 277: 'Alert', 278: 'Algebra', 279: 'Aljunied', 280: 'All', 281: 'Almighty?', 282: 'Alone?', 283: 'Already', 284: 'Alright', 285: 'Also,', 286: 'Always', 287: 'Am', 288: 'Amk', 289: 'Amore', 290: 'An', 291: 'And', 292: 'Andrew.', 293: 'Ang', 294: 'Angel', 295: 'Angel,', 296: 'Angel:', 297: 'Angle,', 298: 'Annie.', 299: 'Another', 300: 'Any', 301: 'Anybody', 302: 'Anyone', 303: 'Anything', 304: 'Anything.', 305: 'Anytime.', 306: 'Anyway', 307: 'Anyway,', 308: 'Anywhere.', 309: \"Aphex's\", 310: 'April.', 311: 'Arab', 312: 'Are', 313: 'Around', 314: 'As', 315: 'Ask', 316: 'Asleep', 317: 'At', 318: 'Audrey', 319: 'Augest,', 320: 'August', 321: 'August,', 322: 'August.', 323: 'Aust', 324: 'Australia', 325: 'Australia,', 326: 'Australia.', 327: 'Ave,', 328: 'B7l_jammer', 329: 'BBQ', 330: 'BOEZ,', 331: 'Babe!', 332: 'Bad', 333: 'Bahru', 334: 'Bakkwa', 335: 'Bangkok', 336: 'Bangkok?', 337: 'Barbeque', 338: 'Barmed?', 339: 'Baru', 340: 'Basketball', 341: 'Bath.', 342: 'Be', 343: 'Beach', 344: 'Because', 345: 'Bedok', 346: 'Been', 347: 'Behind.', 348: 'Ben', 349: \"Ben's\", 350: 'Ben.', 351: 'Better', 352: 'Big', 353: 'Bill', 354: 'Birthday', 355: 'Birthday,', 356: 'Bishan', 357: 'Black', 358: 'Blacko', 359: 'Bless.', 360: 'Blk', 361: 'Block', 362: 'Blood', 363: 'Bloody', 364: 'Blue', 365: 'Body', 366: 'Bodynits', 367: 'Boez,', 368: 'Boon', 369: 'Borburn', 370: 'Both', 371: 'Both.', 372: 'Bought', 373: 'Box', 374: 'Boy.', 375: 'Braddell', 376: 'Bringing', 377: 'Bristol.', 378: 'Bruce', 379: 'Brunswick', 380: 'Bugis', 381: 'Bugis,', 382: 'Bugis?', 383: 'Bukit', 384: 'Bungalow', 385: 'But', 386: 'Buy', 387: 'By', 388: 'CC', 389: 'CCA', 390: 'CD', 391: 'CD.', 392: 'CDD', 393: 'CGI', 394: 'CLIPS?', 395: 'CPF', 396: 'CS1102,', 397: 'CZ1102?', 398: 'Cafe', 399: 'Call', 400: 'Called', 401: 'Calling', 402: 'Calrie.', 403: 'Came', 404: 'Camp', 405: 'Can', 406: \"Can't\", 407: \"Can't,\", 408: 'Can,', 409: 'Can.', 410: 'Can?', 411: 'Cannot', 412: 'Cannot,', 413: 'Cannot.', 414: 'Care', 415: 'Cartel.', 416: 'Catch', 417: 'Cause', 418: 'Causeway', 419: 'Cedes', 420: 'Celine', 421: 'Center.', 422: 'Central', 423: 'Central.', 424: 'Centre', 425: 'Centre.', 426: 'Centrepoint', 427: 'Centro.', 428: 'Cgi.', 429: 'Chalet', 430: 'Change', 431: 'Channel', 432: 'Cheap', 433: 'Check', 434: 'Cheer', 435: 'Cheers', 436: 'Cheers!', 437: 'Chen', 438: 'Cheng', 439: 'Chijmes.', 440: \"Children's\", 441: 'China.', 442: 'Chinatown', 443: \"Chinatown's\", 444: 'Chinatown.', 445: 'Chinese', 446: 'Chinese,', 447: 'Chinese.', 448: 'Chinese?', 449: 'Chocolate', 450: 'Chong', 451: 'Chou.', 452: 'Chow.', 453: 'Christ', 454: 'Christmas', 455: 'Cindy', 456: 'Cine.', 457: 'Cineleisure', 458: 'City', 459: 'Cityhall', 460: 'Class', 461: 'Classified', 462: 'Clementi,', 463: 'Clementi?', 464: 'Clinic', 465: 'Close', 466: 'Club', 467: 'Co.,', 468: 'Coast', 469: 'Coca', 470: 'Coffee', 471: 'Coke?', 472: 'Colgate.', 473: 'College', 474: 'Com', 475: 'Come', 476: 'Come.', 477: 'Coming', 478: 'Computer', 479: 'Computing', 480: 'Concentrate', 481: 'Confirm', 482: 'Congratulations,', 483: 'Congratulations.', 484: 'Contraction', 485: 'Cooked', 486: 'Corinna', 487: 'Corporation', 488: 'Corrina.', 489: 'Could', 490: 'Crazy.', 491: 'Crazy?', 492: 'Cream', 493: 'Creps', 494: 'Cross', 495: 'Crown', 496: 'Crumpler', 497: 'Cultural', 498: 'D', 499: 'DEL', 500: 'DNA', 501: 'DOING', 502: 'DREDZ,', 503: 'DVD', 504: 'Dad', 505: 'Dad,', 506: 'Daddy', 507: 'Daddy.', 508: 'Damn', 509: 'Damn.', 510: 'Dan,', 511: 'Dao', 512: 'Darren', 513: 'David', 514: 'Day', 515: 'Day!', 516: 'Day.', 517: 'Dear', 518: 'Dear,', 519: 'Dear.', 520: 'Deckie', 521: 'Deckie?', 522: 'Degrees.', 523: 'Depend', 524: 'Derel', 525: 'Details', 526: 'Devin,', 527: 'Did', 528: \"Didn't\", 529: 'Die,', 530: 'Die.', 531: 'Din', 532: 'Dinero', 533: 'Ding', 534: 'Dinner', 535: 'Dinner,', 536: 'Disi', 537: 'Divert', 538: 'Do', 539: 'Dobby', 540: 'Does', 541: \"Doesn't\", 542: 'Doing', 543: 'Dom', 544: \"Don't\", 545: 'Double', 546: 'Down', 547: 'Dreams!', 548: 'Drive.', 549: 'Durian', 550: 'During', 551: 'E-mail', 552: 'ECP.', 553: 'ERP.', 554: 'ES300!', 555: 'Each', 556: 'East', 557: 'East.', 558: 'Eat', 559: 'Eating', 560: 'Effect', 561: 'Eh', 562: 'Eh,', 563: 'Eh.', 564: 'Either', 565: 'Elaine', 566: 'Elaine,', 567: 'Elaine.', 568: 'Elfie,', 569: 'Ellen,', 570: 'Elvin', 571: 'Emicakes.', 572: 'Emporium.', 573: 'En', 574: \"En's\", 575: 'En,', 576: 'En.', 577: 'Eng', 578: 'Engineering', 579: 'Engineering.', 580: 'English', 581: 'English,', 582: 'Enjoy', 583: 'Enough', 584: 'Er,', 585: 'Er.', 586: 'Er?', 587: 'Erm,', 588: 'Erm.', 589: 'Esplanade', 590: 'Esplanade.', 591: 'Esther?', 592: 'Eurasian.', 593: \"Eusoff's\", 594: 'Even', 595: 'Evening', 596: 'Ever', 597: 'Every', 598: 'Everybody', 599: 'Everybody!', 600: 'Everything.', 601: 'Exactly.', 602: 'Excel', 603: 'Excel?', 604: 'Exercise', 605: 'Expo?', 606: 'Eymani', 607: 'FON:', 608: 'FOW', 609: 'Face', 610: 'Faint,', 611: 'Faint.', 612: 'Fantasia', 613: 'Far', 614: 'Farrer', 615: 'Fast', 616: 'Faster', 617: 'Fat.', 618: 'Feel', 619: 'Felt', 620: 'Fen.', 621: 'Fetch', 622: 'Few', 623: 'File', 624: 'Find', 625: 'Finding', 626: 'Fine', 627: 'Fine.', 628: 'Finish', 629: 'Fion', 630: \"Fion's\", 631: 'Fion?', 632: 'Fiona', 633: 'Fire.', 634: 'First', 635: 'Fish', 636: 'Fitness', 637: 'Flu,', 638: 'Fon.', 639: 'Food', 640: 'Food,', 641: 'For', 642: 'Force', 643: 'Forget', 644: 'Forgot.', 645: 'Found', 646: 'Four', 647: 'Fox.', 648: 'Frankly', 649: 'Freshman', 650: 'Friday', 651: 'Friday,', 652: 'Friday.', 653: 'Fridenster,', 654: 'Friendster', 655: 'Frog?', 656: 'From', 657: 'Fuji.', 658: 'Fujitsu?', 659: 'Fun.', 660: 'Funan', 661: 'Funky.', 662: 'Funny', 663: 'Funny,', 664: 'Funny.', 665: 'Furthermore,', 666: 'Future', 667: 'GEM', 668: 'GIRO', 669: 'GP', 670: 'Game', 671: 'Gaught', 672: 'Gee', 673: 'Gee.', 674: 'Gek1005', 675: 'Geleck', 676: 'Gelek!', 677: 'Gelek,', 678: 'Gen', 679: 'Gen,', 680: 'Genting.', 681: 'Ger', 682: 'Ger.', 683: 'Get', 684: 'Geylang', 685: 'Giggle.', 686: 'Gil:', 687: 'Girl', 688: 'Girl,', 689: 'Girl.', 690: 'Girl?', 691: 'Give', 692: 'Glad', 693: 'Glass', 694: 'Go', 695: 'Go.', 696: 'God', 697: \"God's\", 698: 'Going', 699: 'Good', 700: 'Good!', 701: 'Good?', 702: 'Goodie', 703: 'Goodness.', 704: 'Goodnight', 705: 'Gorgeous,', 706: 'Gosh.', 707: 'Got', 708: 'Got,', 709: 'Got?', 710: 'Gower', 711: 'Grab', 712: 'Grandmother', 713: 'Great', 714: 'Great.', 715: 'Grounded.', 716: 'Gstring,', 717: 'Guess', 718: 'Guy', 719: 'Guy?', 720: 'Guys', 721: 'H', 722: 'HDB', 723: 'HI', 724: 'HKY,', 725: 'Ha', 726: 'Had', 727: 'Hah', 728: 'Hah,', 729: 'Haha', 730: 'Haha!', 731: 'Haha,', 732: 'Haha.', 733: 'Hahaha,', 734: 'Hair', 735: 'Haiz', 736: 'Half', 737: 'Hall', 738: 'Hamster', 739: 'Happy', 740: 'Harry', 741: 'Has', 742: 'Have', 743: \"Haven't\", 744: \"Haven't,\", 745: 'Having', 746: 'He', 747: \"He's\", 748: 'He.', 749: 'Hee', 750: 'Hee,', 751: 'Hee.', 752: 'Heehee.', 753: 'Heeren.', 754: 'Hehe', 755: 'Hehe,', 756: 'Hehe.', 757: 'Hello', 758: 'Hello!', 759: 'Hello,', 760: 'Hello.', 761: 'Help', 762: 'Help!', 763: 'Here', 764: 'Hereen.', 765: 'Hey', 766: 'Hey!', 767: 'Hey,', 768: 'Hey.', 769: 'Hi', 770: 'Hi!', 771: 'Hi,', 772: 'Hi.', 773: 'Hill.', 774: 'Hm,', 775: 'Hm.', 776: 'Hmm', 777: 'Hmm,', 778: 'Hmm.', 779: 'Hmmm,', 780: 'Hmmm.', 781: 'Hong', 782: 'Honors', 783: 'Hope', 784: 'Hopefully', 785: 'Hotmail.', 786: 'House', 787: 'How', 788: \"How's\", 789: 'How?', 790: 'Howdy', 791: 'Hudson', 792: 'Hugs,', 793: 'Hugs.', 794: 'Huh', 795: 'Huh,', 796: 'Huh.', 797: 'Huh?', 798: 'Huiqi', 799: \"Huixin's\", 800: 'Hulk', 801: 'Hun!', 802: 'Hung', 803: 'Hurry', 804: 'Hurry!', 805: 'Hwa', 806: 'I', 807: \"I'd\", 808: \"I'll\", 809: \"I'm\", 810: \"I've\", 811: 'I,', 812: 'IC', 813: 'IC,', 814: 'ICQ', 815: 'ICQ.', 816: 'ICQ?', 817: 'ID', 818: 'IT', 819: 'IVLE,', 820: 'Iceman', 821: 'Iceman.', 822: 'If', 823: 'Ikea', 824: 'ImperialMusic', 825: 'Important', 826: 'In', 827: 'Income,', 828: 'India?', 829: 'Indian?', 830: 'Indians', 831: 'Indonesian', 832: 'Indonesian.', 833: 'Inside', 834: 'Interested', 835: 'Introduce', 836: 'Introduce.', 837: 'Introduction', 838: \"Ira's\", 839: 'Irritate', 840: 'Is', 841: \"Isn't\", 842: 'It', 843: \"It'd\", 844: \"It's\", 845: 'Ivle?', 846: 'J!', 847: 'J.', 848: 'JC', 849: 'JOMIS.', 850: 'JORDAN?', 851: 'JOY,', 852: 'JS,', 853: 'JSP.', 854: \"Jac's\", 855: 'Jack.', 856: 'Jacuzzi.', 857: 'Jade,', 858: 'Jame', 859: 'James', 860: 'James,', 861: 'James.', 862: 'James:', 863: 'January', 864: 'Japanese', 865: 'Jay', 866: 'Jaz.', 867: 'Jazz', 868: 'Jeff', 869: 'Jeff.', 870: 'Jen', 871: 'Jennifer', 872: 'Jenniffer', 873: 'Jess,', 874: 'Jess.', 875: 'Jesslyn', 876: 'Jetflash,', 877: 'Jez', 878: 'Jian', 879: 'Jiayin.', 880: 'Jigsaw', 881: 'Jo', 882: 'Jo.', 883: 'Joan', 884: \"Joan's\", 885: 'Jocelyn', 886: 'Joe,', 887: 'Joe.', 888: 'Joey,', 889: 'Joey:', 890: 'Joey?', 891: 'Jog', 892: 'John”.', 893: 'Join', 894: 'Joking.', 895: 'Jolene', 896: 'Jon,', 897: 'Jontin.', 898: 'Jordan,', 899: 'Jordon,', 900: 'Jos', 901: 'Jos,', 902: 'Jos?', 903: 'Josh', 904: 'Juli', 905: \"Julia's\", 906: 'July', 907: 'July.', 908: 'Jun', 909: 'Junction', 910: 'June', 911: 'June.', 912: 'June?', 913: 'Junior', 914: 'Junmei', 915: 'Jurong', 916: 'Just', 917: \"Jy's\", 918: 'Jìayin', 919: 'K.reen', 920: 'K.reen!', 921: 'KB', 922: 'KL.', 923: 'Kahi,', 924: 'Kai', 925: 'Kaiez,', 926: 'Kaiez.', 927: 'Kate,', 928: 'Kate.', 929: 'Kate?', 930: 'Kay,', 931: 'Kb.', 932: 'Keep', 933: 'Ken!', 934: 'Ken,', 935: 'Kiat', 936: 'Kiat.', 937: \"Kid's\", 938: 'Kilo', 939: 'Kingshead.', 940: 'Kio', 941: 'Kio,', 942: 'Kiss!', 943: 'Know', 944: 'Kong', 945: 'Korean', 946: 'Kote', 947: \"Kua's\", 948: 'Kwang', 949: 'L.', 950: 'LCT', 951: 'LSM', 952: 'LSM.', 953: 'LSM1301', 954: 'LT', 955: 'LT24.', 956: 'LT32,', 957: 'Lab', 958: 'Laguna', 959: 'Lala', 960: 'Lancaster,', 961: 'Lancome:', 962: 'Lanz', 963: 'Last', 964: 'Late', 965: 'Later', 966: 'Latest.', 967: 'Laugh', 968: 'Laugh,', 969: 'Laugh-', 970: 'Laugh.', 971: 'Lay', 972: 'Lazing', 973: 'Lea', 974: 'Lea,', 975: 'Leave', 976: 'Leaving', 977: 'Lecture', 978: 'Left', 979: 'Leona', 980: 'Leona,', 981: 'Leona.', 982: 'Leona:', 983: 'Leona?', 984: 'Les', 985: 'Let', 986: \"Let's\", 987: 'Lexus', 988: 'Li', 989: 'Library', 990: 'Lien', 991: 'Lien,', 992: 'Life', 993: 'Like', 994: 'Liling,', 995: 'Linear', 996: 'Link', 997: 'Listened', 998: 'Little', 999: 'Lixia.', 1000: 'Lobang.', 1001: 'Location,', 1002: 'Login', 1003: 'London', 1004: 'London.', 1005: 'Look', 1006: 'Looking', 1007: 'Lorong', 1008: 'Lots', 1009: 'Lou!', 1010: 'Lou,', 1011: 'Love', 1012: 'Love,', 1013: 'Loving', 1014: 'Loyong', 1015: 'Luckily', 1016: 'Luckyspin!', 1017: 'Lucy.', 1018: 'Lun', 1019: 'Lunch.', 1020: \"M1's\", 1021: 'MC', 1022: 'MC.', 1023: 'MERINA', 1024: 'MMS', 1025: 'MNG', 1026: 'MO.', 1027: 'MOM', 1028: 'MOSES.', 1029: 'MPSH.', 1030: 'MR.', 1031: 'MRT', 1032: 'MRT,', 1033: 'MRT.', 1034: 'MRT?', 1035: 'MSN.', 1036: 'MSN?', 1037: 'Mac', 1038: 'Maintenance', 1039: 'Make', 1040: 'Malay', 1041: 'Malay,', 1042: 'Malay?', 1043: 'Malays', 1044: 'Malaysia', 1045: 'Malaysia.', 1046: 'Malaysian.', 1047: 'Malayu', 1048: 'Maldives?', 1049: 'Male.', 1050: 'Mambo', 1051: 'Mango', 1052: 'Mango,', 1053: 'Marina?', 1054: 'Married.', 1055: 'Math', 1056: 'Mathematics', 1057: 'Matthew', 1058: 'Maxwell', 1059: \"Maxwell's\", 1060: 'Maxwell?', 1061: 'Maxy!', 1062: 'May', 1063: 'May,', 1064: 'May.', 1065: 'Maybe', 1066: 'Me', 1067: 'Me,', 1068: 'Me.', 1069: 'Me?', 1070: 'Medicine', 1071: 'Meet', 1072: 'Meeting', 1073: 'Mei', 1074: 'Meijun', 1075: \"Meijun's\", 1076: 'Mel,', 1077: 'Mem', 1078: 'Menghong', 1079: 'Merina.', 1080: 'Message', 1081: 'Mi', 1082: 'Mich', 1083: 'Mich.', 1084: 'Michelle', 1085: 'Michelle,', 1086: 'Mick,', 1087: 'Might', 1088: 'Mike', 1089: 'Millian', 1090: 'Millian!', 1091: \"Millian's\", 1092: 'Millian.', 1093: 'Million', 1094: 'Mimi,', 1095: 'Mimi40', 1096: 'Mimi40,', 1097: 'Mine', 1098: 'Ming', 1099: 'Mingfang', 1100: 'Miss', 1101: 'Miss,', 1102: 'Missed', 1103: 'Mo', 1104: 'Mobile', 1105: 'Mobile.', 1106: 'Moboy!', 1107: 'Mohammad', 1108: 'Mohd', 1109: 'Mohmd', 1110: 'Monday', 1111: 'Monday.', 1112: 'Monkees', 1113: 'More', 1114: 'Morning', 1115: 'Morning!', 1116: 'Morning.', 1117: 'Most', 1118: 'Mother', 1119: 'Mr.', 1120: 'Mrt', 1121: 'Mt', 1122: 'Muaks!', 1123: 'Mum', 1124: 'Mum.', 1125: 'Mummy', 1126: 'Must', 1127: 'My', 1128: 'Myanmar', 1129: 'NHS', 1130: 'NOEL:', 1131: 'NTU?', 1132: 'NTUC', 1133: 'NUS', 1134: 'NUS!', 1135: 'NUS,', 1136: 'NUS.', 1137: 'Namly', 1138: 'Nanxing.', 1139: 'Nanyang', 1140: 'National', 1141: 'Near', 1142: 'Need', 1143: 'Needed', 1144: 'Nemo', 1145: 'Nemo?', 1146: 'Neo', 1147: 'Nesh', 1148: 'Nesh,', 1149: 'Never', 1150: 'Never.', 1151: 'Nevermind', 1152: 'Nevermind.', 1153: 'New', 1154: 'Newquay.', 1155: 'Newsweek', 1156: 'Next', 1157: \"Ng's\", 1158: 'Ni', 1159: 'Nic.', 1160: 'Nice', 1161: 'Nice?', 1162: 'Night', 1163: 'Night,', 1164: 'Night.', 1165: 'Niny,', 1166: 'No', 1167: 'No,', 1168: 'No.', 1169: 'Nokia', 1170: 'None!', 1171: 'Nope,', 1172: 'Nope.', 1173: 'Nopez.', 1174: 'North', 1175: 'Not', 1176: 'Nothing', 1177: 'Now', 1178: 'Nowhere', 1179: 'Nydc', 1180: 'Nydc.', 1181: 'ODAC', 1182: 'OG.', 1183: 'OK', 1184: 'OK,', 1185: 'OK.', 1186: 'OK?', 1187: 'Ocean', 1188: 'October', 1189: 'October,', 1190: 'Of', 1191: 'Og', 1192: 'Oh', 1193: 'Oh!', 1194: 'Oh,', 1195: 'Oh.', 1196: 'Oh?', 1197: 'Ok', 1198: 'Ok!', 1199: 'Ok,', 1200: 'Ok.', 1201: 'Ok?', 1202: 'Okay', 1203: 'Okay!', 1204: 'Okay,', 1205: 'Okay.', 1206: 'Okay?', 1207: 'Okie.', 1208: 'Ok，see', 1209: 'On', 1210: 'Once', 1211: 'One', 1212: 'Only', 1213: 'Oops,', 1214: 'Oops.', 1215: 'Open', 1216: 'Or', 1217: 'Orchard', 1218: 'Orchard,', 1219: 'Orchard.', 1220: 'Orchard?', 1221: 'Oreo', 1222: 'Orientation', 1223: 'Other', 1224: 'Ouch,', 1225: 'Ouch.', 1226: 'Out', 1227: 'Overprotective', 1228: 'PJ.', 1229: 'PM', 1230: 'Pagar', 1231: 'Panjang', 1232: 'Parade', 1233: 'Park.', 1234: 'Park?', 1235: 'Parkway', 1236: 'Paul,', 1237: 'Paul.', 1238: 'Payoh', 1239: 'Peace', 1240: 'Peach!', 1241: 'Penisula?', 1242: 'People', 1243: 'People,', 1244: 'Perak,', 1245: 'Pete', 1246: 'Pete!', 1247: 'Pete.', 1248: 'Petey', 1249: 'Petey!', 1250: 'Phone', 1251: 'Photo', 1252: 'Physics.', 1253: 'Physiotherapy.', 1254: 'Pick', 1255: 'Pig', 1256: 'Pink', 1257: 'Pink,', 1258: 'Pink.', 1259: 'Pity.', 1260: 'Place.', 1261: 'Plaid', 1262: 'Play', 1263: 'Plaza', 1264: 'Please', 1265: 'Please,', 1266: 'Plenty', 1267: 'Plus', 1268: 'Point.', 1269: 'Poke', 1270: 'Polytechnic', 1271: 'Poor', 1272: 'Potter', 1273: 'Pretty', 1274: 'Primary', 1275: 'Probably', 1276: 'Punggol', 1277: 'Put', 1278: 'QET', 1279: 'Qin', 1280: 'Queensway,', 1281: 'Queensway?', 1282: 'Quick', 1283: 'Quickly', 1284: 'Quite', 1285: 'RIC,', 1286: 'RIN.', 1287: 'RV.', 1288: 'Race', 1289: 'Raffles', 1290: 'Rain,', 1291: 'Raining,', 1292: 'Random!', 1293: 'Randy', 1294: 'Ranger,', 1295: 'Ranger.', 1296: 'Rd.', 1297: 'Reach', 1298: 'Reached', 1299: 'Reaching?', 1300: 'Realistic,', 1301: 'Really', 1302: 'Really!', 1303: 'Really,', 1304: 'Really.', 1305: 'Really?', 1306: 'Reb', 1307: 'Rebecca', 1308: 'Rebecca.', 1309: 'Red', 1310: 'Reen,', 1311: 'Regina.', 1312: 'Relax,', 1313: 'Remember', 1314: 'Remember,', 1315: 'Remind', 1316: 'Reminder:', 1317: 'Reply!', 1318: 'Rest', 1319: 'Revise', 1320: 'Revision', 1321: 'Ric.', 1322: 'Right\".', 1323: 'Right,', 1324: 'Right.', 1325: 'Rin,', 1326: 'Rin?', 1327: 'River', 1328: 'Roadshow!', 1329: 'Rollin,', 1330: 'Roman', 1331: 'Ron', 1332: 'Ron,', 1333: 'Row', 1334: 'Roy', 1335: 'Roy!', 1336: 'Roy,', 1337: 'Rudi', 1338: 'Run', 1339: 'Ryan', 1340: 'S.O.S.', 1341: 'SAFTI', 1342: 'SARS,', 1343: 'SARS.', 1344: 'SAT', 1345: 'SBS', 1346: 'SBS?', 1347: 'SH,', 1348: 'SMS', 1349: 'SMS!', 1350: 'SMS,', 1351: 'SMS/Global', 1352: 'SMS/MMS', 1353: 'SMU', 1354: 'SMU,', 1355: 'SMU?', 1356: 'SOC?', 1357: 'SRS', 1358: 'ST', 1359: 'ST1232', 1360: 'Sabah?', 1361: 'Sad', 1362: 'Sad.', 1363: 'Said', 1364: 'Sailing', 1365: 'Saimee', 1366: 'Sakae', 1367: 'Sam.', 1368: 'Same', 1369: 'Same.', 1370: 'Samurai', 1371: 'Sanur', 1372: 'Sarawak?', 1373: 'Sardine', 1374: 'Saturday', 1375: 'Saturday,', 1376: 'Saturday.', 1377: 'Saturday?', 1378: 'Save', 1379: 'Say', 1380: 'Scared', 1381: 'Scary', 1382: 'Scattered', 1383: 'Sch', 1384: 'School', 1385: 'Science', 1386: 'Science.', 1387: 'Science?', 1388: 'Sean.', 1389: 'See', 1390: 'See?', 1391: 'Seems', 1392: 'Seldom', 1393: 'Sen,', 1394: 'Send', 1395: 'Sending', 1396: 'Sentosa', 1397: 'Sentosa.', 1398: 'Sentosa?', 1399: 'Seow', 1400: 'Serangoon', 1401: 'Serangoon.', 1402: 'Set.', 1403: 'Sez,', 1404: 'Shall', 1405: 'Shan', 1406: 'Shanghai.', 1407: 'Sharis,', 1408: 'She', 1409: \"She's\", 1410: 'Shexy?', 1411: 'Shit.', 1412: 'Shop.', 1413: 'Shopping?', 1414: 'Short', 1415: 'Should', 1416: 'Shucks.', 1417: 'Shufen', 1418: 'Shuhui', 1419: 'Shuhui.', 1420: 'Si', 1421: 'Siam', 1422: 'Sian', 1423: 'Sigh,', 1424: 'Sigh.', 1425: 'Sign,', 1426: 'Sign.', 1427: 'Sim', 1428: 'Simon', 1429: 'Simon,', 1430: 'Since', 1431: 'Sine?', 1432: 'Sing', 1433: 'SingTel', 1434: 'Singapore', 1435: 'Singapore.', 1436: 'Singaporean.', 1437: 'Singaporean?', 1438: 'Singapura.', 1439: 'Sitting', 1440: 'Sizzler.', 1441: 'Slacking', 1442: 'Sleep', 1443: 'Slept', 1444: 'Smallville.', 1445: 'Smith', 1446: 'Sms', 1447: 'So', 1448: 'So,', 1449: 'SoC,', 1450: 'Sob.', 1451: 'Some', 1452: 'Somebody', 1453: 'Someone', 1454: 'Somerset', 1455: 'Sometime', 1456: 'Somewhere', 1457: 'Sommerset', 1458: 'Soon', 1459: 'Sorry', 1460: 'Sorry!', 1461: 'Sorry,', 1462: 'Sorry.', 1463: 'Sounds', 1464: 'Spain', 1465: 'Speak', 1466: 'Spinelli', 1467: \"Spinelli's\", 1468: 'Spore', 1469: 'St,', 1470: 'St.', 1471: 'Staff', 1472: 'Star', 1473: 'Starhub', 1474: 'Stars', 1475: 'Starts', 1476: 'State', 1477: 'Stay', 1478: 'Stella', 1479: 'Still', 1480: 'Stop', 1481: 'Strange', 1482: 'Study', 1483: 'Study.', 1484: 'Studying?', 1485: 'Stupid', 1486: 'Sucks', 1487: 'Suddenly', 1488: 'Sultan,', 1489: 'Sum1', 1490: 'Sun', 1491: \"Sun's\", 1492: 'Sun?', 1493: 'Sunday', 1494: 'Sunday,', 1495: 'Sunday.', 1496: 'Sunday?', 1497: 'Sunny!', 1498: 'Sunperks', 1499: 'Suntec', 1500: 'Suntec.', 1501: 'Suntec?', 1502: 'Sure', 1503: 'Sure.', 1504: 'Suying', 1505: 'Swan', 1506: 'Sweet', 1507: 'Sydney', 1508: 'TCS.', 1509: 'TIBS', 1510: 'TIP,WHAT', 1511: 'TP', 1512: 'TRG', 1513: 'TV', 1514: 'TV,', 1515: 'TV.', 1516: 'TV?', 1517: 'Taka', 1518: 'Taka.', 1519: 'Take', 1520: 'Taken', 1521: 'Taking', 1522: 'Talk', 1523: 'Talked', 1524: 'Tanjong', 1525: 'Tdy', 1526: 'Teach', 1527: 'Tell', 1528: 'Temporarily', 1529: 'Tequila', 1530: 'Ter.', 1531: 'Terence', 1532: 'Terok.', 1533: 'Text', 1534: 'Thai.', 1535: 'Thailand.', 1536: 'Thank', 1537: 'Thanks', 1538: 'Thanks!', 1539: 'Thanks,', 1540: 'Thanks.', 1541: 'That', 1542: \"That's\", 1543: 'The', 1544: 'Theatre', 1545: 'Then', 1546: 'Then,', 1547: 'Then?', 1548: 'There', 1549: 'There?', 1550: 'Thermometer', 1551: 'These', 1552: 'They', 1553: 'Think', 1554: 'This', 1555: 'Those', 1556: 'Thought', 1557: 'Thur,', 1558: 'Thursday', 1559: 'Thursday,', 1560: 'Thursday.', 1561: 'Thursday?', 1562: 'Ticket', 1563: 'Tiffany', 1564: 'Timah', 1565: 'Time', 1566: \"Time's\", 1567: 'Times', 1568: 'Ting.', 1569: 'Tiong', 1570: 'Tired.', 1571: 'Tired?', 1572: 'Tiredness', 1573: 'To', 1574: 'Toa', 1575: 'Today', 1576: 'Today?', 1577: 'Told', 1578: 'Tom,', 1579: 'Tomorrow', 1580: 'Toni', 1581: 'Tonight', 1582: 'Tony', 1583: 'Too', 1584: 'Took', 1585: 'Topshop', 1586: 'Torquay', 1587: 'Town', 1588: 'Town?', 1589: 'Toysarus?', 1590: 'Transcend', 1591: 'Try', 1592: 'Try.', 1593: 'Tuas.', 1594: 'Tuesday', 1595: 'Tuesday,', 1596: 'Tuesday.', 1597: 'Tuesday?', 1598: 'Turn', 1599: 'Twins', 1600: 'Two', 1601: 'Typo.', 1602: 'U', 1603: 'U2?', 1604: 'UNIC', 1605: 'UNIX', 1606: 'URL', 1607: 'Ubi', 1608: 'Understand', 1609: 'University', 1610: 'Unless', 1611: 'Until', 1612: 'Use', 1613: 'Using', 1614: 'VCD!', 1615: 'VPN?', 1616: \"Valentine's\", 1617: 'Valley.', 1618: 'Very', 1619: 'Vesak', 1620: 'Vet!', 1621: 'Villa', 1622: 'Village,', 1623: 'Village?', 1624: 'Violyn', 1625: 'Violyn,', 1626: 'Vivian,', 1627: 'Voicemail.', 1628: 'WRKS', 1629: 'WTC', 1630: \"Wa's\", 1631: 'Wah', 1632: 'Wah.', 1633: 'Wait', 1634: 'Waiting', 1635: 'Waitress', 1636: 'Waitress?', 1637: 'Wakey', 1638: 'Wales.', 1639: 'Want', 1640: 'Was', 1641: 'Waste', 1642: 'Watch', 1643: 'Watching', 1644: 'Wawa', 1645: \"Wawa's\", 1646: 'Wawa.', 1647: 'We', 1648: \"We'll\", 1649: \"We're\", 1650: 'Weather', 1651: 'Wednesday', 1652: 'Wednesday!', 1653: 'Wednesday,', 1654: 'Wednesday.', 1655: 'Week.', 1656: 'Week?', 1657: 'Wei', 1658: 'Weiyi', 1659: 'Weiyi.', 1660: 'Weiyun', 1661: 'Welcome', 1662: 'Well', 1663: 'Well,', 1664: 'Well.', 1665: 'West', 1666: 'West.', 1667: 'Wet', 1668: 'What', 1669: \"What're\", 1670: \"What's\", 1671: 'What.', 1672: 'What?', 1673: 'When', 1674: 'When?', 1675: 'Where', 1676: 'Where?', 1677: 'Which', 1678: 'Who', 1679: \"Who's\", 1680: 'Whole', 1681: 'Whoops.', 1682: 'Why', 1683: 'Why?', 1684: 'Will', 1685: 'William', 1686: 'Windows', 1687: 'Wish', 1688: 'Wisma', 1689: 'Wisma.', 1690: 'With', 1691: 'Without', 1692: 'Wk-self.', 1693: 'Wombat', 1694: \"Won't\", 1695: 'Wondering', 1696: 'Wood', 1697: 'Work', 1698: 'Working', 1699: 'Working?', 1700: 'Would', 1701: 'Wow', 1702: 'Wow!', 1703: 'Wow,', 1704: 'Wow.', 1705: 'Wu', 1706: 'XF', 1707: 'XF.', 1708: 'XP?', 1709: 'XY', 1710: 'XY,', 1711: 'XY:Tomorrow', 1712: 'Xf', 1713: 'Xie', 1714: 'Xin', 1715: 'Xin,', 1716: 'Xin.', 1717: 'Xin:', 1718: 'Xinyi', 1719: 'Xuhui,', 1720: 'Xy', 1721: 'Xyan', 1722: 'Xyan.', 1723: 'YCK,', 1724: 'YCK?', 1725: 'Ya', 1726: 'Ya.', 1727: 'Yah.', 1728: 'Yan', 1729: 'Yay!', 1730: 'Yea,', 1731: 'Yea.', 1732: 'Yeah', 1733: 'Yeah,', 1734: 'Yeah.', 1735: 'Yeap.', 1736: 'Year', 1737: 'Yep', 1738: 'Yes', 1739: 'Yes!', 1740: 'Yes,', 1741: 'Yes.', 1742: \"Yes.Didn't\", 1743: 'Yesterday', 1744: 'Yi?', 1745: 'Yifeng', 1746: 'Yijue,', 1747: 'Yijue?', 1748: \"Yin's\", 1749: 'Yiyun', 1750: 'Yiyun.', 1751: 'Yiyun?', 1752: 'Yogasana', 1753: 'Yogi', 1754: 'You', 1755: \"You'd\", 1756: \"You're\", 1757: \"You've\", 1758: 'You,', 1759: 'You.', 1760: 'You?', 1761: 'Your', 1762: 'Yours?', 1763: 'Yui.', 1764: 'Yun', 1765: 'Yun!', 1766: 'Yun,', 1767: 'Yun.', 1768: 'Yun?', 1769: 'Yunny,', 1770: 'Yunñy!', 1771: 'Yup,', 1772: 'Yup.', 1773: 'Zepol!', 1774: 'Zheng', 1775: 'Zi', 1776: 'Ziping?', 1777: 'Zouk', 1778: 'Zouk.', 1779: 'Zping', 1780: 'a', 1781: 'abalone?', 1782: 'abandon', 1783: 'able', 1784: 'about', 1785: 'about!)', 1786: 'about,', 1787: 'about.', 1788: 'about?', 1789: 'absolutely', 1790: 'abused.', 1791: 'academic', 1792: 'academy', 1793: 'acceptable?', 1794: 'accepted', 1795: 'access.', 1796: 'accidents', 1797: 'accompany', 1798: 'account', 1799: 'account.', 1800: 'account?', 1801: 'accounting', 1802: 'accurate,', 1803: 'accuse', 1804: 'ache.', 1805: 'aches', 1806: 'acid!', 1807: 'across', 1808: 'act', 1809: 'action', 1810: 'activities.', 1811: 'activity-', 1812: 'activity.', 1813: 'actually', 1814: 'add', 1815: 'address', 1816: 'address,', 1817: 'address?', 1818: 'administrative', 1819: 'administrator', 1820: 'admirer.', 1821: 'admission.', 1822: 'admit', 1823: 'adress?', 1824: 'advance', 1825: 'advance.', 1826: 'advert', 1827: 'advertisement.', 1828: 'adverts', 1829: 'affected', 1830: 'afraid', 1831: 'after', 1832: 'afternoon', 1833: 'afternoon,', 1834: 'afternoon.', 1835: 'afternoon?', 1836: 'again', 1837: 'again,', 1838: 'again.', 1839: 'again?', 1840: 'against', 1841: 'age', 1842: 'agency', 1843: 'ages.', 1844: 'ago).', 1845: 'ago,', 1846: 'ago.', 1847: 'ah.', 1848: 'ahead.', 1849: 'aim', 1850: 'air', 1851: 'airport', 1852: 'airport?', 1853: 'album,', 1854: 'algebra', 1855: 'all', 1856: 'all!', 1857: 'all,', 1858: 'all.', 1859: 'all?', 1860: 'almonds.', 1861: 'almost', 1862: 'alone', 1863: 'alone,', 1864: 'alone.', 1865: 'alone?', 1866: 'along', 1867: 'along,', 1868: 'along?', 1869: 'already', 1870: 'already,', 1871: 'already.', 1872: 'already?', 1873: 'alright', 1874: 'alright.', 1875: 'also', 1876: 'also,', 1877: 'also.', 1878: 'also?', 1879: 'although', 1880: 'aluminium', 1881: 'always', 1882: 'always!', 1883: 'always,', 1884: 'always.', 1885: 'am', 1886: 'am!', 1887: 'am,', 1888: 'am.', 1889: 'am?', 1890: 'amk?', 1891: 'among', 1892: 'amore)', 1893: 'ample', 1894: 'an', 1895: 'and', 1896: 'angel', 1897: 'angry', 1898: 'angry.', 1899: 'animals', 1900: 'another', 1901: 'answer', 1902: 'answer!', 1903: 'answer.', 1904: 'answer?', 1905: 'answered', 1906: 'answers', 1907: 'answers.', 1908: 'any', 1909: 'any.', 1910: 'any?', 1911: 'anybody', 1912: 'anyhow', 1913: 'anymore.', 1914: 'anymore?', 1915: 'anyone', 1916: \"anyone's\", 1917: 'anyone.', 1918: 'anyone?', 1919: 'anything', 1920: 'anything,', 1921: 'anything.', 1922: 'anything?', 1923: 'anytime', 1924: 'anytime.', 1925: 'anyting.', 1926: 'anyway.', 1927: 'anyways.', 1928: 'anywehre.', 1929: 'anywhere', 1930: 'apartment.', 1931: 'apartment?', 1932: 'appearing?', 1933: 'applied', 1934: 'apply', 1935: 'appointment', 1936: 'arR', 1937: 'ard', 1938: 'are', 1939: 'are,', 1940: 'are.', 1941: 'area', 1942: 'area.', 1943: 'area?', 1944: \"aren't\", 1945: 'arguing', 1946: 'army', 1947: 'army,', 1948: 'around', 1949: 'around!', 1950: 'around,', 1951: 'around.', 1952: 'around?', 1953: 'arrangement', 1954: 'arrive', 1955: 'arrived.', 1956: 'arts!', 1957: 'arty', 1958: 'as', 1959: 'as?', 1960: 'asap,', 1961: 'ask', 1962: 'ask.', 1963: 'ask?', 1964: 'asked', 1965: 'asked.', 1966: 'asked?', 1967: 'asking', 1968: 'asks', 1969: 'asleep', 1970: 'asleep.', 1971: 'aspect', 1972: 'ass', 1973: 'assessment.', 1974: 'asshole!', 1975: 'assigned.', 1976: 'assistant', 1977: 'at', 1978: 'at.', 1979: 'ate', 1980: 'attached', 1981: 'attached.', 1982: 'attend', 1983: 'attending', 1984: 'attract', 1985: 'available', 1986: 'avoid', 1987: 'award', 1988: 'award.', 1989: 'award?', 1990: 'awards', 1991: 'away', 1992: 'awesome!', 1993: 'awkward.', 1994: 'babe', 1995: 'babe,', 1996: 'babe.', 1997: 'babes', 1998: 'babes?', 1999: 'baby', 2000: 'baby!', 2001: 'baby,', 2002: 'back', 2003: 'back!', 2004: 'back,', 2005: 'back.', 2006: 'back?', 2007: 'backing', 2008: 'backout.', 2009: 'bad', 2010: 'bad,', 2011: 'bad.', 2012: 'bad?', 2013: 'bag', 2014: 'bag.', 2015: 'bag?', 2016: 'bags!', 2017: 'bake', 2018: 'baked', 2019: 'baking', 2020: 'balanced', 2021: 'balloons?', 2022: 'ballot', 2023: 'bank.', 2024: 'bar', 2025: 'barbecue', 2026: 'barbeque', 2027: 'barbeque.', 2028: 'bare.', 2029: 'barking,', 2030: 'base', 2031: 'bash', 2032: 'basic', 2033: 'basic-book?', 2034: 'basketball,', 2035: 'bastard.', 2036: 'batch', 2037: 'bath.', 2038: 'bathe', 2039: 'bathed!', 2040: 'bathing', 2041: 'bathing.', 2042: 'battery.', 2043: 'bay.', 2044: 'bbq', 2045: 'be', 2046: 'be,', 2047: 'be.', 2048: 'be?', 2049: 'beach', 2050: 'beach,', 2051: 'beat', 2052: 'beautiful', 2053: 'beautiful!', 2054: 'became', 2055: 'because', 2056: 'become', 2057: 'bed', 2058: 'bed!', 2059: 'bed.', 2060: 'been', 2061: 'been?', 2062: 'before', 2063: 'before.', 2064: 'before?', 2065: 'begin', 2066: 'behind', 2067: 'behind.', 2068: 'being', 2069: 'belated', 2070: 'believe', 2071: 'believe.', 2072: 'belt.', 2073: 'beneath', 2074: 'beneficial.', 2075: 'benefits', 2076: 'bermuda.', 2077: 'best', 2078: 'best.', 2079: 'bet', 2080: 'better', 2081: 'better,', 2082: 'better.', 2083: 'better?', 2084: 'between', 2085: 'bid', 2086: 'bid.', 2087: 'bidding', 2088: 'big', 2089: 'bird', 2090: 'birth.', 2091: 'birthday', 2092: 'birthday!', 2093: 'birthday,', 2094: 'birthday.', 2095: 'birthday?', 2096: 'biscuits?', 2097: 'bishan', 2098: 'bit', 2099: 'bit,', 2100: 'bit.', 2101: 'bitch!', 2102: 'bitch?', 2103: 'bitches.', 2104: 'bite', 2105: 'bits', 2106: 'blades', 2107: 'blame', 2108: 'bleach.', 2109: 'blessed', 2110: 'blind?', 2111: 'blindfold', 2112: 'block', 2113: 'blood', 2114: 'blow', 2115: 'blue', 2116: 'blue,', 2117: 'bluff', 2118: 'blur', 2119: 'blur.', 2120: 'board', 2121: 'board.', 2122: 'boarded', 2123: 'body', 2124: 'boggy', 2125: 'boil.', 2126: 'boleh', 2127: 'bonds.', 2128: 'bone.', 2129: 'book', 2130: 'book.', 2131: 'book?', 2132: 'booked', 2133: 'booked.', 2134: 'booking', 2135: 'bookings', 2136: 'booklet.', 2137: 'books.', 2138: 'bookworm-like', 2139: 'booth', 2140: 'bored', 2141: 'bored!', 2142: 'bored,', 2143: 'bored.', 2144: 'bored?', 2145: 'boredom', 2146: 'boring', 2147: 'boring!', 2148: 'boring,', 2149: 'boring.', 2150: 'born', 2151: 'born.', 2152: 'borrow', 2153: 'borrow?', 2154: 'boss', 2155: 'both', 2156: 'both.', 2157: 'bother', 2158: 'bother.', 2159: 'bottle', 2160: 'bottles', 2161: 'bottles.', 2162: 'bought', 2163: 'box?', 2164: 'boxers', 2165: 'boxing', 2166: 'boy', 2167: 'boy,', 2168: 'boy.', 2169: 'boy?', 2170: 'boyfriend', 2171: 'boyfriend.', 2172: 'boyfriend?', 2173: 'boys', 2174: 'bra', 2175: 'brand', 2176: 'brand.', 2177: 'branded', 2178: 'bread', 2179: 'bread,', 2180: 'bread.', 2181: 'break', 2182: 'break,', 2183: 'break.', 2184: 'breakfast', 2185: 'breakfast.', 2186: 'breakfast?', 2187: 'bridge.', 2188: 'briefing', 2189: 'bright,', 2190: 'bring', 2191: 'bring.', 2192: 'bringing', 2193: 'broke.', 2194: 'broke?', 2195: 'broken.', 2196: 'broom', 2197: 'brother', 2198: 'brother!', 2199: 'brother,', 2200: 'brought', 2201: 'brown', 2202: 'brownie', 2203: 'brownie.', 2204: 'bucks', 2205: 'bucks.', 2206: 'bucks?', 2207: 'bug', 2208: 'bugis.', 2209: 'building', 2210: 'building.', 2211: 'bun.', 2212: 'burns', 2213: 'burnt', 2214: 'bus', 2215: 'bus,', 2216: 'bus.', 2217: 'buses', 2218: 'business', 2219: 'business,', 2220: 'business.', 2221: 'busy', 2222: 'busy,', 2223: 'busy.', 2224: 'busy?', 2225: 'but', 2226: 'butt', 2227: 'buy', 2228: 'buy.', 2229: 'buy?', 2230: 'buying', 2231: 'buying.', 2232: 'buys', 2233: 'by', 2234: 'by.', 2235: 'bye', 2236: 'cake', 2237: 'cake.', 2238: 'cake?', 2239: 'calculus?', 2240: 'calender', 2241: 'call', 2242: 'call.', 2243: 'called', 2244: 'called.', 2245: 'calling', 2246: 'calls', 2247: 'calls.', 2248: 'came', 2249: 'came!', 2250: 'came.', 2251: 'camera', 2252: 'camp', 2253: 'camp-extra', 2254: 'camp.', 2255: 'camp?', 2256: 'campus.', 2257: 'can', 2258: \"can't\", 2259: \"can't,\", 2260: \"can't.\", 2261: 'can,', 2262: 'can.', 2263: 'can?', 2264: 'cancellation', 2265: 'cancelled,', 2266: 'candles', 2267: 'candles.', 2268: 'cannot', 2269: 'cannot.', 2270: \"cant't\", 2271: 'canteen', 2272: 'canteen.', 2273: 'canteen?', 2274: 'canvas', 2275: 'capital.', 2276: 'captain.', 2277: 'car', 2278: 'car.', 2279: 'car?', 2280: 'card', 2281: 'card,', 2282: 'card.', 2283: 'care', 2284: 'care!', 2285: 'care,', 2286: 'care.', 2287: 'cares', 2288: 'carfinal1.Clp', 2289: 'carry', 2290: 'carrying', 2291: 'cars.', 2292: 'case', 2293: 'case.', 2294: 'cash', 2295: 'cash.', 2296: 'catch', 2297: 'catch.', 2298: 'cats', 2299: 'cause', 2300: 'causing', 2301: 'cc', 2302: 'celebrate', 2303: 'celebrating', 2304: 'center', 2305: 'central', 2306: 'central.', 2307: 'centre', 2308: 'centre.', 2309: 'centrept.', 2310: 'ceremony', 2311: 'ceremony,', 2312: 'certain', 2313: 'chair.', 2314: 'chalet', 2315: 'chance', 2316: 'chance.', 2317: 'change', 2318: 'change.', 2319: 'change?', 2320: 'changed', 2321: 'changes', 2322: 'changes.', 2323: 'charge', 2324: 'charge.', 2325: 'charged', 2326: 'charger.', 2327: 'charges', 2328: 'chat', 2329: 'chat,', 2330: 'chat.', 2331: 'chat?', 2332: 'chatting', 2333: 'chauffeur?', 2334: 'cheap,', 2335: 'cheap.', 2336: 'cheaper', 2337: 'cheaper.', 2338: 'check', 2339: 'check!', 2340: 'check,', 2341: 'check.', 2342: 'check?', 2343: 'checked', 2344: 'checked,', 2345: 'checking', 2346: 'checkup?', 2347: 'cheese', 2348: 'chemistry,', 2349: 'cherish', 2350: 'cherry', 2351: 'chicken', 2352: 'childish', 2353: \"children's\", 2354: 'chinese', 2355: 'chip', 2356: 'chit', 2357: 'chocolate', 2358: 'chocolates,', 2359: 'choice', 2360: 'choice.', 2361: 'choice?', 2362: 'choose', 2363: 'choose,', 2364: 'chop', 2365: 'chopping', 2366: 'chose', 2367: 'chosen,', 2368: 'circuit-', 2369: 'circular', 2370: 'circulatd', 2371: 'city', 2372: 'civilisation!', 2373: 'claim', 2374: 'class', 2375: 'class,', 2376: 'class.', 2377: 'class?', 2378: 'classes.', 2379: 'classified', 2380: 'classmate,', 2381: 'clean.', 2382: 'cleaning.', 2383: 'cleansing', 2384: 'clear', 2385: 'clear.', 2386: 'cleared', 2387: 'clearing', 2388: 'clever', 2389: 'click', 2390: 'clip', 2391: 'close', 2392: 'close?', 2393: 'closed,', 2394: 'closed.', 2395: 'cloth.', 2396: 'clothes', 2397: 'clothes,', 2398: 'club', 2399: 'club.', 2400: 'clubbing', 2401: 'clubbing,', 2402: 'clubroom.', 2403: 'coffee', 2404: 'coincidence.', 2405: 'coke', 2406: 'cold,', 2407: 'cold.', 2408: 'collages', 2409: 'collect', 2410: 'collect.', 2411: 'collect?', 2412: 'collected', 2413: 'collected?', 2414: 'collecting', 2415: 'collecting.', 2416: 'college', 2417: 'color?', 2418: 'colors.', 2419: 'colour', 2420: 'colour.', 2421: 'coloured', 2422: 'colourful', 2423: 'colours.', 2424: 'combat', 2425: 'combination', 2426: 'come', 2427: 'come,', 2428: 'come.', 2429: 'come?', 2430: 'comes', 2431: 'comfortable,', 2432: 'coming', 2433: 'coming,', 2434: 'coming.', 2435: 'coming?', 2436: 'comm', 2437: 'comment', 2438: 'commenting', 2439: 'committee', 2440: 'committees', 2441: 'common', 2442: 'commons.', 2443: 'communication', 2444: 'company', 2445: 'competition?', 2446: 'compilation', 2447: 'complete.', 2448: 'complex', 2449: 'complex.', 2450: 'computer', 2451: 'computer.', 2452: 'computing.', 2453: 'concentrate.', 2454: 'concern.', 2455: 'conditioning', 2456: 'confide', 2457: 'confident', 2458: 'configure', 2459: 'configured.', 2460: 'confirm', 2461: 'confirm,', 2462: 'confirmed', 2463: 'confirmed.', 2464: 'confirmed?', 2465: 'connect', 2466: 'connect.', 2467: 'consider.', 2468: 'considered', 2469: 'considering.', 2470: 'consolidating', 2471: 'contact', 2472: 'contacting', 2473: 'continue', 2474: 'contract', 2475: 'contract,', 2476: 'contrary', 2477: 'control', 2478: 'conversation?', 2479: 'convince', 2480: 'cook', 2481: 'cooked', 2482: 'cookies', 2483: 'cookies.', 2484: 'cooking', 2485: 'cooking.', 2486: 'cool', 2487: 'cool,', 2488: 'cool.', 2489: 'copy', 2490: 'corinna', 2491: 'corner.', 2492: 'corner?', 2493: 'correct.', 2494: 'costs', 2495: 'costume', 2496: 'could', 2497: \"couldn't\", 2498: 'counting.', 2499: 'course', 2500: 'course!', 2501: 'course.', 2502: 'course?', 2503: 'cover', 2504: 'covering', 2505: 'crabs', 2506: 'crap', 2507: 'crazy', 2508: 'crazy.', 2509: 'crazy?', 2510: 'cream', 2511: 'cream?', 2512: 'create', 2513: 'creative.', 2514: 'credit', 2515: 'credit.', 2516: 'crepes', 2517: 'crisis!', 2518: 'crowded.', 2519: 'crowded?', 2520: 'cry?', 2521: 'cultural', 2522: 'cultures', 2523: 'cup', 2524: 'curious', 2525: 'curious.', 2526: 'current', 2527: 'curriculum', 2528: 'cushioned', 2529: \"customer's\", 2530: 'cut', 2531: 'cut,', 2532: 'cut.', 2533: 'cut?', 2534: 'cute', 2535: 'cute,', 2536: 'cute.', 2537: 'cute.Next', 2538: 'cycling', 2539: 'cz.', 2540: 'da', 2541: 'dad', 2542: 'daddy', 2543: 'daddy.', 2544: 'daddy?', 2545: 'damn', 2546: 'damning,', 2547: 'dance', 2548: 'dance,', 2549: 'dance.', 2550: 'dance?', 2551: 'dancer', 2552: 'dancing', 2553: 'dancing?', 2554: 'dare', 2555: 'darling', 2556: 'darling!', 2557: 'darling,', 2558: 'darling.', 2559: 'darn', 2560: 'data', 2561: 'database.', 2562: 'date', 2563: 'date.', 2564: 'day', 2565: 'day!', 2566: 'day,', 2567: 'day.', 2568: 'day?', 2569: 'days', 2570: 'days!', 2571: 'days,', 2572: 'days.', 2573: 'days?', 2574: 'daytime?', 2575: 'dear', 2576: 'dear!', 2577: 'dear,', 2578: 'dear.', 2579: 'dear?', 2580: 'dearies.', 2581: 'death.', 2582: 'decide', 2583: 'decide,', 2584: 'decide.', 2585: 'decided', 2586: 'decision.', 2587: 'define', 2588: 'definitely', 2589: 'delay.', 2590: 'dent!', 2591: 'depends', 2592: 'depends.', 2593: 'deserve', 2594: 'deserve.', 2595: 'design.', 2596: 'desk', 2597: 'dessert.', 2598: 'details', 2599: 'details.', 2600: 'detest', 2601: 'dial', 2602: 'diarrhoea', 2603: 'did', 2604: 'did,', 2605: \"didn't\", 2606: 'die.', 2607: 'died', 2608: 'died.', 2609: 'diet', 2610: 'dieting', 2611: 'difference.', 2612: 'different', 2613: 'different.', 2614: 'difficult', 2615: 'digi?', 2616: 'dining', 2617: 'dinner', 2618: 'dinner!', 2619: 'dinner.', 2620: 'dinner?', 2621: 'direct', 2622: 'directly?', 2623: 'dirty.', 2624: 'disappointed.', 2625: 'discount!', 2626: 'discount.', 2627: 'discount...', 2628: 'discovered', 2629: 'discuss', 2630: 'discuss?', 2631: 'discussed', 2632: 'discussing', 2633: 'discussion', 2634: 'disease.', 2635: 'disturb', 2636: 'disturbing', 2637: 'dividend', 2638: 'do', 2639: 'do!', 2640: 'do,', 2641: 'do.', 2642: 'do?', 2643: 'doctor?', 2644: 'document.', 2645: 'documents', 2646: 'does', 2647: \"doesn't\", 2648: 'dog', 2649: 'dog.', 2650: 'dog?', 2651: 'dogs', 2652: 'doing', 2653: 'doing.', 2654: 'doing?', 2655: 'dollar.', 2656: 'dollars', 2657: 'dollars.', 2658: 'domain?', 2659: \"don't\", 2660: 'done', 2661: 'done,', 2662: 'done.', 2663: 'double', 2664: 'down', 2665: 'down,', 2666: 'down.', 2667: 'download', 2668: 'dozing', 2669: 'drag', 2670: 'drain.', 2671: 'drawer.', 2672: 'draws', 2673: 'dreading', 2674: 'dream', 2675: 'dream!', 2676: 'dreamland!', 2677: 'dreams', 2678: 'dreams,', 2679: 'dreams.', 2680: 'drenched.', 2681: 'drink', 2682: 'drink,', 2683: 'drink.', 2684: 'drink?', 2685: 'drinking', 2686: 'drinking.', 2687: 'drinks', 2688: 'drinks.', 2689: 'drive', 2690: 'drive,', 2691: 'drive.', 2692: 'driver', 2693: 'driver!', 2694: 'driving', 2695: 'driving!', 2696: 'driving,', 2697: 'driving.', 2698: 'driving?', 2699: 'drop', 2700: 'dropped', 2701: 'dropping', 2702: 'drops', 2703: 'drunk!', 2704: 'dry', 2705: 'dug.', 2706: 'dumb?', 2707: 'dumpling.', 2708: 'during', 2709: 'duty', 2710: 'duty.', 2711: 'dye', 2712: 'dye.', 2713: 'dying', 2714: 'dying.', 2715: 'e-mail', 2716: 'each', 2717: 'each,', 2718: 'each.', 2719: 'earlier', 2720: 'earlier.', 2721: 'early', 2722: 'early,', 2723: 'early.', 2724: 'early?', 2725: 'earn', 2726: 'earn.', 2727: 'earned', 2728: 'earrings.', 2729: 'ears', 2730: 'easier', 2731: 'easier.', 2732: 'easy.', 2733: 'eat', 2734: 'eat.', 2735: 'eaten', 2736: 'eaten,', 2737: 'eaten?', 2738: 'eating', 2739: 'eating.', 2740: 'eating?', 2741: 'economics', 2742: 'ecp', 2743: 'ecp?', 2744: 'either', 2745: 'electives,', 2746: 'eleven.', 2747: 'else', 2748: 'else.', 2749: 'else?', 2750: 'email', 2751: 'email.', 2752: 'email?', 2753: 'emailed', 2754: 'embarrasing.', 2755: 'embarrassed', 2756: 'embarrassing.', 2757: 'embassy', 2758: 'encouraging', 2759: 'end', 2760: 'end.', 2761: 'end?', 2762: 'ended', 2763: 'ends', 2764: 'ends.', 2765: 'eng', 2766: 'engineering', 2767: 'engineering,', 2768: 'enjoy', 2769: 'enjoy.', 2770: 'enjoyable', 2771: 'enjoying', 2772: 'enlarge', 2773: 'enough', 2774: 'enough.', 2775: 'enter', 2776: 'entering', 2777: 'envelope', 2778: 'envelope.', 2779: 'environment', 2780: 'equity?', 2781: 'erase', 2782: 'esplanade?', 2783: 'etc.', 2784: 'ethnic', 2785: 'evaluation', 2786: 'evaluation,', 2787: 'eve.', 2788: 'even', 2789: 'evening', 2790: 'evening!', 2791: 'evening,', 2792: 'evening.', 2793: 'evening?', 2794: 'event', 2795: 'ever', 2796: 'every', 2797: 'everybody.', 2798: 'everyday', 2799: 'everyday.', 2800: 'everyone', 2801: 'everyone!', 2802: 'everyone,', 2803: 'everyone.', 2804: 'everyone?', 2805: 'everything', 2806: 'everything?', 2807: 'everywhere,', 2808: 'evil', 2809: 'ex', 2810: 'exactly', 2811: 'exam', 2812: 'exams', 2813: 'except', 2814: 'exchange', 2815: 'exciting', 2816: 'exercise', 2817: 'exercise,', 2818: 'exercise.', 2819: 'exhibition', 2820: 'exhilarating.', 2821: 'expanding', 2822: 'expect.', 2823: 'expected!', 2824: 'expensive', 2825: 'expensive!', 2826: 'expensive?', 2827: 'explain', 2828: 'explicit?', 2829: 'expo?', 2830: 'extend', 2831: 'extent.', 2832: 'extra', 2833: 'extreme', 2834: 'eye.', 2835: 'eyes', 2836: 'face', 2837: 'face,', 2838: 'face.', 2839: 'facial', 2840: 'facilities', 2841: 'factory', 2842: 'faculty', 2843: 'fade', 2844: 'fail', 2845: 'failed', 2846: 'faint.', 2847: 'fall', 2848: 'family', 2849: 'family.', 2850: 'family?', 2851: 'fantasy.', 2852: 'far', 2853: 'far,', 2854: 'far.', 2855: 'far?', 2856: 'farewell', 2857: 'farm', 2858: 'farm,', 2859: 'farting', 2860: 'fast,', 2861: 'fast.', 2862: 'faster.', 2863: 'fat,', 2864: 'fated', 2865: 'father', 2866: \"father's\", 2867: 'father.', 2868: 'fatter', 2869: 'fault.', 2870: 'favor?', 2871: 'favour', 2872: 'favour?', 2873: 'favourite', 2874: 'featured', 2875: 'feed', 2876: 'feel', 2877: 'feeling', 2878: 'feeling,', 2879: 'feels', 2880: 'fell', 2881: 'felt', 2882: 'female', 2883: 'female,', 2884: 'female.', 2885: 'female?', 2886: 'fetch', 2887: 'fetching', 2888: 'few', 2889: 'field', 2890: 'fierce?', 2891: 'fill', 2892: 'filmed', 2893: 'finally', 2894: 'finance', 2895: 'finance.', 2896: 'financial', 2897: 'find', 2898: 'find.', 2899: 'finding', 2900: 'fine', 2901: 'fine,', 2902: 'fine.', 2903: 'finish', 2904: 'finish.', 2905: 'finish?', 2906: 'finished', 2907: 'fire', 2908: 'first', 2909: 'first,', 2910: 'first.', 2911: 'first?', 2912: 'fish', 2913: 'fit', 2914: 'fix', 2915: 'fixed.', 2916: 'flexibility', 2917: 'flight?', 2918: 'flirting.', 2919: 'flowers', 2920: 'flowers.', 2921: 'flowery', 2922: 'flying', 2923: 'flying?', 2924: 'foam?', 2925: 'foaming', 2926: 'focus', 2927: 'folder', 2928: 'follow', 2929: 'following', 2930: 'font', 2931: 'foo', 2932: 'food', 2933: 'food,', 2934: 'food.', 2935: 'for', 2936: 'for.', 2937: 'for?', 2938: 'forever!', 2939: 'forever.', 2940: 'forfeited.', 2941: 'forget', 2942: 'forget.', 2943: 'forgot', 2944: 'forgot.', 2945: 'form', 2946: 'form?', 2947: 'formal', 2948: 'formed', 2949: 'forms', 2950: 'forms.', 2951: 'forward', 2952: 'found', 2953: 'fountain.', 2954: 'four', 2955: 'four?', 2956: 'fox.', 2957: 'frame', 2958: 'frame.', 2959: 'freak.', 2960: 'free', 2961: 'free!', 2962: 'free,', 2963: 'free.', 2964: 'free?', 2965: 'frequent.', 2966: 'freshmen', 2967: 'friend', 2968: 'friend!', 2969: \"friend's\", 2970: 'friend,', 2971: 'friend.', 2972: 'friend?', 2973: 'friends', 2974: \"friends'\", 2975: 'friends,', 2976: 'friends.', 2977: 'friends?', 2978: 'fringe', 2979: 'fringe!', 2980: 'from', 2981: 'from.', 2982: 'from?', 2983: 'front', 2984: 'frustrated,', 2985: 'full', 2986: 'fully', 2987: 'fun', 2988: 'fun!', 2989: 'fun.', 2990: 'fun?', 2991: 'fundamental', 2992: 'funny', 2993: 'funny,', 2994: 'funny.', 2995: 'fur.', 2996: 'further', 2997: 'fusion?', 2998: 'future.', 2999: 'gain', 3000: 'gained', 3001: 'game', 3002: 'game,', 3003: 'game.', 3004: 'games,', 3005: 'games.', 3006: 'gang', 3007: 'garden', 3008: 'gave', 3009: 'gee.', 3010: 'gel,', 3011: 'gender', 3012: 'gentleman', 3013: 'ger16,', 3014: 'get', 3015: 'get,', 3016: 'get?', 3017: 'gets', 3018: 'getting', 3019: 'gift.', 3020: 'girl', 3021: 'girl!', 3022: 'girl,', 3023: 'girl.', 3024: 'girl?', 3025: 'girls', 3026: 'girls!', 3027: 'girls,', 3028: 'girls.', 3029: 'give', 3030: 'give?', 3031: 'gives', 3032: 'giving', 3033: 'glass', 3034: 'glasses', 3035: 'glasses.', 3036: 'gloating?', 3037: 'go', 3038: 'go,', 3039: 'go.', 3040: 'go?', 3041: 'god-sister', 3042: 'goes', 3043: 'going', 3044: 'going,', 3045: 'going.', 3046: 'going?', 3047: 'golf.', 3048: 'golf?', 3049: 'gone', 3050: 'good', 3051: 'good,', 3052: 'good.', 3053: 'good?', 3054: 'goodies!', 3055: 'goodness', 3056: 'goodnight', 3057: 'goodnight.', 3058: 'gorgeous!', 3059: 'gorgeous,', 3060: 'gossip', 3061: 'gossiping', 3062: 'got', 3063: 'got,', 3064: 'got.', 3065: 'got?', 3066: 'gotten', 3067: 'gown', 3068: 'grabbed', 3069: 'grabbing', 3070: 'grandma', 3071: \"grandma's\", 3072: 'graphic', 3073: 'grave', 3074: 'great', 3075: 'green?', 3076: 'groceries.', 3077: 'grocery', 3078: 'group', 3079: 'group.', 3080: 'guarding', 3081: 'guess', 3082: 'guess.', 3083: 'guesses', 3084: 'guide', 3085: 'guinea', 3086: 'guy', 3087: 'guy.', 3088: 'guy?', 3089: 'guys', 3090: 'guys,', 3091: 'guys.', 3092: 'guys?', 3093: 'gym', 3094: 'gym.', 3095: 'ha.', 3096: 'had', 3097: 'haha.', 3098: 'hair', 3099: 'hair.', 3100: 'hair?', 3101: 'haircut', 3102: 'haircut?', 3103: 'half', 3104: 'hall', 3105: 'hall.', 3106: 'hall?', 3107: 'hammer.', 3108: 'hammy.', 3109: 'hamster', 3110: 'hamsters.', 3111: 'hand', 3112: 'hand,', 3113: 'hand.', 3114: 'handphone', 3115: 'handphone,', 3116: 'handphone.', 3117: 'handsome', 3118: 'hang', 3119: 'happen', 3120: 'happen,', 3121: 'happened', 3122: 'happened?', 3123: 'happening!', 3124: 'happiness', 3125: 'happy', 3126: 'happy!', 3127: 'happy.', 3128: 'hard', 3129: 'hard!', 3130: 'hard-to-get', 3131: 'hard.', 3132: 'harder', 3133: 'has', 3134: \"hasn't\", 3135: 'hate', 3136: 'have', 3137: 'have.', 3138: 'have?', 3139: \"haven't\", 3140: 'having', 3141: 'havoc', 3142: 'hawker', 3143: 'he', 3144: \"he'd\", 3145: \"he'll\", 3146: \"he's\", 3147: 'head', 3148: 'head!', 3149: 'head.', 3150: 'head?', 3151: 'headache', 3152: 'health', 3153: 'health.', 3154: 'hear', 3155: 'heard', 3156: 'heart', 3157: 'heart-broken', 3158: 'heart-broken.', 3159: 'heart.', 3160: 'heat', 3161: 'heavily', 3162: 'heavily.', 3163: 'heavy', 3164: 'heavy.', 3165: 'hectic.', 3166: 'heh,', 3167: 'hehe,', 3168: 'hehe.', 3169: 'hello', 3170: 'hello,', 3171: 'help', 3172: 'help.', 3173: 'helped', 3174: 'helping', 3175: 'her', 3176: 'her,', 3177: 'her.', 3178: 'her?', 3179: 'here', 3180: 'here,', 3181: 'here.', 3182: 'hetic', 3183: 'hey,', 3184: 'hi', 3185: 'hi!', 3186: 'hi!Card', 3187: 'hi,', 3188: 'hi.', 3189: 'hide,', 3190: 'high.', 3191: 'higher', 3192: 'highlighting', 3193: 'hilarious.', 3194: 'him', 3195: 'him,', 3196: 'him.', 3197: 'him?', 3198: 'hints.', 3199: 'his', 3200: 'hit', 3201: 'hits', 3202: 'hitting', 3203: 'hold', 3204: 'holding', 3205: 'holiday.', 3206: 'holiday?', 3207: 'holidays,', 3208: 'holidays.', 3209: 'home', 3210: 'home!', 3211: 'home,', 3212: 'home.', 3213: 'home?', 3214: 'homepage', 3215: 'homepage.', 3216: 'homework', 3217: 'honest.', 3218: 'honey!', 3219: 'honey,', 3220: 'honey.', 3221: 'honor', 3222: 'hope', 3223: 'hope!', 3224: 'hoped', 3225: 'horrible', 3226: 'horse', 3227: 'hospital', 3228: 'hostel', 3229: 'hostel?', 3230: 'hot', 3231: 'hot,', 3232: 'hot.', 3233: 'hotel', 3234: 'hotel.', 3235: 'hotel?', 3236: 'hotmail', 3237: 'hour', 3238: 'hour,', 3239: 'hour.', 3240: 'hours', 3241: 'hours.', 3242: 'house', 3243: 'house,', 3244: 'house.', 3245: 'house?', 3246: 'houses.', 3247: 'housewife', 3248: 'how', 3249: \"how's\", 3250: 'how.', 3251: 'how?', 3252: 'hub.', 3253: 'hug', 3254: 'hug,', 3255: 'hug.', 3256: 'huge', 3257: 'huh?', 3258: 'hundreds.', 3259: 'hungry.', 3260: 'hunks', 3261: 'hurry;', 3262: 'i', 3263: \"i'm\", 3264: 'i.e', 3265: 'ice', 3266: 'iceman.', 3267: 'idea', 3268: 'idea,', 3269: 'idea.', 3270: 'ideas', 3271: 'idols', 3272: 'if', 3273: 'ignore', 3274: 'ignoring', 3275: 'ill', 3276: 'imagination.', 3277: 'immediately', 3278: 'important', 3279: 'important.', 3280: 'important?', 3281: 'importantly,', 3282: 'in', 3283: 'in,', 3284: 'in.', 3285: 'in?', 3286: 'inauguration', 3287: 'includes', 3288: 'inconvenience.', 3289: 'index.', 3290: 'inform', 3291: 'information,', 3292: 'information.', 3293: 'informed', 3294: 'ink', 3295: 'innocent', 3296: 'insects', 3297: 'inside', 3298: 'inside,', 3299: 'inside?', 3300: 'insights', 3301: 'installing', 3302: 'instant', 3303: 'instant?', 3304: 'instead', 3305: 'instead,', 3306: 'instead.', 3307: 'instruct', 3308: 'instruction.', 3309: 'instructor', 3310: 'instructor.', 3311: 'insurance.', 3312: 'intake.', 3313: 'intend', 3314: 'interchange?', 3315: 'interest', 3316: 'interest.', 3317: 'interest?', 3318: 'interested', 3319: 'interested.', 3320: 'interested?', 3321: 'interesting', 3322: 'interesting,', 3323: 'interesting.', 3324: 'interesting?', 3325: 'internet', 3326: 'interview', 3327: 'interview.', 3328: 'interview?', 3329: 'interviews', 3330: 'interviews.', 3331: 'into', 3332: 'intro', 3333: 'introduce', 3334: 'introduce,', 3335: 'introduce.', 3336: 'introduce?', 3337: 'introduction', 3338: 'introduction.', 3339: 'invisible', 3340: 'invite', 3341: 'invited', 3342: 'invites', 3343: 'invoice,', 3344: 'ireena?', 3345: 'irregardless', 3346: 'irritating?', 3347: 'is', 3348: 'is.', 3349: \"isn't\", 3350: 'it', 3351: 'it!', 3352: \"it'll\", 3353: \"it's\", 3354: 'it,', 3355: 'it.', 3356: 'it?', 3357: 'its', 3358: 'jam', 3359: 'jam.', 3360: 'jams', 3361: 'japanese', 3362: 'jar', 3363: 'jeans', 3364: 'jeans,', 3365: 'jeans.', 3366: 'jeff!', 3367: 'jelly', 3368: 'jerk', 3369: 'job', 3370: 'job!', 3371: 'job,', 3372: 'job.', 3373: 'job?', 3374: 'jobs', 3375: 'jobs.', 3376: 'jobs?', 3377: 'joey.', 3378: 'jog.', 3379: 'jogged', 3380: 'jogging', 3381: 'join', 3382: 'join,', 3383: 'joins', 3384: 'joking?', 3385: 'jordan,', 3386: 'joss', 3387: 'judges', 3388: 'juice', 3389: 'juicer.', 3390: 'just', 3391: 'k.', 3392: 'k.reen', 3393: 'kb', 3394: 'keen', 3395: 'keen.', 3396: 'keep', 3397: 'keep.', 3398: 'keeping', 3399: 'keeps', 3400: 'kept', 3401: 'kick', 3402: 'kid,', 3403: 'kidding.', 3404: 'kiddy', 3405: 'kids', 3406: 'kids.', 3407: 'kill', 3408: 'kind', 3409: 'kind.', 3410: 'kiss', 3411: 'kisses.', 3412: 'kite', 3413: 'kitten.', 3414: 'knack', 3415: 'knackered', 3416: 'knees,', 3417: 'knew.', 3418: 'knit', 3419: 'knock', 3420: 'knocking', 3421: 'know', 3422: 'know,', 3423: 'know.', 3424: 'know?', 3425: 'knows', 3426: 'knows,', 3427: 'kreen,', 3428: 'lab', 3429: 'lab.', 3430: 'lab?', 3431: 'label,', 3432: 'ladies', 3433: 'lady', 3434: 'lady.', 3435: 'lagging', 3436: 'lame.', 3437: 'land', 3438: 'language', 3439: 'laptop', 3440: 'laptop.', 3441: 'last', 3442: 'last.', 3443: 'last?', 3444: 'late', 3445: 'late!', 3446: 'late,', 3447: 'late.', 3448: 'late?', 3449: 'lately?', 3450: 'later', 3451: 'later!', 3452: 'later,', 3453: 'later.', 3454: 'later?', 3455: 'laugh', 3456: 'laugh,', 3457: 'laughter.', 3458: 'launching', 3459: 'lavender', 3460: 'law', 3461: 'laying', 3462: 'lazy', 3463: 'lazy,', 3464: 'lazy?', 3465: 'lcm', 3466: 'lead', 3467: 'leading', 3468: 'learn', 3469: 'learn,', 3470: 'learning', 3471: 'least', 3472: 'leave', 3473: 'leave.', 3474: 'leaves', 3475: 'leaving', 3476: 'lecture', 3477: 'lecture!', 3478: 'lecture.', 3479: 'lecture?', 3480: 'lecturer', 3481: 'lectures', 3482: 'lectures.', 3483: 'left', 3484: 'left.', 3485: 'legalized', 3486: 'legs', 3487: 'lend', 3488: 'length', 3489: 'lenient', 3490: 'lenient.', 3491: 'less', 3492: 'lesser', 3493: 'lesson', 3494: 'lesson.', 3495: 'lesson?', 3496: 'lessons', 3497: 'lessons,', 3498: 'lessons.', 3499: 'lessons?', 3500: 'let', 3501: 'letter', 3502: 'level', 3503: 'levels', 3504: 'library,', 3505: 'library?', 3506: 'license.', 3507: 'lie-in!', 3508: 'lie.', 3509: 'lien.', 3510: 'life', 3511: 'life.', 3512: 'life?', 3513: 'lift.', 3514: 'light', 3515: 'light,', 3516: 'like', 3517: 'like.', 3518: 'like?', 3519: 'likes', 3520: 'likes.', 3521: 'line', 3522: 'line.', 3523: 'linear', 3524: 'link', 3525: 'list', 3526: 'listening', 3527: 'little', 3528: 'little,', 3529: 'live', 3530: 'loan', 3531: 'local', 3532: 'location,', 3533: 'locksmiths', 3534: 'log', 3535: 'login', 3536: 'login.', 3537: 'lonely.', 3538: 'loner.', 3539: 'long', 3540: 'long.', 3541: 'longer', 3542: 'longer.', 3543: 'look', 3544: 'look.', 3545: 'looking', 3546: 'looks', 3547: 'lose', 3548: 'lose.', 3549: 'loss', 3550: 'lost', 3551: 'lost.', 3552: 'lot', 3553: 'lot.', 3554: 'lotion', 3555: 'lots', 3556: 'lots.', 3557: 'loud', 3558: 'loud.', 3559: 'lousy.', 3560: 'love', 3561: 'love,', 3562: 'love.', 3563: 'lovely', 3564: 'low', 3565: 'luck', 3566: 'luck!', 3567: 'luck,', 3568: 'luck.', 3569: 'lucky', 3570: 'lunch', 3571: 'lunch!', 3572: 'lunch,', 3573: 'lunch.', 3574: 'lunch?', 3575: 'lungs', 3576: 'lush!', 3577: 'lying', 3578: 'macadamias', 3579: 'macaroni', 3580: 'machine', 3581: 'machines.', 3582: 'mad', 3583: 'made', 3584: 'mahjong', 3585: 'mahjong,', 3586: 'mahjong?', 3587: 'mail', 3588: 'mail?', 3589: 'mainland.', 3590: 'maintain', 3591: 'major', 3592: 'major?', 3593: 'make', 3594: 'makeup', 3595: 'making', 3596: 'male', 3597: 'male,', 3598: 'male.', 3599: 'male?', 3600: 'mambo', 3601: 'man', 3602: 'man.', 3603: 'man?', 3604: 'manage', 3605: 'managed', 3606: 'manager,', 3607: 'mango', 3608: 'mangosteen', 3609: 'manners', 3610: 'many', 3611: 'map', 3612: 'market', 3613: \"market's\", 3614: 'marketing.', 3615: 'married', 3616: 'marshmallow', 3617: 'mass', 3618: 'match', 3619: 'mate', 3620: 'mate.', 3621: 'materials?', 3622: 'matriculation', 3623: 'matter', 3624: 'may', 3625: 'may.', 3626: 'maybe', 3627: 'maybe?', 3628: 'mb?', 3629: 'me', 3630: 'me!', 3631: 'me,', 3632: 'me.', 3633: 'me?', 3634: 'meal', 3635: 'meal.', 3636: 'mean', 3637: 'mean.', 3638: 'meaningful!', 3639: 'meaningless', 3640: 'means', 3641: 'meant', 3642: 'meant.', 3643: 'measurement.', 3644: 'meddlesome.', 3645: 'medic.', 3646: 'medical', 3647: 'meet', 3648: 'meet.', 3649: 'meet?', 3650: 'meeting', 3651: 'meeting.', 3652: 'meeting?', 3653: 'melting', 3654: 'member', 3655: 'member?', 3656: 'membership', 3657: 'memorable', 3658: 'men', 3659: 'mention', 3660: 'merchandiser', 3661: 'mess', 3662: 'message', 3663: 'message.', 3664: 'message?', 3665: 'messaged', 3666: 'messages?', 3667: 'messaging?', 3668: 'messy.', 3669: 'met', 3670: 'metal', 3671: 'me？', 3672: 'mid', 3673: 'middle,', 3674: 'middle-aged', 3675: 'might', 3676: 'million', 3677: 'min,', 3678: 'mind', 3679: 'mind,', 3680: 'mind.', 3681: 'mind?', 3682: 'mine', 3683: 'mine,', 3684: 'mingle', 3685: 'minimum', 3686: 'mins.', 3687: 'minute', 3688: 'minutes', 3689: 'minutes,', 3690: 'minutes.', 3691: 'miracle!', 3692: 'miss', 3693: 'missed', 3694: 'missing', 3695: 'missy?', 3696: 'mistake.', 3697: 'mistakes', 3698: 'mistakes.', 3699: 'mistress', 3700: 'miworld.com.sg.', 3701: 'mobile', 3702: 'mobile.', 3703: 'model?', 3704: 'models.', 3705: 'module', 3706: \"modules'\", 3707: 'modules.', 3708: 'moisturise', 3709: 'molested', 3710: 'mom', 3711: 'mom,', 3712: 'moment,', 3713: 'moment.', 3714: 'monday', 3715: 'money', 3716: 'money.', 3717: 'money?', 3718: 'monkey', 3719: 'month', 3720: 'month.', 3721: 'months', 3722: 'months.', 3723: 'mood', 3724: 'mood.', 3725: 'moon', 3726: 'more', 3727: 'more!', 3728: 'more,', 3729: 'more.', 3730: 'more?', 3731: 'morning', 3732: 'morning!', 3733: 'morning,', 3734: 'morning.', 3735: 'morning?', 3736: 'most', 3737: 'mother', 3738: 'mother?', 3739: 'motion.', 3740: 'move', 3741: 'movie', 3742: 'movie.', 3743: 'movie?', 3744: 'movies.', 3745: 'mrt,', 3746: 'mrt?', 3747: 'msn.', 3748: 'msn?', 3749: 'much', 3750: 'much\".', 3751: 'much,', 3752: 'much.', 3753: 'much?', 3754: 'muffin', 3755: 'muji', 3756: 'mum', 3757: 'mum!', 3758: 'mum,', 3759: 'mum.', 3760: 'museum', 3761: 'must', 3762: 'my', 3763: 'my,', 3764: 'myself', 3765: 'myself.', 3766: 'n', 3767: 'nagging', 3768: 'nail', 3769: 'nama?', 3770: 'name', 3771: 'name.', 3772: 'name?', 3773: 'named', 3774: 'nap,', 3775: 'nap?', 3776: 'naughty', 3777: 'naughty.', 3778: 'near', 3779: 'nearer', 3780: 'nearer?', 3781: 'nearest', 3782: 'need', 3783: 'need.', 3784: 'needles?', 3785: 'needs', 3786: 'nemo!', 3787: 'netball', 3788: 'network', 3789: 'never', 3790: 'nevermind', 3791: 'nevermind.', 3792: 'new', 3793: 'news', 3794: 'news.', 3795: 'newspaper', 3796: 'newspaper.', 3797: 'next', 3798: 'nice', 3799: 'nice,', 3800: 'nice.', 3801: 'nice?', 3802: 'nicer.', 3803: 'night', 3804: 'night!', 3805: \"night's\", 3806: 'night,', 3807: 'night.', 3808: 'night?', 3809: 'no', 3810: 'no,', 3811: 'no.', 3812: 'nobody', 3813: 'non', 3814: 'non-compliance.', 3815: 'noodles.', 3816: 'noon', 3817: 'normal', 3818: 'normal.', 3819: 'nose.', 3820: 'not', 3821: 'not,', 3822: 'not.', 3823: 'not?', 3824: 'not?!', 3825: 'note', 3826: 'notes', 3827: 'notes.', 3828: 'notes?', 3829: 'nothing', 3830: 'noticed.', 3831: 'now', 3832: 'now!', 3833: 'now,', 3834: 'now.', 3835: 'now?', 3836: 'now，are', 3837: 'nsf', 3838: 'number', 3839: 'number,', 3840: 'number.', 3841: 'number?', 3842: 'numbers', 3843: 'nus', 3844: 'nydc,', 3845: 'o.', 3846: 'objection?', 3847: 'obvious', 3848: 'obvious.', 3849: 'occupy', 3850: 'odd,', 3851: 'of', 3852: 'of.', 3853: 'of?', 3854: 'off', 3855: 'off!', 3856: 'off.', 3857: 'off?', 3858: 'offer,', 3859: 'offer.', 3860: 'offer?!', 3861: 'office', 3862: 'office,', 3863: 'office.', 3864: 'office?', 3865: 'officers', 3866: 'officially', 3867: 'offline.', 3868: 'ok', 3869: 'ok,', 3870: 'ok.', 3871: 'ok?', 3872: 'okay', 3873: 'okay!', 3874: 'okay,', 3875: 'okay.', 3876: 'okay?', 3877: 'old', 3878: 'old,', 3879: 'old.', 3880: 'on', 3881: 'on!', 3882: 'on.', 3883: 'on?', 3884: 'once', 3885: 'once,', 3886: 'once.', 3887: 'one', 3888: 'one,', 3889: 'one.', 3890: 'one?', 3891: 'ones', 3892: 'ones.', 3893: 'ones?', 3894: 'online', 3895: 'online,', 3896: 'online.', 3897: 'online?', 3898: 'only', 3899: 'only,', 3900: 'only.', 3901: 'only?', 3902: 'onto', 3903: 'onwards.', 3904: 'onwards?', 3905: 'open', 3906: 'open.', 3907: 'opened.', 3908: 'opening', 3909: 'opens', 3910: 'opera', 3911: 'opportunities', 3912: 'opps...Hi...how', 3913: 'or', 3914: 'orchard?', 3915: 'ordered', 3916: 'organise', 3917: 'other', 3918: 'other.', 3919: 'others', 3920: 'otherwise', 3921: 'otherwise.', 3922: 'our', 3923: 'ours', 3924: 'ourselves.', 3925: 'out', 3926: 'out!', 3927: 'out,', 3928: 'out.', 3929: 'out?', 3930: 'outing', 3931: 'outing.', 3932: 'outing?', 3933: 'outlet', 3934: 'outside', 3935: 'outside,', 3936: 'outside.', 3937: 'outside?', 3938: 'outsider', 3939: 'over', 3940: 'over.', 3941: 'overall', 3942: 'overnight.', 3943: 'overseas', 3944: 'overseas.', 3945: 'owes', 3946: 'owl', 3947: 'own', 3948: 'own.', 3949: 'own?', 3950: 'package', 3951: 'pad', 3952: 'page!', 3953: 'page.', 3954: 'page?', 3955: 'pages', 3956: 'pages.', 3957: 'paid', 3958: 'painful.', 3959: 'painting', 3960: 'pair', 3961: 'pale', 3962: 'pang', 3963: 'pants', 3964: 'pants!', 3965: 'paper.', 3966: 'paper?', 3967: 'papers', 3968: 'papers!', 3969: 'papers\".', 3970: \"papers'\", 3971: 'papers?', 3972: 'parent.', 3973: 'parents', 3974: 'parents.', 3975: 'park', 3976: 'park.', 3977: 'parkway', 3978: 'part', 3979: 'part.', 3980: 'partner.', 3981: 'party', 3982: 'party.', 3983: 'pass', 3984: 'pass.', 3985: 'passed', 3986: 'passed.', 3987: 'password', 3988: 'password?', 3989: 'past', 3990: 'pasta', 3991: 'pastry', 3992: 'pay', 3993: 'pay.', 3994: 'paying', 3995: 'payment.', 3996: 'peeling', 3997: 'peep.', 3998: 'pen!', 3999: 'people', 4000: 'people!', 4001: \"people's\", 4002: 'people,', 4003: 'people.', 4004: 'people?', 4005: 'per', 4006: 'perfectly', 4007: 'perfume,', 4008: 'perhaps.', 4009: 'peril', 4010: 'period.', 4011: 'period?', 4012: 'person', 4013: 'person.', 4014: 'person?', 4015: 'personally', 4016: \"pest's\", 4017: 'pestering', 4018: 'petition', 4019: 'petty.', 4020: 'phenomenon!', 4021: 'phone', 4022: 'phone!', 4023: 'phone,', 4024: 'phone.', 4025: 'phone?', 4026: 'phoned.', 4027: 'phones', 4028: 'photo', 4029: 'photo.', 4030: 'photo?', 4031: 'photocopy', 4032: 'photograph,', 4033: 'photography', 4034: 'photos', 4035: 'photos.', 4036: 'photostat', 4037: 'pick', 4038: 'picnic', 4039: 'picture', 4040: 'picture!', 4041: 'picture,', 4042: 'pictures,', 4043: 'piece', 4044: 'pieces', 4045: 'pieces.', 4046: 'pig.', 4047: 'pigs?', 4048: 'pilates', 4049: 'pilates.', 4050: 'pillow.', 4051: 'pink', 4052: 'pink.', 4053: 'pink?', 4054: 'piss', 4055: 'pitched', 4056: 'pits,', 4057: 'place', 4058: 'place!', 4059: 'place,', 4060: 'place.', 4061: 'place?', 4062: 'places', 4063: 'plain', 4064: 'plan', 4065: 'plane', 4066: 'planned', 4067: 'planning', 4068: 'plans.', 4069: 'play', 4070: 'play,', 4071: 'play.', 4072: 'play?', 4073: 'played', 4074: 'player', 4075: 'playing', 4076: 'please', 4077: 'please,', 4078: 'please.', 4079: 'please?', 4080: 'pleasure', 4081: 'pleasure.', 4082: 'plumbing,', 4083: 'plus', 4084: 'plus.', 4085: 'plus?', 4086: 'pm', 4087: 'pm.', 4088: 'poem.', 4089: 'point', 4090: 'point.', 4091: 'points,', 4092: 'points.', 4093: 'poke.', 4094: 'police', 4095: 'polo', 4096: 'pool', 4097: 'poorest', 4098: 'pop', 4099: 'popular', 4100: 'popular.', 4101: 'popularity.', 4102: 'positive', 4103: 'possible', 4104: 'possible,', 4105: 'possible.', 4106: 'post', 4107: 'post,', 4108: 'postcard!', 4109: 'posted', 4110: 'postings', 4111: 'potatoes,', 4112: 'pouch.', 4113: 'pouring', 4114: 'practice', 4115: 'pray', 4116: 'prefer', 4117: 'prefer?', 4118: 'preference.', 4119: 'preoccupied.', 4120: 'prepare', 4121: 'prepare.', 4122: 'prepared.', 4123: 'present', 4124: 'present,', 4125: 'present.', 4126: 'presentation', 4127: 'presentation,', 4128: 'pretty', 4129: 'pretty.', 4130: 'price', 4131: 'price.', 4132: 'price?', 4133: 'print', 4134: 'print,', 4135: 'print?', 4136: 'printer', 4137: 'private', 4138: 'prizes.', 4139: 'probabilty', 4140: 'probably', 4141: 'problem', 4142: 'problem!', 4143: 'problem,', 4144: 'problem.', 4145: 'problems,', 4146: 'problems.', 4147: 'product', 4148: 'production', 4149: 'profiles', 4150: 'programming', 4151: 'programming.', 4152: 'project', 4153: 'project,right?', 4154: 'project.', 4155: 'project?', 4156: 'promise', 4157: 'promise.', 4158: 'promised', 4159: 'promote', 4160: 'promoting', 4161: 'promoting.', 4162: 'promotion', 4163: 'properly', 4164: 'properly.', 4165: 'prosperous', 4166: 'protect', 4167: 'pub', 4168: 'pub.', 4169: 'pubbing', 4170: 'public', 4171: 'publicity.', 4172: 'published', 4173: 'pubs.', 4174: 'punish', 4175: 'pure,', 4176: 'purple', 4177: 'put', 4178: 'puzzle', 4179: 'quality', 4180: 'quarantine.', 4181: 'quarantined', 4182: 'quarrelling', 4183: 'queen.', 4184: 'question,', 4185: 'question.', 4186: 'question?', 4187: 'questions', 4188: 'questions.', 4189: 'quick.', 4190: 'quickly.', 4191: 'quiet?', 4192: 'quit', 4193: 'quite', 4194: 'quitting', 4195: 'r', 4196: 'race?', 4197: 'rag', 4198: 'rag.', 4199: 'rain', 4200: 'rain.', 4201: 'raining', 4202: 'raining.', 4203: 'ralph.', 4204: 'ramen', 4205: 'ran', 4206: 'ranger', 4207: 'rather', 4208: 'rays', 4209: 're', 4210: 're-live', 4211: 'reach', 4212: 'reach,', 4213: 'reach.', 4214: 'reach?', 4215: 'reachd', 4216: 'reached', 4217: 'reached.', 4218: 'reached?', 4219: 'reaches', 4220: 'reaching', 4221: 'reaching.', 4222: 'reaching?', 4223: 'reaction', 4224: 'read', 4225: 'reading', 4226: 'ready.', 4227: 'real', 4228: 'realised', 4229: 'realising.', 4230: 'realize', 4231: 'realized', 4232: 'really', 4233: 'really.', 4234: 'reason.', 4235: 'receive', 4236: 'received', 4237: 'recently', 4238: 'recently.', 4239: 'recently?', 4240: 'reception,', 4241: 'receptionist?', 4242: 'recommend', 4243: 'recommendations?', 4244: 'record', 4245: 'recorded', 4246: 'recruit', 4247: 'recruits', 4248: 'red', 4249: 'reduce', 4250: 'register', 4251: 'registered', 4252: 'regret', 4253: 'regrets.', 4254: 'relationship', 4255: 'relatives', 4256: 'relax.', 4257: 'relaxed', 4258: 'remain', 4259: 'remedy.', 4260: 'remember', 4261: 'remember?', 4262: 'remembered!', 4263: 'remembered.', 4264: 'remind', 4265: 'reminds', 4266: 'remixed', 4267: 'remove', 4268: 'renew', 4269: 'renovated', 4270: 'rent', 4271: 'rent,', 4272: 'repair', 4273: 'repair.', 4274: 'replace', 4275: 'replacement?', 4276: 'replied', 4277: 'replied.', 4278: 'replies', 4279: 'replies?', 4280: 'reply', 4281: 'reply.', 4282: 'reply?', 4283: 'replying', 4284: 'report', 4285: 'report,', 4286: 'reported', 4287: 'reserve', 4288: 'responding', 4289: 'responds.', 4290: 'response', 4291: 'responses.', 4292: 'responsible.', 4293: 'rest', 4294: 'rest.', 4295: 'restaurant', 4296: 'restaurant.', 4297: 'rested.', 4298: 'resting', 4299: 'result', 4300: 'result.', 4301: 'results', 4302: 'results.', 4303: 'resume', 4304: 'retrieve', 4305: 'return', 4306: 'reunion?', 4307: 'review', 4308: 'revision', 4309: 'rice', 4310: 'rich', 4311: 'ridge', 4312: 'right', 4313: 'right,', 4314: 'right.', 4315: 'right?', 4316: 'right？', 4317: 'ring', 4318: 'riverwalk.', 4319: 'road?', 4320: 'roads!', 4321: 'roaming!', 4322: 'roast', 4323: 'rocks!', 4324: 'roller', 4325: 'romny1980@hotmail.c', 4326: 'room', 4327: 'room!', 4328: 'room.', 4329: 'room?', 4330: 'rot', 4331: 'roughly', 4332: 'round', 4333: 'round,', 4334: 'rounds,', 4335: 'row', 4336: 'row,', 4337: 'rub', 4338: 'rude', 4339: 'rule', 4340: 'rules', 4341: 'run', 4342: 'run?', 4343: 'running', 4344: 'rush', 4345: 'rush.', 4346: 'rushing', 4347: 'rushing?', 4348: 'rusty.', 4349: 's56!', 4350: 'sad', 4351: 'sad.', 4352: 'sad?', 4353: 'safe', 4354: 'said', 4355: 'said.', 4356: 'said?', 4357: 'sailing', 4358: 'sailing,', 4359: 'sake!', 4360: 'sale', 4361: 'sale?', 4362: 'sales', 4363: 'same', 4364: 'same.', 4365: 'sandals.', 4366: 'sape', 4367: 'sardines', 4368: 'saturday?', 4369: 'sausage?', 4370: 'save', 4371: 'saved', 4372: 'saw', 4373: 'saw?', 4374: 'say', 4375: 'say,', 4376: 'say.', 4377: 'say?', 4378: 'saying', 4379: 'saying.', 4380: 'says', 4381: 'says:', 4382: 'scare', 4383: 'scared', 4384: 'scary.', 4385: 'school', 4386: 'school,', 4387: 'school.', 4388: 'school?', 4389: 'science', 4390: 'science.', 4391: 'science?', 4392: 'scold', 4393: 'score', 4394: 'scratch', 4395: 'screen', 4396: 'search', 4397: 'seat', 4398: 'seat,', 4399: 'seat?', 4400: 'seats', 4401: 'seats,', 4402: 'seats.', 4403: 'seats?', 4404: 'second', 4405: 'secret.', 4406: 'see', 4407: 'see!', 4408: 'see,', 4409: 'see.', 4410: 'see?', 4411: 'seed.', 4412: 'seeing', 4413: 'seeing?', 4414: 'seem', 4415: 'seemed', 4416: 'seems', 4417: 'seen', 4418: 'seen.', 4419: 'select', 4420: 'self', 4421: 'self-conscious', 4422: 'sell', 4423: 'selling', 4424: 'sells', 4425: 'semester.', 4426: 'semester?', 4427: 'send', 4428: 'send,', 4429: 'send?', 4430: 'sending', 4431: 'seniors', 4432: 'sensitive', 4433: 'sent', 4434: 'separated?', 4435: 'serious?', 4436: 'service', 4437: 'session', 4438: 'set,', 4439: 'sets.', 4440: 'settle', 4441: 'seven', 4442: 'shall', 4443: 'shame', 4444: 'share', 4445: \"shareholder's\", 4446: 'sharing?', 4447: 'sharp.', 4448: 'she', 4449: \"she'll\", 4450: \"she's\", 4451: 'sheet.', 4452: 'shiny', 4453: 'shirt.', 4454: 'shit', 4455: 'shit!', 4456: 'shitty', 4457: 'shocked', 4458: 'shoe.', 4459: 'shoes.', 4460: 'shop', 4461: 'shop,', 4462: 'shop.', 4463: 'shop?', 4464: 'shopping', 4465: 'shopping,', 4466: 'shopping.', 4467: 'shopping?', 4468: 'shops', 4469: 'shops.', 4470: 'short', 4471: 'short.', 4472: 'short?', 4473: 'shorts.', 4474: 'shots', 4475: 'should', 4476: 'show', 4477: 'show.', 4478: 'show?', 4479: 'shufen.', 4480: 'shy', 4481: 'shy.', 4482: 'sick', 4483: 'sick.', 4484: 'side', 4485: 'side.', 4486: 'sideway.', 4487: 'sign', 4488: 'signing', 4489: 'silent?', 4490: 'silly', 4491: 'similar', 4492: 'simple', 4493: 'since', 4494: 'singapore,', 4495: 'single', 4496: 'sir!', 4497: 'sister', 4498: \"sister's\", 4499: 'sister.', 4500: 'sister?', 4501: 'sit', 4502: 'sitting', 4503: 'situation', 4504: 'six', 4505: 'size', 4506: 'skill.', 4507: 'skin', 4508: 'skin.', 4509: 'skip', 4510: 'skirt.', 4511: 'slack', 4512: 'slack.', 4513: 'slacking', 4514: 'sleep', 4515: 'sleep,', 4516: 'sleep.', 4517: 'sleeping', 4518: 'sleeping,', 4519: 'sleeping.', 4520: 'sleeping?', 4521: 'sleepy', 4522: 'slept', 4523: 'slept?', 4524: 'slice?', 4525: 'slightly', 4526: 'slim.', 4527: 'slot', 4528: 'slot.', 4529: 'slow', 4530: 'slp', 4531: 'slp,', 4532: 'small', 4533: 'small.', 4534: 'smashed', 4535: 'smile', 4536: 'smile,', 4537: 'smoke', 4538: 'smoking', 4539: 'smooth', 4540: 'sms', 4541: 'sms-ing', 4542: 'sms.', 4543: 'snacks', 4544: 'snatch', 4545: 'sneaks?', 4546: 'snoring.', 4547: 'so', 4548: 'so,', 4549: 'so.', 4550: 'so?', 4551: 'soc', 4552: 'soccer', 4553: 'soccer,', 4554: 'soccer.', 4555: 'sold', 4556: 'solution.', 4557: 'solution?', 4558: 'some', 4559: 'some?', 4560: 'somebody', 4561: 'somebody.', 4562: 'somemore.', 4563: 'someone', 4564: 'something', 4565: 'something,', 4566: 'something.', 4567: 'something?', 4568: 'sometime', 4569: 'sometime.', 4570: 'somewhere', 4571: 'soon', 4572: 'soon.', 4573: 'soon?', 4574: 'sorry', 4575: 'sorry,', 4576: 'sorry.', 4577: 'sort', 4578: 'sorta', 4579: 'sorted.', 4580: 'soul', 4581: 'sound', 4582: 'sounded', 4583: 'sounds', 4584: 'space', 4585: 'space.', 4586: 'spacing?', 4587: 'spare?', 4588: 'speak', 4589: 'special', 4590: 'specially', 4591: 'speed', 4592: 'speed.', 4593: 'spend', 4594: 'spending', 4595: 'spent', 4596: 'spoiled', 4597: 'spoke', 4598: 'spoken', 4599: 'spore!', 4600: 'spore?', 4601: 'sports', 4602: 'sports.', 4603: 'spot', 4604: 'spread', 4605: 'square', 4606: 'squash', 4607: 'stairs?', 4608: 'stalking', 4609: 'stalls', 4610: 'stand', 4611: 'standard.', 4612: 'star.', 4613: 'stars', 4614: 'stars.', 4615: 'start', 4616: 'start.', 4617: 'start?', 4618: 'started', 4619: 'started,', 4620: 'started?', 4621: 'starting?', 4622: 'starts', 4623: 'starts,', 4624: 'starts.', 4625: 'state.', 4626: 'station', 4627: 'station.', 4628: 'statistics', 4629: 'statistics?', 4630: 'stay', 4631: 'stay?', 4632: 'stayed', 4633: 'staying', 4634: 'stays', 4635: 'step', 4636: 'step-by-step', 4637: 'stick', 4638: 'stick.', 4639: 'sticks.', 4640: 'still', 4641: 'still?', 4642: 'stinge.', 4643: 'stinky', 4644: 'stocks', 4645: 'stop', 4646: 'stop.', 4647: 'stopping', 4648: 'store', 4649: 'storey', 4650: 'straight', 4651: 'straightaway.', 4652: 'strawberry', 4653: 'strength', 4654: 'stress', 4655: 'stricter', 4656: 'stripes', 4657: 'strong', 4658: 'stuck', 4659: 'student', 4660: 'study', 4661: 'study,', 4662: 'study.', 4663: 'study?', 4664: 'studying', 4665: 'studying,', 4666: 'studying.', 4667: 'studying?', 4668: 'stuff', 4669: 'stuff,', 4670: 'stuff.', 4671: 'stuff?', 4672: 'stuffs', 4673: 'stuffs.', 4674: 'stupid', 4675: 'stupid!', 4676: 'stupid.', 4677: 'styles', 4678: 'sub', 4679: 'subject.', 4680: 'submit', 4681: 'submitted?', 4682: 'such', 4683: 'sucks!', 4684: 'suddenly', 4685: 'sugar', 4686: 'suggest', 4687: 'suggested', 4688: 'suggestions?', 4689: 'suit.', 4690: 'sultan', 4691: \"sultan's\", 4692: 'sun', 4693: 'sun,', 4694: 'sunburn,', 4695: 'sunny', 4696: 'sunrise.', 4697: 'super', 4698: 'superstition.', 4699: 'supervisor', 4700: 'supper', 4701: 'support', 4702: 'support?', 4703: 'supported', 4704: 'suppose', 4705: 'supposed', 4706: 'sure', 4707: 'sure.', 4708: 'sure?', 4709: 'surely', 4710: 'surf', 4711: 'surface.', 4712: 'surname', 4713: 'surpass', 4714: 'surprise!', 4715: 'survey', 4716: 'suspect', 4717: 'sweater', 4718: 'sweet', 4719: 'sweet.', 4720: 'swimming', 4721: 'swimming?', 4722: 'sympathise!', 4723: 'system', 4724: 't', 4725: 't-shirt', 4726: 'table', 4727: 'table.', 4728: 'table?', 4729: 'tailor', 4730: 'take', 4731: 'take.', 4732: 'take?', 4733: 'taken', 4734: 'taking', 4735: 'taking?', 4736: 'talk', 4737: 'talk,', 4738: 'talk.', 4739: 'talking', 4740: 'talking?', 4741: 'taller', 4742: 'tanks,', 4743: 'tanks.', 4744: 'tap', 4745: 'tape', 4746: 'tape.', 4747: 'tape?', 4748: 'taste', 4749: 'tastes', 4750: 'tasty.', 4751: 'tau', 4752: 'taxi', 4753: 'taxing', 4754: 'taxing?', 4755: 'tazz,', 4756: 'tb,', 4757: 'teacher', 4758: 'teaching', 4759: 'teasing', 4760: 'technician.', 4761: 'tele', 4762: 'telemarketer,', 4763: 'telemarketing', 4764: 'telephone', 4765: 'television,', 4766: 'tell', 4767: 'tells', 4768: 'temple', 4769: 'temporary', 4770: 'ten', 4771: 'tennis.', 4772: 'tent', 4773: 'tents', 4774: 'tents.', 4775: 'term', 4776: 'term.', 4777: 'terminal', 4778: 'terminated.', 4779: 'terrible.', 4780: 'test', 4781: 'test!', 4782: 'test.', 4783: 'test?', 4784: 'tester', 4785: 'tester!', 4786: 'tester.', 4787: 'testimonial', 4788: 'testimonial.', 4789: 'tests', 4790: 'text', 4791: 'textbook', 4792: 'texted', 4793: 'than', 4794: 'thank', 4795: 'thanks', 4796: 'thanks,', 4797: 'thanks.', 4798: 'that', 4799: 'that!', 4800: \"that's\", 4801: 'that,', 4802: 'that.', 4803: 'that?', 4804: 'the', 4805: 'theatre', 4806: 'theatre?', 4807: 'their', 4808: 'them', 4809: 'them,', 4810: 'them.', 4811: 'then', 4812: 'then!', 4813: 'then,', 4814: 'then.', 4815: 'then?', 4816: 'theory', 4817: 'there', 4818: 'there!', 4819: \"there'll\", 4820: \"there's\", 4821: 'there,', 4822: 'there.', 4823: 'there?', 4824: 'these', 4825: 'they', 4826: \"they'll\", 4827: \"they've\", 4828: 'thick.', 4829: 'thicker.', 4830: 'thing', 4831: 'thing!', 4832: 'thing.', 4833: 'thing?', 4834: 'things', 4835: 'things.', 4836: 'think', 4837: 'think.', 4838: 'think?', 4839: 'thinking', 4840: 'thinks', 4841: 'thirty', 4842: 'this', 4843: 'this.', 4844: 'this?', 4845: 'those', 4846: 'though', 4847: 'though.', 4848: 'thought', 4849: 'three', 4850: 'through', 4851: 'through!', 4852: 'through.', 4853: 'thumb', 4854: 'tickets', 4855: 'tickets.', 4856: 'tight', 4857: 'tight!', 4858: 'tight.', 4859: 'till', 4860: 'time', 4861: 'time!', 4862: 'time,', 4863: 'time-pass', 4864: 'time.', 4865: 'time?', 4866: 'timer', 4867: 'timer.', 4868: 'times,', 4869: 'timetable?', 4870: 'timing', 4871: 'tina.', 4872: 'tired', 4873: 'tired,', 4874: 'tired.', 4875: 'tiring', 4876: 'tiring.', 4877: 'tit', 4878: 'to', 4879: 'to,', 4880: 'to.', 4881: 'to?', 4882: 'toaster.', 4883: 'today', 4884: 'today!', 4885: 'today,', 4886: 'today.', 4887: 'today?', 4888: 'together', 4889: 'together,', 4890: 'together.', 4891: 'together?', 4892: 'toilet.', 4893: 'told', 4894: 'tomorrow', 4895: 'tomorrow!', 4896: 'tomorrow,', 4897: 'tomorrow.', 4898: 'tomorrow?', 4899: 'tone,', 4900: 'tonight', 4901: 'tonight,', 4902: 'tonight.', 4903: 'tonight?', 4904: 'tons', 4905: 'tonsillitis', 4906: 'too', 4907: 'too!', 4908: 'too,', 4909: 'too.', 4910: 'too?', 4911: 'took', 4912: 'tooth', 4913: 'top', 4914: 'top.', 4915: 'topic', 4916: 'topics', 4917: 'topics?', 4918: 'total', 4919: 'total!', 4920: 'totally', 4921: 'touch.', 4922: 'tough', 4923: 'tournament.', 4924: 'tours.', 4925: 'towels?', 4926: 'town', 4927: 'town,', 4928: 'town.', 4929: 'town?', 4930: 'tph.', 4931: 'tpy', 4932: 'tpy?', 4933: 'track', 4934: 'trade', 4935: 'traffic', 4936: 'train', 4937: 'trainee', 4938: 'training', 4939: 'training.', 4940: 'transport', 4941: 'tray', 4942: 'treat', 4943: 'treat,', 4944: 'treated', 4945: 'trial', 4946: 'tried', 4947: 'trim', 4948: 'trip', 4949: 'trip!', 4950: 'trip.', 4951: 'trip?', 4952: 'trouble', 4953: 'troublesome.', 4954: 'true', 4955: 'true!', 4956: 'true.', 4957: 'truth', 4958: 'try', 4959: 'try.', 4960: 'trying', 4961: 'tubes.', 4962: 'tuition', 4963: 'tuition,', 4964: 'tuition?', 4965: 'turf', 4966: 'turn', 4967: 'turning', 4968: 'tutor.', 4969: 'tutorial', 4970: \"tutorial's\", 4971: 'tutorial,', 4972: 'tutorial.', 4973: 'tutorial?', 4974: 'twice', 4975: 'twice,', 4976: 'twice.', 4977: 'twinkle', 4978: 'two', 4979: 'two.', 4980: 'two?', 4981: 'type', 4982: 'type.', 4983: 'u', 4984: 'u?', 4985: 'ugly.', 4986: 'ugly?', 4987: \"uncle's\", 4988: 'under', 4989: 'understand', 4990: 'understand.', 4991: 'uniform', 4992: 'uniform.', 4993: 'unique', 4994: 'unit', 4995: 'unit.', 4996: 'university', 4997: 'university.', 4998: 'university?', 4999: 'unlimited', 5000: 'unrestricted', 5001: 'unsure,', 5002: 'until', 5003: 'until?', 5004: 'unwell?', 5005: 'up', 5006: 'up!', 5007: \"up'.\", 5008: 'up,', 5009: 'up.', 5010: 'up?', 5011: 'update', 5012: 'updated', 5013: 'upload', 5014: 'upstairs.', 5015: 'urgent', 5016: 'us', 5017: 'us!', 5018: 'us,', 5019: 'us.', 5020: 'us?', 5021: 'use', 5022: 'use.', 5023: 'use?', 5024: 'used', 5025: 'user', 5026: 'using', 5027: 'usual,', 5028: 'usually', 5029: 'utilise', 5030: 'vacancies.', 5031: 'vacancy', 5032: 'vain.', 5033: \"valentine's\", 5034: 'vampire', 5035: 'vat.', 5036: 'vegetables.', 5037: 'venue', 5038: 'very', 5039: 'vet?', 5040: 'view', 5041: 'views.', 5042: 'violyn', 5043: 'visit', 5044: 'vodka,', 5045: 'wacky', 5046: 'wait', 5047: 'wait.', 5048: 'wait?', 5049: 'waiting', 5050: 'waiting.', 5051: 'waitress', 5052: 'waitress.', 5053: 'wake', 5054: 'wakey.', 5055: 'walk', 5056: 'walk,', 5057: 'walk?', 5058: 'walked', 5059: 'walking', 5060: 'walking.', 5061: 'wallet', 5062: 'wallet.', 5063: 'want', 5064: 'want,', 5065: 'want.', 5066: 'want?', 5067: 'wanted', 5068: 'wants', 5069: 'wants?', 5070: 'warming', 5071: 'was', 5072: 'wash', 5073: 'wash.', 5074: \"wasn't\", 5075: 'waste', 5076: 'watch', 5077: 'watch!', 5078: 'watch.', 5079: 'watch?', 5080: 'watched', 5081: 'watching', 5082: 'watching?', 5083: 'water?', 5084: 'way', 5085: 'way!', 5086: 'way,', 5087: 'way.', 5088: 'we', 5089: \"we'll\", 5090: \"we're\", 5091: \"we've\", 5092: 'wealth', 5093: 'wear', 5094: 'wear.', 5095: 'wearing', 5096: 'weather', 5097: 'weather.', 5098: 'webpage', 5099: 'website', 5100: 'website.', 5101: 'website?', 5102: 'wednesday', 5103: 'week', 5104: \"week's\", 5105: 'week.', 5106: 'week?', 5107: 'weekday.', 5108: 'weekend', 5109: 'weekend?', 5110: 'weekends.', 5111: 'weekends?', 5112: 'weeks', 5113: \"weeks'tutorials\", 5114: 'weeks,', 5115: 'weeks.', 5116: 'weight', 5117: 'weight.', 5118: 'weight?', 5119: 'weird', 5120: 'weird.', 5121: 'weirdest', 5122: 'weiyi?', 5123: 'well', 5124: 'well!', 5125: 'well,', 5126: 'well.', 5127: 'went', 5128: 'were', 5129: 'were.', 5130: 'wet', 5131: 'wet,', 5132: 'whackers33@hotmail.com.', 5133: 'what', 5134: \"what's\", 5135: 'what,', 5136: 'what.', 5137: 'what?', 5138: 'whatever', 5139: 'whatever.', 5140: 'when', 5141: 'when?', 5142: 'where', 5143: 'where.', 5144: 'where?', 5145: 'whether', 5146: 'which', 5147: 'while', 5148: 'while.', 5149: 'while?', 5150: 'who', 5151: \"who's\", 5152: 'whoever', 5153: 'whole', 5154: 'why', 5155: 'why.', 5156: 'why?', 5157: 'wide', 5158: 'wife', 5159: 'will', 5160: 'will.', 5161: 'win', 5162: 'win.', 5163: 'wind', 5164: 'windows', 5165: 'wine', 5166: 'wine,', 5167: 'wine.', 5168: 'winery.', 5169: 'wing', 5170: 'wins', 5171: 'wireless', 5172: 'wish', 5173: 'wishes', 5174: 'wishing', 5175: 'wisma.', 5176: 'with', 5177: 'with,', 5178: 'with?', 5179: 'within', 5180: 'without', 5181: 'wk', 5182: 'woke', 5183: 'woking', 5184: 'wombat.', 5185: 'won', 5186: \"won't\", 5187: \"won't.\", 5188: 'wonder', 5189: 'wonderful', 5190: 'wondering', 5191: 'wooden', 5192: 'woods.', 5193: 'work', 5194: 'work,', 5195: 'work.', 5196: 'work?', 5197: 'worked', 5198: 'workers', 5199: 'working', 5200: 'working.', 5201: 'working?', 5202: 'workplace', 5203: 'worried', 5204: 'worries', 5205: 'worry', 5206: 'worry,', 5207: 'worry.', 5208: 'worse', 5209: 'worth', 5210: 'would', 5211: \"wouldn't\", 5212: 'wow', 5213: 'write', 5214: 'writing,', 5215: 'wrong', 5216: 'www.miworld.com.sg.', 5217: 'xin', 5218: 'xroom?', 5219: 'xy', 5220: 'xyan', 5221: 'ya,', 5222: 'yeah', 5223: 'year', 5224: 'year!', 5225: 'year,', 5226: 'year.', 5227: 'years', 5228: 'yes!', 5229: 'yes,', 5230: 'yes.', 5231: 'yesterday', 5232: 'yesterday.', 5233: 'yesterday?', 5234: 'yet', 5235: 'yet,', 5236: 'yet.', 5237: 'yet?', 5238: 'yin.', 5239: 'yo', 5240: 'yoU', 5241: 'yoga?', 5242: 'yoghurt', 5243: 'yoghurt,', 5244: 'yoghurt.', 5245: 'yong', 5246: 'you', 5247: 'you!', 5248: \"you'll\", 5249: \"you're\", 5250: 'you,', 5251: 'you.', 5252: 'you?', 5253: 'young.', 5254: 'your', 5255: \"your's!\", 5256: 'yours', 5257: 'yours.', 5258: 'yours?', 5259: 'yourself', 5260: 'yourself!', 5261: 'yourself,', 5262: 'yourself.', 5263: 'yourself?', 5264: 'yourselves', 5265: 'yummy.', 5266: 'zip', 5267: 'zoo', 5268: '£48,', 5269: 'ìt?', 5270: '“Leafcutter', 5271: '\\t'}\n"
          ],
          "name": "stdout"
        }
      ]
    },
    {
      "cell_type": "code",
      "metadata": {
        "colab": {
          "base_uri": "https://localhost:8080/"
        },
        "id": "VYTxvmiizJQp",
        "outputId": "0e35ec2f-04b2-49c9-e220-472849867382"
      },
      "source": [
        "\n",
        "enc_inputs = model.input[0]  # input_1\n",
        "enc_outputs, state_h_enc = model.layers[2].output  # gru\n",
        "enc_states = state_h_enc\n",
        "enc_model = tf.keras.Model(enc_inputs, enc_states)\n",
        "\n",
        "enc_model.summary()\n"
      ],
      "execution_count": null,
      "outputs": [
        {
          "output_type": "stream",
          "text": [
            "Model: \"model_1\"\n",
            "_________________________________________________________________\n",
            "Layer (type)                 Output Shape              Param #   \n",
            "=================================================================\n",
            "input_1 (InputLayer)         [(None, None, 6948)]      0         \n",
            "_________________________________________________________________\n",
            "gru (GRU)                    [(None, 100), (None, 100) 2115000   \n",
            "=================================================================\n",
            "Total params: 2,115,000\n",
            "Trainable params: 2,115,000\n",
            "Non-trainable params: 0\n",
            "_________________________________________________________________\n"
          ],
          "name": "stdout"
        }
      ]
    },
    {
      "cell_type": "code",
      "metadata": {
        "colab": {
          "base_uri": "https://localhost:8080/",
          "height": 201
        },
        "id": "yJy-WEwPzJQp",
        "outputId": "e5294c23-61f8-43d5-a688-0a7eb74c84d8"
      },
      "source": [
        "tf.keras.utils.plot_model(enc_model, show_shapes=True)\n"
      ],
      "execution_count": null,
      "outputs": [
        {
          "output_type": "execute_result",
          "data": {
            "image/png": "[encoded data removed]",
            "text/plain": [
              "<IPython.core.display.Image object>"
            ]
          },
          "metadata": {
            "tags": []
          },
          "execution_count": 35
        }
      ]
    },
    {
      "cell_type": "code",
      "metadata": {
        "colab": {
          "base_uri": "https://localhost:8080/",
          "height": 601
        },
        "id": "zMpyJRPCzJQp",
        "outputId": "4d3d1d34-611d-40ab-8ebc-a6e4ef092640"
      },
      "source": [
        "\n",
        "dec_inputs=model.inputs[1]\n",
        "dec_state_input_h = tf.keras.Input(shape=(100,))\n",
        "dec_outputs, state_h_dec= model.layers[3](dec_inputs, initial_state=dec_state_input_h)\n",
        "# decoder_model = tf.keras.Model([decoder_inputs,decoder_state_input_h],decoder_outputs)\n",
        "dec_states =state_h_dec\n",
        "dec_dense = model.layers[4]\n",
        "dec_outputs = dec_dense(dec_outputs)\n",
        "dec_model = tf.keras.Model((dec_inputs,dec_state_input_h),(dec_outputs,dec_states))\n",
        "\n",
        "dec_model.summary()\n",
        "tf.keras.utils.plot_model(dec_model, show_shapes=True)"
      ],
      "execution_count": null,
      "outputs": [
        {
          "output_type": "stream",
          "text": [
            "Model: \"model_2\"\n",
            "__________________________________________________________________________________________________\n",
            "Layer (type)                    Output Shape         Param #     Connected to                     \n",
            "==================================================================================================\n",
            "input_2 (InputLayer)            [(None, None, 5272)] 0                                            \n",
            "__________________________________________________________________________________________________\n",
            "input_3 (InputLayer)            [(None, 100)]        0                                            \n",
            "__________________________________________________________________________________________________\n",
            "gru_1 (GRU)                     [(None, None, 100),  1612200     input_2[0][0]                    \n",
            "                                                                 input_3[0][0]                    \n",
            "__________________________________________________________________________________________________\n",
            "dense (Dense)                   (None, None, 5272)   532472      gru_1[1][0]                      \n",
            "==================================================================================================\n",
            "Total params: 2,144,672\n",
            "Trainable params: 2,144,672\n",
            "Non-trainable params: 0\n",
            "__________________________________________________________________________________________________\n"
          ],
          "name": "stdout"
        },
        {
          "output_type": "execute_result",
          "data": {
            "image/png": "[encoded data removed]",
            "text/plain": [
              "<IPython.core.display.Image object>"
            ]
          },
          "metadata": {
            "tags": []
          },
          "execution_count": 36
        }
      ]
    },
    {
      "cell_type": "code",
      "metadata": {
        "colab": {
          "base_uri": "https://localhost:8080/"
        },
        "id": "hUDXEozFHZzO",
        "outputId": "c6b1c4ff-ee3a-4e65-ec30-c55babf3eaee"
      },
      "source": [
        "output_token_ind[\"\\t\"]"
      ],
      "execution_count": null,
      "outputs": [
        {
          "output_type": "execute_result",
          "data": {
            "text/plain": [
              "5271"
            ]
          },
          "metadata": {
            "tags": []
          },
          "execution_count": 37
        }
      ]
    },
    {
      "cell_type": "code",
      "metadata": {
        "id": "YB2456C6zJQq"
      },
      "source": [
        "\n",
        "def predictions(input_seq):\n",
        "    # print(np.argmax(input_seq))\n",
        "    states=enc_model(input_seq)\n",
        "    target_seq = np.zeros((1, 1,5272))\n",
        "    # Populate the first character of target sequence with the start character.\n",
        "    target_seq[0, 0, output_token_ind[\"\\t\"]] = 1\n",
        "    stop_condition = False\n",
        "    dec_sentence = \" \"\n",
        "    \n",
        "    while not stop_condition:\n",
        "        \n",
        "        output_tokens,states= dec_model((target_seq,states))\n",
        "        sampled_token_ind = np.argmax(output_tokens[0, -1, :])\n",
        "        #print(sampled_token_index)\n",
        "        sampled_char = int_2_char_output[sampled_token_ind]\n",
        "        if (sampled_char == '\\n' or len(dec_sentence) > 40):\n",
        "            stop_condition = True\n",
        "            return dec_sentence\n",
        "        \n",
        "        dec_sentence += sampled_char + \" \"\n",
        "        target_seq = np.zeros((1, 1, 5272))\n",
        "        target_seq[0, 0, sampled_token_ind] = 1\n",
        "    \n",
        "    return dec_sentence"
      ],
      "execution_count": null,
      "outputs": []
    },
    {
      "cell_type": "code",
      "metadata": {
        "colab": {
          "base_uri": "https://localhost:8080/"
        },
        "id": "Kcj6rFkVzJQq",
        "outputId": "0059c969-6505-454f-88fd-c5354d6adbf3"
      },
      "source": [
        "for seq in range(len(test_data)):\n",
        "    # Take one sequence (part of the training set)\n",
        "    # for trying out decoding.\n",
        "    print(\"English_TEXT\")\n",
        "    print(test_data['ENGLISH_OUTPUT'].iloc[seq])\n",
        "    input_seq = cv_enc_input_data[seq:seq+1]\n",
        "    print(\"Pred_Sentence\")\n",
        "    print(predictions(input_seq))\n",
        "    print()"
      ],
      "execution_count": null,
      "outputs": [
        {
          "output_type": "stream",
          "text": [
            "English_TEXT\n",
            "Look at that then no need to go already. So pissed. Don't know what's wrong with it. \n",
            "\n",
            "Pred_Sentence\n",
            " I don't know you want to go to go to go \n",
            "\n",
            "English_TEXT\n",
            "Yup. Taken already. Thanks. \n",
            "\n",
            "Pred_Sentence\n",
            " tazz, I don't know you want to go to go \n",
            "\n",
            "English_TEXT\n",
            "Haha, okay, hope you can remember to help me to ask. Hehe. \n",
            "\n",
            "Pred_Sentence\n",
            " You are you want to go to go to go to go \n",
            "\n",
            "English_TEXT\n",
            "I'm still at Computer Centre. There's still a long queue. Sigh. I might not be able to meet you. \n",
            "\n",
            "Pred_Sentence\n",
            " I know you want to go to go to go to go \n",
            "\n",
            "English_TEXT\n",
            "Thanks Channel 5 for this great show, you guys rock! \n",
            "\n",
            "Pred_Sentence\n",
            " can see you want to go to go to go to go \n",
            "\n",
            "English_TEXT\n",
            "It's alright then, thanks! I am just being busy by asking around for a friend. Haha. \n",
            "\n",
            "Pred_Sentence\n",
            " I don't know you want to go to go to go \n",
            "\n",
            "English_TEXT\n",
            "Hey I have a new number. 91074867. yes, I chose Business Administration. You? \n",
            "\n",
            "Pred_Sentence\n",
            " know, I don't know you want to go to go \n",
            "\n",
            "English_TEXT\n",
            "Never mind, it's ok because I've got lecture at 2pm also. Then I think I would have finished doing my stuff by 2pm. \n",
            "\n",
            "Pred_Sentence\n",
            " I don't know you want to go to go to go \n",
            "\n",
            "English_TEXT\n",
            "Sigh this kind of thing cannot rush. Today is my first day only. Must search slowly. Don't worry. I will update to you. \n",
            "\n",
            "Pred_Sentence\n",
            " raining I don't know you want to go to go \n",
            "\n",
            "English_TEXT\n",
            "Lea，yes, I am from Singapore. \n",
            "\n",
            "Pred_Sentence\n",
            " I will be I know you want to go to go to \n",
            "\n",
            "English_TEXT\n",
            "Orhz. If you change your mind call me. I'm going. Haha. \n",
            "\n",
            "Pred_Sentence\n",
            " I don't know you want to go to go to go \n",
            "\n",
            "English_TEXT\n",
            "Hi, are you male? \n",
            "\n",
            "Pred_Sentence\n",
            " I don't have to go to go to go to go to \n",
            "\n",
            "English_TEXT\n",
            "Take so long. \n",
            "\n",
            "Pred_Sentence\n",
            " I'm going to go to go to go to go to go \n",
            "\n",
            "English_TEXT\n",
            "Are you driving there tomorrow? \n",
            "\n",
            "Pred_Sentence\n",
            " I know you want to go to go to go to go \n",
            "\n",
            "English_TEXT\n",
            "My sister and I are eating breakfast. You call me. \n",
            "\n",
            "Pred_Sentence\n",
            " Oh, much? I am not not? I am not not? I \n",
            "\n",
            "English_TEXT\n",
            "He eat his lunch already. \n",
            "\n",
            "Pred_Sentence\n",
            " I don't know you want to go to go to go \n",
            "\n",
            "English_TEXT\n",
            "Haha you scared me. You went and cut a few times already, what do you think of their service? Try to book earlier. \n",
            "\n",
            "Pred_Sentence\n",
            " sorry I don't am not not? I am not not? \n",
            "\n",
            "English_TEXT\n",
            "Things are good, thanks. Got exams in March and I've done no revision. Is Fran still with her boyfriend? I've got an interview for Exeter. Bit worried! \n",
            "\n",
            "Pred_Sentence\n",
            " I will be I have to go to go to go to go \n",
            "\n",
            "English_TEXT\n",
            "I cannot go home late. Sigh. I want to watch that show too. \n",
            "\n",
            "Pred_Sentence\n",
            " long the way, you want to go to go to go \n",
            "\n",
            "English_TEXT\n",
            "Hi, introduce please. \n",
            "\n",
            "Pred_Sentence\n",
            " the way, I am not not? I am not not? I am \n",
            "\n"
          ],
          "name": "stdout"
        }
      ]
    },
    {
      "cell_type": "code",
      "metadata": {
        "colab": {
          "base_uri": "https://localhost:8080/"
        },
        "id": "QNDatx0izJQq",
        "outputId": "f6a622cd-7f7c-4bf8-97fe-d413af1fc6cf"
      },
      "source": [
        "model.evaluate([cv_enc_input_data,cv_dec_input_data],cv_dec_output_data)\n"
      ],
      "execution_count": null,
      "outputs": [
        {
          "output_type": "stream",
          "text": [
            "1/1 [==============================] - 1s 791ms/step - loss: 0.3631\n"
          ],
          "name": "stdout"
        },
        {
          "output_type": "execute_result",
          "data": {
            "text/plain": [
              "0.3630616366863251"
            ]
          },
          "metadata": {
            "tags": []
          },
          "execution_count": 40
        }
      ]
    },
    {
      "cell_type": "markdown",
      "metadata": {
        "id": "FWFr0aYVzJQr"
      },
      "source": [
        "# LSTM"
      ]
    },
    {
      "cell_type": "code",
      "metadata": {
        "colab": {
          "base_uri": "https://localhost:8080/"
        },
        "id": "Z4K_egT9zJQr",
        "outputId": "9e98fd32-8a4a-4805-a0c5-58cdfc607c01"
      },
      "source": [
        "\n",
        "tf.keras.backend.clear_session()\n",
        "enc_inputs = tf.keras.Input(shape=(None,len(input_token_ind)))\n",
        "enc = tf.keras.layers.LSTM(100, return_state=True)\n",
        "encoder_outputs,state_h,state_c= enc(enc_inputs)\n",
        "#storing encoder states\n",
        "enc_states = [state_h,state_c]\n",
        " \n",
        "# Set up the decoder, using encoder_states as initial state.\n",
        "dec_inputs = tf.keras.Input(shape=(None, len(output_token_ind)))\n",
        " \n",
        "# We set up our decoder to return full output sequences,\n",
        "# and to return internal states as well. We don't use the\n",
        "# return states in the training model, but we will use them in inference.\n",
        "dec_lstm = tf.keras.layers.LSTM(100, return_sequences=True, return_state=True)\n",
        "dec_outputs, _,_ = dec_lstm(dec_inputs, initial_state=enc_states)\n",
        "dec_dense = tf.keras.layers.Dense(len(output_token_ind), activation=\"softmax\")\n",
        "dec_outputs = dec_dense(dec_outputs)\n",
        " \n",
        "# Define the model\n",
        "model_lstm = tf.keras.Model([enc_inputs, dec_inputs], dec_outputs)\n",
        "model_lstm.summary()\n"
      ],
      "execution_count": null,
      "outputs": [
        {
          "output_type": "stream",
          "text": [
            "Model: \"model\"\n",
            "__________________________________________________________________________________________________\n",
            "Layer (type)                    Output Shape         Param #     Connected to                     \n",
            "==================================================================================================\n",
            "input_1 (InputLayer)            [(None, None, 6948)] 0                                            \n",
            "__________________________________________________________________________________________________\n",
            "input_2 (InputLayer)            [(None, None, 5272)] 0                                            \n",
            "__________________________________________________________________________________________________\n",
            "lstm (LSTM)                     [(None, 100), (None, 2819600     input_1[0][0]                    \n",
            "__________________________________________________________________________________________________\n",
            "lstm_1 (LSTM)                   [(None, None, 100),  2149200     input_2[0][0]                    \n",
            "                                                                 lstm[0][1]                       \n",
            "                                                                 lstm[0][2]                       \n",
            "__________________________________________________________________________________________________\n",
            "dense (Dense)                   (None, None, 5272)   532472      lstm_1[0][0]                     \n",
            "==================================================================================================\n",
            "Total params: 5,501,272\n",
            "Trainable params: 5,501,272\n",
            "Non-trainable params: 0\n",
            "__________________________________________________________________________________________________\n"
          ],
          "name": "stdout"
        }
      ]
    },
    {
      "cell_type": "code",
      "metadata": {
        "colab": {
          "base_uri": "https://localhost:8080/",
          "height": 422
        },
        "id": "Qne93dylzJQr",
        "outputId": "10442b37-2abb-4c57-e495-9d5484c80c71"
      },
      "source": [
        "tf.keras.utils.plot_model(model_lstm, show_shapes=True)\n"
      ],
      "execution_count": null,
      "outputs": [
        {
          "output_type": "execute_result",
          "data": {
            "image/png": "[encoded data removed]",
            "text/plain": [
              "<IPython.core.display.Image object>"
            ]
          },
          "metadata": {
            "tags": []
          },
          "execution_count": 42
        }
      ]
    },
    {
      "cell_type": "code",
      "metadata": {
        "colab": {
          "base_uri": "https://localhost:8080/"
        },
        "id": "alC5TqtUzJQr",
        "outputId": "7c737300-0471-42ff-e8b2-22274714fd70"
      },
      "source": [
        "optimizer = tf.keras.optimizers.Adam(0.1)\n",
        "model_lstm.compile(optimizer=optimizer, loss='categorical_crossentropy')\n",
        "model_lstm.fit([enc_input_data, dec_input_data],dec_output_data,validation_data=([cv_enc_input_data,cv_dec_input_data],cv_dec_output_data),batch_size=64,epochs=100,callbacks=[rlp])\n"
      ],
      "execution_count": null,
      "outputs": [
        {
          "output_type": "stream",
          "text": [
            "Epoch 1/100\n",
            "31/31 [==============================] - 6s 103ms/step - loss: 2.6451 - val_loss: 0.3927\n",
            "Epoch 2/100\n",
            "31/31 [==============================] - 2s 76ms/step - loss: 2.4380 - val_loss: 0.3750\n",
            "Epoch 3/100\n",
            "31/31 [==============================] - 2s 75ms/step - loss: 2.3630 - val_loss: 0.3778\n",
            "Epoch 4/100\n",
            "31/31 [==============================] - 2s 76ms/step - loss: 2.3456 - val_loss: 0.3707\n",
            "Epoch 5/100\n",
            "31/31 [==============================] - 2s 75ms/step - loss: 2.3409 - val_loss: 0.3731\n",
            "Epoch 6/100\n",
            "31/31 [==============================] - 2s 75ms/step - loss: 2.7169 - val_loss: 0.3874\n",
            "Epoch 7/100\n",
            "31/31 [==============================] - 2s 74ms/step - loss: 2.4734 - val_loss: 0.3874\n",
            "Epoch 8/100\n",
            "31/31 [==============================] - 2s 74ms/step - loss: 2.3807 - val_loss: 0.3913\n",
            "Epoch 9/100\n",
            "31/31 [==============================] - 2s 75ms/step - loss: 2.3782 - val_loss: 0.4010\n",
            "\n",
            "Epoch 00009: ReduceLROnPlateau reducing learning rate to 0.010000000149011612.\n",
            "Epoch 10/100\n",
            "31/31 [==============================] - 2s 74ms/step - loss: 2.2383 - val_loss: 0.3710\n",
            "Epoch 11/100\n",
            "31/31 [==============================] - 2s 75ms/step - loss: 2.1804 - val_loss: 0.3704\n",
            "Epoch 12/100\n",
            "31/31 [==============================] - 2s 74ms/step - loss: 2.1661 - val_loss: 0.3708\n",
            "Epoch 13/100\n",
            "31/31 [==============================] - 2s 76ms/step - loss: 2.1576 - val_loss: 0.3712\n",
            "Epoch 14/100\n",
            "31/31 [==============================] - 2s 74ms/step - loss: 2.1513 - val_loss: 0.3723\n",
            "Epoch 15/100\n",
            "31/31 [==============================] - 2s 75ms/step - loss: 2.1441 - val_loss: 0.3707\n",
            "Epoch 16/100\n",
            "31/31 [==============================] - 2s 75ms/step - loss: 2.1365 - val_loss: 0.3714\n",
            "\n",
            "Epoch 00016: ReduceLROnPlateau reducing learning rate to 0.0009999999776482583.\n",
            "Epoch 17/100\n",
            "31/31 [==============================] - 2s 74ms/step - loss: 2.1206 - val_loss: 0.3700\n",
            "Epoch 18/100\n",
            "31/31 [==============================] - 2s 76ms/step - loss: 2.1156 - val_loss: 0.3702\n",
            "Epoch 19/100\n",
            "31/31 [==============================] - 2s 74ms/step - loss: 2.1137 - val_loss: 0.3701\n",
            "Epoch 20/100\n",
            "31/31 [==============================] - 2s 74ms/step - loss: 2.1142 - val_loss: 0.3701\n",
            "Epoch 21/100\n",
            "31/31 [==============================] - 2s 74ms/step - loss: 2.1126 - val_loss: 0.3701\n",
            "Epoch 22/100\n",
            "31/31 [==============================] - 2s 75ms/step - loss: 2.1120 - val_loss: 0.3702\n",
            "\n",
            "Epoch 00022: ReduceLROnPlateau reducing learning rate to 0.0001.\n",
            "Epoch 23/100\n",
            "31/31 [==============================] - 2s 74ms/step - loss: 2.1085 - val_loss: 0.3702\n",
            "Epoch 24/100\n",
            "31/31 [==============================] - 2s 74ms/step - loss: 2.1084 - val_loss: 0.3702\n",
            "Epoch 25/100\n",
            "31/31 [==============================] - 2s 75ms/step - loss: 2.1085 - val_loss: 0.3702\n",
            "Epoch 26/100\n",
            "31/31 [==============================] - 2s 74ms/step - loss: 2.1084 - val_loss: 0.3702\n",
            "Epoch 27/100\n",
            "31/31 [==============================] - 2s 74ms/step - loss: 2.1083 - val_loss: 0.3702\n",
            "Epoch 28/100\n",
            "31/31 [==============================] - 2s 74ms/step - loss: 2.1081 - val_loss: 0.3702\n",
            "Epoch 29/100\n",
            "31/31 [==============================] - 2s 76ms/step - loss: 2.1080 - val_loss: 0.3702\n",
            "Epoch 30/100\n",
            "31/31 [==============================] - 2s 76ms/step - loss: 2.1080 - val_loss: 0.3702\n",
            "Epoch 31/100\n",
            "31/31 [==============================] - 2s 74ms/step - loss: 2.1079 - val_loss: 0.3702\n",
            "Epoch 32/100\n",
            "31/31 [==============================] - 2s 75ms/step - loss: 2.1078 - val_loss: 0.3702\n",
            "Epoch 33/100\n",
            "31/31 [==============================] - 2s 75ms/step - loss: 2.1078 - val_loss: 0.3702\n",
            "Epoch 34/100\n",
            "31/31 [==============================] - 2s 74ms/step - loss: 2.1077 - val_loss: 0.3703\n",
            "Epoch 35/100\n",
            "31/31 [==============================] - 2s 74ms/step - loss: 2.1076 - val_loss: 0.3703\n",
            "Epoch 36/100\n",
            "31/31 [==============================] - 2s 76ms/step - loss: 2.1075 - val_loss: 0.3703\n",
            "Epoch 37/100\n",
            "31/31 [==============================] - 2s 74ms/step - loss: 2.1074 - val_loss: 0.3703\n",
            "Epoch 38/100\n",
            "31/31 [==============================] - 2s 74ms/step - loss: 2.1073 - val_loss: 0.3703\n",
            "Epoch 39/100\n",
            "31/31 [==============================] - 2s 75ms/step - loss: 2.1072 - val_loss: 0.3703\n",
            "Epoch 40/100\n",
            "31/31 [==============================] - 2s 75ms/step - loss: 2.1072 - val_loss: 0.3703\n",
            "Epoch 41/100\n",
            "31/31 [==============================] - 2s 74ms/step - loss: 2.1071 - val_loss: 0.3703\n",
            "Epoch 42/100\n",
            "31/31 [==============================] - 2s 74ms/step - loss: 2.1071 - val_loss: 0.3703\n",
            "Epoch 43/100\n",
            "31/31 [==============================] - 2s 76ms/step - loss: 2.1070 - val_loss: 0.3703\n",
            "Epoch 44/100\n",
            "31/31 [==============================] - 2s 75ms/step - loss: 2.1069 - val_loss: 0.3703\n",
            "Epoch 45/100\n",
            "31/31 [==============================] - 2s 75ms/step - loss: 2.1068 - val_loss: 0.3703\n",
            "Epoch 46/100\n",
            "31/31 [==============================] - 2s 75ms/step - loss: 2.1068 - val_loss: 0.3704\n",
            "Epoch 47/100\n",
            "31/31 [==============================] - 2s 76ms/step - loss: 2.1065 - val_loss: 0.3703\n",
            "Epoch 48/100\n",
            "31/31 [==============================] - 2s 75ms/step - loss: 2.1065 - val_loss: 0.3703\n",
            "Epoch 49/100\n",
            "31/31 [==============================] - 2s 74ms/step - loss: 2.1065 - val_loss: 0.3703\n",
            "Epoch 50/100\n",
            "31/31 [==============================] - 2s 76ms/step - loss: 2.1064 - val_loss: 0.3704\n",
            "Epoch 51/100\n",
            "31/31 [==============================] - 2s 75ms/step - loss: 2.1063 - val_loss: 0.3703\n",
            "Epoch 52/100\n",
            "31/31 [==============================] - 2s 75ms/step - loss: 2.1062 - val_loss: 0.3704\n",
            "Epoch 53/100\n",
            "31/31 [==============================] - 2s 75ms/step - loss: 2.1061 - val_loss: 0.3704\n",
            "Epoch 54/100\n",
            "31/31 [==============================] - 2s 75ms/step - loss: 2.1061 - val_loss: 0.3704\n",
            "Epoch 55/100\n",
            "31/31 [==============================] - 2s 75ms/step - loss: 2.1060 - val_loss: 0.3704\n",
            "Epoch 56/100\n",
            "31/31 [==============================] - 2s 74ms/step - loss: 2.1059 - val_loss: 0.3704\n",
            "Epoch 57/100\n",
            "31/31 [==============================] - 2s 76ms/step - loss: 2.1058 - val_loss: 0.3704\n",
            "Epoch 58/100\n",
            "31/31 [==============================] - 2s 75ms/step - loss: 2.1058 - val_loss: 0.3704\n",
            "Epoch 59/100\n",
            "31/31 [==============================] - 2s 76ms/step - loss: 2.1056 - val_loss: 0.3704\n",
            "Epoch 60/100\n",
            "31/31 [==============================] - 2s 73ms/step - loss: 2.1057 - val_loss: 0.3704\n",
            "Epoch 61/100\n",
            "31/31 [==============================] - 2s 75ms/step - loss: 2.1057 - val_loss: 0.3704\n",
            "Epoch 62/100\n",
            "31/31 [==============================] - 2s 75ms/step - loss: 2.1055 - val_loss: 0.3704\n",
            "Epoch 63/100\n",
            "31/31 [==============================] - 2s 75ms/step - loss: 2.1052 - val_loss: 0.3704\n",
            "Epoch 64/100\n",
            "31/31 [==============================] - 2s 74ms/step - loss: 2.1052 - val_loss: 0.3704\n",
            "Epoch 65/100\n",
            "31/31 [==============================] - 2s 75ms/step - loss: 2.1051 - val_loss: 0.3704\n",
            "Epoch 66/100\n",
            "31/31 [==============================] - 2s 75ms/step - loss: 2.1050 - val_loss: 0.3704\n",
            "Epoch 67/100\n",
            "31/31 [==============================] - 2s 75ms/step - loss: 2.1049 - val_loss: 0.3704\n",
            "Epoch 68/100\n",
            "31/31 [==============================] - 2s 75ms/step - loss: 2.1048 - val_loss: 0.3704\n",
            "Epoch 69/100\n",
            "31/31 [==============================] - 2s 76ms/step - loss: 2.1047 - val_loss: 0.3704\n",
            "Epoch 70/100\n",
            "31/31 [==============================] - 2s 74ms/step - loss: 2.1047 - val_loss: 0.3704\n",
            "Epoch 71/100\n",
            "31/31 [==============================] - 2s 75ms/step - loss: 2.1046 - val_loss: 0.3704\n",
            "Epoch 72/100\n",
            "31/31 [==============================] - 2s 74ms/step - loss: 2.1045 - val_loss: 0.3704\n",
            "Epoch 73/100\n",
            "31/31 [==============================] - 2s 75ms/step - loss: 2.1045 - val_loss: 0.3704\n",
            "Epoch 74/100\n",
            "31/31 [==============================] - 2s 75ms/step - loss: 2.1043 - val_loss: 0.3704\n",
            "Epoch 75/100\n",
            "31/31 [==============================] - 2s 74ms/step - loss: 2.1043 - val_loss: 0.3704\n",
            "Epoch 76/100\n",
            "31/31 [==============================] - 2s 76ms/step - loss: 2.1043 - val_loss: 0.3704\n",
            "Epoch 77/100\n",
            "31/31 [==============================] - 2s 73ms/step - loss: 2.1042 - val_loss: 0.3704\n",
            "Epoch 78/100\n",
            "31/31 [==============================] - 2s 75ms/step - loss: 2.1040 - val_loss: 0.3704\n",
            "Epoch 79/100\n",
            "31/31 [==============================] - 2s 76ms/step - loss: 2.1040 - val_loss: 0.3704\n",
            "Epoch 80/100\n",
            "31/31 [==============================] - 2s 74ms/step - loss: 2.1039 - val_loss: 0.3704\n",
            "Epoch 81/100\n",
            "31/31 [==============================] - 2s 74ms/step - loss: 2.1039 - val_loss: 0.3704\n",
            "Epoch 82/100\n",
            "31/31 [==============================] - 2s 74ms/step - loss: 2.1039 - val_loss: 0.3704\n",
            "Epoch 83/100\n",
            "31/31 [==============================] - 2s 75ms/step - loss: 2.1037 - val_loss: 0.3704\n",
            "Epoch 84/100\n",
            "31/31 [==============================] - 2s 76ms/step - loss: 2.1037 - val_loss: 0.3703\n",
            "Epoch 85/100\n",
            "31/31 [==============================] - 2s 74ms/step - loss: 2.1036 - val_loss: 0.3704\n",
            "Epoch 86/100\n",
            "31/31 [==============================] - 2s 74ms/step - loss: 2.1035 - val_loss: 0.3704\n",
            "Epoch 87/100\n",
            "31/31 [==============================] - 2s 75ms/step - loss: 2.1035 - val_loss: 0.3704\n",
            "Epoch 88/100\n",
            "31/31 [==============================] - 2s 75ms/step - loss: 2.1034 - val_loss: 0.3704\n",
            "Epoch 89/100\n",
            "31/31 [==============================] - 2s 74ms/step - loss: 2.1032 - val_loss: 0.3703\n",
            "Epoch 90/100\n",
            "31/31 [==============================] - 2s 75ms/step - loss: 2.1031 - val_loss: 0.3704\n",
            "Epoch 91/100\n",
            "31/31 [==============================] - 2s 77ms/step - loss: 2.1033 - val_loss: 0.3704\n",
            "Epoch 92/100\n",
            "31/31 [==============================] - 2s 75ms/step - loss: 2.1029 - val_loss: 0.3704\n",
            "Epoch 93/100\n",
            "31/31 [==============================] - 2s 74ms/step - loss: 2.1029 - val_loss: 0.3704\n",
            "Epoch 94/100\n",
            "31/31 [==============================] - 2s 75ms/step - loss: 2.1028 - val_loss: 0.3704\n",
            "Epoch 95/100\n",
            "31/31 [==============================] - 2s 76ms/step - loss: 2.1027 - val_loss: 0.3704\n",
            "Epoch 96/100\n",
            "31/31 [==============================] - 2s 76ms/step - loss: 2.1027 - val_loss: 0.3704\n",
            "Epoch 97/100\n",
            "31/31 [==============================] - 2s 75ms/step - loss: 2.1027 - val_loss: 0.3704\n",
            "Epoch 98/100\n",
            "31/31 [==============================] - 2s 74ms/step - loss: 2.1025 - val_loss: 0.3704\n",
            "Epoch 99/100\n",
            "31/31 [==============================] - 2s 75ms/step - loss: 2.1023 - val_loss: 0.3704\n",
            "Epoch 100/100\n",
            "31/31 [==============================] - 2s 73ms/step - loss: 2.1022 - val_loss: 0.3703\n"
          ],
          "name": "stdout"
        },
        {
          "output_type": "execute_result",
          "data": {
            "text/plain": [
              "<tensorflow.python.keras.callbacks.History at 0x7f9a42268e90>"
            ]
          },
          "metadata": {
            "tags": []
          },
          "execution_count": 43
        }
      ]
    },
    {
      "cell_type": "code",
      "metadata": {
        "id": "RgUgGP1wzJQr"
      },
      "source": [
        "\n",
        "\n"
      ],
      "execution_count": null,
      "outputs": []
    },
    {
      "cell_type": "code",
      "metadata": {
        "id": "IvaDLR1ezJQs"
      },
      "source": [
        "\n",
        "model_lstm.save('/content/drive/MyDrive/Applied Ai Course assignments/Assiginments/CS2/LSTM_word_model.h5')"
      ],
      "execution_count": null,
      "outputs": []
    },
    {
      "cell_type": "code",
      "metadata": {
        "id": "O0SAPjGwzJQs"
      },
      "source": [
        "\n",
        "model = tf.keras.models.load_model('/content/drive/MyDrive/Applied Ai Course assignments/Assiginments/CS2/LSTM_word_model.h5')"
      ],
      "execution_count": null,
      "outputs": []
    },
    {
      "cell_type": "markdown",
      "metadata": {
        "id": "RgqEzqkCzJQs"
      },
      "source": [
        "Prediction"
      ]
    },
    {
      "cell_type": "code",
      "metadata": {
        "id": "mGV2G6AdzJQs"
      },
      "source": [
        "# int_2_char_input=dict((i, char) for char, i in input_token_index.items())\n",
        "# int_2_char_output=dict((i,char) for char, i in output_token_index.items())\n",
        "# print(int_2_char_input)\n",
        "# print(int_2_char_output)"
      ],
      "execution_count": null,
      "outputs": []
    },
    {
      "cell_type": "code",
      "metadata": {
        "colab": {
          "base_uri": "https://localhost:8080/"
        },
        "id": "079AmdBczJQs",
        "outputId": "d80dc43c-add6-4175-e3e8-08f65203ff2a"
      },
      "source": [
        "\n",
        "enc_inputs = model.input[0]  # input_1\n",
        "enc_outputs, state_h_enc, state_c_enc= model.layers[2].output  # gru\n",
        "enc_states = [state_h_enc,state_c_enc]\n",
        "enc_model = tf.keras.Model(enc_inputs, enc_states)\n",
        "\n",
        "enc_model.summary()\n",
        "\n",
        "\n"
      ],
      "execution_count": null,
      "outputs": [
        {
          "output_type": "stream",
          "text": [
            "Model: \"model_1\"\n",
            "_________________________________________________________________\n",
            "Layer (type)                 Output Shape              Param #   \n",
            "=================================================================\n",
            "input_1 (InputLayer)         [(None, None, 6948)]      0         \n",
            "_________________________________________________________________\n",
            "lstm (LSTM)                  [(None, 100), (None, 100) 2819600   \n",
            "=================================================================\n",
            "Total params: 2,819,600\n",
            "Trainable params: 2,819,600\n",
            "Non-trainable params: 0\n",
            "_________________________________________________________________\n"
          ],
          "name": "stdout"
        }
      ]
    },
    {
      "cell_type": "code",
      "metadata": {
        "colab": {
          "base_uri": "https://localhost:8080/",
          "height": 201
        },
        "id": "mtLAUSGczJQs",
        "outputId": "f3b077f3-045f-4999-f965-d18ba457a2ad"
      },
      "source": [
        "tf.keras.utils.plot_model(enc_model, show_shapes=True)\n"
      ],
      "execution_count": null,
      "outputs": [
        {
          "output_type": "execute_result",
          "data": {
            "image/png": "[encoded data removed]",
            "text/plain": [
              "<IPython.core.display.Image object>"
            ]
          },
          "metadata": {
            "tags": []
          },
          "execution_count": 47
        }
      ]
    },
    {
      "cell_type": "code",
      "metadata": {
        "colab": {
          "base_uri": "https://localhost:8080/",
          "height": 652
        },
        "id": "IYvo-CS0zJQt",
        "outputId": "8fee338d-9b40-4e75-89be-646d14ff3d10"
      },
      "source": [
        "\n",
        "dec_inputs=model.inputs[1]\n",
        "dec_state_input_h = tf.keras.Input(shape=(100,))\n",
        "dec_state_input_c= tf.keras.Input(shape=(100,))\n",
        "dec_states_inputs = [dec_state_input_h, dec_state_input_c]\n",
        "\n",
        "dec_outputs, state_h_dec,state_c_dec= model.layers[3](dec_inputs, initial_state=dec_states_inputs)\n",
        "\n",
        "dec_states =[state_h_dec, state_c_dec]\n",
        "dec_dense = model.layers[4]\n",
        "dec_outputs = dec_dense(dec_outputs)\n",
        "dec_model = tf.keras.Model((dec_inputs,dec_states_inputs),(dec_outputs,dec_states))\n",
        "\n",
        "dec_model.summary()\n",
        "tf.keras.utils.plot_model(dec_model, show_shapes=True)"
      ],
      "execution_count": null,
      "outputs": [
        {
          "output_type": "stream",
          "text": [
            "Model: \"model_2\"\n",
            "__________________________________________________________________________________________________\n",
            "Layer (type)                    Output Shape         Param #     Connected to                     \n",
            "==================================================================================================\n",
            "input_2 (InputLayer)            [(None, None, 5272)] 0                                            \n",
            "__________________________________________________________________________________________________\n",
            "input_3 (InputLayer)            [(None, 100)]        0                                            \n",
            "__________________________________________________________________________________________________\n",
            "input_4 (InputLayer)            [(None, 100)]        0                                            \n",
            "__________________________________________________________________________________________________\n",
            "lstm_1 (LSTM)                   [(None, None, 100),  2149200     input_2[0][0]                    \n",
            "                                                                 input_3[0][0]                    \n",
            "                                                                 input_4[0][0]                    \n",
            "__________________________________________________________________________________________________\n",
            "dense (Dense)                   (None, None, 5272)   532472      lstm_1[1][0]                     \n",
            "==================================================================================================\n",
            "Total params: 2,681,672\n",
            "Trainable params: 2,681,672\n",
            "Non-trainable params: 0\n",
            "__________________________________________________________________________________________________\n"
          ],
          "name": "stdout"
        },
        {
          "output_type": "execute_result",
          "data": {
            "image/png": "[encoded data removed]",
            "text/plain": [
              "<IPython.core.display.Image object>"
            ]
          },
          "metadata": {
            "tags": []
          },
          "execution_count": 48
        }
      ]
    },
    {
      "cell_type": "code",
      "metadata": {
        "id": "GKmUwmTezJQt"
      },
      "source": [
        "\n",
        "def predictions(input_seq):\n",
        "    # print(np.argmax(input_seq))\n",
        "    states=enc_model(input_seq)\n",
        "    target_seq = np.zeros((1, 1, 5272))\n",
        "    # Populate the first character of target sequence with the start character.\n",
        "    target_seq[0, 0, output_token_ind[\"\\t\"]] = 1\n",
        "    stop_condition = False\n",
        "    dec_sentence = \"\"\n",
        "    \n",
        "    while not stop_condition:\n",
        "        \n",
        "        output_tokens,states= dec_model((target_seq,states))\n",
        "        sampled_token_ind = np.argmax(output_tokens[0, -1, :])\n",
        "        #print(sampled_token_index)\n",
        "        sampled_char = int_2_char_output[sampled_token_ind]\n",
        "        if (sampled_char == '\\n' or len(dec_sentence) > 40):\n",
        "            stop_condition = True\n",
        "            return dec_sentence\n",
        "        \n",
        "        dec_sentence += sampled_char+ \" \"\n",
        "        target_seq = np.zeros((1, 1, 5272))\n",
        "        target_seq[0, 0, sampled_token_ind] = 1\n",
        "    \n",
        "    return dec_sentence"
      ],
      "execution_count": null,
      "outputs": []
    },
    {
      "cell_type": "code",
      "metadata": {
        "colab": {
          "base_uri": "https://localhost:8080/"
        },
        "id": "IZiGnuZszJQt",
        "outputId": "be431a25-0558-4d2c-f177-85b6dc010f05"
      },
      "source": [
        "for seq in range(len(test_data)):\n",
        "    # Take one sequence (part of the training set)\n",
        "    # for trying out decoding.\n",
        "    print(\"English_TEXT\")\n",
        "    print(test_data['ENGLISH_OUTPUT'].iloc[seq])\n",
        "    input_seq = cv_enc_input_data[seq:seq+1]\n",
        "    print(\"Pred_Sentence\")\n",
        "    print(predictions(input_seq))\n",
        "    print()"
      ],
      "execution_count": null,
      "outputs": [
        {
          "output_type": "stream",
          "text": [
            "English_TEXT\n",
            "Look at that then no need to go already. So pissed. Don't know what's wrong with it. \n",
            "\n",
            "Pred_Sentence\n",
            "I to you you to to to to to to to to to to \n",
            "\n",
            "English_TEXT\n",
            "Yup. Taken already. Thanks. \n",
            "\n",
            "Pred_Sentence\n",
            "I you I to to to to to to to to to to to \n",
            "\n",
            "English_TEXT\n",
            "Haha, okay, hope you can remember to help me to ask. Hehe. \n",
            "\n",
            "Pred_Sentence\n",
            "I you I you to to to to to to to to to to \n",
            "\n",
            "English_TEXT\n",
            "I'm still at Computer Centre. There's still a long queue. Sigh. I might not be able to meet you. \n",
            "\n",
            "Pred_Sentence\n",
            "you you you you you to to to to to to to \n",
            "\n",
            "English_TEXT\n",
            "Thanks Channel 5 for this great show, you guys rock! \n",
            "\n",
            "Pred_Sentence\n",
            "I you I you to to to to to to to to to to \n",
            "\n",
            "English_TEXT\n",
            "It's alright then, thanks! I am just being busy by asking around for a friend. Haha. \n",
            "\n",
            "Pred_Sentence\n",
            "I have at I you to to to to to to to to to \n",
            "\n",
            "English_TEXT\n",
            "Hey I have a new number. 91074867. yes, I chose Business Administration. You? \n",
            "\n",
            "Pred_Sentence\n",
            "I see, I believe you to to to to to to to \n",
            "\n",
            "English_TEXT\n",
            "Never mind, it's ok because I've got lecture at 2pm also. Then I think I would have finished doing my stuff by 2pm. \n",
            "\n",
            "Pred_Sentence\n",
            "you to are to to to to to to to to to to \n",
            "\n",
            "English_TEXT\n",
            "Sigh this kind of thing cannot rush. Today is my first day only. Must search slowly. Don't worry. I will update to you. \n",
            "\n",
            "Pred_Sentence\n",
            "I you you you to to to to to to to to to \n",
            "\n",
            "English_TEXT\n",
            "Lea，yes, I am from Singapore. \n",
            "\n",
            "Pred_Sentence\n",
            "don't I meet I you you to to to to to to \n",
            "\n",
            "English_TEXT\n",
            "Orhz. If you change your mind call me. I'm going. Haha. \n",
            "\n",
            "Pred_Sentence\n",
            "I you you you to to to to to to to to to \n",
            "\n",
            "English_TEXT\n",
            "Hi, are you male? \n",
            "\n",
            "Pred_Sentence\n",
            "you you you you you to to to to to to to \n",
            "\n",
            "English_TEXT\n",
            "Take so long. \n",
            "\n",
            "Pred_Sentence\n",
            "I have want to to to to to to to to to to \n",
            "\n",
            "English_TEXT\n",
            "Are you driving there tomorrow? \n",
            "\n",
            "Pred_Sentence\n",
            "think you can, you you you to to to to to \n",
            "\n",
            "English_TEXT\n",
            "My sister and I are eating breakfast. You call me. \n",
            "\n",
            "Pred_Sentence\n",
            "you you you you you to to to to to to to \n",
            "\n",
            "English_TEXT\n",
            "He eat his lunch already. \n",
            "\n",
            "Pred_Sentence\n",
            "I you I you to to to to to to to to to to \n",
            "\n",
            "English_TEXT\n",
            "Haha you scared me. You went and cut a few times already, what do you think of their service? Try to book earlier. \n",
            "\n",
            "Pred_Sentence\n",
            "I am you you to to to to to to to to to to \n",
            "\n",
            "English_TEXT\n",
            "Things are good, thanks. Got exams in March and I've done no revision. Is Fran still with her boyfriend? I've got an interview for Exeter. Bit worried! \n",
            "\n",
            "Pred_Sentence\n",
            "I you you you to to to to to to to to to \n",
            "\n",
            "English_TEXT\n",
            "I cannot go home late. Sigh. I want to watch that show too. \n",
            "\n",
            "Pred_Sentence\n",
            "I you I you to to to to to to to to to to \n",
            "\n",
            "English_TEXT\n",
            "Hi, introduce please. \n",
            "\n",
            "Pred_Sentence\n",
            "you you you you you to to to to to to to \n",
            "\n"
          ],
          "name": "stdout"
        }
      ]
    },
    {
      "cell_type": "code",
      "metadata": {
        "colab": {
          "base_uri": "https://localhost:8080/"
        },
        "id": "MSOS8zHLzJQt",
        "outputId": "2ef19b7c-28f6-4923-845a-207555557000"
      },
      "source": [
        "model.evaluate([cv_enc_input_data,cv_dec_input_data],cv_dec_output_data)\n"
      ],
      "execution_count": null,
      "outputs": [
        {
          "output_type": "stream",
          "text": [
            "1/1 [==============================] - 1s 890ms/step - loss: 0.3703\n"
          ],
          "name": "stdout"
        },
        {
          "output_type": "execute_result",
          "data": {
            "text/plain": [
              "0.3703196346759796"
            ]
          },
          "metadata": {
            "tags": []
          },
          "execution_count": 51
        }
      ]
    }
  ]
}